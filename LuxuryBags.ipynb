{
 "cells": [
  {
   "cell_type": "markdown",
   "id": "0c2f0f1a",
   "metadata": {},
   "source": [
    "## Project 3 - Luxury Handbag Auction Sales \n",
    "### Interactive Visualization for Christie's March 6 2025 Handbag Auction Sale March 31 2025"
   ]
  },
  {
   "cell_type": "code",
   "execution_count": 175,
   "id": "2b1f21a8",
   "metadata": {},
   "outputs": [],
   "source": [
    "# Uploading Libraries\n",
    "\n",
    "import pandas as pd\n",
    "import matplotlib.pyplot as plt\n",
    "import plotly.express as px\n",
    "import seaborn as sns\n",
    "import altair as alt"
   ]
  },
  {
   "cell_type": "markdown",
   "id": "9741f6e7",
   "metadata": {},
   "source": [
    "## PART 1 : Importing, reading, cleaning, adjusting and saving the CSV file."
   ]
  },
  {
   "cell_type": "code",
   "execution_count": 176,
   "id": "935d7e1e-75cb-44b1-8f16-1e647c90b578",
   "metadata": {},
   "outputs": [
    {
     "data": {
      "text/html": [
       "<div>\n",
       "<style scoped>\n",
       "    .dataframe tbody tr th:only-of-type {\n",
       "        vertical-align: middle;\n",
       "    }\n",
       "\n",
       "    .dataframe tbody tr th {\n",
       "        vertical-align: top;\n",
       "    }\n",
       "\n",
       "    .dataframe thead th {\n",
       "        text-align: right;\n",
       "    }\n",
       "</style>\n",
       "<table border=\"1\" class=\"dataframe\">\n",
       "  <thead>\n",
       "    <tr style=\"text-align: right;\">\n",
       "      <th></th>\n",
       "      <th>Lot</th>\n",
       "      <th>Description</th>\n",
       "      <th>Brand</th>\n",
       "      <th>Type (All Lots)</th>\n",
       "      <th>Year</th>\n",
       "      <th>Color</th>\n",
       "      <th>Leather</th>\n",
       "      <th>Hardware</th>\n",
       "      <th>Estimate (USD)</th>\n",
       "      <th>Price Realized (USD)</th>\n",
       "    </tr>\n",
       "  </thead>\n",
       "  <tbody>\n",
       "    <tr>\n",
       "      <th>0</th>\n",
       "      <td>1</td>\n",
       "      <td>LIME EVERCOLOR LEATHER MINI ROULIS WITH PALLAD...</td>\n",
       "      <td>HERMÈS</td>\n",
       "      <td>Mini Roulis</td>\n",
       "      <td>2022</td>\n",
       "      <td>Green</td>\n",
       "      <td>Evercolor</td>\n",
       "      <td>Palladium</td>\n",
       "      <td>5,100−7,700</td>\n",
       "      <td>6100</td>\n",
       "    </tr>\n",
       "    <tr>\n",
       "      <th>1</th>\n",
       "      <td>2</td>\n",
       "      <td>LIMITED EDITION LIME &amp; PEARL GRAY EPSOM LEATHE...</td>\n",
       "      <td>HERMÈS</td>\n",
       "      <td>Kelly 32, Limited Edition</td>\n",
       "      <td>2011</td>\n",
       "      <td>Yellow</td>\n",
       "      <td>Epsom</td>\n",
       "      <td>Palladium</td>\n",
       "      <td>7,700−12,800</td>\n",
       "      <td>9700</td>\n",
       "    </tr>\n",
       "    <tr>\n",
       "      <th>2</th>\n",
       "      <td>3</td>\n",
       "      <td>LIMITED EDITION LIME &amp; PEARL GRAY EPSOM LEATHE...</td>\n",
       "      <td>HERMÈS</td>\n",
       "      <td>Birkin 35, Limited Edition</td>\n",
       "      <td>2011</td>\n",
       "      <td>Yellow</td>\n",
       "      <td>Epsom</td>\n",
       "      <td>Palladium</td>\n",
       "      <td>7,700−12,800</td>\n",
       "      <td>12100</td>\n",
       "    </tr>\n",
       "    <tr>\n",
       "      <th>3</th>\n",
       "      <td>4</td>\n",
       "      <td>SHINY MIMOSA NILOTICUS LIZARD SMALL CONSTANCE ...</td>\n",
       "      <td>HERMÈS</td>\n",
       "      <td>Constance Wallet</td>\n",
       "      <td>2011</td>\n",
       "      <td>Yellow</td>\n",
       "      <td>Lizard</td>\n",
       "      <td>Palladium</td>\n",
       "      <td>2,600−3,800</td>\n",
       "      <td>2300</td>\n",
       "    </tr>\n",
       "    <tr>\n",
       "      <th>4</th>\n",
       "      <td>5</td>\n",
       "      <td>NAPLES YELLOW EPSOM LEATHER CONSTANCE TO GO</td>\n",
       "      <td>HERMÈS</td>\n",
       "      <td>Constance To Go</td>\n",
       "      <td>2023</td>\n",
       "      <td>Yellow</td>\n",
       "      <td>Epsom</td>\n",
       "      <td>Gold</td>\n",
       "      <td>5,100−7,700</td>\n",
       "      <td>5600</td>\n",
       "    </tr>\n",
       "    <tr>\n",
       "      <th>...</th>\n",
       "      <td>...</td>\n",
       "      <td>...</td>\n",
       "      <td>...</td>\n",
       "      <td>...</td>\n",
       "      <td>...</td>\n",
       "      <td>...</td>\n",
       "      <td>...</td>\n",
       "      <td>...</td>\n",
       "      <td>...</td>\n",
       "      <td>...</td>\n",
       "    </tr>\n",
       "    <tr>\n",
       "      <th>237</th>\n",
       "      <td>254</td>\n",
       "      <td>LIMITED EDITION PAINTED PUMPKIN MONOGRAM KEEPA...</td>\n",
       "      <td>LOUIS VUITTON</td>\n",
       "      <td>Keepall Bandoulière 45, Limited Edition</td>\n",
       "      <td>2023</td>\n",
       "      <td>Multi Color</td>\n",
       "      <td>Canvas</td>\n",
       "      <td>Gold</td>\n",
       "      <td>2,600−3,600</td>\n",
       "      <td>4800</td>\n",
       "    </tr>\n",
       "    <tr>\n",
       "      <th>238</th>\n",
       "      <td>256</td>\n",
       "      <td>LIMITED EDITION BLACK TAURILLON LEATHER INFINI...</td>\n",
       "      <td>LOUIS VUITTON</td>\n",
       "      <td>Christopher Backpack MM, Limited Edition</td>\n",
       "      <td>2023</td>\n",
       "      <td>Black</td>\n",
       "      <td>Taurillon</td>\n",
       "      <td>Black</td>\n",
       "      <td>3,800−5,100</td>\n",
       "      <td>3500</td>\n",
       "    </tr>\n",
       "    <tr>\n",
       "      <th>239</th>\n",
       "      <td>257</td>\n",
       "      <td>ABSOLUTE BLACK MONOGRAM TAURILLON LEATHER KEEP...</td>\n",
       "      <td>LOUIS VUITTON</td>\n",
       "      <td>Keepall Bandoulière 50</td>\n",
       "      <td>2019</td>\n",
       "      <td>Black</td>\n",
       "      <td>Taurillon</td>\n",
       "      <td>Black &amp; Orange</td>\n",
       "      <td>2,600−3,600</td>\n",
       "      <td>4200</td>\n",
       "    </tr>\n",
       "    <tr>\n",
       "      <th>240</th>\n",
       "      <td>258</td>\n",
       "      <td>LIMITED EDITION BLACK EMPREINTE LEATHER TOTE B...</td>\n",
       "      <td>LOUIS VUITTON</td>\n",
       "      <td>Tote Bag, Limited Edition</td>\n",
       "      <td>2008</td>\n",
       "      <td>Black</td>\n",
       "      <td>Empreinte</td>\n",
       "      <td>Black</td>\n",
       "      <td>3,800−5,100</td>\n",
       "      <td>4800</td>\n",
       "    </tr>\n",
       "    <tr>\n",
       "      <th>241</th>\n",
       "      <td>259</td>\n",
       "      <td>LIMITED EDITION PAINTED MONOGRAM COURRIER LOZI...</td>\n",
       "      <td>LOUIS VUITTON</td>\n",
       "      <td>Courrier Lozine Trunk 110, Limited Edition</td>\n",
       "      <td>2021</td>\n",
       "      <td>Multi Color</td>\n",
       "      <td>Canvas</td>\n",
       "      <td>Black</td>\n",
       "      <td>38,400−51,200</td>\n",
       "      <td>48400</td>\n",
       "    </tr>\n",
       "  </tbody>\n",
       "</table>\n",
       "<p>242 rows × 10 columns</p>\n",
       "</div>"
      ],
      "text/plain": [
       "     Lot                                        Description          Brand  \\\n",
       "0      1  LIME EVERCOLOR LEATHER MINI ROULIS WITH PALLAD...         HERMÈS   \n",
       "1      2  LIMITED EDITION LIME & PEARL GRAY EPSOM LEATHE...         HERMÈS   \n",
       "2      3  LIMITED EDITION LIME & PEARL GRAY EPSOM LEATHE...         HERMÈS   \n",
       "3      4  SHINY MIMOSA NILOTICUS LIZARD SMALL CONSTANCE ...         HERMÈS   \n",
       "4      5        NAPLES YELLOW EPSOM LEATHER CONSTANCE TO GO         HERMÈS   \n",
       "..   ...                                                ...            ...   \n",
       "237  254  LIMITED EDITION PAINTED PUMPKIN MONOGRAM KEEPA...  LOUIS VUITTON   \n",
       "238  256  LIMITED EDITION BLACK TAURILLON LEATHER INFINI...  LOUIS VUITTON   \n",
       "239  257  ABSOLUTE BLACK MONOGRAM TAURILLON LEATHER KEEP...  LOUIS VUITTON   \n",
       "240  258  LIMITED EDITION BLACK EMPREINTE LEATHER TOTE B...  LOUIS VUITTON   \n",
       "241  259  LIMITED EDITION PAINTED MONOGRAM COURRIER LOZI...  LOUIS VUITTON   \n",
       "\n",
       "                                Type (All Lots)  Year        Color    Leather  \\\n",
       "0                                   Mini Roulis  2022        Green  Evercolor   \n",
       "1                     Kelly 32, Limited Edition  2011       Yellow      Epsom   \n",
       "2                    Birkin 35, Limited Edition  2011       Yellow      Epsom   \n",
       "3                              Constance Wallet  2011       Yellow     Lizard   \n",
       "4                               Constance To Go  2023       Yellow      Epsom   \n",
       "..                                          ...   ...          ...        ...   \n",
       "237     Keepall Bandoulière 45, Limited Edition  2023  Multi Color     Canvas   \n",
       "238    Christopher Backpack MM, Limited Edition  2023        Black  Taurillon   \n",
       "239                      Keepall Bandoulière 50  2019        Black  Taurillon   \n",
       "240                   Tote Bag, Limited Edition  2008        Black  Empreinte   \n",
       "241  Courrier Lozine Trunk 110, Limited Edition  2021  Multi Color     Canvas   \n",
       "\n",
       "           Hardware Estimate (USD)  Price Realized (USD)  \n",
       "0         Palladium    5,100−7,700                  6100  \n",
       "1         Palladium   7,700−12,800                  9700  \n",
       "2         Palladium   7,700−12,800                 12100  \n",
       "3         Palladium    2,600−3,800                  2300  \n",
       "4              Gold    5,100−7,700                  5600  \n",
       "..              ...            ...                   ...  \n",
       "237            Gold    2,600−3,600                  4800  \n",
       "238           Black    3,800−5,100                  3500  \n",
       "239  Black & Orange    2,600−3,600                  4200  \n",
       "240           Black    3,800−5,100                  4800  \n",
       "241           Black  38,400−51,200                 48400  \n",
       "\n",
       "[242 rows x 10 columns]"
      ]
     },
     "execution_count": 176,
     "metadata": {},
     "output_type": "execute_result"
    }
   ],
   "source": [
    "# Import and read csv file \n",
    "df = pd.read_csv(\"../Project3-Luxurybags/Christies Hong Kong March 2025 Cleaned .csv\")\n",
    "# Display Dataframe\n",
    "df\n"
   ]
  },
  {
   "cell_type": "code",
   "execution_count": 177,
   "id": "0b13cd4b-8250-42b2-8888-f5522dca522a",
   "metadata": {},
   "outputs": [
    {
     "name": "stdout",
     "output_type": "stream",
     "text": [
      "<class 'pandas.core.frame.DataFrame'>\n",
      "RangeIndex: 242 entries, 0 to 241\n",
      "Data columns (total 10 columns):\n",
      " #   Column                Non-Null Count  Dtype \n",
      "---  ------                --------------  ----- \n",
      " 0   Lot                   242 non-null    int64 \n",
      " 1   Description           242 non-null    object\n",
      " 2   Brand                 242 non-null    object\n",
      " 3   Type (All Lots)       242 non-null    object\n",
      " 4   Year                  242 non-null    int64 \n",
      " 5   Color                 242 non-null    object\n",
      " 6   Leather               242 non-null    object\n",
      " 7   Hardware              242 non-null    object\n",
      " 8   Estimate (USD)        242 non-null    object\n",
      " 9   Price Realized (USD)  242 non-null    int64 \n",
      "dtypes: int64(3), object(7)\n",
      "memory usage: 19.0+ KB\n",
      "None\n"
     ]
    }
   ],
   "source": [
    "# Extract Info on Data frame\n",
    "print(df.info())\n"
   ]
  },
  {
   "cell_type": "code",
   "execution_count": 178,
   "id": "c1a6a0f8-1c08-4e2e-8a0e-392d375ad171",
   "metadata": {},
   "outputs": [
    {
     "data": {
      "text/html": [
       "<div>\n",
       "<style scoped>\n",
       "    .dataframe tbody tr th:only-of-type {\n",
       "        vertical-align: middle;\n",
       "    }\n",
       "\n",
       "    .dataframe tbody tr th {\n",
       "        vertical-align: top;\n",
       "    }\n",
       "\n",
       "    .dataframe thead th {\n",
       "        text-align: right;\n",
       "    }\n",
       "</style>\n",
       "<table border=\"1\" class=\"dataframe\">\n",
       "  <thead>\n",
       "    <tr style=\"text-align: right;\">\n",
       "      <th></th>\n",
       "      <th>Lot</th>\n",
       "      <th>Description</th>\n",
       "      <th>Brand</th>\n",
       "      <th>Type</th>\n",
       "      <th>Year</th>\n",
       "      <th>Color</th>\n",
       "      <th>Leather</th>\n",
       "      <th>Hardware</th>\n",
       "      <th>Estimate (USD)</th>\n",
       "      <th>Price Realized (USD)</th>\n",
       "    </tr>\n",
       "  </thead>\n",
       "  <tbody>\n",
       "    <tr>\n",
       "      <th>0</th>\n",
       "      <td>1</td>\n",
       "      <td>LIME EVERCOLOR LEATHER MINI ROULIS WITH PALLAD...</td>\n",
       "      <td>HERMÈS</td>\n",
       "      <td>Mini Roulis</td>\n",
       "      <td>2022</td>\n",
       "      <td>Green</td>\n",
       "      <td>Evercolor</td>\n",
       "      <td>Palladium</td>\n",
       "      <td>5,100−7,700</td>\n",
       "      <td>6100</td>\n",
       "    </tr>\n",
       "    <tr>\n",
       "      <th>1</th>\n",
       "      <td>2</td>\n",
       "      <td>LIMITED EDITION LIME &amp; PEARL GRAY EPSOM LEATHE...</td>\n",
       "      <td>HERMÈS</td>\n",
       "      <td>Kelly 32, Limited Edition</td>\n",
       "      <td>2011</td>\n",
       "      <td>Yellow</td>\n",
       "      <td>Epsom</td>\n",
       "      <td>Palladium</td>\n",
       "      <td>7,700−12,800</td>\n",
       "      <td>9700</td>\n",
       "    </tr>\n",
       "    <tr>\n",
       "      <th>2</th>\n",
       "      <td>3</td>\n",
       "      <td>LIMITED EDITION LIME &amp; PEARL GRAY EPSOM LEATHE...</td>\n",
       "      <td>HERMÈS</td>\n",
       "      <td>Birkin 35, Limited Edition</td>\n",
       "      <td>2011</td>\n",
       "      <td>Yellow</td>\n",
       "      <td>Epsom</td>\n",
       "      <td>Palladium</td>\n",
       "      <td>7,700−12,800</td>\n",
       "      <td>12100</td>\n",
       "    </tr>\n",
       "    <tr>\n",
       "      <th>3</th>\n",
       "      <td>4</td>\n",
       "      <td>SHINY MIMOSA NILOTICUS LIZARD SMALL CONSTANCE ...</td>\n",
       "      <td>HERMÈS</td>\n",
       "      <td>Constance Wallet</td>\n",
       "      <td>2011</td>\n",
       "      <td>Yellow</td>\n",
       "      <td>Lizard</td>\n",
       "      <td>Palladium</td>\n",
       "      <td>2,600−3,800</td>\n",
       "      <td>2300</td>\n",
       "    </tr>\n",
       "    <tr>\n",
       "      <th>4</th>\n",
       "      <td>5</td>\n",
       "      <td>NAPLES YELLOW EPSOM LEATHER CONSTANCE TO GO</td>\n",
       "      <td>HERMÈS</td>\n",
       "      <td>Constance To Go</td>\n",
       "      <td>2023</td>\n",
       "      <td>Yellow</td>\n",
       "      <td>Epsom</td>\n",
       "      <td>Gold</td>\n",
       "      <td>5,100−7,700</td>\n",
       "      <td>5600</td>\n",
       "    </tr>\n",
       "    <tr>\n",
       "      <th>...</th>\n",
       "      <td>...</td>\n",
       "      <td>...</td>\n",
       "      <td>...</td>\n",
       "      <td>...</td>\n",
       "      <td>...</td>\n",
       "      <td>...</td>\n",
       "      <td>...</td>\n",
       "      <td>...</td>\n",
       "      <td>...</td>\n",
       "      <td>...</td>\n",
       "    </tr>\n",
       "    <tr>\n",
       "      <th>237</th>\n",
       "      <td>254</td>\n",
       "      <td>LIMITED EDITION PAINTED PUMPKIN MONOGRAM KEEPA...</td>\n",
       "      <td>LOUIS VUITTON</td>\n",
       "      <td>Keepall Bandoulière 45, Limited Edition</td>\n",
       "      <td>2023</td>\n",
       "      <td>Multi Color</td>\n",
       "      <td>Canvas</td>\n",
       "      <td>Gold</td>\n",
       "      <td>2,600−3,600</td>\n",
       "      <td>4800</td>\n",
       "    </tr>\n",
       "    <tr>\n",
       "      <th>238</th>\n",
       "      <td>256</td>\n",
       "      <td>LIMITED EDITION BLACK TAURILLON LEATHER INFINI...</td>\n",
       "      <td>LOUIS VUITTON</td>\n",
       "      <td>Christopher Backpack MM, Limited Edition</td>\n",
       "      <td>2023</td>\n",
       "      <td>Black</td>\n",
       "      <td>Taurillon</td>\n",
       "      <td>Black</td>\n",
       "      <td>3,800−5,100</td>\n",
       "      <td>3500</td>\n",
       "    </tr>\n",
       "    <tr>\n",
       "      <th>239</th>\n",
       "      <td>257</td>\n",
       "      <td>ABSOLUTE BLACK MONOGRAM TAURILLON LEATHER KEEP...</td>\n",
       "      <td>LOUIS VUITTON</td>\n",
       "      <td>Keepall Bandoulière 50</td>\n",
       "      <td>2019</td>\n",
       "      <td>Black</td>\n",
       "      <td>Taurillon</td>\n",
       "      <td>Black &amp; Orange</td>\n",
       "      <td>2,600−3,600</td>\n",
       "      <td>4200</td>\n",
       "    </tr>\n",
       "    <tr>\n",
       "      <th>240</th>\n",
       "      <td>258</td>\n",
       "      <td>LIMITED EDITION BLACK EMPREINTE LEATHER TOTE B...</td>\n",
       "      <td>LOUIS VUITTON</td>\n",
       "      <td>Tote Bag, Limited Edition</td>\n",
       "      <td>2008</td>\n",
       "      <td>Black</td>\n",
       "      <td>Empreinte</td>\n",
       "      <td>Black</td>\n",
       "      <td>3,800−5,100</td>\n",
       "      <td>4800</td>\n",
       "    </tr>\n",
       "    <tr>\n",
       "      <th>241</th>\n",
       "      <td>259</td>\n",
       "      <td>LIMITED EDITION PAINTED MONOGRAM COURRIER LOZI...</td>\n",
       "      <td>LOUIS VUITTON</td>\n",
       "      <td>Courrier Lozine Trunk 110, Limited Edition</td>\n",
       "      <td>2021</td>\n",
       "      <td>Multi Color</td>\n",
       "      <td>Canvas</td>\n",
       "      <td>Black</td>\n",
       "      <td>38,400−51,200</td>\n",
       "      <td>48400</td>\n",
       "    </tr>\n",
       "  </tbody>\n",
       "</table>\n",
       "<p>242 rows × 10 columns</p>\n",
       "</div>"
      ],
      "text/plain": [
       "     Lot                                        Description          Brand  \\\n",
       "0      1  LIME EVERCOLOR LEATHER MINI ROULIS WITH PALLAD...         HERMÈS   \n",
       "1      2  LIMITED EDITION LIME & PEARL GRAY EPSOM LEATHE...         HERMÈS   \n",
       "2      3  LIMITED EDITION LIME & PEARL GRAY EPSOM LEATHE...         HERMÈS   \n",
       "3      4  SHINY MIMOSA NILOTICUS LIZARD SMALL CONSTANCE ...         HERMÈS   \n",
       "4      5        NAPLES YELLOW EPSOM LEATHER CONSTANCE TO GO         HERMÈS   \n",
       "..   ...                                                ...            ...   \n",
       "237  254  LIMITED EDITION PAINTED PUMPKIN MONOGRAM KEEPA...  LOUIS VUITTON   \n",
       "238  256  LIMITED EDITION BLACK TAURILLON LEATHER INFINI...  LOUIS VUITTON   \n",
       "239  257  ABSOLUTE BLACK MONOGRAM TAURILLON LEATHER KEEP...  LOUIS VUITTON   \n",
       "240  258  LIMITED EDITION BLACK EMPREINTE LEATHER TOTE B...  LOUIS VUITTON   \n",
       "241  259  LIMITED EDITION PAINTED MONOGRAM COURRIER LOZI...  LOUIS VUITTON   \n",
       "\n",
       "                                           Type  Year        Color    Leather  \\\n",
       "0                                   Mini Roulis  2022        Green  Evercolor   \n",
       "1                     Kelly 32, Limited Edition  2011       Yellow      Epsom   \n",
       "2                    Birkin 35, Limited Edition  2011       Yellow      Epsom   \n",
       "3                              Constance Wallet  2011       Yellow     Lizard   \n",
       "4                               Constance To Go  2023       Yellow      Epsom   \n",
       "..                                          ...   ...          ...        ...   \n",
       "237     Keepall Bandoulière 45, Limited Edition  2023  Multi Color     Canvas   \n",
       "238    Christopher Backpack MM, Limited Edition  2023        Black  Taurillon   \n",
       "239                      Keepall Bandoulière 50  2019        Black  Taurillon   \n",
       "240                   Tote Bag, Limited Edition  2008        Black  Empreinte   \n",
       "241  Courrier Lozine Trunk 110, Limited Edition  2021  Multi Color     Canvas   \n",
       "\n",
       "           Hardware Estimate (USD)  Price Realized (USD)  \n",
       "0         Palladium    5,100−7,700                  6100  \n",
       "1         Palladium   7,700−12,800                  9700  \n",
       "2         Palladium   7,700−12,800                 12100  \n",
       "3         Palladium    2,600−3,800                  2300  \n",
       "4              Gold    5,100−7,700                  5600  \n",
       "..              ...            ...                   ...  \n",
       "237            Gold    2,600−3,600                  4800  \n",
       "238           Black    3,800−5,100                  3500  \n",
       "239  Black & Orange    2,600−3,600                  4200  \n",
       "240           Black    3,800−5,100                  4800  \n",
       "241           Black  38,400−51,200                 48400  \n",
       "\n",
       "[242 rows x 10 columns]"
      ]
     },
     "execution_count": 178,
     "metadata": {},
     "output_type": "execute_result"
    }
   ],
   "source": [
    "# Rename Type (All Lots) to Type\n",
    "df.rename(columns={'Type (All Lots)': 'Type'}, inplace=True)\n",
    "# Display Dataframe\n",
    "df\n"
   ]
  },
  {
   "cell_type": "code",
   "execution_count": 179,
   "id": "d31b6ae5",
   "metadata": {},
   "outputs": [
    {
     "data": {
      "text/html": [
       "<div>\n",
       "<style scoped>\n",
       "    .dataframe tbody tr th:only-of-type {\n",
       "        vertical-align: middle;\n",
       "    }\n",
       "\n",
       "    .dataframe tbody tr th {\n",
       "        vertical-align: top;\n",
       "    }\n",
       "\n",
       "    .dataframe thead th {\n",
       "        text-align: right;\n",
       "    }\n",
       "</style>\n",
       "<table border=\"1\" class=\"dataframe\">\n",
       "  <thead>\n",
       "    <tr style=\"text-align: right;\">\n",
       "      <th></th>\n",
       "      <th>Lot</th>\n",
       "      <th>Description</th>\n",
       "      <th>Brand</th>\n",
       "      <th>Type</th>\n",
       "      <th>Year</th>\n",
       "      <th>Color</th>\n",
       "      <th>Leather</th>\n",
       "      <th>Hardware</th>\n",
       "      <th>Estimate (USD)</th>\n",
       "      <th>Price Realized (USD)</th>\n",
       "    </tr>\n",
       "  </thead>\n",
       "  <tbody>\n",
       "    <tr>\n",
       "      <th>1</th>\n",
       "      <td>1</td>\n",
       "      <td>LIME EVERCOLOR LEATHER MINI ROULIS WITH PALLAD...</td>\n",
       "      <td>HERMÈS</td>\n",
       "      <td>Mini Roulis</td>\n",
       "      <td>2022</td>\n",
       "      <td>Green</td>\n",
       "      <td>Evercolor</td>\n",
       "      <td>Palladium</td>\n",
       "      <td>5,100−7,700</td>\n",
       "      <td>6100</td>\n",
       "    </tr>\n",
       "    <tr>\n",
       "      <th>2</th>\n",
       "      <td>2</td>\n",
       "      <td>LIMITED EDITION LIME &amp; PEARL GRAY EPSOM LEATHE...</td>\n",
       "      <td>HERMÈS</td>\n",
       "      <td>Kelly 32, Limited Edition</td>\n",
       "      <td>2011</td>\n",
       "      <td>Yellow</td>\n",
       "      <td>Epsom</td>\n",
       "      <td>Palladium</td>\n",
       "      <td>7,700−12,800</td>\n",
       "      <td>9700</td>\n",
       "    </tr>\n",
       "    <tr>\n",
       "      <th>3</th>\n",
       "      <td>3</td>\n",
       "      <td>LIMITED EDITION LIME &amp; PEARL GRAY EPSOM LEATHE...</td>\n",
       "      <td>HERMÈS</td>\n",
       "      <td>Birkin 35, Limited Edition</td>\n",
       "      <td>2011</td>\n",
       "      <td>Yellow</td>\n",
       "      <td>Epsom</td>\n",
       "      <td>Palladium</td>\n",
       "      <td>7,700−12,800</td>\n",
       "      <td>12100</td>\n",
       "    </tr>\n",
       "    <tr>\n",
       "      <th>4</th>\n",
       "      <td>4</td>\n",
       "      <td>SHINY MIMOSA NILOTICUS LIZARD SMALL CONSTANCE ...</td>\n",
       "      <td>HERMÈS</td>\n",
       "      <td>Constance Wallet</td>\n",
       "      <td>2011</td>\n",
       "      <td>Yellow</td>\n",
       "      <td>Lizard</td>\n",
       "      <td>Palladium</td>\n",
       "      <td>2,600−3,800</td>\n",
       "      <td>2300</td>\n",
       "    </tr>\n",
       "    <tr>\n",
       "      <th>5</th>\n",
       "      <td>5</td>\n",
       "      <td>NAPLES YELLOW EPSOM LEATHER CONSTANCE TO GO</td>\n",
       "      <td>HERMÈS</td>\n",
       "      <td>Constance To Go</td>\n",
       "      <td>2023</td>\n",
       "      <td>Yellow</td>\n",
       "      <td>Epsom</td>\n",
       "      <td>Gold</td>\n",
       "      <td>5,100−7,700</td>\n",
       "      <td>5600</td>\n",
       "    </tr>\n",
       "    <tr>\n",
       "      <th>...</th>\n",
       "      <td>...</td>\n",
       "      <td>...</td>\n",
       "      <td>...</td>\n",
       "      <td>...</td>\n",
       "      <td>...</td>\n",
       "      <td>...</td>\n",
       "      <td>...</td>\n",
       "      <td>...</td>\n",
       "      <td>...</td>\n",
       "      <td>...</td>\n",
       "    </tr>\n",
       "    <tr>\n",
       "      <th>238</th>\n",
       "      <td>254</td>\n",
       "      <td>LIMITED EDITION PAINTED PUMPKIN MONOGRAM KEEPA...</td>\n",
       "      <td>LOUIS VUITTON</td>\n",
       "      <td>Keepall Bandoulière 45, Limited Edition</td>\n",
       "      <td>2023</td>\n",
       "      <td>Multi Color</td>\n",
       "      <td>Canvas</td>\n",
       "      <td>Gold</td>\n",
       "      <td>2,600−3,600</td>\n",
       "      <td>4800</td>\n",
       "    </tr>\n",
       "    <tr>\n",
       "      <th>239</th>\n",
       "      <td>256</td>\n",
       "      <td>LIMITED EDITION BLACK TAURILLON LEATHER INFINI...</td>\n",
       "      <td>LOUIS VUITTON</td>\n",
       "      <td>Christopher Backpack MM, Limited Edition</td>\n",
       "      <td>2023</td>\n",
       "      <td>Black</td>\n",
       "      <td>Taurillon</td>\n",
       "      <td>Black</td>\n",
       "      <td>3,800−5,100</td>\n",
       "      <td>3500</td>\n",
       "    </tr>\n",
       "    <tr>\n",
       "      <th>240</th>\n",
       "      <td>257</td>\n",
       "      <td>ABSOLUTE BLACK MONOGRAM TAURILLON LEATHER KEEP...</td>\n",
       "      <td>LOUIS VUITTON</td>\n",
       "      <td>Keepall Bandoulière 50</td>\n",
       "      <td>2019</td>\n",
       "      <td>Black</td>\n",
       "      <td>Taurillon</td>\n",
       "      <td>Black &amp; Orange</td>\n",
       "      <td>2,600−3,600</td>\n",
       "      <td>4200</td>\n",
       "    </tr>\n",
       "    <tr>\n",
       "      <th>241</th>\n",
       "      <td>258</td>\n",
       "      <td>LIMITED EDITION BLACK EMPREINTE LEATHER TOTE B...</td>\n",
       "      <td>LOUIS VUITTON</td>\n",
       "      <td>Tote Bag, Limited Edition</td>\n",
       "      <td>2008</td>\n",
       "      <td>Black</td>\n",
       "      <td>Empreinte</td>\n",
       "      <td>Black</td>\n",
       "      <td>3,800−5,100</td>\n",
       "      <td>4800</td>\n",
       "    </tr>\n",
       "    <tr>\n",
       "      <th>242</th>\n",
       "      <td>259</td>\n",
       "      <td>LIMITED EDITION PAINTED MONOGRAM COURRIER LOZI...</td>\n",
       "      <td>LOUIS VUITTON</td>\n",
       "      <td>Courrier Lozine Trunk 110, Limited Edition</td>\n",
       "      <td>2021</td>\n",
       "      <td>Multi Color</td>\n",
       "      <td>Canvas</td>\n",
       "      <td>Black</td>\n",
       "      <td>38,400−51,200</td>\n",
       "      <td>48400</td>\n",
       "    </tr>\n",
       "  </tbody>\n",
       "</table>\n",
       "<p>242 rows × 10 columns</p>\n",
       "</div>"
      ],
      "text/plain": [
       "     Lot                                        Description          Brand  \\\n",
       "1      1  LIME EVERCOLOR LEATHER MINI ROULIS WITH PALLAD...         HERMÈS   \n",
       "2      2  LIMITED EDITION LIME & PEARL GRAY EPSOM LEATHE...         HERMÈS   \n",
       "3      3  LIMITED EDITION LIME & PEARL GRAY EPSOM LEATHE...         HERMÈS   \n",
       "4      4  SHINY MIMOSA NILOTICUS LIZARD SMALL CONSTANCE ...         HERMÈS   \n",
       "5      5        NAPLES YELLOW EPSOM LEATHER CONSTANCE TO GO         HERMÈS   \n",
       "..   ...                                                ...            ...   \n",
       "238  254  LIMITED EDITION PAINTED PUMPKIN MONOGRAM KEEPA...  LOUIS VUITTON   \n",
       "239  256  LIMITED EDITION BLACK TAURILLON LEATHER INFINI...  LOUIS VUITTON   \n",
       "240  257  ABSOLUTE BLACK MONOGRAM TAURILLON LEATHER KEEP...  LOUIS VUITTON   \n",
       "241  258  LIMITED EDITION BLACK EMPREINTE LEATHER TOTE B...  LOUIS VUITTON   \n",
       "242  259  LIMITED EDITION PAINTED MONOGRAM COURRIER LOZI...  LOUIS VUITTON   \n",
       "\n",
       "                                           Type  Year        Color    Leather  \\\n",
       "1                                   Mini Roulis  2022        Green  Evercolor   \n",
       "2                     Kelly 32, Limited Edition  2011       Yellow      Epsom   \n",
       "3                    Birkin 35, Limited Edition  2011       Yellow      Epsom   \n",
       "4                              Constance Wallet  2011       Yellow     Lizard   \n",
       "5                               Constance To Go  2023       Yellow      Epsom   \n",
       "..                                          ...   ...          ...        ...   \n",
       "238     Keepall Bandoulière 45, Limited Edition  2023  Multi Color     Canvas   \n",
       "239    Christopher Backpack MM, Limited Edition  2023        Black  Taurillon   \n",
       "240                      Keepall Bandoulière 50  2019        Black  Taurillon   \n",
       "241                   Tote Bag, Limited Edition  2008        Black  Empreinte   \n",
       "242  Courrier Lozine Trunk 110, Limited Edition  2021  Multi Color     Canvas   \n",
       "\n",
       "           Hardware Estimate (USD)  Price Realized (USD)  \n",
       "1         Palladium    5,100−7,700                  6100  \n",
       "2         Palladium   7,700−12,800                  9700  \n",
       "3         Palladium   7,700−12,800                 12100  \n",
       "4         Palladium    2,600−3,800                  2300  \n",
       "5              Gold    5,100−7,700                  5600  \n",
       "..              ...            ...                   ...  \n",
       "238            Gold    2,600−3,600                  4800  \n",
       "239           Black    3,800−5,100                  3500  \n",
       "240  Black & Orange    2,600−3,600                  4200  \n",
       "241           Black    3,800−5,100                  4800  \n",
       "242           Black  38,400−51,200                 48400  \n",
       "\n",
       "[242 rows x 10 columns]"
      ]
     },
     "execution_count": 179,
     "metadata": {},
     "output_type": "execute_result"
    }
   ],
   "source": [
    "# Reset the Index making sure it starts at 1 instead of 0\n",
    "df = df.reset_index(drop=True)  # Reset index and drop the old one\n",
    "df.index = df.index + 1  # Start at 1\n",
    "# Display Dataframe\n",
    "df"
   ]
  },
  {
   "cell_type": "code",
   "execution_count": 180,
   "id": "27618a7d-3cf1-499a-9855-499abf91d51e",
   "metadata": {},
   "outputs": [
    {
     "data": {
      "text/html": [
       "<div>\n",
       "<style scoped>\n",
       "    .dataframe tbody tr th:only-of-type {\n",
       "        vertical-align: middle;\n",
       "    }\n",
       "\n",
       "    .dataframe tbody tr th {\n",
       "        vertical-align: top;\n",
       "    }\n",
       "\n",
       "    .dataframe thead th {\n",
       "        text-align: right;\n",
       "    }\n",
       "</style>\n",
       "<table border=\"1\" class=\"dataframe\">\n",
       "  <thead>\n",
       "    <tr style=\"text-align: right;\">\n",
       "      <th></th>\n",
       "      <th>Lot</th>\n",
       "      <th>Description</th>\n",
       "      <th>Brand</th>\n",
       "      <th>Type</th>\n",
       "      <th>Year</th>\n",
       "      <th>Color</th>\n",
       "      <th>Leather</th>\n",
       "      <th>Hardware</th>\n",
       "      <th>Estimate (USD)</th>\n",
       "      <th>Price Realized (USD)</th>\n",
       "      <th>Lower Estimate (USD)</th>\n",
       "      <th>Higher Estimate (USD)</th>\n",
       "    </tr>\n",
       "  </thead>\n",
       "  <tbody>\n",
       "    <tr>\n",
       "      <th>1</th>\n",
       "      <td>1</td>\n",
       "      <td>LIME EVERCOLOR LEATHER MINI ROULIS WITH PALLAD...</td>\n",
       "      <td>HERMÈS</td>\n",
       "      <td>Mini Roulis</td>\n",
       "      <td>2022</td>\n",
       "      <td>Green</td>\n",
       "      <td>Evercolor</td>\n",
       "      <td>Palladium</td>\n",
       "      <td>5100−7700</td>\n",
       "      <td>6100</td>\n",
       "      <td>5100</td>\n",
       "      <td>7700</td>\n",
       "    </tr>\n",
       "    <tr>\n",
       "      <th>2</th>\n",
       "      <td>2</td>\n",
       "      <td>LIMITED EDITION LIME &amp; PEARL GRAY EPSOM LEATHE...</td>\n",
       "      <td>HERMÈS</td>\n",
       "      <td>Kelly 32, Limited Edition</td>\n",
       "      <td>2011</td>\n",
       "      <td>Yellow</td>\n",
       "      <td>Epsom</td>\n",
       "      <td>Palladium</td>\n",
       "      <td>7700−12800</td>\n",
       "      <td>9700</td>\n",
       "      <td>7700</td>\n",
       "      <td>12800</td>\n",
       "    </tr>\n",
       "    <tr>\n",
       "      <th>3</th>\n",
       "      <td>3</td>\n",
       "      <td>LIMITED EDITION LIME &amp; PEARL GRAY EPSOM LEATHE...</td>\n",
       "      <td>HERMÈS</td>\n",
       "      <td>Birkin 35, Limited Edition</td>\n",
       "      <td>2011</td>\n",
       "      <td>Yellow</td>\n",
       "      <td>Epsom</td>\n",
       "      <td>Palladium</td>\n",
       "      <td>7700−12800</td>\n",
       "      <td>12100</td>\n",
       "      <td>7700</td>\n",
       "      <td>12800</td>\n",
       "    </tr>\n",
       "    <tr>\n",
       "      <th>4</th>\n",
       "      <td>4</td>\n",
       "      <td>SHINY MIMOSA NILOTICUS LIZARD SMALL CONSTANCE ...</td>\n",
       "      <td>HERMÈS</td>\n",
       "      <td>Constance Wallet</td>\n",
       "      <td>2011</td>\n",
       "      <td>Yellow</td>\n",
       "      <td>Lizard</td>\n",
       "      <td>Palladium</td>\n",
       "      <td>2600−3800</td>\n",
       "      <td>2300</td>\n",
       "      <td>2600</td>\n",
       "      <td>3800</td>\n",
       "    </tr>\n",
       "    <tr>\n",
       "      <th>5</th>\n",
       "      <td>5</td>\n",
       "      <td>NAPLES YELLOW EPSOM LEATHER CONSTANCE TO GO</td>\n",
       "      <td>HERMÈS</td>\n",
       "      <td>Constance To Go</td>\n",
       "      <td>2023</td>\n",
       "      <td>Yellow</td>\n",
       "      <td>Epsom</td>\n",
       "      <td>Gold</td>\n",
       "      <td>5100−7700</td>\n",
       "      <td>5600</td>\n",
       "      <td>5100</td>\n",
       "      <td>7700</td>\n",
       "    </tr>\n",
       "    <tr>\n",
       "      <th>...</th>\n",
       "      <td>...</td>\n",
       "      <td>...</td>\n",
       "      <td>...</td>\n",
       "      <td>...</td>\n",
       "      <td>...</td>\n",
       "      <td>...</td>\n",
       "      <td>...</td>\n",
       "      <td>...</td>\n",
       "      <td>...</td>\n",
       "      <td>...</td>\n",
       "      <td>...</td>\n",
       "      <td>...</td>\n",
       "    </tr>\n",
       "    <tr>\n",
       "      <th>238</th>\n",
       "      <td>254</td>\n",
       "      <td>LIMITED EDITION PAINTED PUMPKIN MONOGRAM KEEPA...</td>\n",
       "      <td>LOUIS VUITTON</td>\n",
       "      <td>Keepall Bandoulière 45, Limited Edition</td>\n",
       "      <td>2023</td>\n",
       "      <td>Multi Color</td>\n",
       "      <td>Canvas</td>\n",
       "      <td>Gold</td>\n",
       "      <td>2600−3600</td>\n",
       "      <td>4800</td>\n",
       "      <td>2600</td>\n",
       "      <td>3600</td>\n",
       "    </tr>\n",
       "    <tr>\n",
       "      <th>239</th>\n",
       "      <td>256</td>\n",
       "      <td>LIMITED EDITION BLACK TAURILLON LEATHER INFINI...</td>\n",
       "      <td>LOUIS VUITTON</td>\n",
       "      <td>Christopher Backpack MM, Limited Edition</td>\n",
       "      <td>2023</td>\n",
       "      <td>Black</td>\n",
       "      <td>Taurillon</td>\n",
       "      <td>Black</td>\n",
       "      <td>3800−5100</td>\n",
       "      <td>3500</td>\n",
       "      <td>3800</td>\n",
       "      <td>5100</td>\n",
       "    </tr>\n",
       "    <tr>\n",
       "      <th>240</th>\n",
       "      <td>257</td>\n",
       "      <td>ABSOLUTE BLACK MONOGRAM TAURILLON LEATHER KEEP...</td>\n",
       "      <td>LOUIS VUITTON</td>\n",
       "      <td>Keepall Bandoulière 50</td>\n",
       "      <td>2019</td>\n",
       "      <td>Black</td>\n",
       "      <td>Taurillon</td>\n",
       "      <td>Black &amp; Orange</td>\n",
       "      <td>2600−3600</td>\n",
       "      <td>4200</td>\n",
       "      <td>2600</td>\n",
       "      <td>3600</td>\n",
       "    </tr>\n",
       "    <tr>\n",
       "      <th>241</th>\n",
       "      <td>258</td>\n",
       "      <td>LIMITED EDITION BLACK EMPREINTE LEATHER TOTE B...</td>\n",
       "      <td>LOUIS VUITTON</td>\n",
       "      <td>Tote Bag, Limited Edition</td>\n",
       "      <td>2008</td>\n",
       "      <td>Black</td>\n",
       "      <td>Empreinte</td>\n",
       "      <td>Black</td>\n",
       "      <td>3800−5100</td>\n",
       "      <td>4800</td>\n",
       "      <td>3800</td>\n",
       "      <td>5100</td>\n",
       "    </tr>\n",
       "    <tr>\n",
       "      <th>242</th>\n",
       "      <td>259</td>\n",
       "      <td>LIMITED EDITION PAINTED MONOGRAM COURRIER LOZI...</td>\n",
       "      <td>LOUIS VUITTON</td>\n",
       "      <td>Courrier Lozine Trunk 110, Limited Edition</td>\n",
       "      <td>2021</td>\n",
       "      <td>Multi Color</td>\n",
       "      <td>Canvas</td>\n",
       "      <td>Black</td>\n",
       "      <td>38400−51200</td>\n",
       "      <td>48400</td>\n",
       "      <td>38400</td>\n",
       "      <td>51200</td>\n",
       "    </tr>\n",
       "  </tbody>\n",
       "</table>\n",
       "<p>242 rows × 12 columns</p>\n",
       "</div>"
      ],
      "text/plain": [
       "     Lot                                        Description          Brand  \\\n",
       "1      1  LIME EVERCOLOR LEATHER MINI ROULIS WITH PALLAD...         HERMÈS   \n",
       "2      2  LIMITED EDITION LIME & PEARL GRAY EPSOM LEATHE...         HERMÈS   \n",
       "3      3  LIMITED EDITION LIME & PEARL GRAY EPSOM LEATHE...         HERMÈS   \n",
       "4      4  SHINY MIMOSA NILOTICUS LIZARD SMALL CONSTANCE ...         HERMÈS   \n",
       "5      5        NAPLES YELLOW EPSOM LEATHER CONSTANCE TO GO         HERMÈS   \n",
       "..   ...                                                ...            ...   \n",
       "238  254  LIMITED EDITION PAINTED PUMPKIN MONOGRAM KEEPA...  LOUIS VUITTON   \n",
       "239  256  LIMITED EDITION BLACK TAURILLON LEATHER INFINI...  LOUIS VUITTON   \n",
       "240  257  ABSOLUTE BLACK MONOGRAM TAURILLON LEATHER KEEP...  LOUIS VUITTON   \n",
       "241  258  LIMITED EDITION BLACK EMPREINTE LEATHER TOTE B...  LOUIS VUITTON   \n",
       "242  259  LIMITED EDITION PAINTED MONOGRAM COURRIER LOZI...  LOUIS VUITTON   \n",
       "\n",
       "                                           Type  Year        Color    Leather  \\\n",
       "1                                   Mini Roulis  2022        Green  Evercolor   \n",
       "2                     Kelly 32, Limited Edition  2011       Yellow      Epsom   \n",
       "3                    Birkin 35, Limited Edition  2011       Yellow      Epsom   \n",
       "4                              Constance Wallet  2011       Yellow     Lizard   \n",
       "5                               Constance To Go  2023       Yellow      Epsom   \n",
       "..                                          ...   ...          ...        ...   \n",
       "238     Keepall Bandoulière 45, Limited Edition  2023  Multi Color     Canvas   \n",
       "239    Christopher Backpack MM, Limited Edition  2023        Black  Taurillon   \n",
       "240                      Keepall Bandoulière 50  2019        Black  Taurillon   \n",
       "241                   Tote Bag, Limited Edition  2008        Black  Empreinte   \n",
       "242  Courrier Lozine Trunk 110, Limited Edition  2021  Multi Color     Canvas   \n",
       "\n",
       "           Hardware Estimate (USD)  Price Realized (USD)  \\\n",
       "1         Palladium      5100−7700                  6100   \n",
       "2         Palladium     7700−12800                  9700   \n",
       "3         Palladium     7700−12800                 12100   \n",
       "4         Palladium      2600−3800                  2300   \n",
       "5              Gold      5100−7700                  5600   \n",
       "..              ...            ...                   ...   \n",
       "238            Gold      2600−3600                  4800   \n",
       "239           Black      3800−5100                  3500   \n",
       "240  Black & Orange      2600−3600                  4200   \n",
       "241           Black      3800−5100                  4800   \n",
       "242           Black    38400−51200                 48400   \n",
       "\n",
       "     Lower Estimate (USD)  Higher Estimate (USD)  \n",
       "1                    5100                   7700  \n",
       "2                    7700                  12800  \n",
       "3                    7700                  12800  \n",
       "4                    2600                   3800  \n",
       "5                    5100                   7700  \n",
       "..                    ...                    ...  \n",
       "238                  2600                   3600  \n",
       "239                  3800                   5100  \n",
       "240                  2600                   3600  \n",
       "241                  3800                   5100  \n",
       "242                 38400                  51200  \n",
       "\n",
       "[242 rows x 12 columns]"
      ]
     },
     "execution_count": 180,
     "metadata": {},
     "output_type": "execute_result"
    }
   ],
   "source": [
    "# Split 'Estimate (USD)' into 'Lower Estimate' & 'Higher Estimate'\n",
    "# Ensure consistent separator and remove commas\n",
    "df[\"Estimate (USD)\"] = df[\"Estimate (USD)\"].str.replace(\",\", \"\", regex=True)\n",
    "df[[\"Lower Estimate (USD)\", \"Higher Estimate (USD)\"]] = df[\"Estimate (USD)\"].str.split(\"−\", expand=True)\n",
    "\n",
    "# Convert to numeric instead of object\n",
    "df[\"Lower Estimate (USD)\"] = pd.to_numeric(df[\"Lower Estimate (USD)\"])\n",
    "df[\"Higher Estimate (USD)\"] = pd.to_numeric(df[\"Higher Estimate (USD)\"])\n",
    "\n",
    "# Show results\n",
    "df"
   ]
  },
  {
   "cell_type": "code",
   "execution_count": 181,
   "id": "57fe5b1f",
   "metadata": {},
   "outputs": [
    {
     "name": "stdout",
     "output_type": "stream",
     "text": [
      "<class 'pandas.core.frame.DataFrame'>\n",
      "RangeIndex: 242 entries, 1 to 242\n",
      "Data columns (total 12 columns):\n",
      " #   Column                 Non-Null Count  Dtype \n",
      "---  ------                 --------------  ----- \n",
      " 0   Lot                    242 non-null    int64 \n",
      " 1   Description            242 non-null    object\n",
      " 2   Brand                  242 non-null    object\n",
      " 3   Type                   242 non-null    object\n",
      " 4   Year                   242 non-null    int64 \n",
      " 5   Color                  242 non-null    object\n",
      " 6   Leather                242 non-null    object\n",
      " 7   Hardware               242 non-null    object\n",
      " 8   Estimate (USD)         242 non-null    object\n",
      " 9   Price Realized (USD)   242 non-null    int64 \n",
      " 10  Lower Estimate (USD)   242 non-null    int64 \n",
      " 11  Higher Estimate (USD)  242 non-null    int64 \n",
      "dtypes: int64(5), object(7)\n",
      "memory usage: 22.8+ KB\n",
      "None\n"
     ]
    }
   ],
   "source": [
    "# print new data info after adjustments were made \n",
    "print(df.info())"
   ]
  },
  {
   "cell_type": "code",
   "execution_count": 182,
   "id": "93e0c199-44b9-4bd9-b516-d0c336c61976",
   "metadata": {},
   "outputs": [
    {
     "data": {
      "text/html": [
       "<div>\n",
       "<style scoped>\n",
       "    .dataframe tbody tr th:only-of-type {\n",
       "        vertical-align: middle;\n",
       "    }\n",
       "\n",
       "    .dataframe tbody tr th {\n",
       "        vertical-align: top;\n",
       "    }\n",
       "\n",
       "    .dataframe thead th {\n",
       "        text-align: right;\n",
       "    }\n",
       "</style>\n",
       "<table border=\"1\" class=\"dataframe\">\n",
       "  <thead>\n",
       "    <tr style=\"text-align: right;\">\n",
       "      <th></th>\n",
       "      <th>Lot</th>\n",
       "      <th>Description</th>\n",
       "      <th>Brand</th>\n",
       "      <th>Type</th>\n",
       "      <th>Year</th>\n",
       "      <th>Color</th>\n",
       "      <th>Leather</th>\n",
       "      <th>Hardware</th>\n",
       "      <th>Estimate (USD)</th>\n",
       "      <th>Lower Estimate (USD)</th>\n",
       "      <th>Higher Estimate (USD)</th>\n",
       "      <th>Price Realized (USD)</th>\n",
       "    </tr>\n",
       "  </thead>\n",
       "  <tbody>\n",
       "    <tr>\n",
       "      <th>1</th>\n",
       "      <td>1</td>\n",
       "      <td>LIME EVERCOLOR LEATHER MINI ROULIS WITH PALLAD...</td>\n",
       "      <td>HERMÈS</td>\n",
       "      <td>Mini Roulis</td>\n",
       "      <td>2022</td>\n",
       "      <td>Green</td>\n",
       "      <td>Evercolor</td>\n",
       "      <td>Palladium</td>\n",
       "      <td>5100−7700</td>\n",
       "      <td>5100</td>\n",
       "      <td>7700</td>\n",
       "      <td>6100</td>\n",
       "    </tr>\n",
       "    <tr>\n",
       "      <th>2</th>\n",
       "      <td>2</td>\n",
       "      <td>LIMITED EDITION LIME &amp; PEARL GRAY EPSOM LEATHE...</td>\n",
       "      <td>HERMÈS</td>\n",
       "      <td>Kelly 32, Limited Edition</td>\n",
       "      <td>2011</td>\n",
       "      <td>Yellow</td>\n",
       "      <td>Epsom</td>\n",
       "      <td>Palladium</td>\n",
       "      <td>7700−12800</td>\n",
       "      <td>7700</td>\n",
       "      <td>12800</td>\n",
       "      <td>9700</td>\n",
       "    </tr>\n",
       "    <tr>\n",
       "      <th>3</th>\n",
       "      <td>3</td>\n",
       "      <td>LIMITED EDITION LIME &amp; PEARL GRAY EPSOM LEATHE...</td>\n",
       "      <td>HERMÈS</td>\n",
       "      <td>Birkin 35, Limited Edition</td>\n",
       "      <td>2011</td>\n",
       "      <td>Yellow</td>\n",
       "      <td>Epsom</td>\n",
       "      <td>Palladium</td>\n",
       "      <td>7700−12800</td>\n",
       "      <td>7700</td>\n",
       "      <td>12800</td>\n",
       "      <td>12100</td>\n",
       "    </tr>\n",
       "    <tr>\n",
       "      <th>4</th>\n",
       "      <td>4</td>\n",
       "      <td>SHINY MIMOSA NILOTICUS LIZARD SMALL CONSTANCE ...</td>\n",
       "      <td>HERMÈS</td>\n",
       "      <td>Constance Wallet</td>\n",
       "      <td>2011</td>\n",
       "      <td>Yellow</td>\n",
       "      <td>Lizard</td>\n",
       "      <td>Palladium</td>\n",
       "      <td>2600−3800</td>\n",
       "      <td>2600</td>\n",
       "      <td>3800</td>\n",
       "      <td>2300</td>\n",
       "    </tr>\n",
       "    <tr>\n",
       "      <th>5</th>\n",
       "      <td>5</td>\n",
       "      <td>NAPLES YELLOW EPSOM LEATHER CONSTANCE TO GO</td>\n",
       "      <td>HERMÈS</td>\n",
       "      <td>Constance To Go</td>\n",
       "      <td>2023</td>\n",
       "      <td>Yellow</td>\n",
       "      <td>Epsom</td>\n",
       "      <td>Gold</td>\n",
       "      <td>5100−7700</td>\n",
       "      <td>5100</td>\n",
       "      <td>7700</td>\n",
       "      <td>5600</td>\n",
       "    </tr>\n",
       "    <tr>\n",
       "      <th>...</th>\n",
       "      <td>...</td>\n",
       "      <td>...</td>\n",
       "      <td>...</td>\n",
       "      <td>...</td>\n",
       "      <td>...</td>\n",
       "      <td>...</td>\n",
       "      <td>...</td>\n",
       "      <td>...</td>\n",
       "      <td>...</td>\n",
       "      <td>...</td>\n",
       "      <td>...</td>\n",
       "      <td>...</td>\n",
       "    </tr>\n",
       "    <tr>\n",
       "      <th>238</th>\n",
       "      <td>254</td>\n",
       "      <td>LIMITED EDITION PAINTED PUMPKIN MONOGRAM KEEPA...</td>\n",
       "      <td>LOUIS VUITTON</td>\n",
       "      <td>Keepall Bandoulière 45, Limited Edition</td>\n",
       "      <td>2023</td>\n",
       "      <td>Multi Color</td>\n",
       "      <td>Canvas</td>\n",
       "      <td>Gold</td>\n",
       "      <td>2600−3600</td>\n",
       "      <td>2600</td>\n",
       "      <td>3600</td>\n",
       "      <td>4800</td>\n",
       "    </tr>\n",
       "    <tr>\n",
       "      <th>239</th>\n",
       "      <td>256</td>\n",
       "      <td>LIMITED EDITION BLACK TAURILLON LEATHER INFINI...</td>\n",
       "      <td>LOUIS VUITTON</td>\n",
       "      <td>Christopher Backpack MM, Limited Edition</td>\n",
       "      <td>2023</td>\n",
       "      <td>Black</td>\n",
       "      <td>Taurillon</td>\n",
       "      <td>Black</td>\n",
       "      <td>3800−5100</td>\n",
       "      <td>3800</td>\n",
       "      <td>5100</td>\n",
       "      <td>3500</td>\n",
       "    </tr>\n",
       "    <tr>\n",
       "      <th>240</th>\n",
       "      <td>257</td>\n",
       "      <td>ABSOLUTE BLACK MONOGRAM TAURILLON LEATHER KEEP...</td>\n",
       "      <td>LOUIS VUITTON</td>\n",
       "      <td>Keepall Bandoulière 50</td>\n",
       "      <td>2019</td>\n",
       "      <td>Black</td>\n",
       "      <td>Taurillon</td>\n",
       "      <td>Black &amp; Orange</td>\n",
       "      <td>2600−3600</td>\n",
       "      <td>2600</td>\n",
       "      <td>3600</td>\n",
       "      <td>4200</td>\n",
       "    </tr>\n",
       "    <tr>\n",
       "      <th>241</th>\n",
       "      <td>258</td>\n",
       "      <td>LIMITED EDITION BLACK EMPREINTE LEATHER TOTE B...</td>\n",
       "      <td>LOUIS VUITTON</td>\n",
       "      <td>Tote Bag, Limited Edition</td>\n",
       "      <td>2008</td>\n",
       "      <td>Black</td>\n",
       "      <td>Empreinte</td>\n",
       "      <td>Black</td>\n",
       "      <td>3800−5100</td>\n",
       "      <td>3800</td>\n",
       "      <td>5100</td>\n",
       "      <td>4800</td>\n",
       "    </tr>\n",
       "    <tr>\n",
       "      <th>242</th>\n",
       "      <td>259</td>\n",
       "      <td>LIMITED EDITION PAINTED MONOGRAM COURRIER LOZI...</td>\n",
       "      <td>LOUIS VUITTON</td>\n",
       "      <td>Courrier Lozine Trunk 110, Limited Edition</td>\n",
       "      <td>2021</td>\n",
       "      <td>Multi Color</td>\n",
       "      <td>Canvas</td>\n",
       "      <td>Black</td>\n",
       "      <td>38400−51200</td>\n",
       "      <td>38400</td>\n",
       "      <td>51200</td>\n",
       "      <td>48400</td>\n",
       "    </tr>\n",
       "  </tbody>\n",
       "</table>\n",
       "<p>242 rows × 12 columns</p>\n",
       "</div>"
      ],
      "text/plain": [
       "     Lot                                        Description          Brand  \\\n",
       "1      1  LIME EVERCOLOR LEATHER MINI ROULIS WITH PALLAD...         HERMÈS   \n",
       "2      2  LIMITED EDITION LIME & PEARL GRAY EPSOM LEATHE...         HERMÈS   \n",
       "3      3  LIMITED EDITION LIME & PEARL GRAY EPSOM LEATHE...         HERMÈS   \n",
       "4      4  SHINY MIMOSA NILOTICUS LIZARD SMALL CONSTANCE ...         HERMÈS   \n",
       "5      5        NAPLES YELLOW EPSOM LEATHER CONSTANCE TO GO         HERMÈS   \n",
       "..   ...                                                ...            ...   \n",
       "238  254  LIMITED EDITION PAINTED PUMPKIN MONOGRAM KEEPA...  LOUIS VUITTON   \n",
       "239  256  LIMITED EDITION BLACK TAURILLON LEATHER INFINI...  LOUIS VUITTON   \n",
       "240  257  ABSOLUTE BLACK MONOGRAM TAURILLON LEATHER KEEP...  LOUIS VUITTON   \n",
       "241  258  LIMITED EDITION BLACK EMPREINTE LEATHER TOTE B...  LOUIS VUITTON   \n",
       "242  259  LIMITED EDITION PAINTED MONOGRAM COURRIER LOZI...  LOUIS VUITTON   \n",
       "\n",
       "                                           Type  Year        Color    Leather  \\\n",
       "1                                   Mini Roulis  2022        Green  Evercolor   \n",
       "2                     Kelly 32, Limited Edition  2011       Yellow      Epsom   \n",
       "3                    Birkin 35, Limited Edition  2011       Yellow      Epsom   \n",
       "4                              Constance Wallet  2011       Yellow     Lizard   \n",
       "5                               Constance To Go  2023       Yellow      Epsom   \n",
       "..                                          ...   ...          ...        ...   \n",
       "238     Keepall Bandoulière 45, Limited Edition  2023  Multi Color     Canvas   \n",
       "239    Christopher Backpack MM, Limited Edition  2023        Black  Taurillon   \n",
       "240                      Keepall Bandoulière 50  2019        Black  Taurillon   \n",
       "241                   Tote Bag, Limited Edition  2008        Black  Empreinte   \n",
       "242  Courrier Lozine Trunk 110, Limited Edition  2021  Multi Color     Canvas   \n",
       "\n",
       "           Hardware Estimate (USD)  Lower Estimate (USD)  \\\n",
       "1         Palladium      5100−7700                  5100   \n",
       "2         Palladium     7700−12800                  7700   \n",
       "3         Palladium     7700−12800                  7700   \n",
       "4         Palladium      2600−3800                  2600   \n",
       "5              Gold      5100−7700                  5100   \n",
       "..              ...            ...                   ...   \n",
       "238            Gold      2600−3600                  2600   \n",
       "239           Black      3800−5100                  3800   \n",
       "240  Black & Orange      2600−3600                  2600   \n",
       "241           Black      3800−5100                  3800   \n",
       "242           Black    38400−51200                 38400   \n",
       "\n",
       "     Higher Estimate (USD)  Price Realized (USD)  \n",
       "1                     7700                  6100  \n",
       "2                    12800                  9700  \n",
       "3                    12800                 12100  \n",
       "4                     3800                  2300  \n",
       "5                     7700                  5600  \n",
       "..                     ...                   ...  \n",
       "238                   3600                  4800  \n",
       "239                   5100                  3500  \n",
       "240                   3600                  4200  \n",
       "241                   5100                  4800  \n",
       "242                  51200                 48400  \n",
       "\n",
       "[242 rows x 12 columns]"
      ]
     },
     "execution_count": 182,
     "metadata": {},
     "output_type": "execute_result"
    }
   ],
   "source": [
    "# Reordering columns to place the price realized column at the end\n",
    "columns_order = [\n",
    "    \"Lot\", \"Description\", \"Brand\", \"Type\", \"Year\", \"Color\", \"Leather\", \"Hardware\",\n",
    "    \"Estimate (USD)\", \"Lower Estimate (USD)\", \"Higher Estimate (USD)\", \"Price Realized (USD)\"\n",
    "]\n",
    "\n",
    "# Apply the new column order\n",
    "df = df[columns_order]\n",
    "\n",
    "# display to verify\n",
    "df\n"
   ]
  },
  {
   "cell_type": "code",
   "execution_count": 183,
   "id": "fef79642-3dce-4d32-9f70-4ff2f732cf0d",
   "metadata": {
    "scrolled": true
   },
   "outputs": [
    {
     "name": "stderr",
     "output_type": "stream",
     "text": [
      "/var/folders/1m/7n3mw1wj3ml7gf8rmsjswdrr0000gn/T/ipykernel_2031/708171887.py:12: SettingWithCopyWarning:\n",
      "\n",
      "\n",
      "A value is trying to be set on a copy of a slice from a DataFrame.\n",
      "Try using .loc[row_indexer,col_indexer] = value instead\n",
      "\n",
      "See the caveats in the documentation: https://pandas.pydata.org/pandas-docs/stable/user_guide/indexing.html#returning-a-view-versus-a-copy\n",
      "\n"
     ]
    },
    {
     "data": {
      "text/html": [
       "<div>\n",
       "<style scoped>\n",
       "    .dataframe tbody tr th:only-of-type {\n",
       "        vertical-align: middle;\n",
       "    }\n",
       "\n",
       "    .dataframe tbody tr th {\n",
       "        vertical-align: top;\n",
       "    }\n",
       "\n",
       "    .dataframe thead th {\n",
       "        text-align: right;\n",
       "    }\n",
       "</style>\n",
       "<table border=\"1\" class=\"dataframe\">\n",
       "  <thead>\n",
       "    <tr style=\"text-align: right;\">\n",
       "      <th></th>\n",
       "      <th>Lot</th>\n",
       "      <th>Description</th>\n",
       "      <th>Brand</th>\n",
       "      <th>Type</th>\n",
       "      <th>Year</th>\n",
       "      <th>Color</th>\n",
       "      <th>Leather</th>\n",
       "      <th>Hardware</th>\n",
       "      <th>Estimate (USD)</th>\n",
       "      <th>Lower Estimate (USD)</th>\n",
       "      <th>Higher Estimate (USD)</th>\n",
       "      <th>Price Realized (USD)</th>\n",
       "      <th>Price Category</th>\n",
       "    </tr>\n",
       "  </thead>\n",
       "  <tbody>\n",
       "    <tr>\n",
       "      <th>1</th>\n",
       "      <td>1</td>\n",
       "      <td>LIME EVERCOLOR LEATHER MINI ROULIS WITH PALLAD...</td>\n",
       "      <td>HERMÈS</td>\n",
       "      <td>Mini Roulis</td>\n",
       "      <td>2022</td>\n",
       "      <td>Green</td>\n",
       "      <td>Evercolor</td>\n",
       "      <td>Palladium</td>\n",
       "      <td>5100−7700</td>\n",
       "      <td>5100</td>\n",
       "      <td>7700</td>\n",
       "      <td>6100</td>\n",
       "      <td>Within Estimate</td>\n",
       "    </tr>\n",
       "    <tr>\n",
       "      <th>2</th>\n",
       "      <td>2</td>\n",
       "      <td>LIMITED EDITION LIME &amp; PEARL GRAY EPSOM LEATHE...</td>\n",
       "      <td>HERMÈS</td>\n",
       "      <td>Kelly 32, Limited Edition</td>\n",
       "      <td>2011</td>\n",
       "      <td>Yellow</td>\n",
       "      <td>Epsom</td>\n",
       "      <td>Palladium</td>\n",
       "      <td>7700−12800</td>\n",
       "      <td>7700</td>\n",
       "      <td>12800</td>\n",
       "      <td>9700</td>\n",
       "      <td>Within Estimate</td>\n",
       "    </tr>\n",
       "    <tr>\n",
       "      <th>3</th>\n",
       "      <td>3</td>\n",
       "      <td>LIMITED EDITION LIME &amp; PEARL GRAY EPSOM LEATHE...</td>\n",
       "      <td>HERMÈS</td>\n",
       "      <td>Birkin 35, Limited Edition</td>\n",
       "      <td>2011</td>\n",
       "      <td>Yellow</td>\n",
       "      <td>Epsom</td>\n",
       "      <td>Palladium</td>\n",
       "      <td>7700−12800</td>\n",
       "      <td>7700</td>\n",
       "      <td>12800</td>\n",
       "      <td>12100</td>\n",
       "      <td>Within Estimate</td>\n",
       "    </tr>\n",
       "    <tr>\n",
       "      <th>4</th>\n",
       "      <td>4</td>\n",
       "      <td>SHINY MIMOSA NILOTICUS LIZARD SMALL CONSTANCE ...</td>\n",
       "      <td>HERMÈS</td>\n",
       "      <td>Constance Wallet</td>\n",
       "      <td>2011</td>\n",
       "      <td>Yellow</td>\n",
       "      <td>Lizard</td>\n",
       "      <td>Palladium</td>\n",
       "      <td>2600−3800</td>\n",
       "      <td>2600</td>\n",
       "      <td>3800</td>\n",
       "      <td>2300</td>\n",
       "      <td>Below Estimate</td>\n",
       "    </tr>\n",
       "    <tr>\n",
       "      <th>5</th>\n",
       "      <td>5</td>\n",
       "      <td>NAPLES YELLOW EPSOM LEATHER CONSTANCE TO GO</td>\n",
       "      <td>HERMÈS</td>\n",
       "      <td>Constance To Go</td>\n",
       "      <td>2023</td>\n",
       "      <td>Yellow</td>\n",
       "      <td>Epsom</td>\n",
       "      <td>Gold</td>\n",
       "      <td>5100−7700</td>\n",
       "      <td>5100</td>\n",
       "      <td>7700</td>\n",
       "      <td>5600</td>\n",
       "      <td>Within Estimate</td>\n",
       "    </tr>\n",
       "    <tr>\n",
       "      <th>...</th>\n",
       "      <td>...</td>\n",
       "      <td>...</td>\n",
       "      <td>...</td>\n",
       "      <td>...</td>\n",
       "      <td>...</td>\n",
       "      <td>...</td>\n",
       "      <td>...</td>\n",
       "      <td>...</td>\n",
       "      <td>...</td>\n",
       "      <td>...</td>\n",
       "      <td>...</td>\n",
       "      <td>...</td>\n",
       "      <td>...</td>\n",
       "    </tr>\n",
       "    <tr>\n",
       "      <th>238</th>\n",
       "      <td>254</td>\n",
       "      <td>LIMITED EDITION PAINTED PUMPKIN MONOGRAM KEEPA...</td>\n",
       "      <td>LOUIS VUITTON</td>\n",
       "      <td>Keepall Bandoulière 45, Limited Edition</td>\n",
       "      <td>2023</td>\n",
       "      <td>Multi Color</td>\n",
       "      <td>Canvas</td>\n",
       "      <td>Gold</td>\n",
       "      <td>2600−3600</td>\n",
       "      <td>2600</td>\n",
       "      <td>3600</td>\n",
       "      <td>4800</td>\n",
       "      <td>Above Estimate</td>\n",
       "    </tr>\n",
       "    <tr>\n",
       "      <th>239</th>\n",
       "      <td>256</td>\n",
       "      <td>LIMITED EDITION BLACK TAURILLON LEATHER INFINI...</td>\n",
       "      <td>LOUIS VUITTON</td>\n",
       "      <td>Christopher Backpack MM, Limited Edition</td>\n",
       "      <td>2023</td>\n",
       "      <td>Black</td>\n",
       "      <td>Taurillon</td>\n",
       "      <td>Black</td>\n",
       "      <td>3800−5100</td>\n",
       "      <td>3800</td>\n",
       "      <td>5100</td>\n",
       "      <td>3500</td>\n",
       "      <td>Below Estimate</td>\n",
       "    </tr>\n",
       "    <tr>\n",
       "      <th>240</th>\n",
       "      <td>257</td>\n",
       "      <td>ABSOLUTE BLACK MONOGRAM TAURILLON LEATHER KEEP...</td>\n",
       "      <td>LOUIS VUITTON</td>\n",
       "      <td>Keepall Bandoulière 50</td>\n",
       "      <td>2019</td>\n",
       "      <td>Black</td>\n",
       "      <td>Taurillon</td>\n",
       "      <td>Black &amp; Orange</td>\n",
       "      <td>2600−3600</td>\n",
       "      <td>2600</td>\n",
       "      <td>3600</td>\n",
       "      <td>4200</td>\n",
       "      <td>Above Estimate</td>\n",
       "    </tr>\n",
       "    <tr>\n",
       "      <th>241</th>\n",
       "      <td>258</td>\n",
       "      <td>LIMITED EDITION BLACK EMPREINTE LEATHER TOTE B...</td>\n",
       "      <td>LOUIS VUITTON</td>\n",
       "      <td>Tote Bag, Limited Edition</td>\n",
       "      <td>2008</td>\n",
       "      <td>Black</td>\n",
       "      <td>Empreinte</td>\n",
       "      <td>Black</td>\n",
       "      <td>3800−5100</td>\n",
       "      <td>3800</td>\n",
       "      <td>5100</td>\n",
       "      <td>4800</td>\n",
       "      <td>Within Estimate</td>\n",
       "    </tr>\n",
       "    <tr>\n",
       "      <th>242</th>\n",
       "      <td>259</td>\n",
       "      <td>LIMITED EDITION PAINTED MONOGRAM COURRIER LOZI...</td>\n",
       "      <td>LOUIS VUITTON</td>\n",
       "      <td>Courrier Lozine Trunk 110, Limited Edition</td>\n",
       "      <td>2021</td>\n",
       "      <td>Multi Color</td>\n",
       "      <td>Canvas</td>\n",
       "      <td>Black</td>\n",
       "      <td>38400−51200</td>\n",
       "      <td>38400</td>\n",
       "      <td>51200</td>\n",
       "      <td>48400</td>\n",
       "      <td>Within Estimate</td>\n",
       "    </tr>\n",
       "  </tbody>\n",
       "</table>\n",
       "<p>242 rows × 13 columns</p>\n",
       "</div>"
      ],
      "text/plain": [
       "     Lot                                        Description          Brand  \\\n",
       "1      1  LIME EVERCOLOR LEATHER MINI ROULIS WITH PALLAD...         HERMÈS   \n",
       "2      2  LIMITED EDITION LIME & PEARL GRAY EPSOM LEATHE...         HERMÈS   \n",
       "3      3  LIMITED EDITION LIME & PEARL GRAY EPSOM LEATHE...         HERMÈS   \n",
       "4      4  SHINY MIMOSA NILOTICUS LIZARD SMALL CONSTANCE ...         HERMÈS   \n",
       "5      5        NAPLES YELLOW EPSOM LEATHER CONSTANCE TO GO         HERMÈS   \n",
       "..   ...                                                ...            ...   \n",
       "238  254  LIMITED EDITION PAINTED PUMPKIN MONOGRAM KEEPA...  LOUIS VUITTON   \n",
       "239  256  LIMITED EDITION BLACK TAURILLON LEATHER INFINI...  LOUIS VUITTON   \n",
       "240  257  ABSOLUTE BLACK MONOGRAM TAURILLON LEATHER KEEP...  LOUIS VUITTON   \n",
       "241  258  LIMITED EDITION BLACK EMPREINTE LEATHER TOTE B...  LOUIS VUITTON   \n",
       "242  259  LIMITED EDITION PAINTED MONOGRAM COURRIER LOZI...  LOUIS VUITTON   \n",
       "\n",
       "                                           Type  Year        Color    Leather  \\\n",
       "1                                   Mini Roulis  2022        Green  Evercolor   \n",
       "2                     Kelly 32, Limited Edition  2011       Yellow      Epsom   \n",
       "3                    Birkin 35, Limited Edition  2011       Yellow      Epsom   \n",
       "4                              Constance Wallet  2011       Yellow     Lizard   \n",
       "5                               Constance To Go  2023       Yellow      Epsom   \n",
       "..                                          ...   ...          ...        ...   \n",
       "238     Keepall Bandoulière 45, Limited Edition  2023  Multi Color     Canvas   \n",
       "239    Christopher Backpack MM, Limited Edition  2023        Black  Taurillon   \n",
       "240                      Keepall Bandoulière 50  2019        Black  Taurillon   \n",
       "241                   Tote Bag, Limited Edition  2008        Black  Empreinte   \n",
       "242  Courrier Lozine Trunk 110, Limited Edition  2021  Multi Color     Canvas   \n",
       "\n",
       "           Hardware Estimate (USD)  Lower Estimate (USD)  \\\n",
       "1         Palladium      5100−7700                  5100   \n",
       "2         Palladium     7700−12800                  7700   \n",
       "3         Palladium     7700−12800                  7700   \n",
       "4         Palladium      2600−3800                  2600   \n",
       "5              Gold      5100−7700                  5100   \n",
       "..              ...            ...                   ...   \n",
       "238            Gold      2600−3600                  2600   \n",
       "239           Black      3800−5100                  3800   \n",
       "240  Black & Orange      2600−3600                  2600   \n",
       "241           Black      3800−5100                  3800   \n",
       "242           Black    38400−51200                 38400   \n",
       "\n",
       "     Higher Estimate (USD)  Price Realized (USD)   Price Category  \n",
       "1                     7700                  6100  Within Estimate  \n",
       "2                    12800                  9700  Within Estimate  \n",
       "3                    12800                 12100  Within Estimate  \n",
       "4                     3800                  2300   Below Estimate  \n",
       "5                     7700                  5600  Within Estimate  \n",
       "..                     ...                   ...              ...  \n",
       "238                   3600                  4800   Above Estimate  \n",
       "239                   5100                  3500   Below Estimate  \n",
       "240                   3600                  4200   Above Estimate  \n",
       "241                   5100                  4800  Within Estimate  \n",
       "242                  51200                 48400  Within Estimate  \n",
       "\n",
       "[242 rows x 13 columns]"
      ]
     },
     "execution_count": 183,
     "metadata": {},
     "output_type": "execute_result"
    }
   ],
   "source": [
    "# Add a new column categorizing price based on how sale results compare to estimates\n",
    "def categorize_price(row):\n",
    "    if pd.isna(row['Price Realized (USD)']) or row['Price Realized (USD)'] == 0:\n",
    "        return 'No Sale' #If Price Realized is zero or nit mentioned display \"No Sale\"\n",
    "    elif row['Price Realized (USD)'] < row['Lower Estimate (USD)']:\n",
    "        return 'Below Estimate' #If Price Realized is under the lower estimate display \"Below Estimate\"\n",
    "    elif row['Price Realized (USD)'] > row['Higher Estimate (USD)']:\n",
    "        return 'Above Estimate' #If Price Realized is above the lower estimate display \"Above Estimate\"\n",
    "    else:\n",
    "        return 'Within Estimate' #If Price Realized is within the estimates display \"Within Estimate\"\n",
    "\n",
    "df['Price Category'] = df.apply(categorize_price, axis=1)\n",
    "# display dataframe\n",
    "df\n"
   ]
  },
  {
   "cell_type": "code",
   "execution_count": 184,
   "id": "b8511727-7954-4f7b-9b3f-b6d63d106511",
   "metadata": {},
   "outputs": [
    {
     "name": "stderr",
     "output_type": "stream",
     "text": [
      "/var/folders/1m/7n3mw1wj3ml7gf8rmsjswdrr0000gn/T/ipykernel_2031/403065320.py:2: SettingWithCopyWarning:\n",
      "\n",
      "\n",
      "A value is trying to be set on a copy of a slice from a DataFrame.\n",
      "Try using .loc[row_indexer,col_indexer] = value instead\n",
      "\n",
      "See the caveats in the documentation: https://pandas.pydata.org/pandas-docs/stable/user_guide/indexing.html#returning-a-view-versus-a-copy\n",
      "\n"
     ]
    },
    {
     "data": {
      "text/html": [
       "<div>\n",
       "<style scoped>\n",
       "    .dataframe tbody tr th:only-of-type {\n",
       "        vertical-align: middle;\n",
       "    }\n",
       "\n",
       "    .dataframe tbody tr th {\n",
       "        vertical-align: top;\n",
       "    }\n",
       "\n",
       "    .dataframe thead th {\n",
       "        text-align: right;\n",
       "    }\n",
       "</style>\n",
       "<table border=\"1\" class=\"dataframe\">\n",
       "  <thead>\n",
       "    <tr style=\"text-align: right;\">\n",
       "      <th></th>\n",
       "      <th>Lot</th>\n",
       "      <th>Description</th>\n",
       "      <th>Brand</th>\n",
       "      <th>Type</th>\n",
       "      <th>Year</th>\n",
       "      <th>Color</th>\n",
       "      <th>Leather</th>\n",
       "      <th>Hardware</th>\n",
       "      <th>Estimate (USD)</th>\n",
       "      <th>Lower Estimate (USD)</th>\n",
       "      <th>Higher Estimate (USD)</th>\n",
       "      <th>Price Realized (USD)</th>\n",
       "      <th>Price Category</th>\n",
       "      <th>Variance from Higher Estimate</th>\n",
       "    </tr>\n",
       "  </thead>\n",
       "  <tbody>\n",
       "    <tr>\n",
       "      <th>1</th>\n",
       "      <td>1</td>\n",
       "      <td>LIME EVERCOLOR LEATHER MINI ROULIS WITH PALLAD...</td>\n",
       "      <td>HERMÈS</td>\n",
       "      <td>Mini Roulis</td>\n",
       "      <td>2022</td>\n",
       "      <td>Green</td>\n",
       "      <td>Evercolor</td>\n",
       "      <td>Palladium</td>\n",
       "      <td>5100−7700</td>\n",
       "      <td>5100</td>\n",
       "      <td>7700</td>\n",
       "      <td>6100</td>\n",
       "      <td>Within Estimate</td>\n",
       "      <td>-1600</td>\n",
       "    </tr>\n",
       "    <tr>\n",
       "      <th>2</th>\n",
       "      <td>2</td>\n",
       "      <td>LIMITED EDITION LIME &amp; PEARL GRAY EPSOM LEATHE...</td>\n",
       "      <td>HERMÈS</td>\n",
       "      <td>Kelly 32, Limited Edition</td>\n",
       "      <td>2011</td>\n",
       "      <td>Yellow</td>\n",
       "      <td>Epsom</td>\n",
       "      <td>Palladium</td>\n",
       "      <td>7700−12800</td>\n",
       "      <td>7700</td>\n",
       "      <td>12800</td>\n",
       "      <td>9700</td>\n",
       "      <td>Within Estimate</td>\n",
       "      <td>-3100</td>\n",
       "    </tr>\n",
       "    <tr>\n",
       "      <th>3</th>\n",
       "      <td>3</td>\n",
       "      <td>LIMITED EDITION LIME &amp; PEARL GRAY EPSOM LEATHE...</td>\n",
       "      <td>HERMÈS</td>\n",
       "      <td>Birkin 35, Limited Edition</td>\n",
       "      <td>2011</td>\n",
       "      <td>Yellow</td>\n",
       "      <td>Epsom</td>\n",
       "      <td>Palladium</td>\n",
       "      <td>7700−12800</td>\n",
       "      <td>7700</td>\n",
       "      <td>12800</td>\n",
       "      <td>12100</td>\n",
       "      <td>Within Estimate</td>\n",
       "      <td>-700</td>\n",
       "    </tr>\n",
       "    <tr>\n",
       "      <th>4</th>\n",
       "      <td>4</td>\n",
       "      <td>SHINY MIMOSA NILOTICUS LIZARD SMALL CONSTANCE ...</td>\n",
       "      <td>HERMÈS</td>\n",
       "      <td>Constance Wallet</td>\n",
       "      <td>2011</td>\n",
       "      <td>Yellow</td>\n",
       "      <td>Lizard</td>\n",
       "      <td>Palladium</td>\n",
       "      <td>2600−3800</td>\n",
       "      <td>2600</td>\n",
       "      <td>3800</td>\n",
       "      <td>2300</td>\n",
       "      <td>Below Estimate</td>\n",
       "      <td>-1500</td>\n",
       "    </tr>\n",
       "    <tr>\n",
       "      <th>5</th>\n",
       "      <td>5</td>\n",
       "      <td>NAPLES YELLOW EPSOM LEATHER CONSTANCE TO GO</td>\n",
       "      <td>HERMÈS</td>\n",
       "      <td>Constance To Go</td>\n",
       "      <td>2023</td>\n",
       "      <td>Yellow</td>\n",
       "      <td>Epsom</td>\n",
       "      <td>Gold</td>\n",
       "      <td>5100−7700</td>\n",
       "      <td>5100</td>\n",
       "      <td>7700</td>\n",
       "      <td>5600</td>\n",
       "      <td>Within Estimate</td>\n",
       "      <td>-2100</td>\n",
       "    </tr>\n",
       "    <tr>\n",
       "      <th>...</th>\n",
       "      <td>...</td>\n",
       "      <td>...</td>\n",
       "      <td>...</td>\n",
       "      <td>...</td>\n",
       "      <td>...</td>\n",
       "      <td>...</td>\n",
       "      <td>...</td>\n",
       "      <td>...</td>\n",
       "      <td>...</td>\n",
       "      <td>...</td>\n",
       "      <td>...</td>\n",
       "      <td>...</td>\n",
       "      <td>...</td>\n",
       "      <td>...</td>\n",
       "    </tr>\n",
       "    <tr>\n",
       "      <th>238</th>\n",
       "      <td>254</td>\n",
       "      <td>LIMITED EDITION PAINTED PUMPKIN MONOGRAM KEEPA...</td>\n",
       "      <td>LOUIS VUITTON</td>\n",
       "      <td>Keepall Bandoulière 45, Limited Edition</td>\n",
       "      <td>2023</td>\n",
       "      <td>Multi Color</td>\n",
       "      <td>Canvas</td>\n",
       "      <td>Gold</td>\n",
       "      <td>2600−3600</td>\n",
       "      <td>2600</td>\n",
       "      <td>3600</td>\n",
       "      <td>4800</td>\n",
       "      <td>Above Estimate</td>\n",
       "      <td>1200</td>\n",
       "    </tr>\n",
       "    <tr>\n",
       "      <th>239</th>\n",
       "      <td>256</td>\n",
       "      <td>LIMITED EDITION BLACK TAURILLON LEATHER INFINI...</td>\n",
       "      <td>LOUIS VUITTON</td>\n",
       "      <td>Christopher Backpack MM, Limited Edition</td>\n",
       "      <td>2023</td>\n",
       "      <td>Black</td>\n",
       "      <td>Taurillon</td>\n",
       "      <td>Black</td>\n",
       "      <td>3800−5100</td>\n",
       "      <td>3800</td>\n",
       "      <td>5100</td>\n",
       "      <td>3500</td>\n",
       "      <td>Below Estimate</td>\n",
       "      <td>-1600</td>\n",
       "    </tr>\n",
       "    <tr>\n",
       "      <th>240</th>\n",
       "      <td>257</td>\n",
       "      <td>ABSOLUTE BLACK MONOGRAM TAURILLON LEATHER KEEP...</td>\n",
       "      <td>LOUIS VUITTON</td>\n",
       "      <td>Keepall Bandoulière 50</td>\n",
       "      <td>2019</td>\n",
       "      <td>Black</td>\n",
       "      <td>Taurillon</td>\n",
       "      <td>Black &amp; Orange</td>\n",
       "      <td>2600−3600</td>\n",
       "      <td>2600</td>\n",
       "      <td>3600</td>\n",
       "      <td>4200</td>\n",
       "      <td>Above Estimate</td>\n",
       "      <td>600</td>\n",
       "    </tr>\n",
       "    <tr>\n",
       "      <th>241</th>\n",
       "      <td>258</td>\n",
       "      <td>LIMITED EDITION BLACK EMPREINTE LEATHER TOTE B...</td>\n",
       "      <td>LOUIS VUITTON</td>\n",
       "      <td>Tote Bag, Limited Edition</td>\n",
       "      <td>2008</td>\n",
       "      <td>Black</td>\n",
       "      <td>Empreinte</td>\n",
       "      <td>Black</td>\n",
       "      <td>3800−5100</td>\n",
       "      <td>3800</td>\n",
       "      <td>5100</td>\n",
       "      <td>4800</td>\n",
       "      <td>Within Estimate</td>\n",
       "      <td>-300</td>\n",
       "    </tr>\n",
       "    <tr>\n",
       "      <th>242</th>\n",
       "      <td>259</td>\n",
       "      <td>LIMITED EDITION PAINTED MONOGRAM COURRIER LOZI...</td>\n",
       "      <td>LOUIS VUITTON</td>\n",
       "      <td>Courrier Lozine Trunk 110, Limited Edition</td>\n",
       "      <td>2021</td>\n",
       "      <td>Multi Color</td>\n",
       "      <td>Canvas</td>\n",
       "      <td>Black</td>\n",
       "      <td>38400−51200</td>\n",
       "      <td>38400</td>\n",
       "      <td>51200</td>\n",
       "      <td>48400</td>\n",
       "      <td>Within Estimate</td>\n",
       "      <td>-2800</td>\n",
       "    </tr>\n",
       "  </tbody>\n",
       "</table>\n",
       "<p>242 rows × 14 columns</p>\n",
       "</div>"
      ],
      "text/plain": [
       "     Lot                                        Description          Brand  \\\n",
       "1      1  LIME EVERCOLOR LEATHER MINI ROULIS WITH PALLAD...         HERMÈS   \n",
       "2      2  LIMITED EDITION LIME & PEARL GRAY EPSOM LEATHE...         HERMÈS   \n",
       "3      3  LIMITED EDITION LIME & PEARL GRAY EPSOM LEATHE...         HERMÈS   \n",
       "4      4  SHINY MIMOSA NILOTICUS LIZARD SMALL CONSTANCE ...         HERMÈS   \n",
       "5      5        NAPLES YELLOW EPSOM LEATHER CONSTANCE TO GO         HERMÈS   \n",
       "..   ...                                                ...            ...   \n",
       "238  254  LIMITED EDITION PAINTED PUMPKIN MONOGRAM KEEPA...  LOUIS VUITTON   \n",
       "239  256  LIMITED EDITION BLACK TAURILLON LEATHER INFINI...  LOUIS VUITTON   \n",
       "240  257  ABSOLUTE BLACK MONOGRAM TAURILLON LEATHER KEEP...  LOUIS VUITTON   \n",
       "241  258  LIMITED EDITION BLACK EMPREINTE LEATHER TOTE B...  LOUIS VUITTON   \n",
       "242  259  LIMITED EDITION PAINTED MONOGRAM COURRIER LOZI...  LOUIS VUITTON   \n",
       "\n",
       "                                           Type  Year        Color    Leather  \\\n",
       "1                                   Mini Roulis  2022        Green  Evercolor   \n",
       "2                     Kelly 32, Limited Edition  2011       Yellow      Epsom   \n",
       "3                    Birkin 35, Limited Edition  2011       Yellow      Epsom   \n",
       "4                              Constance Wallet  2011       Yellow     Lizard   \n",
       "5                               Constance To Go  2023       Yellow      Epsom   \n",
       "..                                          ...   ...          ...        ...   \n",
       "238     Keepall Bandoulière 45, Limited Edition  2023  Multi Color     Canvas   \n",
       "239    Christopher Backpack MM, Limited Edition  2023        Black  Taurillon   \n",
       "240                      Keepall Bandoulière 50  2019        Black  Taurillon   \n",
       "241                   Tote Bag, Limited Edition  2008        Black  Empreinte   \n",
       "242  Courrier Lozine Trunk 110, Limited Edition  2021  Multi Color     Canvas   \n",
       "\n",
       "           Hardware Estimate (USD)  Lower Estimate (USD)  \\\n",
       "1         Palladium      5100−7700                  5100   \n",
       "2         Palladium     7700−12800                  7700   \n",
       "3         Palladium     7700−12800                  7700   \n",
       "4         Palladium      2600−3800                  2600   \n",
       "5              Gold      5100−7700                  5100   \n",
       "..              ...            ...                   ...   \n",
       "238            Gold      2600−3600                  2600   \n",
       "239           Black      3800−5100                  3800   \n",
       "240  Black & Orange      2600−3600                  2600   \n",
       "241           Black      3800−5100                  3800   \n",
       "242           Black    38400−51200                 38400   \n",
       "\n",
       "     Higher Estimate (USD)  Price Realized (USD)   Price Category  \\\n",
       "1                     7700                  6100  Within Estimate   \n",
       "2                    12800                  9700  Within Estimate   \n",
       "3                    12800                 12100  Within Estimate   \n",
       "4                     3800                  2300   Below Estimate   \n",
       "5                     7700                  5600  Within Estimate   \n",
       "..                     ...                   ...              ...   \n",
       "238                   3600                  4800   Above Estimate   \n",
       "239                   5100                  3500   Below Estimate   \n",
       "240                   3600                  4200   Above Estimate   \n",
       "241                   5100                  4800  Within Estimate   \n",
       "242                  51200                 48400  Within Estimate   \n",
       "\n",
       "     Variance from Higher Estimate  \n",
       "1                            -1600  \n",
       "2                            -3100  \n",
       "3                             -700  \n",
       "4                            -1500  \n",
       "5                            -2100  \n",
       "..                             ...  \n",
       "238                           1200  \n",
       "239                          -1600  \n",
       "240                            600  \n",
       "241                           -300  \n",
       "242                          -2800  \n",
       "\n",
       "[242 rows x 14 columns]"
      ]
     },
     "execution_count": 184,
     "metadata": {},
     "output_type": "execute_result"
    }
   ],
   "source": [
    "# Add 'Variance from Estimate' column measuring price realized compared to the higher estimate\n",
    "df['Variance from Higher Estimate'] = df['Price Realized (USD)'] - df['Higher Estimate (USD)']\n",
    "#display dataframe\n",
    "df"
   ]
  },
  {
   "cell_type": "code",
   "execution_count": 185,
   "id": "c86648e4-7edc-493d-879b-bb63e24fbb5c",
   "metadata": {},
   "outputs": [
    {
     "name": "stderr",
     "output_type": "stream",
     "text": [
      "/var/folders/1m/7n3mw1wj3ml7gf8rmsjswdrr0000gn/T/ipykernel_2031/401750262.py:2: SettingWithCopyWarning:\n",
      "\n",
      "\n",
      "A value is trying to be set on a copy of a slice from a DataFrame.\n",
      "Try using .loc[row_indexer,col_indexer] = value instead\n",
      "\n",
      "See the caveats in the documentation: https://pandas.pydata.org/pandas-docs/stable/user_guide/indexing.html#returning-a-view-versus-a-copy\n",
      "\n"
     ]
    },
    {
     "data": {
      "text/html": [
       "<div>\n",
       "<style scoped>\n",
       "    .dataframe tbody tr th:only-of-type {\n",
       "        vertical-align: middle;\n",
       "    }\n",
       "\n",
       "    .dataframe tbody tr th {\n",
       "        vertical-align: top;\n",
       "    }\n",
       "\n",
       "    .dataframe thead th {\n",
       "        text-align: right;\n",
       "    }\n",
       "</style>\n",
       "<table border=\"1\" class=\"dataframe\">\n",
       "  <thead>\n",
       "    <tr style=\"text-align: right;\">\n",
       "      <th></th>\n",
       "      <th>Lot</th>\n",
       "      <th>Description</th>\n",
       "      <th>Brand</th>\n",
       "      <th>Type</th>\n",
       "      <th>Year</th>\n",
       "      <th>Color</th>\n",
       "      <th>Leather</th>\n",
       "      <th>Hardware</th>\n",
       "      <th>Estimate (USD)</th>\n",
       "      <th>Lower Estimate (USD)</th>\n",
       "      <th>Higher Estimate (USD)</th>\n",
       "      <th>Price Realized (USD)</th>\n",
       "      <th>Price Category</th>\n",
       "      <th>Variance from Higher Estimate</th>\n",
       "    </tr>\n",
       "  </thead>\n",
       "  <tbody>\n",
       "    <tr>\n",
       "      <th>1</th>\n",
       "      <td>1</td>\n",
       "      <td>LIME EVERCOLOR LEATHER MINI ROULIS WITH PALLAD...</td>\n",
       "      <td>HERMES</td>\n",
       "      <td>Mini Roulis</td>\n",
       "      <td>2022</td>\n",
       "      <td>Green</td>\n",
       "      <td>Evercolor</td>\n",
       "      <td>Palladium</td>\n",
       "      <td>5100−7700</td>\n",
       "      <td>5100</td>\n",
       "      <td>7700</td>\n",
       "      <td>6100</td>\n",
       "      <td>Within Estimate</td>\n",
       "      <td>-1600</td>\n",
       "    </tr>\n",
       "    <tr>\n",
       "      <th>2</th>\n",
       "      <td>2</td>\n",
       "      <td>LIMITED EDITION LIME &amp; PEARL GRAY EPSOM LEATHE...</td>\n",
       "      <td>HERMES</td>\n",
       "      <td>Kelly 32, Limited Edition</td>\n",
       "      <td>2011</td>\n",
       "      <td>Yellow</td>\n",
       "      <td>Epsom</td>\n",
       "      <td>Palladium</td>\n",
       "      <td>7700−12800</td>\n",
       "      <td>7700</td>\n",
       "      <td>12800</td>\n",
       "      <td>9700</td>\n",
       "      <td>Within Estimate</td>\n",
       "      <td>-3100</td>\n",
       "    </tr>\n",
       "    <tr>\n",
       "      <th>3</th>\n",
       "      <td>3</td>\n",
       "      <td>LIMITED EDITION LIME &amp; PEARL GRAY EPSOM LEATHE...</td>\n",
       "      <td>HERMES</td>\n",
       "      <td>Birkin 35, Limited Edition</td>\n",
       "      <td>2011</td>\n",
       "      <td>Yellow</td>\n",
       "      <td>Epsom</td>\n",
       "      <td>Palladium</td>\n",
       "      <td>7700−12800</td>\n",
       "      <td>7700</td>\n",
       "      <td>12800</td>\n",
       "      <td>12100</td>\n",
       "      <td>Within Estimate</td>\n",
       "      <td>-700</td>\n",
       "    </tr>\n",
       "    <tr>\n",
       "      <th>4</th>\n",
       "      <td>4</td>\n",
       "      <td>SHINY MIMOSA NILOTICUS LIZARD SMALL CONSTANCE ...</td>\n",
       "      <td>HERMES</td>\n",
       "      <td>Constance Wallet</td>\n",
       "      <td>2011</td>\n",
       "      <td>Yellow</td>\n",
       "      <td>Lizard</td>\n",
       "      <td>Palladium</td>\n",
       "      <td>2600−3800</td>\n",
       "      <td>2600</td>\n",
       "      <td>3800</td>\n",
       "      <td>2300</td>\n",
       "      <td>Below Estimate</td>\n",
       "      <td>-1500</td>\n",
       "    </tr>\n",
       "    <tr>\n",
       "      <th>5</th>\n",
       "      <td>5</td>\n",
       "      <td>NAPLES YELLOW EPSOM LEATHER CONSTANCE TO GO</td>\n",
       "      <td>HERMES</td>\n",
       "      <td>Constance To Go</td>\n",
       "      <td>2023</td>\n",
       "      <td>Yellow</td>\n",
       "      <td>Epsom</td>\n",
       "      <td>Gold</td>\n",
       "      <td>5100−7700</td>\n",
       "      <td>5100</td>\n",
       "      <td>7700</td>\n",
       "      <td>5600</td>\n",
       "      <td>Within Estimate</td>\n",
       "      <td>-2100</td>\n",
       "    </tr>\n",
       "    <tr>\n",
       "      <th>...</th>\n",
       "      <td>...</td>\n",
       "      <td>...</td>\n",
       "      <td>...</td>\n",
       "      <td>...</td>\n",
       "      <td>...</td>\n",
       "      <td>...</td>\n",
       "      <td>...</td>\n",
       "      <td>...</td>\n",
       "      <td>...</td>\n",
       "      <td>...</td>\n",
       "      <td>...</td>\n",
       "      <td>...</td>\n",
       "      <td>...</td>\n",
       "      <td>...</td>\n",
       "    </tr>\n",
       "    <tr>\n",
       "      <th>238</th>\n",
       "      <td>254</td>\n",
       "      <td>LIMITED EDITION PAINTED PUMPKIN MONOGRAM KEEPA...</td>\n",
       "      <td>LOUIS VUITTON</td>\n",
       "      <td>Keepall Bandoulière 45, Limited Edition</td>\n",
       "      <td>2023</td>\n",
       "      <td>Multi Color</td>\n",
       "      <td>Canvas</td>\n",
       "      <td>Gold</td>\n",
       "      <td>2600−3600</td>\n",
       "      <td>2600</td>\n",
       "      <td>3600</td>\n",
       "      <td>4800</td>\n",
       "      <td>Above Estimate</td>\n",
       "      <td>1200</td>\n",
       "    </tr>\n",
       "    <tr>\n",
       "      <th>239</th>\n",
       "      <td>256</td>\n",
       "      <td>LIMITED EDITION BLACK TAURILLON LEATHER INFINI...</td>\n",
       "      <td>LOUIS VUITTON</td>\n",
       "      <td>Christopher Backpack MM, Limited Edition</td>\n",
       "      <td>2023</td>\n",
       "      <td>Black</td>\n",
       "      <td>Taurillon</td>\n",
       "      <td>Black</td>\n",
       "      <td>3800−5100</td>\n",
       "      <td>3800</td>\n",
       "      <td>5100</td>\n",
       "      <td>3500</td>\n",
       "      <td>Below Estimate</td>\n",
       "      <td>-1600</td>\n",
       "    </tr>\n",
       "    <tr>\n",
       "      <th>240</th>\n",
       "      <td>257</td>\n",
       "      <td>ABSOLUTE BLACK MONOGRAM TAURILLON LEATHER KEEP...</td>\n",
       "      <td>LOUIS VUITTON</td>\n",
       "      <td>Keepall Bandoulière 50</td>\n",
       "      <td>2019</td>\n",
       "      <td>Black</td>\n",
       "      <td>Taurillon</td>\n",
       "      <td>Black &amp; Orange</td>\n",
       "      <td>2600−3600</td>\n",
       "      <td>2600</td>\n",
       "      <td>3600</td>\n",
       "      <td>4200</td>\n",
       "      <td>Above Estimate</td>\n",
       "      <td>600</td>\n",
       "    </tr>\n",
       "    <tr>\n",
       "      <th>241</th>\n",
       "      <td>258</td>\n",
       "      <td>LIMITED EDITION BLACK EMPREINTE LEATHER TOTE B...</td>\n",
       "      <td>LOUIS VUITTON</td>\n",
       "      <td>Tote Bag, Limited Edition</td>\n",
       "      <td>2008</td>\n",
       "      <td>Black</td>\n",
       "      <td>Empreinte</td>\n",
       "      <td>Black</td>\n",
       "      <td>3800−5100</td>\n",
       "      <td>3800</td>\n",
       "      <td>5100</td>\n",
       "      <td>4800</td>\n",
       "      <td>Within Estimate</td>\n",
       "      <td>-300</td>\n",
       "    </tr>\n",
       "    <tr>\n",
       "      <th>242</th>\n",
       "      <td>259</td>\n",
       "      <td>LIMITED EDITION PAINTED MONOGRAM COURRIER LOZI...</td>\n",
       "      <td>LOUIS VUITTON</td>\n",
       "      <td>Courrier Lozine Trunk 110, Limited Edition</td>\n",
       "      <td>2021</td>\n",
       "      <td>Multi Color</td>\n",
       "      <td>Canvas</td>\n",
       "      <td>Black</td>\n",
       "      <td>38400−51200</td>\n",
       "      <td>38400</td>\n",
       "      <td>51200</td>\n",
       "      <td>48400</td>\n",
       "      <td>Within Estimate</td>\n",
       "      <td>-2800</td>\n",
       "    </tr>\n",
       "  </tbody>\n",
       "</table>\n",
       "<p>242 rows × 14 columns</p>\n",
       "</div>"
      ],
      "text/plain": [
       "     Lot                                        Description          Brand  \\\n",
       "1      1  LIME EVERCOLOR LEATHER MINI ROULIS WITH PALLAD...         HERMES   \n",
       "2      2  LIMITED EDITION LIME & PEARL GRAY EPSOM LEATHE...         HERMES   \n",
       "3      3  LIMITED EDITION LIME & PEARL GRAY EPSOM LEATHE...         HERMES   \n",
       "4      4  SHINY MIMOSA NILOTICUS LIZARD SMALL CONSTANCE ...         HERMES   \n",
       "5      5        NAPLES YELLOW EPSOM LEATHER CONSTANCE TO GO         HERMES   \n",
       "..   ...                                                ...            ...   \n",
       "238  254  LIMITED EDITION PAINTED PUMPKIN MONOGRAM KEEPA...  LOUIS VUITTON   \n",
       "239  256  LIMITED EDITION BLACK TAURILLON LEATHER INFINI...  LOUIS VUITTON   \n",
       "240  257  ABSOLUTE BLACK MONOGRAM TAURILLON LEATHER KEEP...  LOUIS VUITTON   \n",
       "241  258  LIMITED EDITION BLACK EMPREINTE LEATHER TOTE B...  LOUIS VUITTON   \n",
       "242  259  LIMITED EDITION PAINTED MONOGRAM COURRIER LOZI...  LOUIS VUITTON   \n",
       "\n",
       "                                           Type  Year        Color    Leather  \\\n",
       "1                                   Mini Roulis  2022        Green  Evercolor   \n",
       "2                     Kelly 32, Limited Edition  2011       Yellow      Epsom   \n",
       "3                    Birkin 35, Limited Edition  2011       Yellow      Epsom   \n",
       "4                              Constance Wallet  2011       Yellow     Lizard   \n",
       "5                               Constance To Go  2023       Yellow      Epsom   \n",
       "..                                          ...   ...          ...        ...   \n",
       "238     Keepall Bandoulière 45, Limited Edition  2023  Multi Color     Canvas   \n",
       "239    Christopher Backpack MM, Limited Edition  2023        Black  Taurillon   \n",
       "240                      Keepall Bandoulière 50  2019        Black  Taurillon   \n",
       "241                   Tote Bag, Limited Edition  2008        Black  Empreinte   \n",
       "242  Courrier Lozine Trunk 110, Limited Edition  2021  Multi Color     Canvas   \n",
       "\n",
       "           Hardware Estimate (USD)  Lower Estimate (USD)  \\\n",
       "1         Palladium      5100−7700                  5100   \n",
       "2         Palladium     7700−12800                  7700   \n",
       "3         Palladium     7700−12800                  7700   \n",
       "4         Palladium      2600−3800                  2600   \n",
       "5              Gold      5100−7700                  5100   \n",
       "..              ...            ...                   ...   \n",
       "238            Gold      2600−3600                  2600   \n",
       "239           Black      3800−5100                  3800   \n",
       "240  Black & Orange      2600−3600                  2600   \n",
       "241           Black      3800−5100                  3800   \n",
       "242           Black    38400−51200                 38400   \n",
       "\n",
       "     Higher Estimate (USD)  Price Realized (USD)   Price Category  \\\n",
       "1                     7700                  6100  Within Estimate   \n",
       "2                    12800                  9700  Within Estimate   \n",
       "3                    12800                 12100  Within Estimate   \n",
       "4                     3800                  2300   Below Estimate   \n",
       "5                     7700                  5600  Within Estimate   \n",
       "..                     ...                   ...              ...   \n",
       "238                   3600                  4800   Above Estimate   \n",
       "239                   5100                  3500   Below Estimate   \n",
       "240                   3600                  4200   Above Estimate   \n",
       "241                   5100                  4800  Within Estimate   \n",
       "242                  51200                 48400  Within Estimate   \n",
       "\n",
       "     Variance from Higher Estimate  \n",
       "1                            -1600  \n",
       "2                            -3100  \n",
       "3                             -700  \n",
       "4                            -1500  \n",
       "5                            -2100  \n",
       "..                             ...  \n",
       "238                           1200  \n",
       "239                          -1600  \n",
       "240                            600  \n",
       "241                           -300  \n",
       "242                          -2800  \n",
       "\n",
       "[242 rows x 14 columns]"
      ]
     },
     "execution_count": 185,
     "metadata": {},
     "output_type": "execute_result"
    }
   ],
   "source": [
    "#remove the french acent from the word Hermes in the brand column\n",
    "df['Brand'] = df['Brand'].str.upper().str.strip().replace({'HERMÈS': 'HERMES'})\n",
    "#display dataframe\n",
    "df"
   ]
  },
  {
   "cell_type": "code",
   "execution_count": 186,
   "id": "0d026823-50ef-42b4-bbda-6affd095eb2c",
   "metadata": {},
   "outputs": [],
   "source": [
    "#Save the new dataframe in the repository\n",
    "df.to_csv(\"../Project3-Luxurybags/Cleaned_Enhanced_Luxury_Bag_Data.csv\", index=False)\n"
   ]
  },
  {
   "cell_type": "markdown",
   "id": "44de37af",
   "metadata": {},
   "source": [
    "## PART 2 : Creating the Sqlite database: luxury_hadbag_auctions.sqlite\n",
    "### Adding the ChristiesHK_Mar25 dataframe to the database. "
   ]
  },
  {
   "cell_type": "code",
   "execution_count": 187,
   "id": "110b8c91-589f-45db-88c2-73e05d95d8ec",
   "metadata": {},
   "outputs": [
    {
     "name": "stdout",
     "output_type": "stream",
     "text": [
      "   Lot                                        Description   Brand  \\\n",
      "0    1  LIME EVERCOLOR LEATHER MINI ROULIS WITH PALLAD...  HERMES   \n",
      "1    2  LIMITED EDITION LIME & PEARL GRAY EPSOM LEATHE...  HERMES   \n",
      "2    3  LIMITED EDITION LIME & PEARL GRAY EPSOM LEATHE...  HERMES   \n",
      "3    4  SHINY MIMOSA NILOTICUS LIZARD SMALL CONSTANCE ...  HERMES   \n",
      "4    5        NAPLES YELLOW EPSOM LEATHER CONSTANCE TO GO  HERMES   \n",
      "\n",
      "                         Type  Year   Color    Leather   Hardware  \\\n",
      "0                 Mini Roulis  2022   Green  Evercolor  Palladium   \n",
      "1   Kelly 32, Limited Edition  2011  Yellow      Epsom  Palladium   \n",
      "2  Birkin 35, Limited Edition  2011  Yellow      Epsom  Palladium   \n",
      "3            Constance Wallet  2011  Yellow     Lizard  Palladium   \n",
      "4             Constance To Go  2023  Yellow      Epsom       Gold   \n",
      "\n",
      "  Estimate (USD)  Lower Estimate (USD)  Higher Estimate (USD)  \\\n",
      "0      5100−7700                  5100                   7700   \n",
      "1     7700−12800                  7700                  12800   \n",
      "2     7700−12800                  7700                  12800   \n",
      "3      2600−3800                  2600                   3800   \n",
      "4      5100−7700                  5100                   7700   \n",
      "\n",
      "   Price Realized (USD)   Price Category  Variance from Higher Estimate  \n",
      "0                  6100  Within Estimate                          -1600  \n",
      "1                  9700  Within Estimate                          -3100  \n",
      "2                 12100  Within Estimate                           -700  \n",
      "3                  2300   Below Estimate                          -1500  \n",
      "4                  5600  Within Estimate                          -2100  \n"
     ]
    }
   ],
   "source": [
    "import sqlite3\n",
    "\n",
    "#Connect or create SQLite database\n",
    "conn=sqlite3.connect(\"luxury_handbag_auctions.sqlite\")\n",
    "\n",
    "#Save Dataframe as a table\n",
    "df.to_sql(\"ChristiesHK_Mar25\",conn, if_exists=\"replace\", index=False)\n",
    "\n",
    "#test:show first few rows\n",
    "print(pd.read_sql(\"SELECT * FROM ChristiesHK_Mar25 LIMIT 5\", conn))"
   ]
  },
  {
   "cell_type": "markdown",
   "id": "c3a2dc8c",
   "metadata": {},
   "source": [
    "## PART 3 : VISUALIZATIONS"
   ]
  },
  {
   "cell_type": "markdown",
   "id": "585298b1",
   "metadata": {},
   "source": [
    "### VISUALIZATIONS 1 : General Sale Performance\n",
    "a - Sale Total\\\n",
    "b - MATPLOTLIB SEABORN Bar Chart 1: Auction Performance: Lot Sales Relative to Estimates: DF : Price_Category_Estimates\\\n",
    "c- MATPLOTLIB SEABORN Bar Chart 2: Top 10 Sales: DF:  Top10Sales"
   ]
  },
  {
   "cell_type": "markdown",
   "id": "91445698",
   "metadata": {},
   "source": [
    "#### a- Sale Total"
   ]
  },
  {
   "cell_type": "code",
   "execution_count": 188,
   "id": "7f38ed32",
   "metadata": {},
   "outputs": [
    {
     "name": "stdout",
     "output_type": "stream",
     "text": [
      "Total Price Realized (USD): $3,557,200.00\n"
     ]
    }
   ],
   "source": [
    "# a- SALE TOTAL\n",
    "\n",
    "#Calculate total price realized \n",
    "\n",
    "# Query the sum directly from the database (faster for large datasets)\n",
    "total_sum = pd.read_sql(\n",
    "    \"SELECT SUM([Price Realized (USD)]) as Total_Sum FROM ChristiesHK_Mar25\", \n",
    "    conn\n",
    ")[\"Total_Sum\"][0]  # Extract the sum value\n",
    "\n",
    "print(f\"Total Price Realized (USD): ${total_sum:,.2f}\")  # Format with commas"
   ]
  },
  {
   "cell_type": "markdown",
   "id": "6b44386e",
   "metadata": {},
   "source": [
    "#### b - Auction Performance: LOT SALES RELATIVE TO ESTIMATES"
   ]
  },
  {
   "cell_type": "code",
   "execution_count": 189,
   "id": "c6e898ed",
   "metadata": {},
   "outputs": [
    {
     "name": "stdout",
     "output_type": "stream",
     "text": [
      "Price Category Estimates Table:\n",
      "    Price Category  Number of Bags\n",
      "0   Above Estimate             106\n",
      "1   Below Estimate              21\n",
      "2          No Sale              12\n",
      "3  Within Estimate             103\n"
     ]
    },
    {
     "name": "stderr",
     "output_type": "stream",
     "text": [
      "/var/folders/1m/7n3mw1wj3ml7gf8rmsjswdrr0000gn/T/ipykernel_2031/1128276224.py:30: FutureWarning:\n",
      "\n",
      "\n",
      "\n",
      "Passing `palette` without assigning `hue` is deprecated and will be removed in v0.14.0. Assign the `x` variable to `hue` and set `legend=False` for the same effect.\n",
      "\n",
      "\n"
     ]
    },
    {
     "data": {
      "image/png": "[encoded data removed]",
      "text/plain": [
       "<Figure size 800x500 with 1 Axes>"
      ]
     },
     "metadata": {},
     "output_type": "display_data"
    }
   ],
   "source": [
    "### b - Auction Performance: LOT SALES RELATIVE TO ESTIMATES\n",
    "\n",
    "# CCREATE TABLE \n",
    "# Query to get Price Category counts (same logic as the plot)\n",
    "query = \"\"\"\n",
    "    SELECT \n",
    "        `Price Category`, \n",
    "        COUNT(*) AS \"Number of Bags\" \n",
    "    FROM ChristiesHK_Mar25\n",
    "    GROUP BY `Price Category`\n",
    "    ORDER BY `Price Category`\n",
    "\"\"\"\n",
    "price_category_table = pd.read_sql(query, conn)\n",
    "\n",
    "#SAVE THE TABLE IN THE DATABASE\n",
    "price_category_table.to_sql(\n",
    "    \"Price_Category_Estimates\",  # Table name\n",
    "    conn,\n",
    "    if_exists=\"replace\",     # Overwrite if table exists\n",
    "    index=False              # Don't save the index as a column\n",
    ")\n",
    "\n",
    "# Display the table\n",
    "print(\"Price Category Estimates Table:\")\n",
    "print(price_category_table)\n",
    "\n",
    "# PLOT THE BAR CHART\n",
    "# Use Matplotlib and Seaborn PLOT SALES RELATIVE TO ESTIMATES bar chart\n",
    "plt.figure(figsize=(8,5))\n",
    "ax = sns.countplot(data=df, x='Price Category', palette='coolwarm')\n",
    "\n",
    "plt.title(\"LOT SALES RELATIVE TO ESTIMATES\") # add title\n",
    "plt.ylabel(\"Number of Bags\") # add labels\n",
    "plt.xlabel(\"Estimate\")\n",
    "\n",
    "# Add counts on top of each bar\n",
    "for p in ax.patches:\n",
    "    ax.annotate(f'{int(p.get_height())}', \n",
    "                (p.get_x() + p.get_width() / 2., p.get_height()), \n",
    "                ha='center', va='center', \n",
    "                xytext=(0, 5), \n",
    "                textcoords='offset points')\n",
    "\n",
    "# Display chart\n",
    "plt.show()\n"
   ]
  },
  {
   "cell_type": "markdown",
   "id": "8ab94aee",
   "metadata": {},
   "source": [
    "#### c- MATPLOTLIB SEABORN BarChart 2: TOP 10 SALES : DF : Top10Sales"
   ]
  },
  {
   "cell_type": "code",
   "execution_count": 190,
   "id": "142ca185",
   "metadata": {},
   "outputs": [],
   "source": [
    "## c- MATPLOTLIB SEABORN CBar Chart 2: Top 10 Sales \n",
    "\n",
    "# CREATE THE TABLE using sqlite \n",
    "# Create a cursor object\n",
    "cursor = conn.cursor()\n",
    "\n",
    "# Execute SQL query to get top 10 sales and save as a new table\n",
    "cursor.execute(\"\"\"\n",
    "    CREATE TABLE IF NOT EXISTS Top10Sales AS\n",
    "    SELECT \n",
    "        Brand, \n",
    "        Description, \n",
    "        [Price Realized (USD)],\n",
    "        Brand || ' — ' || Description AS [Bag Label]\n",
    "    FROM ChristiesHK_Mar25\n",
    "    ORDER BY [Price Realized (USD)] DESC\n",
    "    LIMIT 10\n",
    "\"\"\")\n",
    "\n",
    "#SAVE TABLE TO DATABASE\n",
    "# Commit the changes\n",
    "conn.commit()\n",
    "\n",
    "# Set the style (optional)\n",
    "sns.set_theme(style=\"whitegrid\")"
   ]
  },
  {
   "cell_type": "code",
   "execution_count": 191,
   "id": "f73031bb",
   "metadata": {},
   "outputs": [
    {
     "name": "stderr",
     "output_type": "stream",
     "text": [
      "/var/folders/1m/7n3mw1wj3ml7gf8rmsjswdrr0000gn/T/ipykernel_2031/328089180.py:4: FutureWarning:\n",
      "\n",
      "\n",
      "\n",
      "Passing `palette` without assigning `hue` is deprecated and will be removed in v0.14.0. Assign the `y` variable to `hue` and set `legend=False` for the same effect.\n",
      "\n",
      "\n"
     ]
    },
    {
     "data": {
      "image/png": "[encoded data removed]",
      "text/plain": [
       "<Figure size 1600x600 with 1 Axes>"
      ]
     },
     "metadata": {},
     "output_type": "display_data"
    }
   ],
   "source": [
    "# Create the BAr Chart Representing the Top 10 Sales \n",
    "#  Create the plot\n",
    "plt.figure(figsize=(16, 6))\n",
    "ax = sns.barplot(\n",
    "    data=top_10_sales,\n",
    "    y='Bag Label',\n",
    "    x='Price Realized (USD)',\n",
    "    palette='crest'\n",
    ")\n",
    "\n",
    "# Add dollar amounts at the end of each bar\n",
    "for p in ax.patches:\n",
    "    width = p.get_width()\n",
    "    ax.text(width + 0.01 * max(top_10_sales['Price Realized (USD)']),  # x-position (slightly right of bar)\n",
    "            p.get_y() + p.get_height() / 2,                             # y-position (middle of bar)\n",
    "            f'${width:,.0f}',                                           # Formatted text\n",
    "            ha='left', va='center', fontsize=12)\n",
    "\n",
    "# Customize the plot\n",
    "plt.title(\"TOP 10 MOST EXPENSIVE HANDBAGS\", pad=20)\n",
    "plt.xlabel(\"Price Realized (USD)\")\n",
    "plt.ylabel(\"Lot\")\n",
    "plt.tight_layout()\n",
    "\n",
    "# Show the plot\n",
    "plt.show()"
   ]
  },
  {
   "cell_type": "markdown",
   "id": "6e7a9043",
   "metadata": {},
   "source": []
  },
  {
   "cell_type": "code",
   "execution_count": null,
   "id": "cb643890",
   "metadata": {},
   "outputs": [],
   "source": [
    "FIX THIS "
   ]
  },
  {
   "cell_type": "code",
   "execution_count": 192,
   "id": "88f551fd",
   "metadata": {},
   "outputs": [
    {
     "data": {
      "application/vnd.plotly.v1+json": {
       "config": {
        "plotlyServerURL": "https://plot.ly"
       },
       "data": [
        {
         "alignmentgroup": "True",
         "customdata": [
          [
           "LIMITED EDITION RASPBERRY SWIFT LEATHER & OSIER PICNIC BIRKIN 25"
          ],
          [
           "SHINY SHADED SALVATOR LIZARD & DARK GREEN MINI VERSO MOSAÏQUE 17"
          ],
          [
           "LIMITED EDITION SHINY BLACK NILOTICUS CROCODILE SO BLACK GOODLOCK CLUTCH"
          ],
          [
           "LIMITED EDITION BLACK CALF BOX LEATHER CLOUTÉ MINI KELLY 20 II"
          ],
          [
           "LIMITED EDITION ULTRAVIOLET, LINEN BLUE, TIN, DARK BLUE, ÉTOUPE & INDIAN BROWN CLEMENCE LEATHER HARLEQUIN BIRKIN 35"
          ],
          [
           "ORANGE EPSOM LEATHER BOLIDE 27"
          ]
         ],
         "hovertemplate": "Brand=HERMES<br>Lot=%{x}<br>Estimate (USD)=%{text}<br>Description=%{customdata[0]}<extra></extra>",
         "legendgroup": "HERMES",
         "marker": {
          "color": "#636efa",
          "pattern": {
           "shape": ""
          }
         },
         "name": "HERMES",
         "offsetgroup": "HERMES",
         "orientation": "h",
         "showlegend": true,
         "text": [
          "44800−57600",
          "6400−10200",
          "5100−7700",
          "38400−51200",
          "7700−12800",
          "5100−7700"
         ],
         "textposition": "outside",
         "texttemplate": "$%{text:,.0f}",
         "type": "bar",
         "x": [
          64,
          90,
          101,
          107,
          183,
          205
         ],
         "xaxis": "x",
         "y": [
          "44800−57600",
          "6400−10200",
          "5100−7700",
          "38400−51200",
          "7700−12800",
          "5100−7700"
         ],
         "yaxis": "y"
        },
        {
         "alignmentgroup": "True",
         "customdata": [
          [
           "METALLIC SILVER CAMELLIA POCHETTE"
          ],
          [
           "METALLIC PURPLE CAVIAR LEATHER MEDIUM BOY BAG"
          ],
          [
           "BLUE QUILTED SATIN & METALLIC GOLD LAMBSKIN LEATHER WALLET ON CHAIN"
          ],
          [
           "WHITE QUILTED COATED TWEED WALLET ON CHAIN"
          ],
          [
           "GREY QUILTED LAMBSKIN LEATHER WALLET ON CHAIN"
          ],
          [
           "DARK SILVER CALFSKIN LEATHER HALF MOON CLUTCH"
          ]
         ],
         "hovertemplate": "Brand=CHANEL<br>Lot=%{x}<br>Estimate (USD)=%{text}<br>Description=%{customdata[0]}<extra></extra>",
         "legendgroup": "CHANEL",
         "marker": {
          "color": "#EF553B",
          "pattern": {
           "shape": ""
          }
         },
         "name": "CHANEL",
         "offsetgroup": "CHANEL",
         "orientation": "h",
         "showlegend": true,
         "text": [
          "2000−3100",
          "2600−3800",
          "2000−3100",
          "2000−3100",
          "2000−3100",
          "1500−2300"
         ],
         "textposition": "outside",
         "texttemplate": "$%{text:,.0f}",
         "type": "bar",
         "x": [
          228,
          231,
          232,
          238,
          239,
          240
         ],
         "xaxis": "x",
         "y": [
          "2000−3100",
          "2600−3800",
          "2000−3100",
          "2000−3100",
          "2000−3100",
          "1500−2300"
         ],
         "yaxis": "y"
        }
       ],
       "layout": {
        "barmode": "relative",
        "hovermode": "closest",
        "legend": {
         "title": {
          "text": "Brand"
         },
         "tracegroupgap": 0
        },
        "template": {
         "data": {
          "bar": [
           {
            "error_x": {
             "color": "#2a3f5f"
            },
            "error_y": {
             "color": "#2a3f5f"
            },
            "marker": {
             "line": {
              "color": "#E5ECF6",
              "width": 0.5
             },
             "pattern": {
              "fillmode": "overlay",
              "size": 10,
              "solidity": 0.2
             }
            },
            "type": "bar"
           }
          ],
          "barpolar": [
           {
            "marker": {
             "line": {
              "color": "#E5ECF6",
              "width": 0.5
             },
             "pattern": {
              "fillmode": "overlay",
              "size": 10,
              "solidity": 0.2
             }
            },
            "type": "barpolar"
           }
          ],
          "carpet": [
           {
            "aaxis": {
             "endlinecolor": "#2a3f5f",
             "gridcolor": "white",
             "linecolor": "white",
             "minorgridcolor": "white",
             "startlinecolor": "#2a3f5f"
            },
            "baxis": {
             "endlinecolor": "#2a3f5f",
             "gridcolor": "white",
             "linecolor": "white",
             "minorgridcolor": "white",
             "startlinecolor": "#2a3f5f"
            },
            "type": "carpet"
           }
          ],
          "choropleth": [
           {
            "colorbar": {
             "outlinewidth": 0,
             "ticks": ""
            },
            "type": "choropleth"
           }
          ],
          "contour": [
           {
            "colorbar": {
             "outlinewidth": 0,
             "ticks": ""
            },
            "colorscale": [
             [
              0,
              "#0d0887"
             ],
             [
              0.1111111111111111,
              "#46039f"
             ],
             [
              0.2222222222222222,
              "#7201a8"
             ],
             [
              0.3333333333333333,
              "#9c179e"
             ],
             [
              0.4444444444444444,
              "#bd3786"
             ],
             [
              0.5555555555555556,
              "#d8576b"
             ],
             [
              0.6666666666666666,
              "#ed7953"
             ],
             [
              0.7777777777777778,
              "#fb9f3a"
             ],
             [
              0.8888888888888888,
              "#fdca26"
             ],
             [
              1,
              "#f0f921"
             ]
            ],
            "type": "contour"
           }
          ],
          "contourcarpet": [
           {
            "colorbar": {
             "outlinewidth": 0,
             "ticks": ""
            },
            "type": "contourcarpet"
           }
          ],
          "heatmap": [
           {
            "colorbar": {
             "outlinewidth": 0,
             "ticks": ""
            },
            "colorscale": [
             [
              0,
              "#0d0887"
             ],
             [
              0.1111111111111111,
              "#46039f"
             ],
             [
              0.2222222222222222,
              "#7201a8"
             ],
             [
              0.3333333333333333,
              "#9c179e"
             ],
             [
              0.4444444444444444,
              "#bd3786"
             ],
             [
              0.5555555555555556,
              "#d8576b"
             ],
             [
              0.6666666666666666,
              "#ed7953"
             ],
             [
              0.7777777777777778,
              "#fb9f3a"
             ],
             [
              0.8888888888888888,
              "#fdca26"
             ],
             [
              1,
              "#f0f921"
             ]
            ],
            "type": "heatmap"
           }
          ],
          "heatmapgl": [
           {
            "colorbar": {
             "outlinewidth": 0,
             "ticks": ""
            },
            "colorscale": [
             [
              0,
              "#0d0887"
             ],
             [
              0.1111111111111111,
              "#46039f"
             ],
             [
              0.2222222222222222,
              "#7201a8"
             ],
             [
              0.3333333333333333,
              "#9c179e"
             ],
             [
              0.4444444444444444,
              "#bd3786"
             ],
             [
              0.5555555555555556,
              "#d8576b"
             ],
             [
              0.6666666666666666,
              "#ed7953"
             ],
             [
              0.7777777777777778,
              "#fb9f3a"
             ],
             [
              0.8888888888888888,
              "#fdca26"
             ],
             [
              1,
              "#f0f921"
             ]
            ],
            "type": "heatmapgl"
           }
          ],
          "histogram": [
           {
            "marker": {
             "pattern": {
              "fillmode": "overlay",
              "size": 10,
              "solidity": 0.2
             }
            },
            "type": "histogram"
           }
          ],
          "histogram2d": [
           {
            "colorbar": {
             "outlinewidth": 0,
             "ticks": ""
            },
            "colorscale": [
             [
              0,
              "#0d0887"
             ],
             [
              0.1111111111111111,
              "#46039f"
             ],
             [
              0.2222222222222222,
              "#7201a8"
             ],
             [
              0.3333333333333333,
              "#9c179e"
             ],
             [
              0.4444444444444444,
              "#bd3786"
             ],
             [
              0.5555555555555556,
              "#d8576b"
             ],
             [
              0.6666666666666666,
              "#ed7953"
             ],
             [
              0.7777777777777778,
              "#fb9f3a"
             ],
             [
              0.8888888888888888,
              "#fdca26"
             ],
             [
              1,
              "#f0f921"
             ]
            ],
            "type": "histogram2d"
           }
          ],
          "histogram2dcontour": [
           {
            "colorbar": {
             "outlinewidth": 0,
             "ticks": ""
            },
            "colorscale": [
             [
              0,
              "#0d0887"
             ],
             [
              0.1111111111111111,
              "#46039f"
             ],
             [
              0.2222222222222222,
              "#7201a8"
             ],
             [
              0.3333333333333333,
              "#9c179e"
             ],
             [
              0.4444444444444444,
              "#bd3786"
             ],
             [
              0.5555555555555556,
              "#d8576b"
             ],
             [
              0.6666666666666666,
              "#ed7953"
             ],
             [
              0.7777777777777778,
              "#fb9f3a"
             ],
             [
              0.8888888888888888,
              "#fdca26"
             ],
             [
              1,
              "#f0f921"
             ]
            ],
            "type": "histogram2dcontour"
           }
          ],
          "mesh3d": [
           {
            "colorbar": {
             "outlinewidth": 0,
             "ticks": ""
            },
            "type": "mesh3d"
           }
          ],
          "parcoords": [
           {
            "line": {
             "colorbar": {
              "outlinewidth": 0,
              "ticks": ""
             }
            },
            "type": "parcoords"
           }
          ],
          "pie": [
           {
            "automargin": true,
            "type": "pie"
           }
          ],
          "scatter": [
           {
            "fillpattern": {
             "fillmode": "overlay",
             "size": 10,
             "solidity": 0.2
            },
            "type": "scatter"
           }
          ],
          "scatter3d": [
           {
            "line": {
             "colorbar": {
              "outlinewidth": 0,
              "ticks": ""
             }
            },
            "marker": {
             "colorbar": {
              "outlinewidth": 0,
              "ticks": ""
             }
            },
            "type": "scatter3d"
           }
          ],
          "scattercarpet": [
           {
            "marker": {
             "colorbar": {
              "outlinewidth": 0,
              "ticks": ""
             }
            },
            "type": "scattercarpet"
           }
          ],
          "scattergeo": [
           {
            "marker": {
             "colorbar": {
              "outlinewidth": 0,
              "ticks": ""
             }
            },
            "type": "scattergeo"
           }
          ],
          "scattergl": [
           {
            "marker": {
             "colorbar": {
              "outlinewidth": 0,
              "ticks": ""
             }
            },
            "type": "scattergl"
           }
          ],
          "scattermapbox": [
           {
            "marker": {
             "colorbar": {
              "outlinewidth": 0,
              "ticks": ""
             }
            },
            "type": "scattermapbox"
           }
          ],
          "scatterpolar": [
           {
            "marker": {
             "colorbar": {
              "outlinewidth": 0,
              "ticks": ""
             }
            },
            "type": "scatterpolar"
           }
          ],
          "scatterpolargl": [
           {
            "marker": {
             "colorbar": {
              "outlinewidth": 0,
              "ticks": ""
             }
            },
            "type": "scatterpolargl"
           }
          ],
          "scatterternary": [
           {
            "marker": {
             "colorbar": {
              "outlinewidth": 0,
              "ticks": ""
             }
            },
            "type": "scatterternary"
           }
          ],
          "surface": [
           {
            "colorbar": {
             "outlinewidth": 0,
             "ticks": ""
            },
            "colorscale": [
             [
              0,
              "#0d0887"
             ],
             [
              0.1111111111111111,
              "#46039f"
             ],
             [
              0.2222222222222222,
              "#7201a8"
             ],
             [
              0.3333333333333333,
              "#9c179e"
             ],
             [
              0.4444444444444444,
              "#bd3786"
             ],
             [
              0.5555555555555556,
              "#d8576b"
             ],
             [
              0.6666666666666666,
              "#ed7953"
             ],
             [
              0.7777777777777778,
              "#fb9f3a"
             ],
             [
              0.8888888888888888,
              "#fdca26"
             ],
             [
              1,
              "#f0f921"
             ]
            ],
            "type": "surface"
           }
          ],
          "table": [
           {
            "cells": {
             "fill": {
              "color": "#EBF0F8"
             },
             "line": {
              "color": "white"
             }
            },
            "header": {
             "fill": {
              "color": "#C8D4E3"
             },
             "line": {
              "color": "white"
             }
            },
            "type": "table"
           }
          ]
         },
         "layout": {
          "annotationdefaults": {
           "arrowcolor": "#2a3f5f",
           "arrowhead": 0,
           "arrowwidth": 1
          },
          "autotypenumbers": "strict",
          "coloraxis": {
           "colorbar": {
            "outlinewidth": 0,
            "ticks": ""
           }
          },
          "colorscale": {
           "diverging": [
            [
             0,
             "#8e0152"
            ],
            [
             0.1,
             "#c51b7d"
            ],
            [
             0.2,
             "#de77ae"
            ],
            [
             0.3,
             "#f1b6da"
            ],
            [
             0.4,
             "#fde0ef"
            ],
            [
             0.5,
             "#f7f7f7"
            ],
            [
             0.6,
             "#e6f5d0"
            ],
            [
             0.7,
             "#b8e186"
            ],
            [
             0.8,
             "#7fbc41"
            ],
            [
             0.9,
             "#4d9221"
            ],
            [
             1,
             "#276419"
            ]
           ],
           "sequential": [
            [
             0,
             "#0d0887"
            ],
            [
             0.1111111111111111,
             "#46039f"
            ],
            [
             0.2222222222222222,
             "#7201a8"
            ],
            [
             0.3333333333333333,
             "#9c179e"
            ],
            [
             0.4444444444444444,
             "#bd3786"
            ],
            [
             0.5555555555555556,
             "#d8576b"
            ],
            [
             0.6666666666666666,
             "#ed7953"
            ],
            [
             0.7777777777777778,
             "#fb9f3a"
            ],
            [
             0.8888888888888888,
             "#fdca26"
            ],
            [
             1,
             "#f0f921"
            ]
           ],
           "sequentialminus": [
            [
             0,
             "#0d0887"
            ],
            [
             0.1111111111111111,
             "#46039f"
            ],
            [
             0.2222222222222222,
             "#7201a8"
            ],
            [
             0.3333333333333333,
             "#9c179e"
            ],
            [
             0.4444444444444444,
             "#bd3786"
            ],
            [
             0.5555555555555556,
             "#d8576b"
            ],
            [
             0.6666666666666666,
             "#ed7953"
            ],
            [
             0.7777777777777778,
             "#fb9f3a"
            ],
            [
             0.8888888888888888,
             "#fdca26"
            ],
            [
             1,
             "#f0f921"
            ]
           ]
          },
          "colorway": [
           "#636efa",
           "#EF553B",
           "#00cc96",
           "#ab63fa",
           "#FFA15A",
           "#19d3f3",
           "#FF6692",
           "#B6E880",
           "#FF97FF",
           "#FECB52"
          ],
          "font": {
           "color": "#2a3f5f"
          },
          "geo": {
           "bgcolor": "white",
           "lakecolor": "white",
           "landcolor": "#E5ECF6",
           "showlakes": true,
           "showland": true,
           "subunitcolor": "white"
          },
          "hoverlabel": {
           "align": "left"
          },
          "hovermode": "closest",
          "mapbox": {
           "style": "light"
          },
          "paper_bgcolor": "white",
          "plot_bgcolor": "#E5ECF6",
          "polar": {
           "angularaxis": {
            "gridcolor": "white",
            "linecolor": "white",
            "ticks": ""
           },
           "bgcolor": "#E5ECF6",
           "radialaxis": {
            "gridcolor": "white",
            "linecolor": "white",
            "ticks": ""
           }
          },
          "scene": {
           "xaxis": {
            "backgroundcolor": "#E5ECF6",
            "gridcolor": "white",
            "gridwidth": 2,
            "linecolor": "white",
            "showbackground": true,
            "ticks": "",
            "zerolinecolor": "white"
           },
           "yaxis": {
            "backgroundcolor": "#E5ECF6",
            "gridcolor": "white",
            "gridwidth": 2,
            "linecolor": "white",
            "showbackground": true,
            "ticks": "",
            "zerolinecolor": "white"
           },
           "zaxis": {
            "backgroundcolor": "#E5ECF6",
            "gridcolor": "white",
            "gridwidth": 2,
            "linecolor": "white",
            "showbackground": true,
            "ticks": "",
            "zerolinecolor": "white"
           }
          },
          "shapedefaults": {
           "line": {
            "color": "#2a3f5f"
           }
          },
          "ternary": {
           "aaxis": {
            "gridcolor": "white",
            "linecolor": "white",
            "ticks": ""
           },
           "baxis": {
            "gridcolor": "white",
            "linecolor": "white",
            "ticks": ""
           },
           "bgcolor": "#E5ECF6",
           "caxis": {
            "gridcolor": "white",
            "linecolor": "white",
            "ticks": ""
           }
          },
          "title": {
           "x": 0.05
          },
          "xaxis": {
           "automargin": true,
           "gridcolor": "white",
           "linecolor": "white",
           "ticks": "",
           "title": {
            "standoff": 15
           },
           "zerolinecolor": "white",
           "zerolinewidth": 2
          },
          "yaxis": {
           "automargin": true,
           "gridcolor": "white",
           "linecolor": "white",
           "ticks": "",
           "title": {
            "standoff": 15
           },
           "zerolinecolor": "white",
           "zerolinewidth": 2
          }
         }
        },
        "title": {
         "text": "Unsold Auction Items"
        },
        "xaxis": {
         "anchor": "y",
         "domain": [
          0,
          1
         ],
         "title": {
          "text": "Lot Number"
         }
        },
        "yaxis": {
         "anchor": "x",
         "domain": [
          0,
          1
         ],
         "tickformat": ",.0f",
         "tickprefix": "$",
         "title": {
          "text": "Estimate (USD)"
         }
        }
       }
      }
     },
     "metadata": {},
     "output_type": "display_data"
    }
   ],
   "source": [
    "# Method 2: Pandas DataFrame (nicer display)\n",
    "zero_price_df = pd.read_sql(\"\"\"\n",
    "    SELECT \n",
    "        \"Lot\",\n",
    "        Brand,\n",
    "        Description, \n",
    "        \"Estimate (USD)\"\n",
    "    FROM ChristiesHK_Mar25\n",
    "    WHERE \"Price Realized (USD)\" = 0\n",
    "    ORDER BY \"Lot Number\"\n",
    "\"\"\", conn)\n",
    "\n",
    "zero_price_df\n",
    "fig = px.bar(zero_price_df,\n",
    "             x='Lot',\n",
    "             y='Estimate (USD)',\n",
    "             color='Brand',\n",
    "             hover_data=['Description'],\n",
    "             title='Unsold Auction Items',\n",
    "             text='Estimate (USD)')\n",
    "\n",
    "fig.update_layout(\n",
    "    hovermode='closest',\n",
    "    xaxis_title='Lot Number',\n",
    "    yaxis_title='Estimate (USD)',\n",
    "    yaxis_tickprefix='$',\n",
    "    yaxis_tickformat=',.0f'\n",
    ")\n",
    "\n",
    "fig.update_traces(texttemplate='$%{text:,.0f}', textposition='outside')\n",
    "fig.show()"
   ]
  },
  {
   "cell_type": "markdown",
   "id": "ef354933",
   "metadata": {},
   "source": [
    "### VISUALIZATIONS 2 : General Sale Results by BRAND \n",
    "a - PLOTLY Barchart 1: TOTAL SALES BY BRAND : DF : brand_sale_total \\\n",
    "b - ALTAIR Barchart 2: AVERAGE SALES BY BRAND : DF : Brand_Average_Prices"
   ]
  },
  {
   "cell_type": "markdown",
   "id": "b400afef",
   "metadata": {},
   "source": [
    "#### a- Plotly library to visualize the TOTAL SALES BY BRAND"
   ]
  },
  {
   "cell_type": "code",
   "execution_count": 193,
   "id": "54b85a6a",
   "metadata": {},
   "outputs": [
    {
     "data": {
      "text/plain": [
       "3"
      ]
     },
     "execution_count": 193,
     "metadata": {},
     "output_type": "execute_result"
    }
   ],
   "source": [
    "# a- Using Plotly to viualize the TOTAL SALES BY BRAND\n",
    "\n",
    "# CREATING TABLE\n",
    "# Read data from the database table\n",
    "df = pd.read_sql(\"SELECT * FROM ChristiesHK_Mar25\", conn)\n",
    "# Calculate sum of sales per brand\n",
    "brand_sale_total = df.groupby(\"Brand\")[\"Price Realized (USD)\"].sum().reset_index()\n",
    "\n",
    "\n",
    "# SAVING TABLE\n",
    "# Save the brand_sale_total dataframe to the database\n",
    "brand_sale_total.to_sql(\"Brand_Sale_Total\", conn, if_exists=\"replace\", index=False)"
   ]
  },
  {
   "cell_type": "code",
   "execution_count": 194,
   "id": "02a19810",
   "metadata": {},
   "outputs": [
    {
     "data": {
      "application/vnd.plotly.v1+json": {
       "config": {
        "plotlyServerURL": "https://plot.ly"
       },
       "data": [
        {
         "alignmentgroup": "True",
         "hovertemplate": "Brand=%{x}<br>Total Sales (USD)=%{text}<extra></extra>",
         "legendgroup": "CHANEL",
         "marker": {
          "color": "#636efa",
          "pattern": {
           "shape": ""
          }
         },
         "name": "CHANEL",
         "offsetgroup": "CHANEL",
         "orientation": "v",
         "showlegend": true,
         "text": [
          82400
         ],
         "textposition": "outside",
         "texttemplate": "$%{text:,.2f}",
         "type": "bar",
         "x": [
          "CHANEL"
         ],
         "xaxis": "x",
         "y": [
          82400
         ],
         "yaxis": "y"
        },
        {
         "alignmentgroup": "True",
         "hovertemplate": "Brand=%{x}<br>Total Sales (USD)=%{text}<extra></extra>",
         "legendgroup": "HERMES",
         "marker": {
          "color": "#EF553B",
          "pattern": {
           "shape": ""
          }
         },
         "name": "HERMES",
         "offsetgroup": "HERMES",
         "orientation": "v",
         "showlegend": true,
         "text": [
          3400600
         ],
         "textposition": "outside",
         "texttemplate": "$%{text:,.2f}",
         "type": "bar",
         "x": [
          "HERMES"
         ],
         "xaxis": "x",
         "y": [
          3400600
         ],
         "yaxis": "y"
        },
        {
         "alignmentgroup": "True",
         "hovertemplate": "Brand=%{x}<br>Total Sales (USD)=%{text}<extra></extra>",
         "legendgroup": "LOUIS VUITTON",
         "marker": {
          "color": "#00cc96",
          "pattern": {
           "shape": ""
          }
         },
         "name": "LOUIS VUITTON",
         "offsetgroup": "LOUIS VUITTON",
         "orientation": "v",
         "showlegend": true,
         "text": [
          74200
         ],
         "textposition": "outside",
         "texttemplate": "$%{text:,.2f}",
         "type": "bar",
         "x": [
          "LOUIS VUITTON"
         ],
         "xaxis": "x",
         "y": [
          74200
         ],
         "yaxis": "y"
        }
       ],
       "layout": {
        "barmode": "relative",
        "legend": {
         "title": {
          "text": "Brand"
         },
         "tracegroupgap": 0
        },
        "template": {
         "data": {
          "bar": [
           {
            "error_x": {
             "color": "#2a3f5f"
            },
            "error_y": {
             "color": "#2a3f5f"
            },
            "marker": {
             "line": {
              "color": "#E5ECF6",
              "width": 0.5
             },
             "pattern": {
              "fillmode": "overlay",
              "size": 10,
              "solidity": 0.2
             }
            },
            "type": "bar"
           }
          ],
          "barpolar": [
           {
            "marker": {
             "line": {
              "color": "#E5ECF6",
              "width": 0.5
             },
             "pattern": {
              "fillmode": "overlay",
              "size": 10,
              "solidity": 0.2
             }
            },
            "type": "barpolar"
           }
          ],
          "carpet": [
           {
            "aaxis": {
             "endlinecolor": "#2a3f5f",
             "gridcolor": "white",
             "linecolor": "white",
             "minorgridcolor": "white",
             "startlinecolor": "#2a3f5f"
            },
            "baxis": {
             "endlinecolor": "#2a3f5f",
             "gridcolor": "white",
             "linecolor": "white",
             "minorgridcolor": "white",
             "startlinecolor": "#2a3f5f"
            },
            "type": "carpet"
           }
          ],
          "choropleth": [
           {
            "colorbar": {
             "outlinewidth": 0,
             "ticks": ""
            },
            "type": "choropleth"
           }
          ],
          "contour": [
           {
            "colorbar": {
             "outlinewidth": 0,
             "ticks": ""
            },
            "colorscale": [
             [
              0,
              "#0d0887"
             ],
             [
              0.1111111111111111,
              "#46039f"
             ],
             [
              0.2222222222222222,
              "#7201a8"
             ],
             [
              0.3333333333333333,
              "#9c179e"
             ],
             [
              0.4444444444444444,
              "#bd3786"
             ],
             [
              0.5555555555555556,
              "#d8576b"
             ],
             [
              0.6666666666666666,
              "#ed7953"
             ],
             [
              0.7777777777777778,
              "#fb9f3a"
             ],
             [
              0.8888888888888888,
              "#fdca26"
             ],
             [
              1,
              "#f0f921"
             ]
            ],
            "type": "contour"
           }
          ],
          "contourcarpet": [
           {
            "colorbar": {
             "outlinewidth": 0,
             "ticks": ""
            },
            "type": "contourcarpet"
           }
          ],
          "heatmap": [
           {
            "colorbar": {
             "outlinewidth": 0,
             "ticks": ""
            },
            "colorscale": [
             [
              0,
              "#0d0887"
             ],
             [
              0.1111111111111111,
              "#46039f"
             ],
             [
              0.2222222222222222,
              "#7201a8"
             ],
             [
              0.3333333333333333,
              "#9c179e"
             ],
             [
              0.4444444444444444,
              "#bd3786"
             ],
             [
              0.5555555555555556,
              "#d8576b"
             ],
             [
              0.6666666666666666,
              "#ed7953"
             ],
             [
              0.7777777777777778,
              "#fb9f3a"
             ],
             [
              0.8888888888888888,
              "#fdca26"
             ],
             [
              1,
              "#f0f921"
             ]
            ],
            "type": "heatmap"
           }
          ],
          "heatmapgl": [
           {
            "colorbar": {
             "outlinewidth": 0,
             "ticks": ""
            },
            "colorscale": [
             [
              0,
              "#0d0887"
             ],
             [
              0.1111111111111111,
              "#46039f"
             ],
             [
              0.2222222222222222,
              "#7201a8"
             ],
             [
              0.3333333333333333,
              "#9c179e"
             ],
             [
              0.4444444444444444,
              "#bd3786"
             ],
             [
              0.5555555555555556,
              "#d8576b"
             ],
             [
              0.6666666666666666,
              "#ed7953"
             ],
             [
              0.7777777777777778,
              "#fb9f3a"
             ],
             [
              0.8888888888888888,
              "#fdca26"
             ],
             [
              1,
              "#f0f921"
             ]
            ],
            "type": "heatmapgl"
           }
          ],
          "histogram": [
           {
            "marker": {
             "pattern": {
              "fillmode": "overlay",
              "size": 10,
              "solidity": 0.2
             }
            },
            "type": "histogram"
           }
          ],
          "histogram2d": [
           {
            "colorbar": {
             "outlinewidth": 0,
             "ticks": ""
            },
            "colorscale": [
             [
              0,
              "#0d0887"
             ],
             [
              0.1111111111111111,
              "#46039f"
             ],
             [
              0.2222222222222222,
              "#7201a8"
             ],
             [
              0.3333333333333333,
              "#9c179e"
             ],
             [
              0.4444444444444444,
              "#bd3786"
             ],
             [
              0.5555555555555556,
              "#d8576b"
             ],
             [
              0.6666666666666666,
              "#ed7953"
             ],
             [
              0.7777777777777778,
              "#fb9f3a"
             ],
             [
              0.8888888888888888,
              "#fdca26"
             ],
             [
              1,
              "#f0f921"
             ]
            ],
            "type": "histogram2d"
           }
          ],
          "histogram2dcontour": [
           {
            "colorbar": {
             "outlinewidth": 0,
             "ticks": ""
            },
            "colorscale": [
             [
              0,
              "#0d0887"
             ],
             [
              0.1111111111111111,
              "#46039f"
             ],
             [
              0.2222222222222222,
              "#7201a8"
             ],
             [
              0.3333333333333333,
              "#9c179e"
             ],
             [
              0.4444444444444444,
              "#bd3786"
             ],
             [
              0.5555555555555556,
              "#d8576b"
             ],
             [
              0.6666666666666666,
              "#ed7953"
             ],
             [
              0.7777777777777778,
              "#fb9f3a"
             ],
             [
              0.8888888888888888,
              "#fdca26"
             ],
             [
              1,
              "#f0f921"
             ]
            ],
            "type": "histogram2dcontour"
           }
          ],
          "mesh3d": [
           {
            "colorbar": {
             "outlinewidth": 0,
             "ticks": ""
            },
            "type": "mesh3d"
           }
          ],
          "parcoords": [
           {
            "line": {
             "colorbar": {
              "outlinewidth": 0,
              "ticks": ""
             }
            },
            "type": "parcoords"
           }
          ],
          "pie": [
           {
            "automargin": true,
            "type": "pie"
           }
          ],
          "scatter": [
           {
            "fillpattern": {
             "fillmode": "overlay",
             "size": 10,
             "solidity": 0.2
            },
            "type": "scatter"
           }
          ],
          "scatter3d": [
           {
            "line": {
             "colorbar": {
              "outlinewidth": 0,
              "ticks": ""
             }
            },
            "marker": {
             "colorbar": {
              "outlinewidth": 0,
              "ticks": ""
             }
            },
            "type": "scatter3d"
           }
          ],
          "scattercarpet": [
           {
            "marker": {
             "colorbar": {
              "outlinewidth": 0,
              "ticks": ""
             }
            },
            "type": "scattercarpet"
           }
          ],
          "scattergeo": [
           {
            "marker": {
             "colorbar": {
              "outlinewidth": 0,
              "ticks": ""
             }
            },
            "type": "scattergeo"
           }
          ],
          "scattergl": [
           {
            "marker": {
             "colorbar": {
              "outlinewidth": 0,
              "ticks": ""
             }
            },
            "type": "scattergl"
           }
          ],
          "scattermapbox": [
           {
            "marker": {
             "colorbar": {
              "outlinewidth": 0,
              "ticks": ""
             }
            },
            "type": "scattermapbox"
           }
          ],
          "scatterpolar": [
           {
            "marker": {
             "colorbar": {
              "outlinewidth": 0,
              "ticks": ""
             }
            },
            "type": "scatterpolar"
           }
          ],
          "scatterpolargl": [
           {
            "marker": {
             "colorbar": {
              "outlinewidth": 0,
              "ticks": ""
             }
            },
            "type": "scatterpolargl"
           }
          ],
          "scatterternary": [
           {
            "marker": {
             "colorbar": {
              "outlinewidth": 0,
              "ticks": ""
             }
            },
            "type": "scatterternary"
           }
          ],
          "surface": [
           {
            "colorbar": {
             "outlinewidth": 0,
             "ticks": ""
            },
            "colorscale": [
             [
              0,
              "#0d0887"
             ],
             [
              0.1111111111111111,
              "#46039f"
             ],
             [
              0.2222222222222222,
              "#7201a8"
             ],
             [
              0.3333333333333333,
              "#9c179e"
             ],
             [
              0.4444444444444444,
              "#bd3786"
             ],
             [
              0.5555555555555556,
              "#d8576b"
             ],
             [
              0.6666666666666666,
              "#ed7953"
             ],
             [
              0.7777777777777778,
              "#fb9f3a"
             ],
             [
              0.8888888888888888,
              "#fdca26"
             ],
             [
              1,
              "#f0f921"
             ]
            ],
            "type": "surface"
           }
          ],
          "table": [
           {
            "cells": {
             "fill": {
              "color": "#EBF0F8"
             },
             "line": {
              "color": "white"
             }
            },
            "header": {
             "fill": {
              "color": "#C8D4E3"
             },
             "line": {
              "color": "white"
             }
            },
            "type": "table"
           }
          ]
         },
         "layout": {
          "annotationdefaults": {
           "arrowcolor": "#2a3f5f",
           "arrowhead": 0,
           "arrowwidth": 1
          },
          "autotypenumbers": "strict",
          "coloraxis": {
           "colorbar": {
            "outlinewidth": 0,
            "ticks": ""
           }
          },
          "colorscale": {
           "diverging": [
            [
             0,
             "#8e0152"
            ],
            [
             0.1,
             "#c51b7d"
            ],
            [
             0.2,
             "#de77ae"
            ],
            [
             0.3,
             "#f1b6da"
            ],
            [
             0.4,
             "#fde0ef"
            ],
            [
             0.5,
             "#f7f7f7"
            ],
            [
             0.6,
             "#e6f5d0"
            ],
            [
             0.7,
             "#b8e186"
            ],
            [
             0.8,
             "#7fbc41"
            ],
            [
             0.9,
             "#4d9221"
            ],
            [
             1,
             "#276419"
            ]
           ],
           "sequential": [
            [
             0,
             "#0d0887"
            ],
            [
             0.1111111111111111,
             "#46039f"
            ],
            [
             0.2222222222222222,
             "#7201a8"
            ],
            [
             0.3333333333333333,
             "#9c179e"
            ],
            [
             0.4444444444444444,
             "#bd3786"
            ],
            [
             0.5555555555555556,
             "#d8576b"
            ],
            [
             0.6666666666666666,
             "#ed7953"
            ],
            [
             0.7777777777777778,
             "#fb9f3a"
            ],
            [
             0.8888888888888888,
             "#fdca26"
            ],
            [
             1,
             "#f0f921"
            ]
           ],
           "sequentialminus": [
            [
             0,
             "#0d0887"
            ],
            [
             0.1111111111111111,
             "#46039f"
            ],
            [
             0.2222222222222222,
             "#7201a8"
            ],
            [
             0.3333333333333333,
             "#9c179e"
            ],
            [
             0.4444444444444444,
             "#bd3786"
            ],
            [
             0.5555555555555556,
             "#d8576b"
            ],
            [
             0.6666666666666666,
             "#ed7953"
            ],
            [
             0.7777777777777778,
             "#fb9f3a"
            ],
            [
             0.8888888888888888,
             "#fdca26"
            ],
            [
             1,
             "#f0f921"
            ]
           ]
          },
          "colorway": [
           "#636efa",
           "#EF553B",
           "#00cc96",
           "#ab63fa",
           "#FFA15A",
           "#19d3f3",
           "#FF6692",
           "#B6E880",
           "#FF97FF",
           "#FECB52"
          ],
          "font": {
           "color": "#2a3f5f"
          },
          "geo": {
           "bgcolor": "white",
           "lakecolor": "white",
           "landcolor": "#E5ECF6",
           "showlakes": true,
           "showland": true,
           "subunitcolor": "white"
          },
          "hoverlabel": {
           "align": "left"
          },
          "hovermode": "closest",
          "mapbox": {
           "style": "light"
          },
          "paper_bgcolor": "white",
          "plot_bgcolor": "#E5ECF6",
          "polar": {
           "angularaxis": {
            "gridcolor": "white",
            "linecolor": "white",
            "ticks": ""
           },
           "bgcolor": "#E5ECF6",
           "radialaxis": {
            "gridcolor": "white",
            "linecolor": "white",
            "ticks": ""
           }
          },
          "scene": {
           "xaxis": {
            "backgroundcolor": "#E5ECF6",
            "gridcolor": "white",
            "gridwidth": 2,
            "linecolor": "white",
            "showbackground": true,
            "ticks": "",
            "zerolinecolor": "white"
           },
           "yaxis": {
            "backgroundcolor": "#E5ECF6",
            "gridcolor": "white",
            "gridwidth": 2,
            "linecolor": "white",
            "showbackground": true,
            "ticks": "",
            "zerolinecolor": "white"
           },
           "zaxis": {
            "backgroundcolor": "#E5ECF6",
            "gridcolor": "white",
            "gridwidth": 2,
            "linecolor": "white",
            "showbackground": true,
            "ticks": "",
            "zerolinecolor": "white"
           }
          },
          "shapedefaults": {
           "line": {
            "color": "#2a3f5f"
           }
          },
          "ternary": {
           "aaxis": {
            "gridcolor": "white",
            "linecolor": "white",
            "ticks": ""
           },
           "baxis": {
            "gridcolor": "white",
            "linecolor": "white",
            "ticks": ""
           },
           "bgcolor": "#E5ECF6",
           "caxis": {
            "gridcolor": "white",
            "linecolor": "white",
            "ticks": ""
           }
          },
          "title": {
           "x": 0.05
          },
          "xaxis": {
           "automargin": true,
           "gridcolor": "white",
           "linecolor": "white",
           "ticks": "",
           "title": {
            "standoff": 15
           },
           "zerolinecolor": "white",
           "zerolinewidth": 2
          },
          "yaxis": {
           "automargin": true,
           "gridcolor": "white",
           "linecolor": "white",
           "ticks": "",
           "title": {
            "standoff": 15
           },
           "zerolinecolor": "white",
           "zerolinewidth": 2
          }
         }
        },
        "title": {
         "text": "TOTAL SALES BY BRAND"
        },
        "xaxis": {
         "anchor": "y",
         "categoryarray": [
          "CHANEL",
          "HERMES",
          "LOUIS VUITTON"
         ],
         "categoryorder": "array",
         "domain": [
          0,
          1
         ],
         "tickangle": 0,
         "title": {
          "text": "Brand"
         }
        },
        "yaxis": {
         "anchor": "x",
         "domain": [
          0,
          1
         ],
         "range": [
          0,
          4000000
         ],
         "tickformat": ",",
         "tickprefix": "$",
         "title": {
          "text": "Total Sales (USD)"
         }
        }
       }
      }
     },
     "metadata": {},
     "output_type": "display_data"
    }
   ],
   "source": [
    "# PLOTTING the TOTAL SALES BY BRAND CHART\n",
    "# Create an interactive bar chart\n",
    "fig = px.bar(\n",
    "    brand_sale_total, \n",
    "    x=\"Brand\", \n",
    "    y=\"Price Realized (USD)\", \n",
    "    text=\"Price Realized (USD)\", \n",
    "    title=\"TOTAL SALES BY BRAND\",\n",
    "    labels={\"Price Realized (USD)\": \"Total Sales (USD)\"},\n",
    "    color=\"Brand\",\n",
    ")\n",
    "# Customize layout\n",
    "fig.update_traces(\n",
    "    texttemplate='$%{text:,.2f}',  # Format as currency with commas\n",
    "    textposition='outside'\n",
    ")\n",
    "fig.update_layout(\n",
    "    xaxis_tickangle=0, \n",
    "    yaxis_title=\"Total Sales (USD)\", \n",
    "    xaxis_title=\"Brand\",\n",
    "    yaxis_range=[0, 4000000],  # Set y-axis range from 0 to 4 million\n",
    "    # Optional: Format y-axis ticks as dollar amounts\n",
    "    yaxis_tickprefix=\"$\",\n",
    "    yaxis_tickformat=\",\",  # Adds comma separators\n",
    ")\n",
    "\n",
    "# Show the interactive chart\n",
    "fig.show()"
   ]
  },
  {
   "cell_type": "markdown",
   "id": "0896bb31",
   "metadata": {},
   "source": [
    "#### b- Altair library to visualize the AVERAGE PRICE BY BRAND"
   ]
  },
  {
   "cell_type": "code",
   "execution_count": 195,
   "id": "6694879d",
   "metadata": {},
   "outputs": [
    {
     "name": "stdout",
     "output_type": "stream",
     "text": [
      "Average price per brand\n"
     ]
    },
    {
     "name": "stderr",
     "output_type": "stream",
     "text": [
      "/opt/anaconda3/lib/python3.12/site-packages/altair/utils/core.py:395: FutureWarning:\n",
      "\n",
      "the convert_dtype parameter is deprecated and will be removed in a future version.  Do ``ser.astype(object).apply()`` instead if you want ``convert_dtype=False``.\n",
      "\n"
     ]
    },
    {
     "data": {
      "text/html": [
       "\n",
       "<style>\n",
       "  #altair-viz-8f63aa3525c3400c8bd3a3de708fe98b.vega-embed {\n",
       "    width: 100%;\n",
       "    display: flex;\n",
       "  }\n",
       "\n",
       "  #altair-viz-8f63aa3525c3400c8bd3a3de708fe98b.vega-embed details,\n",
       "  #altair-viz-8f63aa3525c3400c8bd3a3de708fe98b.vega-embed details summary {\n",
       "    position: relative;\n",
       "  }\n",
       "</style>\n",
       "<div id=\"altair-viz-8f63aa3525c3400c8bd3a3de708fe98b\"></div>\n",
       "<script type=\"text/javascript\">\n",
       "  var VEGA_DEBUG = (typeof VEGA_DEBUG == \"undefined\") ? {} : VEGA_DEBUG;\n",
       "  (function(spec, embedOpt){\n",
       "    let outputDiv = document.currentScript.previousElementSibling;\n",
       "    if (outputDiv.id !== \"altair-viz-8f63aa3525c3400c8bd3a3de708fe98b\") {\n",
       "      outputDiv = document.getElementById(\"altair-viz-8f63aa3525c3400c8bd3a3de708fe98b\");\n",
       "    }\n",
       "    const paths = {\n",
       "      \"vega\": \"https://cdn.jsdelivr.net/npm/vega@5?noext\",\n",
       "      \"vega-lib\": \"https://cdn.jsdelivr.net/npm/vega-lib?noext\",\n",
       "      \"vega-lite\": \"https://cdn.jsdelivr.net/npm/vega-lite@5.8.0?noext\",\n",
       "      \"vega-embed\": \"https://cdn.jsdelivr.net/npm/vega-embed@6?noext\",\n",
       "    };\n",
       "\n",
       "    function maybeLoadScript(lib, version) {\n",
       "      var key = `${lib.replace(\"-\", \"\")}_version`;\n",
       "      return (VEGA_DEBUG[key] == version) ?\n",
       "        Promise.resolve(paths[lib]) :\n",
       "        new Promise(function(resolve, reject) {\n",
       "          var s = document.createElement('script');\n",
       "          document.getElementsByTagName(\"head\")[0].appendChild(s);\n",
       "          s.async = true;\n",
       "          s.onload = () => {\n",
       "            VEGA_DEBUG[key] = version;\n",
       "            return resolve(paths[lib]);\n",
       "          };\n",
       "          s.onerror = () => reject(`Error loading script: ${paths[lib]}`);\n",
       "          s.src = paths[lib];\n",
       "        });\n",
       "    }\n",
       "\n",
       "    function showError(err) {\n",
       "      outputDiv.innerHTML = `<div class=\"error\" style=\"color:red;\">${err}</div>`;\n",
       "      throw err;\n",
       "    }\n",
       "\n",
       "    function displayChart(vegaEmbed) {\n",
       "      vegaEmbed(outputDiv, spec, embedOpt)\n",
       "        .catch(err => showError(`Javascript Error: ${err.message}<br>This usually means there's a typo in your chart specification. See the javascript console for the full traceback.`));\n",
       "    }\n",
       "\n",
       "    if(typeof define === \"function\" && define.amd) {\n",
       "      requirejs.config({paths});\n",
       "      require([\"vega-embed\"], displayChart, err => showError(`Error loading script: ${err.message}`));\n",
       "    } else {\n",
       "      maybeLoadScript(\"vega\", \"5\")\n",
       "        .then(() => maybeLoadScript(\"vega-lite\", \"5.8.0\"))\n",
       "        .then(() => maybeLoadScript(\"vega-embed\", \"6\"))\n",
       "        .catch(showError)\n",
       "        .then(() => displayChart(vegaEmbed));\n",
       "    }\n",
       "  })({\"config\": {\"view\": {\"continuousWidth\": 300, \"continuousHeight\": 300}}, \"data\": {\"name\": \"data-2b2dae0cf54337dcec4ac05f8d0cf89a\"}, \"mark\": {\"type\": \"bar\"}, \"encoding\": {\"tooltip\": [{\"field\": \"Brand\", \"type\": \"nominal\"}, {\"field\": \"Average_Price_USD\", \"type\": \"quantitative\"}], \"x\": {\"axis\": {\"labelAngle\": 0}, \"field\": \"Brand\", \"sort\": \"-y\", \"type\": \"nominal\"}, \"y\": {\"field\": \"Average_Price_USD\", \"title\": \"Average Price (USD)\", \"type\": \"quantitative\"}}, \"height\": 400, \"title\": \"Average Price Per Brand Item\", \"width\": 600, \"$schema\": \"https://vega.github.io/schema/vega-lite/v5.8.0.json\", \"datasets\": {\"data-2b2dae0cf54337dcec4ac05f8d0cf89a\": [{\"Brand\": \"HERMES\", \"Average_Price_USD\": 16349.038461538461}, {\"Brand\": \"LOUIS VUITTON\", \"Average_Price_USD\": 10600.0}, {\"Brand\": \"CHANEL\", \"Average_Price_USD\": 3051.8518518518517}]}}, {\"mode\": \"vega-lite\"});\n",
       "</script>"
      ],
      "text/plain": [
       "alt.Chart(...)"
      ]
     },
     "metadata": {},
     "output_type": "display_data"
    }
   ],
   "source": [
    "#c- Using Altair to viualize the AVERAGE PRICE BY BRAND\n",
    "\n",
    "\n",
    "# CREATE A DATAFRAME FOR AVERAGE PRICE PER BRAND \n",
    "# 1. Calculate average prices directly in SQL\n",
    "query = \"\"\"\n",
    "SELECT \n",
    "    Brand,\n",
    "    AVG(CAST(`Price Realized (USD)` AS REAL)) as `Average_Price_USD`\n",
    "FROM \n",
    "    ChristiesHK_Mar25\n",
    "WHERE\n",
    "    `Price Realized (USD)` != ''  -- Exclude empty values\n",
    "GROUP BY \n",
    "    Brand\n",
    "ORDER BY\n",
    "    `Average_Price_USD` DESC\n",
    "\"\"\"\n",
    "# 2. Execute query and load results\n",
    "brand_avg = pd.read_sql(query, conn)\n",
    "\n",
    "\n",
    "# SAVE TABLE INTO DATABASE \n",
    "# 3. Save the aggregated data back to the database as a new table\n",
    "brand_avg.to_sql(\n",
    "    \"Brand_Average_Prices\", \n",
    "    conn, \n",
    "    if_exists=\"replace\", \n",
    "    index=False\n",
    ")\n",
    "print(\"Average price per brand\")\n",
    "brand_avg\n",
    "\n",
    "\n",
    "# CREATE VISUALIZATION\n",
    "# 4 Create visualization\n",
    "chart = alt.Chart(brand_avg).mark_bar().encode(\n",
    "    x=alt.X('Brand:N', sort='-y', axis=alt.Axis(labelAngle=0)),\n",
    "    y=alt.Y('Average_Price_USD:Q', title='Average Price (USD)'),\n",
    "    tooltip=['Brand', 'Average_Price_USD']\n",
    ").properties(\n",
    "    title='Average Price Per Brand Item',\n",
    "    width=600,\n",
    "    height=400\n",
    ")\n",
    "# Display results\n",
    "chart.display()"
   ]
  },
  {
   "cell_type": "code",
   "execution_count": 196,
   "id": "e7eabced",
   "metadata": {},
   "outputs": [
    {
     "ename": "SyntaxError",
     "evalue": "invalid syntax (710101739.py, line 5)",
     "output_type": "error",
     "traceback": [
      "\u001b[0;36m  Cell \u001b[0;32mIn[196], line 5\u001b[0;36m\u001b[0m\n\u001b[0;31m    a - Sale Total\\\u001b[0m\n\u001b[0m             ^\u001b[0m\n\u001b[0;31mSyntaxError\u001b[0m\u001b[0;31m:\u001b[0m invalid syntax\n"
     ]
    }
   ],
   "source": [
    "### Visualizations 3\n",
    "# \n",
    "# \n",
    "#  : General Sale Results by BRAND \n",
    "a - Sale Total\\\n",
    "b - PLOTLY Barchart 1: TOTAL SALES BY BRAND : DF : brand_sale_total \\\n",
    "c - ALTAIR Barchart 2: AVERAGE SALES BY BRAND : DF : Brand_Average_Prices"
   ]
  },
  {
   "cell_type": "code",
   "execution_count": null,
   "id": "a7ee4b30-440b-40c7-bb20-fad1a029920c",
   "metadata": {},
   "outputs": [],
   "source": [
    "# # Query: Top 3 Hermès sales \n",
    "# query = \"\"\"\n",
    "# SELECT Brand, Description, `Price Realized (USD)`\n",
    "# FROM ChristiesHK_Mar25\n",
    "# WHERE Brand = 'HERMES'\n",
    "# ORDER BY `Price Realized (USD)` DESC\n",
    "# LIMIT 3\n",
    "# \"\"\"\n",
    "\n",
    "# top_hermes = pd.read_sql(query, conn)\n",
    "# top_hermes\n"
   ]
  },
  {
   "cell_type": "markdown",
   "id": "50594bfa",
   "metadata": {},
   "source": []
  },
  {
   "cell_type": "code",
   "execution_count": null,
   "id": "9d693ffd",
   "metadata": {},
   "outputs": [],
   "source": []
  },
  {
   "cell_type": "markdown",
   "id": "234d4957",
   "metadata": {},
   "source": [
    "##### Average Price Realized For Each Brand Based on Year "
   ]
  },
  {
   "cell_type": "markdown",
   "id": "5e726878",
   "metadata": {},
   "source": [
    "Table 1:Brand_Year_Average_Prices"
   ]
  },
  {
   "cell_type": "code",
   "execution_count": null,
   "id": "de5a4656",
   "metadata": {},
   "outputs": [
    {
     "name": "stdout",
     "output_type": "stream",
     "text": [
      "Brand_Year_Average_Prices\n",
      "    Brand  Year  Average_Price_USD\n",
      "0  CHANEL  1989        2600.000000\n",
      "1  CHANEL  1996        1500.000000\n",
      "2  CHANEL  1997        1900.000000\n",
      "3  CHANEL  2006        1466.666667\n",
      "4  CHANEL  2008        1550.000000\n"
     ]
    }
   ],
   "source": [
    "### Analyze average price realized of brands based on year and save to database\n",
    "\n",
    "# Generating Table\n",
    "\n",
    "# Connect to the SQLite database\n",
    "conn = sqlite3.connect(\"luxury_handbag_auctions.db\")\n",
    "\n",
    "# Create trend analysis DataFrame\n",
    "AvePriceYear_df = df.groupby(['Brand', 'Year'])['Price Realized (USD)'].mean().reset_index()\n",
    "AvePriceYear_df.rename(columns={'Price Realized (USD)': 'Average_Price_USD'}, inplace=True)\n",
    "\n",
    "# Save trend analysis as a new table\n",
    "AvePriceYear_df.to_sql(\"Brand_Year_Average_Prices\", conn, if_exists=\"replace\", index=False)\n",
    "\n",
    "# Test: show first few rows of the new table\n",
    "print(\"Brand_Year_Average_Prices\")\n",
    "print(pd.read_sql(\"SELECT * FROM Brand_Year_Average_Prices LIMIT 5\", conn))"
   ]
  },
  {
   "cell_type": "markdown",
   "id": "d14daef8",
   "metadata": {},
   "source": [
    "Visualization 1"
   ]
  },
  {
   "cell_type": "code",
   "execution_count": null,
   "id": "470e01f3",
   "metadata": {},
   "outputs": [
    {
     "data": {
      "image/png": "[encoded data removed]",
      "text/plain": [
       "<Figure size 800x600 with 1 Axes>"
      ]
     },
     "metadata": {},
     "output_type": "display_data"
    }
   ],
   "source": [
    "### Plotting from the average price realized of brands based on year \n",
    "\n",
    "# # Plotting graph\n",
    "\n",
    "# Plotting the dot chart\n",
    "plt.figure(figsize=(8, 6))\n",
    "sns.stripplot(data=AvePriceYear_df, x='Year', y='Average_Price_USD', hue='Brand', dodge=True)\n",
    "plt.xticks(rotation=45, fontsize=8)\n",
    "plt.title(\"Average Price Results by Year Manufactured for Every Brand\")\n",
    "plt.ylabel(\"Average Price Realized (USD)\")\n",
    "plt.tight_layout()\n",
    "# Display the chart\n",
    "plt.show()"
   ]
  },
  {
   "cell_type": "markdown",
   "id": "28769ab7",
   "metadata": {},
   "source": [
    "### VisVISUALIZATIONS 3 : Price Results by COLOR\n",
    "a - PLOTLY Barchart 1: AVERAGE PRICE REALIZED BASED ON COLOR : DF : \n",
    "b - Matplotlib Plotchart 2: PRICE REALIZED FOR EACH BAG BY BRAND BASED ON COLOR: DF : PriceByColor\\\n",
    "c - Matplotlib Plotchart 3: AVERAGE PRICE REALIZED BY BRAND BASED ON COLOR: DF : Brand_Color_Average_Prices"
   ]
  },
  {
   "cell_type": "markdown",
   "id": "17aecba7",
   "metadata": {},
   "source": [
    "#### a - PLOTLY Barchart 1: AVERAGE PRICE REALIZED BASED ON COLOR : DF : PriceByColor      ADJUST TO SQLITE AND UPDATE DATAFRAME IN TITLE "
   ]
  },
  {
   "cell_type": "code",
   "execution_count": null,
   "id": "31cfca0f",
   "metadata": {},
   "outputs": [],
   "source": [
    "#create a table displaying the works passed\n",
    "works_passed = df.sort_values(by='Price Realized (USD)', ascending=True).head(12)\n",
    "\n",
    "# Create a label combining Brand and Description\n",
    "works_passed['Bag Label'] = works_passed['Brand'] + \" — \" + works_passed['Type']\n",
    "\n",
    "# Preview the result\n",
    "works_passed[['Brand','Type','Color', 'Estimate (USD)',]]"
   ]
  },
  {
   "cell_type": "code",
   "execution_count": null,
   "id": "a8ccbb5a",
   "metadata": {},
   "outputs": [],
   "source": [
    "\n",
    "# Calculate average price realized per color, round to 2 decimals, and sort descending\n",
    "brand_avg = (df.groupby(\"Color\")[\"Price Realized (USD)\"]\n",
    "              .mean()\n",
    "              .round(2)  # Round to 2 decimal places\n",
    "              .reset_index()\n",
    "              .sort_values(\"Price Realized (USD)\", ascending=False))\n",
    "\n",
    "# Create an interactive bar chart with uniform color\n",
    "fig = px.bar(\n",
    "    brand_avg, \n",
    "    x=\"Color\", \n",
    "    y=\"Price Realized (USD)\", \n",
    "    text=\"Price Realized (USD)\",  # This will now show the rounded values\n",
    "    title=\"Average Auction Price by Color (Highest to Lowest)\",\n",
    "    labels={\"Price Realized (USD)\": \"Avg Price (USD)\"},\n",
    "    color_discrete_sequence=['#1f77b5']  # Single color for all bars\n",
    ")\n",
    "\n",
    "# Customize layout\n",
    "fig.update_traces(\n",
    "    texttemplate='%{text:,.2f}',  # Format with commas and 2 decimals\n",
    "    textposition='outside',\n",
    "    marker_color='#1f78b4'  # Ensures color consistency\n",
    ")\n",
    "fig.update_layout(\n",
    "    xaxis_tickangle=-45,\n",
    "    yaxis_title=\"Avg Price (USD)\",\n",
    "    xaxis_title=\"Color\",\n",
    "    showlegend=False  # Hides legend since all bars are same color\n",
    ")\n",
    "\n",
    "# Show the interactive chart\n",
    "fig.show()"
   ]
  },
  {
   "cell_type": "markdown",
   "id": "9ec47473",
   "metadata": {},
   "source": [
    "#### b - PLOTLY Barchart 1: PRICE REALIZED FOR EACH BAG BY BARAND BASED ON COLOR : DF : PriceByColor\n"
   ]
  },
  {
   "cell_type": "code",
   "execution_count": null,
   "id": "4c2f2590",
   "metadata": {},
   "outputs": [
    {
     "data": {
      "text/html": [
       "<div>\n",
       "<style scoped>\n",
       "    .dataframe tbody tr th:only-of-type {\n",
       "        vertical-align: middle;\n",
       "    }\n",
       "\n",
       "    .dataframe tbody tr th {\n",
       "        vertical-align: top;\n",
       "    }\n",
       "\n",
       "    .dataframe thead th {\n",
       "        text-align: right;\n",
       "    }\n",
       "</style>\n",
       "<table border=\"1\" class=\"dataframe\">\n",
       "  <thead>\n",
       "    <tr style=\"text-align: right;\">\n",
       "      <th></th>\n",
       "      <th>Brand</th>\n",
       "      <th>Color</th>\n",
       "      <th>Price Realized (USD)</th>\n",
       "    </tr>\n",
       "  </thead>\n",
       "  <tbody>\n",
       "    <tr>\n",
       "      <th>0</th>\n",
       "      <td>HERMES</td>\n",
       "      <td>Green</td>\n",
       "      <td>6100</td>\n",
       "    </tr>\n",
       "    <tr>\n",
       "      <th>1</th>\n",
       "      <td>HERMES</td>\n",
       "      <td>Yellow</td>\n",
       "      <td>9700</td>\n",
       "    </tr>\n",
       "    <tr>\n",
       "      <th>2</th>\n",
       "      <td>HERMES</td>\n",
       "      <td>Yellow</td>\n",
       "      <td>12100</td>\n",
       "    </tr>\n",
       "    <tr>\n",
       "      <th>3</th>\n",
       "      <td>HERMES</td>\n",
       "      <td>Yellow</td>\n",
       "      <td>2300</td>\n",
       "    </tr>\n",
       "    <tr>\n",
       "      <th>4</th>\n",
       "      <td>HERMES</td>\n",
       "      <td>Yellow</td>\n",
       "      <td>5600</td>\n",
       "    </tr>\n",
       "    <tr>\n",
       "      <th>...</th>\n",
       "      <td>...</td>\n",
       "      <td>...</td>\n",
       "      <td>...</td>\n",
       "    </tr>\n",
       "    <tr>\n",
       "      <th>237</th>\n",
       "      <td>LOUIS VUITTON</td>\n",
       "      <td>Multi Color</td>\n",
       "      <td>4800</td>\n",
       "    </tr>\n",
       "    <tr>\n",
       "      <th>238</th>\n",
       "      <td>LOUIS VUITTON</td>\n",
       "      <td>Black</td>\n",
       "      <td>3500</td>\n",
       "    </tr>\n",
       "    <tr>\n",
       "      <th>239</th>\n",
       "      <td>LOUIS VUITTON</td>\n",
       "      <td>Black</td>\n",
       "      <td>4200</td>\n",
       "    </tr>\n",
       "    <tr>\n",
       "      <th>240</th>\n",
       "      <td>LOUIS VUITTON</td>\n",
       "      <td>Black</td>\n",
       "      <td>4800</td>\n",
       "    </tr>\n",
       "    <tr>\n",
       "      <th>241</th>\n",
       "      <td>LOUIS VUITTON</td>\n",
       "      <td>Multi Color</td>\n",
       "      <td>48400</td>\n",
       "    </tr>\n",
       "  </tbody>\n",
       "</table>\n",
       "<p>242 rows × 3 columns</p>\n",
       "</div>"
      ],
      "text/plain": [
       "             Brand        Color  Price Realized (USD)\n",
       "0           HERMES        Green                  6100\n",
       "1           HERMES       Yellow                  9700\n",
       "2           HERMES       Yellow                 12100\n",
       "3           HERMES       Yellow                  2300\n",
       "4           HERMES       Yellow                  5600\n",
       "..             ...          ...                   ...\n",
       "237  LOUIS VUITTON  Multi Color                  4800\n",
       "238  LOUIS VUITTON        Black                  3500\n",
       "239  LOUIS VUITTON        Black                  4200\n",
       "240  LOUIS VUITTON        Black                  4800\n",
       "241  LOUIS VUITTON  Multi Color                 48400\n",
       "\n",
       "[242 rows x 3 columns]"
      ]
     },
     "execution_count": 64,
     "metadata": {},
     "output_type": "execute_result"
    }
   ],
   "source": [
    "### b- Create a Bar  REALIZED FOR EACH BAG BY BRAND BASED ON COLOR and save to datatbase\n",
    "\n",
    "# CREATE THE TABLE \n",
    "# Query the required data (Brand, Color, Price Realized)\n",
    "query = \"\"\"\n",
    "    SELECT Brand, Color, `Price Realized (USD)` \n",
    "    FROM ChristiesHK_Mar25\n",
    "\"\"\"\n",
    "PriceByColor = pd.read_sql(query, conn)\n",
    "\n",
    "# Save the aggregated data back to the database as a new table\n",
    "PriceByColor.to_sql(\n",
    "    \"PriceByColor\", \n",
    "    conn, \n",
    "    if_exists=\"replace\", \n",
    "    index=False\n",
    ")\n",
    "# Show Table\n",
    "PriceByColor"
   ]
  },
  {
   "cell_type": "code",
   "execution_count": null,
   "id": "6df39466",
   "metadata": {},
   "outputs": [
    {
     "data": {
      "image/png": "[encoded data removed]",
      "text/plain": [
       "<Figure size 1200x600 with 1 Axes>"
      ]
     },
     "metadata": {},
     "output_type": "display_data"
    }
   ],
   "source": [
    "# PLOT THE CHART\n",
    "# Generate the stripplot for REALIZED FOR EACH BAG BY BRAND BASED ON COLOR\n",
    "plt.figure(figsize=(12, 6))  # Wider figure for better readability\n",
    "sns.stripplot(\n",
    "    data=PriceByColor,\n",
    "    x='Color',\n",
    "    y='Price Realized (USD)',\n",
    "    hue='Brand',\n",
    "    dodge=True,  # Prevents overlapping points\n",
    "    palette='deep',  # Better color distinction\n",
    "    alpha=1  # Slight transparency for overlapping points\n",
    ")\n",
    "\n",
    "# Format the plot\n",
    "# Add title and lables\n",
    "plt.title(\"PRICE REALIZED FOR EACH BAG BY BRAND BASED ON COLOR\", fontsize=20)\n",
    "plt.xlabel(\"Color\", fontsize= 20)\n",
    "plt.ylabel(\"Price Realized (USD)\", fontsize=20)\n",
    "plt.xticks(rotation=45, fontsize=14)  # Rotate x-axis labels\n",
    "plt.grid(axis='y', linestyle='--', alpha=0.5)  # Add faint gridlines for reference\n",
    "plt.tight_layout()  # Prevent label cutoff\n",
    "\n",
    "# Display the chart\n",
    "plt.show()"
   ]
  },
  {
   "cell_type": "markdown",
   "id": "84d6a827",
   "metadata": {},
   "source": [
    "### c - Matplotlib Plotchart 2: AVERAGE PRICE REALIZED BY BRAND BASED ON COLOR"
   ]
  },
  {
   "cell_type": "code",
   "execution_count": null,
   "id": "3337d331",
   "metadata": {},
   "outputs": [
    {
     "data": {
      "text/html": [
       "<div>\n",
       "<style scoped>\n",
       "    .dataframe tbody tr th:only-of-type {\n",
       "        vertical-align: middle;\n",
       "    }\n",
       "\n",
       "    .dataframe tbody tr th {\n",
       "        vertical-align: top;\n",
       "    }\n",
       "\n",
       "    .dataframe thead th {\n",
       "        text-align: right;\n",
       "    }\n",
       "</style>\n",
       "<table border=\"1\" class=\"dataframe\">\n",
       "  <thead>\n",
       "    <tr style=\"text-align: right;\">\n",
       "      <th></th>\n",
       "      <th>Brand</th>\n",
       "      <th>Color</th>\n",
       "      <th>Average_Price_USD</th>\n",
       "    </tr>\n",
       "  </thead>\n",
       "  <tbody>\n",
       "    <tr>\n",
       "      <th>0</th>\n",
       "      <td>CHANEL</td>\n",
       "      <td>Beige</td>\n",
       "      <td>4350.0</td>\n",
       "    </tr>\n",
       "    <tr>\n",
       "      <th>1</th>\n",
       "      <td>CHANEL</td>\n",
       "      <td>Black</td>\n",
       "      <td>4640.0</td>\n",
       "    </tr>\n",
       "    <tr>\n",
       "      <th>2</th>\n",
       "      <td>CHANEL</td>\n",
       "      <td>Blue</td>\n",
       "      <td>5480.0</td>\n",
       "    </tr>\n",
       "    <tr>\n",
       "      <th>3</th>\n",
       "      <td>CHANEL</td>\n",
       "      <td>Bronze</td>\n",
       "      <td>1800.0</td>\n",
       "    </tr>\n",
       "    <tr>\n",
       "      <th>4</th>\n",
       "      <td>CHANEL</td>\n",
       "      <td>Gold</td>\n",
       "      <td>1650.0</td>\n",
       "    </tr>\n",
       "    <tr>\n",
       "      <th>5</th>\n",
       "      <td>CHANEL</td>\n",
       "      <td>Gray</td>\n",
       "      <td>1150.0</td>\n",
       "    </tr>\n",
       "    <tr>\n",
       "      <th>6</th>\n",
       "      <td>CHANEL</td>\n",
       "      <td>Pink</td>\n",
       "      <td>4800.0</td>\n",
       "    </tr>\n",
       "    <tr>\n",
       "      <th>7</th>\n",
       "      <td>CHANEL</td>\n",
       "      <td>Purple</td>\n",
       "      <td>0.0</td>\n",
       "    </tr>\n",
       "    <tr>\n",
       "      <th>8</th>\n",
       "      <td>CHANEL</td>\n",
       "      <td>Red</td>\n",
       "      <td>1850.0</td>\n",
       "    </tr>\n",
       "    <tr>\n",
       "      <th>9</th>\n",
       "      <td>CHANEL</td>\n",
       "      <td>Silver</td>\n",
       "      <td>600.0</td>\n",
       "    </tr>\n",
       "  </tbody>\n",
       "</table>\n",
       "</div>"
      ],
      "text/plain": [
       "    Brand   Color  Average_Price_USD\n",
       "0  CHANEL   Beige             4350.0\n",
       "1  CHANEL   Black             4640.0\n",
       "2  CHANEL    Blue             5480.0\n",
       "3  CHANEL  Bronze             1800.0\n",
       "4  CHANEL    Gold             1650.0\n",
       "5  CHANEL    Gray             1150.0\n",
       "6  CHANEL    Pink             4800.0\n",
       "7  CHANEL  Purple                0.0\n",
       "8  CHANEL     Red             1850.0\n",
       "9  CHANEL  Silver              600.0"
      ]
     },
     "execution_count": 67,
     "metadata": {},
     "output_type": "execute_result"
    }
   ],
   "source": [
    "### Analize Average Price Realized for Brands by Color\n",
    "\n",
    "# GENERATE TABLE\n",
    "# Connect to the SQLite database\n",
    "conn = sqlite3.connect(\"luxury_handbag_auctions.db\")\n",
    "\n",
    "# Calculate average prices by querying the database and save table to database\n",
    "query = \"\"\"\n",
    "SELECT \n",
    "    Brand, \n",
    "    Color, \n",
    "    AVG(`Price Realized (USD)`) as `Average_Price_USD`\n",
    "FROM \n",
    "    ChristiesHK_Mar25\n",
    "GROUP BY \n",
    "    Brand, Color\n",
    "\"\"\"\n",
    "AveragePriceColor_df = pd.read_sql(query, conn)\n",
    "\n",
    "# Save the Average Price Realized for Brands By Color data back to the database as a new table\n",
    "AveragePriceColor_df.to_sql(\n",
    "    \"Brand_Color_Average_Prices\", \n",
    "    conn, \n",
    "    if_exists=\"replace\", \n",
    "    index=False\n",
    ")\n",
    "AveragePriceColor_df.head(10)"
   ]
  },
  {
   "cell_type": "code",
   "execution_count": null,
   "id": "179b2339",
   "metadata": {},
   "outputs": [
    {
     "data": {
      "image/png": "[encoded data removed]",
      "text/plain": [
       "<Figure size 1000x600 with 1 Axes>"
      ]
     },
     "metadata": {},
     "output_type": "display_data"
    }
   ],
   "source": [
    "# PLOT CHART AVERAGE PRICE REALIZED PER BRAND BASED ON COLOR\n",
    "# Generate the visualization for Average Price Realized for Brands By Color\n",
    "plt.figure(figsize=(10, 6))\n",
    "sns.stripplot(\n",
    "    data=AveragePriceColor_df,\n",
    "    x='Color',\n",
    "    y='Average_Price_USD',\n",
    "    hue='Brand',\n",
    "    dodge=True,\n",
    "    palette='dark',\n",
    "    size=8,\n",
    "    alpha=0.8\n",
    ")\n",
    "\n",
    "# Formatting the table\n",
    "plt.title(\"AVERAGE PRICE REALIZED BY BRAND BASED ON COLOR\", fontsize=14) # Adding title\n",
    "plt.xlabel(\"Color\", fontsize=12) # Adding lable\n",
    "plt.ylabel(\"Average Price (USD)\", fontsize=12) # adding label\n",
    "plt.xticks(rotation=45, fontsize=10) # adjusting ticks\n",
    "plt.yticks(fontsize=10)\n",
    "plt.grid(axis='y', linestyle='--', alpha=0.3) # adding and formatting grid\n",
    "plt.tight_layout()\n",
    "\n",
    "# Display the chart\n",
    "plt.show()\n",
    "\n",
    "# Close the database connection\n",
    "conn.close()"
   ]
  },
  {
   "cell_type": "markdown",
   "id": "5bd74185",
   "metadata": {},
   "source": [
    "# CHANGE TO SQLITE"
   ]
  },
  {
   "cell_type": "code",
   "execution_count": null,
   "id": "333c1e01",
   "metadata": {},
   "outputs": [
    {
     "data": {
      "application/vnd.plotly.v1+json": {
       "config": {
        "plotlyServerURL": "https://plot.ly"
       },
       "data": [
        {
         "alignmentgroup": "True",
         "hovertemplate": "Leather=%{x}<br>Avg Price (USD)=%{text}<extra></extra>",
         "legendgroup": "",
         "marker": {
          "color": "#1f77b4",
          "pattern": {
           "shape": ""
          }
         },
         "name": "",
         "offsetgroup": "",
         "orientation": "v",
         "showlegend": false,
         "text": [
          274600,
          177600,
          48400,
          35500,
          29492.86,
          29100,
          21838.46,
          19766.67,
          18550,
          17770.97,
          16655.56,
          16300,
          16100,
          14950,
          14500,
          14150,
          13700,
          12931.82,
          12100,
          11900,
          11300,
          11300,
          11283.33,
          10900,
          9700,
          9533.33,
          9000,
          8900,
          8900,
          8900,
          8900,
          8700,
          8100,
          8100,
          8080,
          7700,
          7589.47,
          7300,
          7300,
          6500,
          4800,
          4800,
          4500,
          4200,
          4200,
          3925,
          3900,
          3850,
          3500,
          2900,
          2900,
          2858.33,
          2700,
          2400,
          2366.67,
          1900,
          1150,
          0,
          0,
          0
         ],
         "textposition": "outside",
         "texttemplate": "%{text:,.2f}",
         "type": "bar",
         "x": [
          "Alligator & Togo",
          "Alligator & Epsom",
          "Barénia & Osier",
          "Swift & Lambskin",
          "Crocodile",
          "Swift & Canvas",
          "Alligator",
          "Canvas",
          "Alligator & Lizard",
          "Epsom",
          "Goat",
          "Ostrich",
          "Madame",
          "Togo & Swift",
          "Lizard & Swift",
          "Novillo",
          "Evercolor & Grizzly",
          "Togo",
          "Tadelakt & Lizard",
          "Swift",
          "Clemence & Canvas",
          "Swift & Toile",
          "Lizard",
          "Barénia Faubourg",
          "Lizard & Alligator",
          "Barénia",
          "Evercolor",
          "Evercolor (Verso)",
          "Lizard & Evercolor",
          "Swift & Graine d'H",
          "Evercolor & Swift",
          "Tadelakt",
          "Evercalf & Toile",
          "Monsieur",
          "Box Calf",
          "Courchevel",
          "Clemence",
          "Calf",
          "Maurice & Swift",
          "Togo & Canvas",
          "Toile & Vache Hunter",
          "Empreinte",
          "Negonda & Canvas",
          "Swift & Velours",
          "Goat, Epsom, Canvas",
          "Caviar",
          "Python",
          "Taurillon",
          "Swift & Doblis",
          "Clemence & Crinoline",
          "Barénia & Toile",
          "Lambskin",
          "Chamonix",
          "Tuffetage",
          "Calfskin",
          "Patent",
          "Tweed",
          "Swift & Osier",
          "Metal",
          "Satin & Lambskin"
         ],
         "xaxis": "x",
         "y": [
          274600,
          177600,
          48400,
          35500,
          29492.86,
          29100,
          21838.46,
          19766.67,
          18550,
          17770.97,
          16655.56,
          16300,
          16100,
          14950,
          14500,
          14150,
          13700,
          12931.82,
          12100,
          11900,
          11300,
          11300,
          11283.33,
          10900,
          9700,
          9533.33,
          9000,
          8900,
          8900,
          8900,
          8900,
          8700,
          8100,
          8100,
          8080,
          7700,
          7589.47,
          7300,
          7300,
          6500,
          4800,
          4800,
          4500,
          4200,
          4200,
          3925,
          3900,
          3850,
          3500,
          2900,
          2900,
          2858.33,
          2700,
          2400,
          2366.67,
          1900,
          1150,
          0,
          0,
          0
         ],
         "yaxis": "y"
        }
       ],
       "layout": {
        "barmode": "relative",
        "legend": {
         "tracegroupgap": 0
        },
        "showlegend": false,
        "template": {
         "data": {
          "bar": [
           {
            "error_x": {
             "color": "#2a3f5f"
            },
            "error_y": {
             "color": "#2a3f5f"
            },
            "marker": {
             "line": {
              "color": "#E5ECF6",
              "width": 0.5
             },
             "pattern": {
              "fillmode": "overlay",
              "size": 10,
              "solidity": 0.2
             }
            },
            "type": "bar"
           }
          ],
          "barpolar": [
           {
            "marker": {
             "line": {
              "color": "#E5ECF6",
              "width": 0.5
             },
             "pattern": {
              "fillmode": "overlay",
              "size": 10,
              "solidity": 0.2
             }
            },
            "type": "barpolar"
           }
          ],
          "carpet": [
           {
            "aaxis": {
             "endlinecolor": "#2a3f5f",
             "gridcolor": "white",
             "linecolor": "white",
             "minorgridcolor": "white",
             "startlinecolor": "#2a3f5f"
            },
            "baxis": {
             "endlinecolor": "#2a3f5f",
             "gridcolor": "white",
             "linecolor": "white",
             "minorgridcolor": "white",
             "startlinecolor": "#2a3f5f"
            },
            "type": "carpet"
           }
          ],
          "choropleth": [
           {
            "colorbar": {
             "outlinewidth": 0,
             "ticks": ""
            },
            "type": "choropleth"
           }
          ],
          "contour": [
           {
            "colorbar": {
             "outlinewidth": 0,
             "ticks": ""
            },
            "colorscale": [
             [
              0,
              "#0d0887"
             ],
             [
              0.1111111111111111,
              "#46039f"
             ],
             [
              0.2222222222222222,
              "#7201a8"
             ],
             [
              0.3333333333333333,
              "#9c179e"
             ],
             [
              0.4444444444444444,
              "#bd3786"
             ],
             [
              0.5555555555555556,
              "#d8576b"
             ],
             [
              0.6666666666666666,
              "#ed7953"
             ],
             [
              0.7777777777777778,
              "#fb9f3a"
             ],
             [
              0.8888888888888888,
              "#fdca26"
             ],
             [
              1,
              "#f0f921"
             ]
            ],
            "type": "contour"
           }
          ],
          "contourcarpet": [
           {
            "colorbar": {
             "outlinewidth": 0,
             "ticks": ""
            },
            "type": "contourcarpet"
           }
          ],
          "heatmap": [
           {
            "colorbar": {
             "outlinewidth": 0,
             "ticks": ""
            },
            "colorscale": [
             [
              0,
              "#0d0887"
             ],
             [
              0.1111111111111111,
              "#46039f"
             ],
             [
              0.2222222222222222,
              "#7201a8"
             ],
             [
              0.3333333333333333,
              "#9c179e"
             ],
             [
              0.4444444444444444,
              "#bd3786"
             ],
             [
              0.5555555555555556,
              "#d8576b"
             ],
             [
              0.6666666666666666,
              "#ed7953"
             ],
             [
              0.7777777777777778,
              "#fb9f3a"
             ],
             [
              0.8888888888888888,
              "#fdca26"
             ],
             [
              1,
              "#f0f921"
             ]
            ],
            "type": "heatmap"
           }
          ],
          "heatmapgl": [
           {
            "colorbar": {
             "outlinewidth": 0,
             "ticks": ""
            },
            "colorscale": [
             [
              0,
              "#0d0887"
             ],
             [
              0.1111111111111111,
              "#46039f"
             ],
             [
              0.2222222222222222,
              "#7201a8"
             ],
             [
              0.3333333333333333,
              "#9c179e"
             ],
             [
              0.4444444444444444,
              "#bd3786"
             ],
             [
              0.5555555555555556,
              "#d8576b"
             ],
             [
              0.6666666666666666,
              "#ed7953"
             ],
             [
              0.7777777777777778,
              "#fb9f3a"
             ],
             [
              0.8888888888888888,
              "#fdca26"
             ],
             [
              1,
              "#f0f921"
             ]
            ],
            "type": "heatmapgl"
           }
          ],
          "histogram": [
           {
            "marker": {
             "pattern": {
              "fillmode": "overlay",
              "size": 10,
              "solidity": 0.2
             }
            },
            "type": "histogram"
           }
          ],
          "histogram2d": [
           {
            "colorbar": {
             "outlinewidth": 0,
             "ticks": ""
            },
            "colorscale": [
             [
              0,
              "#0d0887"
             ],
             [
              0.1111111111111111,
              "#46039f"
             ],
             [
              0.2222222222222222,
              "#7201a8"
             ],
             [
              0.3333333333333333,
              "#9c179e"
             ],
             [
              0.4444444444444444,
              "#bd3786"
             ],
             [
              0.5555555555555556,
              "#d8576b"
             ],
             [
              0.6666666666666666,
              "#ed7953"
             ],
             [
              0.7777777777777778,
              "#fb9f3a"
             ],
             [
              0.8888888888888888,
              "#fdca26"
             ],
             [
              1,
              "#f0f921"
             ]
            ],
            "type": "histogram2d"
           }
          ],
          "histogram2dcontour": [
           {
            "colorbar": {
             "outlinewidth": 0,
             "ticks": ""
            },
            "colorscale": [
             [
              0,
              "#0d0887"
             ],
             [
              0.1111111111111111,
              "#46039f"
             ],
             [
              0.2222222222222222,
              "#7201a8"
             ],
             [
              0.3333333333333333,
              "#9c179e"
             ],
             [
              0.4444444444444444,
              "#bd3786"
             ],
             [
              0.5555555555555556,
              "#d8576b"
             ],
             [
              0.6666666666666666,
              "#ed7953"
             ],
             [
              0.7777777777777778,
              "#fb9f3a"
             ],
             [
              0.8888888888888888,
              "#fdca26"
             ],
             [
              1,
              "#f0f921"
             ]
            ],
            "type": "histogram2dcontour"
           }
          ],
          "mesh3d": [
           {
            "colorbar": {
             "outlinewidth": 0,
             "ticks": ""
            },
            "type": "mesh3d"
           }
          ],
          "parcoords": [
           {
            "line": {
             "colorbar": {
              "outlinewidth": 0,
              "ticks": ""
             }
            },
            "type": "parcoords"
           }
          ],
          "pie": [
           {
            "automargin": true,
            "type": "pie"
           }
          ],
          "scatter": [
           {
            "fillpattern": {
             "fillmode": "overlay",
             "size": 10,
             "solidity": 0.2
            },
            "type": "scatter"
           }
          ],
          "scatter3d": [
           {
            "line": {
             "colorbar": {
              "outlinewidth": 0,
              "ticks": ""
             }
            },
            "marker": {
             "colorbar": {
              "outlinewidth": 0,
              "ticks": ""
             }
            },
            "type": "scatter3d"
           }
          ],
          "scattercarpet": [
           {
            "marker": {
             "colorbar": {
              "outlinewidth": 0,
              "ticks": ""
             }
            },
            "type": "scattercarpet"
           }
          ],
          "scattergeo": [
           {
            "marker": {
             "colorbar": {
              "outlinewidth": 0,
              "ticks": ""
             }
            },
            "type": "scattergeo"
           }
          ],
          "scattergl": [
           {
            "marker": {
             "colorbar": {
              "outlinewidth": 0,
              "ticks": ""
             }
            },
            "type": "scattergl"
           }
          ],
          "scattermapbox": [
           {
            "marker": {
             "colorbar": {
              "outlinewidth": 0,
              "ticks": ""
             }
            },
            "type": "scattermapbox"
           }
          ],
          "scatterpolar": [
           {
            "marker": {
             "colorbar": {
              "outlinewidth": 0,
              "ticks": ""
             }
            },
            "type": "scatterpolar"
           }
          ],
          "scatterpolargl": [
           {
            "marker": {
             "colorbar": {
              "outlinewidth": 0,
              "ticks": ""
             }
            },
            "type": "scatterpolargl"
           }
          ],
          "scatterternary": [
           {
            "marker": {
             "colorbar": {
              "outlinewidth": 0,
              "ticks": ""
             }
            },
            "type": "scatterternary"
           }
          ],
          "surface": [
           {
            "colorbar": {
             "outlinewidth": 0,
             "ticks": ""
            },
            "colorscale": [
             [
              0,
              "#0d0887"
             ],
             [
              0.1111111111111111,
              "#46039f"
             ],
             [
              0.2222222222222222,
              "#7201a8"
             ],
             [
              0.3333333333333333,
              "#9c179e"
             ],
             [
              0.4444444444444444,
              "#bd3786"
             ],
             [
              0.5555555555555556,
              "#d8576b"
             ],
             [
              0.6666666666666666,
              "#ed7953"
             ],
             [
              0.7777777777777778,
              "#fb9f3a"
             ],
             [
              0.8888888888888888,
              "#fdca26"
             ],
             [
              1,
              "#f0f921"
             ]
            ],
            "type": "surface"
           }
          ],
          "table": [
           {
            "cells": {
             "fill": {
              "color": "#EBF0F8"
             },
             "line": {
              "color": "white"
             }
            },
            "header": {
             "fill": {
              "color": "#C8D4E3"
             },
             "line": {
              "color": "white"
             }
            },
            "type": "table"
           }
          ]
         },
         "layout": {
          "annotationdefaults": {
           "arrowcolor": "#2a3f5f",
           "arrowhead": 0,
           "arrowwidth": 1
          },
          "autotypenumbers": "strict",
          "coloraxis": {
           "colorbar": {
            "outlinewidth": 0,
            "ticks": ""
           }
          },
          "colorscale": {
           "diverging": [
            [
             0,
             "#8e0152"
            ],
            [
             0.1,
             "#c51b7d"
            ],
            [
             0.2,
             "#de77ae"
            ],
            [
             0.3,
             "#f1b6da"
            ],
            [
             0.4,
             "#fde0ef"
            ],
            [
             0.5,
             "#f7f7f7"
            ],
            [
             0.6,
             "#e6f5d0"
            ],
            [
             0.7,
             "#b8e186"
            ],
            [
             0.8,
             "#7fbc41"
            ],
            [
             0.9,
             "#4d9221"
            ],
            [
             1,
             "#276419"
            ]
           ],
           "sequential": [
            [
             0,
             "#0d0887"
            ],
            [
             0.1111111111111111,
             "#46039f"
            ],
            [
             0.2222222222222222,
             "#7201a8"
            ],
            [
             0.3333333333333333,
             "#9c179e"
            ],
            [
             0.4444444444444444,
             "#bd3786"
            ],
            [
             0.5555555555555556,
             "#d8576b"
            ],
            [
             0.6666666666666666,
             "#ed7953"
            ],
            [
             0.7777777777777778,
             "#fb9f3a"
            ],
            [
             0.8888888888888888,
             "#fdca26"
            ],
            [
             1,
             "#f0f921"
            ]
           ],
           "sequentialminus": [
            [
             0,
             "#0d0887"
            ],
            [
             0.1111111111111111,
             "#46039f"
            ],
            [
             0.2222222222222222,
             "#7201a8"
            ],
            [
             0.3333333333333333,
             "#9c179e"
            ],
            [
             0.4444444444444444,
             "#bd3786"
            ],
            [
             0.5555555555555556,
             "#d8576b"
            ],
            [
             0.6666666666666666,
             "#ed7953"
            ],
            [
             0.7777777777777778,
             "#fb9f3a"
            ],
            [
             0.8888888888888888,
             "#fdca26"
            ],
            [
             1,
             "#f0f921"
            ]
           ]
          },
          "colorway": [
           "#636efa",
           "#EF553B",
           "#00cc96",
           "#ab63fa",
           "#FFA15A",
           "#19d3f3",
           "#FF6692",
           "#B6E880",
           "#FF97FF",
           "#FECB52"
          ],
          "font": {
           "color": "#2a3f5f"
          },
          "geo": {
           "bgcolor": "white",
           "lakecolor": "white",
           "landcolor": "#E5ECF6",
           "showlakes": true,
           "showland": true,
           "subunitcolor": "white"
          },
          "hoverlabel": {
           "align": "left"
          },
          "hovermode": "closest",
          "mapbox": {
           "style": "light"
          },
          "paper_bgcolor": "white",
          "plot_bgcolor": "#E5ECF6",
          "polar": {
           "angularaxis": {
            "gridcolor": "white",
            "linecolor": "white",
            "ticks": ""
           },
           "bgcolor": "#E5ECF6",
           "radialaxis": {
            "gridcolor": "white",
            "linecolor": "white",
            "ticks": ""
           }
          },
          "scene": {
           "xaxis": {
            "backgroundcolor": "#E5ECF6",
            "gridcolor": "white",
            "gridwidth": 2,
            "linecolor": "white",
            "showbackground": true,
            "ticks": "",
            "zerolinecolor": "white"
           },
           "yaxis": {
            "backgroundcolor": "#E5ECF6",
            "gridcolor": "white",
            "gridwidth": 2,
            "linecolor": "white",
            "showbackground": true,
            "ticks": "",
            "zerolinecolor": "white"
           },
           "zaxis": {
            "backgroundcolor": "#E5ECF6",
            "gridcolor": "white",
            "gridwidth": 2,
            "linecolor": "white",
            "showbackground": true,
            "ticks": "",
            "zerolinecolor": "white"
           }
          },
          "shapedefaults": {
           "line": {
            "color": "#2a3f5f"
           }
          },
          "ternary": {
           "aaxis": {
            "gridcolor": "white",
            "linecolor": "white",
            "ticks": ""
           },
           "baxis": {
            "gridcolor": "white",
            "linecolor": "white",
            "ticks": ""
           },
           "bgcolor": "#E5ECF6",
           "caxis": {
            "gridcolor": "white",
            "linecolor": "white",
            "ticks": ""
           }
          },
          "title": {
           "x": 0.05
          },
          "xaxis": {
           "automargin": true,
           "gridcolor": "white",
           "linecolor": "white",
           "ticks": "",
           "title": {
            "standoff": 15
           },
           "zerolinecolor": "white",
           "zerolinewidth": 2
          },
          "yaxis": {
           "automargin": true,
           "gridcolor": "white",
           "linecolor": "white",
           "ticks": "",
           "title": {
            "standoff": 15
           },
           "zerolinecolor": "white",
           "zerolinewidth": 2
          }
         }
        },
        "title": {
         "text": "Average Auction Price by Leather"
        },
        "xaxis": {
         "anchor": "y",
         "domain": [
          0,
          1
         ],
         "tickangle": -45,
         "title": {
          "text": "Color"
         }
        },
        "yaxis": {
         "anchor": "x",
         "domain": [
          0,
          1
         ],
         "title": {
          "text": "Avg Price (USD)"
         }
        }
       }
      }
     },
     "metadata": {},
     "output_type": "display_data"
    }
   ],
   "source": [
    "import plotly.express as px\n",
    "\n",
    "# Calculate average price realized per color, round to 2 decimals, and sort descending\n",
    "brand_avg = (df.groupby(\"Leather\")[\"Price Realized (USD)\"]\n",
    "              .mean()\n",
    "              .round(2)  # Round to 2 decimal places\n",
    "              .reset_index()\n",
    "              .sort_values(\"Price Realized (USD)\", ascending=False))\n",
    "\n",
    "# Create an interactive bar chart with uniform color\n",
    "fig = px.bar(\n",
    "    brand_avg, \n",
    "    x=\"Leather\", \n",
    "    y=\"Price Realized (USD)\", \n",
    "    text=\"Price Realized (USD)\",  # This will now show the rounded values\n",
    "    title=\"Average Auction Price by Leather\",\n",
    "    labels={\"Price Realized (USD)\": \"Avg Price (USD)\"},\n",
    "    color_discrete_sequence=['#1f77b4']  # Single color for all bars\n",
    ")\n",
    "\n",
    "# Customize layout\n",
    "fig.update_traces(\n",
    "    texttemplate='%{text:,.2f}',  # Format with commas and 2 decimals\n",
    "    textposition='outside',\n",
    "    marker_color='#1f77b4'  # Ensures color consistency\n",
    ")\n",
    "fig.update_layout(\n",
    "    xaxis_tickangle=-45,\n",
    "    yaxis_title=\"Avg Price (USD)\",\n",
    "    xaxis_title=\"Color\",\n",
    "    showlegend=False  # Hides legend since all bars are same color\n",
    ")\n",
    "\n",
    "# Show the interactive chart\n",
    "fig.show()"
   ]
  },
  {
   "cell_type": "code",
   "execution_count": null,
   "id": "e46e9902",
   "metadata": {},
   "outputs": [],
   "source": [
    "# Close the connection to the database\n",
    "conn.close()"
   ]
  },
  {
   "cell_type": "code",
   "execution_count": null,
   "id": "2d38541a-2680-4734-b51a-5c2afb07bee8",
   "metadata": {},
   "outputs": [],
   "source": [
    "# #Altair for visualizations \n",
    "# pip install altair\n",
    "# import altair as alt\n",
    "\n",
    "# alt.Chart(df).mark_line().encode(\n",
    "#     x='Collection/Year:O',\n",
    "#     y='Price Realised (USD):Q',\n",
    "#     color='Brand:N'\n",
    "# ).interactive()\n"
   ]
  },
  {
   "cell_type": "code",
   "execution_count": null,
   "id": "10468e19-e0b5-48cd-bb7d-43d2d243e72a",
   "metadata": {},
   "outputs": [],
   "source": [
    "# pip install folium\n",
    "# import folium\n",
    "\n",
    "# m = folium.Map(location=[22.3, 114.2], zoom_start=5)  # Hong Kong\n",
    "\n",
    "# folium.Marker([22.3, 114.2], popup=\"Christie's HK - Total Sales: $200,000\").add_to(m)\n",
    "\n",
    "# m\n"
   ]
  },
  {
   "cell_type": "code",
   "execution_count": null,
   "id": "fbea49ff-7265-49ba-a9ab-2e5593a85532",
   "metadata": {},
   "outputs": [],
   "source": [
    "# pip install streamlit\n",
    "# # Save this in streamlit_app.py\n",
    "# import streamlit as st\n",
    "# import pandas as pd\n",
    "\n",
    "# df = pd.read_csv(\"cleaned_luxury_bag_data.csv\")\n",
    "\n",
    "# brand = st.selectbox(\"Choose Brand\", df['Brand'].unique())\n",
    "# filtered = df[df['Brand'] == brand]\n",
    "\n",
    "# st.line_chart(filtered.groupby(\"Collection/Year\")[\"Price Realised (USD)\"].mean())\n",
    "# streamlit run streamlit_app.py\n"
   ]
  }
 ],
 "metadata": {
  "kernelspec": {
   "display_name": "base",
   "language": "python",
   "name": "python3"
  },
  "language_info": {
   "codemirror_mode": {
    "name": "ipython",
    "version": 3
   },
   "file_extension": ".py",
   "mimetype": "text/x-python",
   "name": "python",
   "nbconvert_exporter": "python",
   "pygments_lexer": "ipython3",
   "version": "3.12.7"
  }
 },
 "nbformat": 4,
 "nbformat_minor": 5
}
