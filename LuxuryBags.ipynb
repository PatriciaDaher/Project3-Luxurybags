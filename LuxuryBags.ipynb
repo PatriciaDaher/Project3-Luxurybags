{
 "cells": [
  {
   "cell_type": "markdown",
   "id": "0c2f0f1a",
   "metadata": {},
   "source": [
    "## Project 3 - Luxury Handbag Auction Sales \n",
    "### Interactive Visualization for Christie's March 6 2025 Handbag Auction Sale March 31 2025"
   ]
  },
  {
   "cell_type": "code",
   "execution_count": 287,
   "id": "2b1f21a8",
   "metadata": {},
   "outputs": [],
   "source": [
    "# Uploading Libraries\n",
    "\n",
    "import pandas as pd\n",
    "import matplotlib.pyplot as plt\n",
    "import plotly.express as px\n",
    "import seaborn as sns\n",
    "import altair as alt"
   ]
  },
  {
   "cell_type": "markdown",
   "id": "9741f6e7",
   "metadata": {},
   "source": [
    "## PART 1 : Importing, reading, cleaning, adjusting and saving the CSV file."
   ]
  },
  {
   "cell_type": "code",
   "execution_count": 288,
   "id": "935d7e1e-75cb-44b1-8f16-1e647c90b578",
   "metadata": {},
   "outputs": [
    {
     "data": {
      "text/html": [
       "<div>\n",
       "<style scoped>\n",
       "    .dataframe tbody tr th:only-of-type {\n",
       "        vertical-align: middle;\n",
       "    }\n",
       "\n",
       "    .dataframe tbody tr th {\n",
       "        vertical-align: top;\n",
       "    }\n",
       "\n",
       "    .dataframe thead th {\n",
       "        text-align: right;\n",
       "    }\n",
       "</style>\n",
       "<table border=\"1\" class=\"dataframe\">\n",
       "  <thead>\n",
       "    <tr style=\"text-align: right;\">\n",
       "      <th></th>\n",
       "      <th>Lot</th>\n",
       "      <th>Description</th>\n",
       "      <th>Brand</th>\n",
       "      <th>Type (All Lots)</th>\n",
       "      <th>Year</th>\n",
       "      <th>Color</th>\n",
       "      <th>Leather</th>\n",
       "      <th>Hardware</th>\n",
       "      <th>Estimate (USD)</th>\n",
       "      <th>Price Realized (USD)</th>\n",
       "    </tr>\n",
       "  </thead>\n",
       "  <tbody>\n",
       "    <tr>\n",
       "      <th>0</th>\n",
       "      <td>1</td>\n",
       "      <td>LIME EVERCOLOR LEATHER MINI ROULIS WITH PALLAD...</td>\n",
       "      <td>HERMÈS</td>\n",
       "      <td>Mini Roulis</td>\n",
       "      <td>2022</td>\n",
       "      <td>Green</td>\n",
       "      <td>Evercolor</td>\n",
       "      <td>Palladium</td>\n",
       "      <td>5,100−7,700</td>\n",
       "      <td>6100</td>\n",
       "    </tr>\n",
       "    <tr>\n",
       "      <th>1</th>\n",
       "      <td>2</td>\n",
       "      <td>LIMITED EDITION LIME &amp; PEARL GRAY EPSOM LEATHE...</td>\n",
       "      <td>HERMÈS</td>\n",
       "      <td>Kelly 32, Limited Edition</td>\n",
       "      <td>2011</td>\n",
       "      <td>Yellow</td>\n",
       "      <td>Epsom</td>\n",
       "      <td>Palladium</td>\n",
       "      <td>7,700−12,800</td>\n",
       "      <td>9700</td>\n",
       "    </tr>\n",
       "    <tr>\n",
       "      <th>2</th>\n",
       "      <td>3</td>\n",
       "      <td>LIMITED EDITION LIME &amp; PEARL GRAY EPSOM LEATHE...</td>\n",
       "      <td>HERMÈS</td>\n",
       "      <td>Birkin 35, Limited Edition</td>\n",
       "      <td>2011</td>\n",
       "      <td>Yellow</td>\n",
       "      <td>Epsom</td>\n",
       "      <td>Palladium</td>\n",
       "      <td>7,700−12,800</td>\n",
       "      <td>12100</td>\n",
       "    </tr>\n",
       "    <tr>\n",
       "      <th>3</th>\n",
       "      <td>4</td>\n",
       "      <td>SHINY MIMOSA NILOTICUS LIZARD SMALL CONSTANCE ...</td>\n",
       "      <td>HERMÈS</td>\n",
       "      <td>Constance Wallet</td>\n",
       "      <td>2011</td>\n",
       "      <td>Yellow</td>\n",
       "      <td>Lizard</td>\n",
       "      <td>Palladium</td>\n",
       "      <td>2,600−3,800</td>\n",
       "      <td>2300</td>\n",
       "    </tr>\n",
       "    <tr>\n",
       "      <th>4</th>\n",
       "      <td>5</td>\n",
       "      <td>NAPLES YELLOW EPSOM LEATHER CONSTANCE TO GO</td>\n",
       "      <td>HERMÈS</td>\n",
       "      <td>Constance To Go</td>\n",
       "      <td>2023</td>\n",
       "      <td>Yellow</td>\n",
       "      <td>Epsom</td>\n",
       "      <td>Gold</td>\n",
       "      <td>5,100−7,700</td>\n",
       "      <td>5600</td>\n",
       "    </tr>\n",
       "    <tr>\n",
       "      <th>...</th>\n",
       "      <td>...</td>\n",
       "      <td>...</td>\n",
       "      <td>...</td>\n",
       "      <td>...</td>\n",
       "      <td>...</td>\n",
       "      <td>...</td>\n",
       "      <td>...</td>\n",
       "      <td>...</td>\n",
       "      <td>...</td>\n",
       "      <td>...</td>\n",
       "    </tr>\n",
       "    <tr>\n",
       "      <th>237</th>\n",
       "      <td>254</td>\n",
       "      <td>LIMITED EDITION PAINTED PUMPKIN MONOGRAM KEEPA...</td>\n",
       "      <td>LOUIS VUITTON</td>\n",
       "      <td>Keepall Bandoulière 45, Limited Edition</td>\n",
       "      <td>2023</td>\n",
       "      <td>Multi Color</td>\n",
       "      <td>Canvas</td>\n",
       "      <td>Gold</td>\n",
       "      <td>2,600−3,600</td>\n",
       "      <td>4800</td>\n",
       "    </tr>\n",
       "    <tr>\n",
       "      <th>238</th>\n",
       "      <td>256</td>\n",
       "      <td>LIMITED EDITION BLACK TAURILLON LEATHER INFINI...</td>\n",
       "      <td>LOUIS VUITTON</td>\n",
       "      <td>Christopher Backpack MM, Limited Edition</td>\n",
       "      <td>2023</td>\n",
       "      <td>Black</td>\n",
       "      <td>Taurillon</td>\n",
       "      <td>Black</td>\n",
       "      <td>3,800−5,100</td>\n",
       "      <td>3500</td>\n",
       "    </tr>\n",
       "    <tr>\n",
       "      <th>239</th>\n",
       "      <td>257</td>\n",
       "      <td>ABSOLUTE BLACK MONOGRAM TAURILLON LEATHER KEEP...</td>\n",
       "      <td>LOUIS VUITTON</td>\n",
       "      <td>Keepall Bandoulière 50</td>\n",
       "      <td>2019</td>\n",
       "      <td>Black</td>\n",
       "      <td>Taurillon</td>\n",
       "      <td>Black &amp; Orange</td>\n",
       "      <td>2,600−3,600</td>\n",
       "      <td>4200</td>\n",
       "    </tr>\n",
       "    <tr>\n",
       "      <th>240</th>\n",
       "      <td>258</td>\n",
       "      <td>LIMITED EDITION BLACK EMPREINTE LEATHER TOTE B...</td>\n",
       "      <td>LOUIS VUITTON</td>\n",
       "      <td>Tote Bag, Limited Edition</td>\n",
       "      <td>2008</td>\n",
       "      <td>Black</td>\n",
       "      <td>Empreinte</td>\n",
       "      <td>Black</td>\n",
       "      <td>3,800−5,100</td>\n",
       "      <td>4800</td>\n",
       "    </tr>\n",
       "    <tr>\n",
       "      <th>241</th>\n",
       "      <td>259</td>\n",
       "      <td>LIMITED EDITION PAINTED MONOGRAM COURRIER LOZI...</td>\n",
       "      <td>LOUIS VUITTON</td>\n",
       "      <td>Courrier Lozine Trunk 110, Limited Edition</td>\n",
       "      <td>2021</td>\n",
       "      <td>Multi Color</td>\n",
       "      <td>Canvas</td>\n",
       "      <td>Black</td>\n",
       "      <td>38,400−51,200</td>\n",
       "      <td>48400</td>\n",
       "    </tr>\n",
       "  </tbody>\n",
       "</table>\n",
       "<p>242 rows × 10 columns</p>\n",
       "</div>"
      ],
      "text/plain": [
       "     Lot                                        Description          Brand  \\\n",
       "0      1  LIME EVERCOLOR LEATHER MINI ROULIS WITH PALLAD...         HERMÈS   \n",
       "1      2  LIMITED EDITION LIME & PEARL GRAY EPSOM LEATHE...         HERMÈS   \n",
       "2      3  LIMITED EDITION LIME & PEARL GRAY EPSOM LEATHE...         HERMÈS   \n",
       "3      4  SHINY MIMOSA NILOTICUS LIZARD SMALL CONSTANCE ...         HERMÈS   \n",
       "4      5        NAPLES YELLOW EPSOM LEATHER CONSTANCE TO GO         HERMÈS   \n",
       "..   ...                                                ...            ...   \n",
       "237  254  LIMITED EDITION PAINTED PUMPKIN MONOGRAM KEEPA...  LOUIS VUITTON   \n",
       "238  256  LIMITED EDITION BLACK TAURILLON LEATHER INFINI...  LOUIS VUITTON   \n",
       "239  257  ABSOLUTE BLACK MONOGRAM TAURILLON LEATHER KEEP...  LOUIS VUITTON   \n",
       "240  258  LIMITED EDITION BLACK EMPREINTE LEATHER TOTE B...  LOUIS VUITTON   \n",
       "241  259  LIMITED EDITION PAINTED MONOGRAM COURRIER LOZI...  LOUIS VUITTON   \n",
       "\n",
       "                                Type (All Lots)  Year        Color    Leather  \\\n",
       "0                                   Mini Roulis  2022        Green  Evercolor   \n",
       "1                     Kelly 32, Limited Edition  2011       Yellow      Epsom   \n",
       "2                    Birkin 35, Limited Edition  2011       Yellow      Epsom   \n",
       "3                              Constance Wallet  2011       Yellow     Lizard   \n",
       "4                               Constance To Go  2023       Yellow      Epsom   \n",
       "..                                          ...   ...          ...        ...   \n",
       "237     Keepall Bandoulière 45, Limited Edition  2023  Multi Color     Canvas   \n",
       "238    Christopher Backpack MM, Limited Edition  2023        Black  Taurillon   \n",
       "239                      Keepall Bandoulière 50  2019        Black  Taurillon   \n",
       "240                   Tote Bag, Limited Edition  2008        Black  Empreinte   \n",
       "241  Courrier Lozine Trunk 110, Limited Edition  2021  Multi Color     Canvas   \n",
       "\n",
       "           Hardware Estimate (USD)  Price Realized (USD)  \n",
       "0         Palladium    5,100−7,700                  6100  \n",
       "1         Palladium   7,700−12,800                  9700  \n",
       "2         Palladium   7,700−12,800                 12100  \n",
       "3         Palladium    2,600−3,800                  2300  \n",
       "4              Gold    5,100−7,700                  5600  \n",
       "..              ...            ...                   ...  \n",
       "237            Gold    2,600−3,600                  4800  \n",
       "238           Black    3,800−5,100                  3500  \n",
       "239  Black & Orange    2,600−3,600                  4200  \n",
       "240           Black    3,800−5,100                  4800  \n",
       "241           Black  38,400−51,200                 48400  \n",
       "\n",
       "[242 rows x 10 columns]"
      ]
     },
     "execution_count": 288,
     "metadata": {},
     "output_type": "execute_result"
    }
   ],
   "source": [
    "# Import and read csv file \n",
    "df = pd.read_csv(\"../Project3-Luxurybags/Christies Hong Kong March 2025 Cleaned .csv\")\n",
    "# Display Dataframe\n",
    "df\n"
   ]
  },
  {
   "cell_type": "code",
   "execution_count": 289,
   "id": "0b13cd4b-8250-42b2-8888-f5522dca522a",
   "metadata": {},
   "outputs": [
    {
     "name": "stdout",
     "output_type": "stream",
     "text": [
      "<class 'pandas.core.frame.DataFrame'>\n",
      "RangeIndex: 242 entries, 0 to 241\n",
      "Data columns (total 10 columns):\n",
      " #   Column                Non-Null Count  Dtype \n",
      "---  ------                --------------  ----- \n",
      " 0   Lot                   242 non-null    int64 \n",
      " 1   Description           242 non-null    object\n",
      " 2   Brand                 242 non-null    object\n",
      " 3   Type (All Lots)       242 non-null    object\n",
      " 4   Year                  242 non-null    int64 \n",
      " 5   Color                 242 non-null    object\n",
      " 6   Leather               242 non-null    object\n",
      " 7   Hardware              242 non-null    object\n",
      " 8   Estimate (USD)        242 non-null    object\n",
      " 9   Price Realized (USD)  242 non-null    int64 \n",
      "dtypes: int64(3), object(7)\n",
      "memory usage: 19.0+ KB\n",
      "None\n"
     ]
    }
   ],
   "source": [
    "# Extract Info on Data frame\n",
    "print(df.info())\n"
   ]
  },
  {
   "cell_type": "code",
   "execution_count": 290,
   "id": "c1a6a0f8-1c08-4e2e-8a0e-392d375ad171",
   "metadata": {},
   "outputs": [
    {
     "data": {
      "text/html": [
       "<div>\n",
       "<style scoped>\n",
       "    .dataframe tbody tr th:only-of-type {\n",
       "        vertical-align: middle;\n",
       "    }\n",
       "\n",
       "    .dataframe tbody tr th {\n",
       "        vertical-align: top;\n",
       "    }\n",
       "\n",
       "    .dataframe thead th {\n",
       "        text-align: right;\n",
       "    }\n",
       "</style>\n",
       "<table border=\"1\" class=\"dataframe\">\n",
       "  <thead>\n",
       "    <tr style=\"text-align: right;\">\n",
       "      <th></th>\n",
       "      <th>Lot</th>\n",
       "      <th>Description</th>\n",
       "      <th>Brand</th>\n",
       "      <th>Type</th>\n",
       "      <th>Year</th>\n",
       "      <th>Color</th>\n",
       "      <th>Leather</th>\n",
       "      <th>Hardware</th>\n",
       "      <th>Estimate (USD)</th>\n",
       "      <th>Price Realized (USD)</th>\n",
       "    </tr>\n",
       "  </thead>\n",
       "  <tbody>\n",
       "    <tr>\n",
       "      <th>0</th>\n",
       "      <td>1</td>\n",
       "      <td>LIME EVERCOLOR LEATHER MINI ROULIS WITH PALLAD...</td>\n",
       "      <td>HERMÈS</td>\n",
       "      <td>Mini Roulis</td>\n",
       "      <td>2022</td>\n",
       "      <td>Green</td>\n",
       "      <td>Evercolor</td>\n",
       "      <td>Palladium</td>\n",
       "      <td>5,100−7,700</td>\n",
       "      <td>6100</td>\n",
       "    </tr>\n",
       "    <tr>\n",
       "      <th>1</th>\n",
       "      <td>2</td>\n",
       "      <td>LIMITED EDITION LIME &amp; PEARL GRAY EPSOM LEATHE...</td>\n",
       "      <td>HERMÈS</td>\n",
       "      <td>Kelly 32, Limited Edition</td>\n",
       "      <td>2011</td>\n",
       "      <td>Yellow</td>\n",
       "      <td>Epsom</td>\n",
       "      <td>Palladium</td>\n",
       "      <td>7,700−12,800</td>\n",
       "      <td>9700</td>\n",
       "    </tr>\n",
       "    <tr>\n",
       "      <th>2</th>\n",
       "      <td>3</td>\n",
       "      <td>LIMITED EDITION LIME &amp; PEARL GRAY EPSOM LEATHE...</td>\n",
       "      <td>HERMÈS</td>\n",
       "      <td>Birkin 35, Limited Edition</td>\n",
       "      <td>2011</td>\n",
       "      <td>Yellow</td>\n",
       "      <td>Epsom</td>\n",
       "      <td>Palladium</td>\n",
       "      <td>7,700−12,800</td>\n",
       "      <td>12100</td>\n",
       "    </tr>\n",
       "    <tr>\n",
       "      <th>3</th>\n",
       "      <td>4</td>\n",
       "      <td>SHINY MIMOSA NILOTICUS LIZARD SMALL CONSTANCE ...</td>\n",
       "      <td>HERMÈS</td>\n",
       "      <td>Constance Wallet</td>\n",
       "      <td>2011</td>\n",
       "      <td>Yellow</td>\n",
       "      <td>Lizard</td>\n",
       "      <td>Palladium</td>\n",
       "      <td>2,600−3,800</td>\n",
       "      <td>2300</td>\n",
       "    </tr>\n",
       "    <tr>\n",
       "      <th>4</th>\n",
       "      <td>5</td>\n",
       "      <td>NAPLES YELLOW EPSOM LEATHER CONSTANCE TO GO</td>\n",
       "      <td>HERMÈS</td>\n",
       "      <td>Constance To Go</td>\n",
       "      <td>2023</td>\n",
       "      <td>Yellow</td>\n",
       "      <td>Epsom</td>\n",
       "      <td>Gold</td>\n",
       "      <td>5,100−7,700</td>\n",
       "      <td>5600</td>\n",
       "    </tr>\n",
       "    <tr>\n",
       "      <th>...</th>\n",
       "      <td>...</td>\n",
       "      <td>...</td>\n",
       "      <td>...</td>\n",
       "      <td>...</td>\n",
       "      <td>...</td>\n",
       "      <td>...</td>\n",
       "      <td>...</td>\n",
       "      <td>...</td>\n",
       "      <td>...</td>\n",
       "      <td>...</td>\n",
       "    </tr>\n",
       "    <tr>\n",
       "      <th>237</th>\n",
       "      <td>254</td>\n",
       "      <td>LIMITED EDITION PAINTED PUMPKIN MONOGRAM KEEPA...</td>\n",
       "      <td>LOUIS VUITTON</td>\n",
       "      <td>Keepall Bandoulière 45, Limited Edition</td>\n",
       "      <td>2023</td>\n",
       "      <td>Multi Color</td>\n",
       "      <td>Canvas</td>\n",
       "      <td>Gold</td>\n",
       "      <td>2,600−3,600</td>\n",
       "      <td>4800</td>\n",
       "    </tr>\n",
       "    <tr>\n",
       "      <th>238</th>\n",
       "      <td>256</td>\n",
       "      <td>LIMITED EDITION BLACK TAURILLON LEATHER INFINI...</td>\n",
       "      <td>LOUIS VUITTON</td>\n",
       "      <td>Christopher Backpack MM, Limited Edition</td>\n",
       "      <td>2023</td>\n",
       "      <td>Black</td>\n",
       "      <td>Taurillon</td>\n",
       "      <td>Black</td>\n",
       "      <td>3,800−5,100</td>\n",
       "      <td>3500</td>\n",
       "    </tr>\n",
       "    <tr>\n",
       "      <th>239</th>\n",
       "      <td>257</td>\n",
       "      <td>ABSOLUTE BLACK MONOGRAM TAURILLON LEATHER KEEP...</td>\n",
       "      <td>LOUIS VUITTON</td>\n",
       "      <td>Keepall Bandoulière 50</td>\n",
       "      <td>2019</td>\n",
       "      <td>Black</td>\n",
       "      <td>Taurillon</td>\n",
       "      <td>Black &amp; Orange</td>\n",
       "      <td>2,600−3,600</td>\n",
       "      <td>4200</td>\n",
       "    </tr>\n",
       "    <tr>\n",
       "      <th>240</th>\n",
       "      <td>258</td>\n",
       "      <td>LIMITED EDITION BLACK EMPREINTE LEATHER TOTE B...</td>\n",
       "      <td>LOUIS VUITTON</td>\n",
       "      <td>Tote Bag, Limited Edition</td>\n",
       "      <td>2008</td>\n",
       "      <td>Black</td>\n",
       "      <td>Empreinte</td>\n",
       "      <td>Black</td>\n",
       "      <td>3,800−5,100</td>\n",
       "      <td>4800</td>\n",
       "    </tr>\n",
       "    <tr>\n",
       "      <th>241</th>\n",
       "      <td>259</td>\n",
       "      <td>LIMITED EDITION PAINTED MONOGRAM COURRIER LOZI...</td>\n",
       "      <td>LOUIS VUITTON</td>\n",
       "      <td>Courrier Lozine Trunk 110, Limited Edition</td>\n",
       "      <td>2021</td>\n",
       "      <td>Multi Color</td>\n",
       "      <td>Canvas</td>\n",
       "      <td>Black</td>\n",
       "      <td>38,400−51,200</td>\n",
       "      <td>48400</td>\n",
       "    </tr>\n",
       "  </tbody>\n",
       "</table>\n",
       "<p>242 rows × 10 columns</p>\n",
       "</div>"
      ],
      "text/plain": [
       "     Lot                                        Description          Brand  \\\n",
       "0      1  LIME EVERCOLOR LEATHER MINI ROULIS WITH PALLAD...         HERMÈS   \n",
       "1      2  LIMITED EDITION LIME & PEARL GRAY EPSOM LEATHE...         HERMÈS   \n",
       "2      3  LIMITED EDITION LIME & PEARL GRAY EPSOM LEATHE...         HERMÈS   \n",
       "3      4  SHINY MIMOSA NILOTICUS LIZARD SMALL CONSTANCE ...         HERMÈS   \n",
       "4      5        NAPLES YELLOW EPSOM LEATHER CONSTANCE TO GO         HERMÈS   \n",
       "..   ...                                                ...            ...   \n",
       "237  254  LIMITED EDITION PAINTED PUMPKIN MONOGRAM KEEPA...  LOUIS VUITTON   \n",
       "238  256  LIMITED EDITION BLACK TAURILLON LEATHER INFINI...  LOUIS VUITTON   \n",
       "239  257  ABSOLUTE BLACK MONOGRAM TAURILLON LEATHER KEEP...  LOUIS VUITTON   \n",
       "240  258  LIMITED EDITION BLACK EMPREINTE LEATHER TOTE B...  LOUIS VUITTON   \n",
       "241  259  LIMITED EDITION PAINTED MONOGRAM COURRIER LOZI...  LOUIS VUITTON   \n",
       "\n",
       "                                           Type  Year        Color    Leather  \\\n",
       "0                                   Mini Roulis  2022        Green  Evercolor   \n",
       "1                     Kelly 32, Limited Edition  2011       Yellow      Epsom   \n",
       "2                    Birkin 35, Limited Edition  2011       Yellow      Epsom   \n",
       "3                              Constance Wallet  2011       Yellow     Lizard   \n",
       "4                               Constance To Go  2023       Yellow      Epsom   \n",
       "..                                          ...   ...          ...        ...   \n",
       "237     Keepall Bandoulière 45, Limited Edition  2023  Multi Color     Canvas   \n",
       "238    Christopher Backpack MM, Limited Edition  2023        Black  Taurillon   \n",
       "239                      Keepall Bandoulière 50  2019        Black  Taurillon   \n",
       "240                   Tote Bag, Limited Edition  2008        Black  Empreinte   \n",
       "241  Courrier Lozine Trunk 110, Limited Edition  2021  Multi Color     Canvas   \n",
       "\n",
       "           Hardware Estimate (USD)  Price Realized (USD)  \n",
       "0         Palladium    5,100−7,700                  6100  \n",
       "1         Palladium   7,700−12,800                  9700  \n",
       "2         Palladium   7,700−12,800                 12100  \n",
       "3         Palladium    2,600−3,800                  2300  \n",
       "4              Gold    5,100−7,700                  5600  \n",
       "..              ...            ...                   ...  \n",
       "237            Gold    2,600−3,600                  4800  \n",
       "238           Black    3,800−5,100                  3500  \n",
       "239  Black & Orange    2,600−3,600                  4200  \n",
       "240           Black    3,800−5,100                  4800  \n",
       "241           Black  38,400−51,200                 48400  \n",
       "\n",
       "[242 rows x 10 columns]"
      ]
     },
     "execution_count": 290,
     "metadata": {},
     "output_type": "execute_result"
    }
   ],
   "source": [
    "# Rename Type (All Lots) to Type\n",
    "df.rename(columns={'Type (All Lots)': 'Type'}, inplace=True)\n",
    "# Display Dataframe\n",
    "df\n"
   ]
  },
  {
   "cell_type": "code",
   "execution_count": 291,
   "id": "d31b6ae5",
   "metadata": {},
   "outputs": [
    {
     "data": {
      "text/html": [
       "<div>\n",
       "<style scoped>\n",
       "    .dataframe tbody tr th:only-of-type {\n",
       "        vertical-align: middle;\n",
       "    }\n",
       "\n",
       "    .dataframe tbody tr th {\n",
       "        vertical-align: top;\n",
       "    }\n",
       "\n",
       "    .dataframe thead th {\n",
       "        text-align: right;\n",
       "    }\n",
       "</style>\n",
       "<table border=\"1\" class=\"dataframe\">\n",
       "  <thead>\n",
       "    <tr style=\"text-align: right;\">\n",
       "      <th></th>\n",
       "      <th>Lot</th>\n",
       "      <th>Description</th>\n",
       "      <th>Brand</th>\n",
       "      <th>Type</th>\n",
       "      <th>Year</th>\n",
       "      <th>Color</th>\n",
       "      <th>Leather</th>\n",
       "      <th>Hardware</th>\n",
       "      <th>Estimate (USD)</th>\n",
       "      <th>Price Realized (USD)</th>\n",
       "    </tr>\n",
       "  </thead>\n",
       "  <tbody>\n",
       "    <tr>\n",
       "      <th>1</th>\n",
       "      <td>1</td>\n",
       "      <td>LIME EVERCOLOR LEATHER MINI ROULIS WITH PALLAD...</td>\n",
       "      <td>HERMÈS</td>\n",
       "      <td>Mini Roulis</td>\n",
       "      <td>2022</td>\n",
       "      <td>Green</td>\n",
       "      <td>Evercolor</td>\n",
       "      <td>Palladium</td>\n",
       "      <td>5,100−7,700</td>\n",
       "      <td>6100</td>\n",
       "    </tr>\n",
       "    <tr>\n",
       "      <th>2</th>\n",
       "      <td>2</td>\n",
       "      <td>LIMITED EDITION LIME &amp; PEARL GRAY EPSOM LEATHE...</td>\n",
       "      <td>HERMÈS</td>\n",
       "      <td>Kelly 32, Limited Edition</td>\n",
       "      <td>2011</td>\n",
       "      <td>Yellow</td>\n",
       "      <td>Epsom</td>\n",
       "      <td>Palladium</td>\n",
       "      <td>7,700−12,800</td>\n",
       "      <td>9700</td>\n",
       "    </tr>\n",
       "    <tr>\n",
       "      <th>3</th>\n",
       "      <td>3</td>\n",
       "      <td>LIMITED EDITION LIME &amp; PEARL GRAY EPSOM LEATHE...</td>\n",
       "      <td>HERMÈS</td>\n",
       "      <td>Birkin 35, Limited Edition</td>\n",
       "      <td>2011</td>\n",
       "      <td>Yellow</td>\n",
       "      <td>Epsom</td>\n",
       "      <td>Palladium</td>\n",
       "      <td>7,700−12,800</td>\n",
       "      <td>12100</td>\n",
       "    </tr>\n",
       "    <tr>\n",
       "      <th>4</th>\n",
       "      <td>4</td>\n",
       "      <td>SHINY MIMOSA NILOTICUS LIZARD SMALL CONSTANCE ...</td>\n",
       "      <td>HERMÈS</td>\n",
       "      <td>Constance Wallet</td>\n",
       "      <td>2011</td>\n",
       "      <td>Yellow</td>\n",
       "      <td>Lizard</td>\n",
       "      <td>Palladium</td>\n",
       "      <td>2,600−3,800</td>\n",
       "      <td>2300</td>\n",
       "    </tr>\n",
       "    <tr>\n",
       "      <th>5</th>\n",
       "      <td>5</td>\n",
       "      <td>NAPLES YELLOW EPSOM LEATHER CONSTANCE TO GO</td>\n",
       "      <td>HERMÈS</td>\n",
       "      <td>Constance To Go</td>\n",
       "      <td>2023</td>\n",
       "      <td>Yellow</td>\n",
       "      <td>Epsom</td>\n",
       "      <td>Gold</td>\n",
       "      <td>5,100−7,700</td>\n",
       "      <td>5600</td>\n",
       "    </tr>\n",
       "    <tr>\n",
       "      <th>...</th>\n",
       "      <td>...</td>\n",
       "      <td>...</td>\n",
       "      <td>...</td>\n",
       "      <td>...</td>\n",
       "      <td>...</td>\n",
       "      <td>...</td>\n",
       "      <td>...</td>\n",
       "      <td>...</td>\n",
       "      <td>...</td>\n",
       "      <td>...</td>\n",
       "    </tr>\n",
       "    <tr>\n",
       "      <th>238</th>\n",
       "      <td>254</td>\n",
       "      <td>LIMITED EDITION PAINTED PUMPKIN MONOGRAM KEEPA...</td>\n",
       "      <td>LOUIS VUITTON</td>\n",
       "      <td>Keepall Bandoulière 45, Limited Edition</td>\n",
       "      <td>2023</td>\n",
       "      <td>Multi Color</td>\n",
       "      <td>Canvas</td>\n",
       "      <td>Gold</td>\n",
       "      <td>2,600−3,600</td>\n",
       "      <td>4800</td>\n",
       "    </tr>\n",
       "    <tr>\n",
       "      <th>239</th>\n",
       "      <td>256</td>\n",
       "      <td>LIMITED EDITION BLACK TAURILLON LEATHER INFINI...</td>\n",
       "      <td>LOUIS VUITTON</td>\n",
       "      <td>Christopher Backpack MM, Limited Edition</td>\n",
       "      <td>2023</td>\n",
       "      <td>Black</td>\n",
       "      <td>Taurillon</td>\n",
       "      <td>Black</td>\n",
       "      <td>3,800−5,100</td>\n",
       "      <td>3500</td>\n",
       "    </tr>\n",
       "    <tr>\n",
       "      <th>240</th>\n",
       "      <td>257</td>\n",
       "      <td>ABSOLUTE BLACK MONOGRAM TAURILLON LEATHER KEEP...</td>\n",
       "      <td>LOUIS VUITTON</td>\n",
       "      <td>Keepall Bandoulière 50</td>\n",
       "      <td>2019</td>\n",
       "      <td>Black</td>\n",
       "      <td>Taurillon</td>\n",
       "      <td>Black &amp; Orange</td>\n",
       "      <td>2,600−3,600</td>\n",
       "      <td>4200</td>\n",
       "    </tr>\n",
       "    <tr>\n",
       "      <th>241</th>\n",
       "      <td>258</td>\n",
       "      <td>LIMITED EDITION BLACK EMPREINTE LEATHER TOTE B...</td>\n",
       "      <td>LOUIS VUITTON</td>\n",
       "      <td>Tote Bag, Limited Edition</td>\n",
       "      <td>2008</td>\n",
       "      <td>Black</td>\n",
       "      <td>Empreinte</td>\n",
       "      <td>Black</td>\n",
       "      <td>3,800−5,100</td>\n",
       "      <td>4800</td>\n",
       "    </tr>\n",
       "    <tr>\n",
       "      <th>242</th>\n",
       "      <td>259</td>\n",
       "      <td>LIMITED EDITION PAINTED MONOGRAM COURRIER LOZI...</td>\n",
       "      <td>LOUIS VUITTON</td>\n",
       "      <td>Courrier Lozine Trunk 110, Limited Edition</td>\n",
       "      <td>2021</td>\n",
       "      <td>Multi Color</td>\n",
       "      <td>Canvas</td>\n",
       "      <td>Black</td>\n",
       "      <td>38,400−51,200</td>\n",
       "      <td>48400</td>\n",
       "    </tr>\n",
       "  </tbody>\n",
       "</table>\n",
       "<p>242 rows × 10 columns</p>\n",
       "</div>"
      ],
      "text/plain": [
       "     Lot                                        Description          Brand  \\\n",
       "1      1  LIME EVERCOLOR LEATHER MINI ROULIS WITH PALLAD...         HERMÈS   \n",
       "2      2  LIMITED EDITION LIME & PEARL GRAY EPSOM LEATHE...         HERMÈS   \n",
       "3      3  LIMITED EDITION LIME & PEARL GRAY EPSOM LEATHE...         HERMÈS   \n",
       "4      4  SHINY MIMOSA NILOTICUS LIZARD SMALL CONSTANCE ...         HERMÈS   \n",
       "5      5        NAPLES YELLOW EPSOM LEATHER CONSTANCE TO GO         HERMÈS   \n",
       "..   ...                                                ...            ...   \n",
       "238  254  LIMITED EDITION PAINTED PUMPKIN MONOGRAM KEEPA...  LOUIS VUITTON   \n",
       "239  256  LIMITED EDITION BLACK TAURILLON LEATHER INFINI...  LOUIS VUITTON   \n",
       "240  257  ABSOLUTE BLACK MONOGRAM TAURILLON LEATHER KEEP...  LOUIS VUITTON   \n",
       "241  258  LIMITED EDITION BLACK EMPREINTE LEATHER TOTE B...  LOUIS VUITTON   \n",
       "242  259  LIMITED EDITION PAINTED MONOGRAM COURRIER LOZI...  LOUIS VUITTON   \n",
       "\n",
       "                                           Type  Year        Color    Leather  \\\n",
       "1                                   Mini Roulis  2022        Green  Evercolor   \n",
       "2                     Kelly 32, Limited Edition  2011       Yellow      Epsom   \n",
       "3                    Birkin 35, Limited Edition  2011       Yellow      Epsom   \n",
       "4                              Constance Wallet  2011       Yellow     Lizard   \n",
       "5                               Constance To Go  2023       Yellow      Epsom   \n",
       "..                                          ...   ...          ...        ...   \n",
       "238     Keepall Bandoulière 45, Limited Edition  2023  Multi Color     Canvas   \n",
       "239    Christopher Backpack MM, Limited Edition  2023        Black  Taurillon   \n",
       "240                      Keepall Bandoulière 50  2019        Black  Taurillon   \n",
       "241                   Tote Bag, Limited Edition  2008        Black  Empreinte   \n",
       "242  Courrier Lozine Trunk 110, Limited Edition  2021  Multi Color     Canvas   \n",
       "\n",
       "           Hardware Estimate (USD)  Price Realized (USD)  \n",
       "1         Palladium    5,100−7,700                  6100  \n",
       "2         Palladium   7,700−12,800                  9700  \n",
       "3         Palladium   7,700−12,800                 12100  \n",
       "4         Palladium    2,600−3,800                  2300  \n",
       "5              Gold    5,100−7,700                  5600  \n",
       "..              ...            ...                   ...  \n",
       "238            Gold    2,600−3,600                  4800  \n",
       "239           Black    3,800−5,100                  3500  \n",
       "240  Black & Orange    2,600−3,600                  4200  \n",
       "241           Black    3,800−5,100                  4800  \n",
       "242           Black  38,400−51,200                 48400  \n",
       "\n",
       "[242 rows x 10 columns]"
      ]
     },
     "execution_count": 291,
     "metadata": {},
     "output_type": "execute_result"
    }
   ],
   "source": [
    "# Reset the Index making sure it starts at 1 instead of 0\n",
    "df = df.reset_index(drop=True)  # Reset index and drop the old one\n",
    "df.index = df.index + 1  # Start at 1\n",
    "# Display Dataframe\n",
    "df"
   ]
  },
  {
   "cell_type": "code",
   "execution_count": 292,
   "id": "27618a7d-3cf1-499a-9855-499abf91d51e",
   "metadata": {},
   "outputs": [
    {
     "data": {
      "text/html": [
       "<div>\n",
       "<style scoped>\n",
       "    .dataframe tbody tr th:only-of-type {\n",
       "        vertical-align: middle;\n",
       "    }\n",
       "\n",
       "    .dataframe tbody tr th {\n",
       "        vertical-align: top;\n",
       "    }\n",
       "\n",
       "    .dataframe thead th {\n",
       "        text-align: right;\n",
       "    }\n",
       "</style>\n",
       "<table border=\"1\" class=\"dataframe\">\n",
       "  <thead>\n",
       "    <tr style=\"text-align: right;\">\n",
       "      <th></th>\n",
       "      <th>Lot</th>\n",
       "      <th>Description</th>\n",
       "      <th>Brand</th>\n",
       "      <th>Type</th>\n",
       "      <th>Year</th>\n",
       "      <th>Color</th>\n",
       "      <th>Leather</th>\n",
       "      <th>Hardware</th>\n",
       "      <th>Estimate (USD)</th>\n",
       "      <th>Price Realized (USD)</th>\n",
       "      <th>Lower Estimate (USD)</th>\n",
       "      <th>Higher Estimate (USD)</th>\n",
       "    </tr>\n",
       "  </thead>\n",
       "  <tbody>\n",
       "    <tr>\n",
       "      <th>1</th>\n",
       "      <td>1</td>\n",
       "      <td>LIME EVERCOLOR LEATHER MINI ROULIS WITH PALLAD...</td>\n",
       "      <td>HERMÈS</td>\n",
       "      <td>Mini Roulis</td>\n",
       "      <td>2022</td>\n",
       "      <td>Green</td>\n",
       "      <td>Evercolor</td>\n",
       "      <td>Palladium</td>\n",
       "      <td>5100−7700</td>\n",
       "      <td>6100</td>\n",
       "      <td>5100</td>\n",
       "      <td>7700</td>\n",
       "    </tr>\n",
       "    <tr>\n",
       "      <th>2</th>\n",
       "      <td>2</td>\n",
       "      <td>LIMITED EDITION LIME &amp; PEARL GRAY EPSOM LEATHE...</td>\n",
       "      <td>HERMÈS</td>\n",
       "      <td>Kelly 32, Limited Edition</td>\n",
       "      <td>2011</td>\n",
       "      <td>Yellow</td>\n",
       "      <td>Epsom</td>\n",
       "      <td>Palladium</td>\n",
       "      <td>7700−12800</td>\n",
       "      <td>9700</td>\n",
       "      <td>7700</td>\n",
       "      <td>12800</td>\n",
       "    </tr>\n",
       "    <tr>\n",
       "      <th>3</th>\n",
       "      <td>3</td>\n",
       "      <td>LIMITED EDITION LIME &amp; PEARL GRAY EPSOM LEATHE...</td>\n",
       "      <td>HERMÈS</td>\n",
       "      <td>Birkin 35, Limited Edition</td>\n",
       "      <td>2011</td>\n",
       "      <td>Yellow</td>\n",
       "      <td>Epsom</td>\n",
       "      <td>Palladium</td>\n",
       "      <td>7700−12800</td>\n",
       "      <td>12100</td>\n",
       "      <td>7700</td>\n",
       "      <td>12800</td>\n",
       "    </tr>\n",
       "    <tr>\n",
       "      <th>4</th>\n",
       "      <td>4</td>\n",
       "      <td>SHINY MIMOSA NILOTICUS LIZARD SMALL CONSTANCE ...</td>\n",
       "      <td>HERMÈS</td>\n",
       "      <td>Constance Wallet</td>\n",
       "      <td>2011</td>\n",
       "      <td>Yellow</td>\n",
       "      <td>Lizard</td>\n",
       "      <td>Palladium</td>\n",
       "      <td>2600−3800</td>\n",
       "      <td>2300</td>\n",
       "      <td>2600</td>\n",
       "      <td>3800</td>\n",
       "    </tr>\n",
       "    <tr>\n",
       "      <th>5</th>\n",
       "      <td>5</td>\n",
       "      <td>NAPLES YELLOW EPSOM LEATHER CONSTANCE TO GO</td>\n",
       "      <td>HERMÈS</td>\n",
       "      <td>Constance To Go</td>\n",
       "      <td>2023</td>\n",
       "      <td>Yellow</td>\n",
       "      <td>Epsom</td>\n",
       "      <td>Gold</td>\n",
       "      <td>5100−7700</td>\n",
       "      <td>5600</td>\n",
       "      <td>5100</td>\n",
       "      <td>7700</td>\n",
       "    </tr>\n",
       "    <tr>\n",
       "      <th>...</th>\n",
       "      <td>...</td>\n",
       "      <td>...</td>\n",
       "      <td>...</td>\n",
       "      <td>...</td>\n",
       "      <td>...</td>\n",
       "      <td>...</td>\n",
       "      <td>...</td>\n",
       "      <td>...</td>\n",
       "      <td>...</td>\n",
       "      <td>...</td>\n",
       "      <td>...</td>\n",
       "      <td>...</td>\n",
       "    </tr>\n",
       "    <tr>\n",
       "      <th>238</th>\n",
       "      <td>254</td>\n",
       "      <td>LIMITED EDITION PAINTED PUMPKIN MONOGRAM KEEPA...</td>\n",
       "      <td>LOUIS VUITTON</td>\n",
       "      <td>Keepall Bandoulière 45, Limited Edition</td>\n",
       "      <td>2023</td>\n",
       "      <td>Multi Color</td>\n",
       "      <td>Canvas</td>\n",
       "      <td>Gold</td>\n",
       "      <td>2600−3600</td>\n",
       "      <td>4800</td>\n",
       "      <td>2600</td>\n",
       "      <td>3600</td>\n",
       "    </tr>\n",
       "    <tr>\n",
       "      <th>239</th>\n",
       "      <td>256</td>\n",
       "      <td>LIMITED EDITION BLACK TAURILLON LEATHER INFINI...</td>\n",
       "      <td>LOUIS VUITTON</td>\n",
       "      <td>Christopher Backpack MM, Limited Edition</td>\n",
       "      <td>2023</td>\n",
       "      <td>Black</td>\n",
       "      <td>Taurillon</td>\n",
       "      <td>Black</td>\n",
       "      <td>3800−5100</td>\n",
       "      <td>3500</td>\n",
       "      <td>3800</td>\n",
       "      <td>5100</td>\n",
       "    </tr>\n",
       "    <tr>\n",
       "      <th>240</th>\n",
       "      <td>257</td>\n",
       "      <td>ABSOLUTE BLACK MONOGRAM TAURILLON LEATHER KEEP...</td>\n",
       "      <td>LOUIS VUITTON</td>\n",
       "      <td>Keepall Bandoulière 50</td>\n",
       "      <td>2019</td>\n",
       "      <td>Black</td>\n",
       "      <td>Taurillon</td>\n",
       "      <td>Black &amp; Orange</td>\n",
       "      <td>2600−3600</td>\n",
       "      <td>4200</td>\n",
       "      <td>2600</td>\n",
       "      <td>3600</td>\n",
       "    </tr>\n",
       "    <tr>\n",
       "      <th>241</th>\n",
       "      <td>258</td>\n",
       "      <td>LIMITED EDITION BLACK EMPREINTE LEATHER TOTE B...</td>\n",
       "      <td>LOUIS VUITTON</td>\n",
       "      <td>Tote Bag, Limited Edition</td>\n",
       "      <td>2008</td>\n",
       "      <td>Black</td>\n",
       "      <td>Empreinte</td>\n",
       "      <td>Black</td>\n",
       "      <td>3800−5100</td>\n",
       "      <td>4800</td>\n",
       "      <td>3800</td>\n",
       "      <td>5100</td>\n",
       "    </tr>\n",
       "    <tr>\n",
       "      <th>242</th>\n",
       "      <td>259</td>\n",
       "      <td>LIMITED EDITION PAINTED MONOGRAM COURRIER LOZI...</td>\n",
       "      <td>LOUIS VUITTON</td>\n",
       "      <td>Courrier Lozine Trunk 110, Limited Edition</td>\n",
       "      <td>2021</td>\n",
       "      <td>Multi Color</td>\n",
       "      <td>Canvas</td>\n",
       "      <td>Black</td>\n",
       "      <td>38400−51200</td>\n",
       "      <td>48400</td>\n",
       "      <td>38400</td>\n",
       "      <td>51200</td>\n",
       "    </tr>\n",
       "  </tbody>\n",
       "</table>\n",
       "<p>242 rows × 12 columns</p>\n",
       "</div>"
      ],
      "text/plain": [
       "     Lot                                        Description          Brand  \\\n",
       "1      1  LIME EVERCOLOR LEATHER MINI ROULIS WITH PALLAD...         HERMÈS   \n",
       "2      2  LIMITED EDITION LIME & PEARL GRAY EPSOM LEATHE...         HERMÈS   \n",
       "3      3  LIMITED EDITION LIME & PEARL GRAY EPSOM LEATHE...         HERMÈS   \n",
       "4      4  SHINY MIMOSA NILOTICUS LIZARD SMALL CONSTANCE ...         HERMÈS   \n",
       "5      5        NAPLES YELLOW EPSOM LEATHER CONSTANCE TO GO         HERMÈS   \n",
       "..   ...                                                ...            ...   \n",
       "238  254  LIMITED EDITION PAINTED PUMPKIN MONOGRAM KEEPA...  LOUIS VUITTON   \n",
       "239  256  LIMITED EDITION BLACK TAURILLON LEATHER INFINI...  LOUIS VUITTON   \n",
       "240  257  ABSOLUTE BLACK MONOGRAM TAURILLON LEATHER KEEP...  LOUIS VUITTON   \n",
       "241  258  LIMITED EDITION BLACK EMPREINTE LEATHER TOTE B...  LOUIS VUITTON   \n",
       "242  259  LIMITED EDITION PAINTED MONOGRAM COURRIER LOZI...  LOUIS VUITTON   \n",
       "\n",
       "                                           Type  Year        Color    Leather  \\\n",
       "1                                   Mini Roulis  2022        Green  Evercolor   \n",
       "2                     Kelly 32, Limited Edition  2011       Yellow      Epsom   \n",
       "3                    Birkin 35, Limited Edition  2011       Yellow      Epsom   \n",
       "4                              Constance Wallet  2011       Yellow     Lizard   \n",
       "5                               Constance To Go  2023       Yellow      Epsom   \n",
       "..                                          ...   ...          ...        ...   \n",
       "238     Keepall Bandoulière 45, Limited Edition  2023  Multi Color     Canvas   \n",
       "239    Christopher Backpack MM, Limited Edition  2023        Black  Taurillon   \n",
       "240                      Keepall Bandoulière 50  2019        Black  Taurillon   \n",
       "241                   Tote Bag, Limited Edition  2008        Black  Empreinte   \n",
       "242  Courrier Lozine Trunk 110, Limited Edition  2021  Multi Color     Canvas   \n",
       "\n",
       "           Hardware Estimate (USD)  Price Realized (USD)  \\\n",
       "1         Palladium      5100−7700                  6100   \n",
       "2         Palladium     7700−12800                  9700   \n",
       "3         Palladium     7700−12800                 12100   \n",
       "4         Palladium      2600−3800                  2300   \n",
       "5              Gold      5100−7700                  5600   \n",
       "..              ...            ...                   ...   \n",
       "238            Gold      2600−3600                  4800   \n",
       "239           Black      3800−5100                  3500   \n",
       "240  Black & Orange      2600−3600                  4200   \n",
       "241           Black      3800−5100                  4800   \n",
       "242           Black    38400−51200                 48400   \n",
       "\n",
       "     Lower Estimate (USD)  Higher Estimate (USD)  \n",
       "1                    5100                   7700  \n",
       "2                    7700                  12800  \n",
       "3                    7700                  12800  \n",
       "4                    2600                   3800  \n",
       "5                    5100                   7700  \n",
       "..                    ...                    ...  \n",
       "238                  2600                   3600  \n",
       "239                  3800                   5100  \n",
       "240                  2600                   3600  \n",
       "241                  3800                   5100  \n",
       "242                 38400                  51200  \n",
       "\n",
       "[242 rows x 12 columns]"
      ]
     },
     "execution_count": 292,
     "metadata": {},
     "output_type": "execute_result"
    }
   ],
   "source": [
    "# Split 'Estimate (USD)' into 'Lower Estimate' & 'Higher Estimate'\n",
    "# Ensure consistent separator and remove commas\n",
    "df[\"Estimate (USD)\"] = df[\"Estimate (USD)\"].str.replace(\",\", \"\", regex=True)\n",
    "df[[\"Lower Estimate (USD)\", \"Higher Estimate (USD)\"]] = df[\"Estimate (USD)\"].str.split(\"−\", expand=True)\n",
    "\n",
    "# Convert to numeric instead of object\n",
    "df[\"Lower Estimate (USD)\"] = pd.to_numeric(df[\"Lower Estimate (USD)\"])\n",
    "df[\"Higher Estimate (USD)\"] = pd.to_numeric(df[\"Higher Estimate (USD)\"])\n",
    "\n",
    "# Show results\n",
    "df"
   ]
  },
  {
   "cell_type": "code",
   "execution_count": 293,
   "id": "57fe5b1f",
   "metadata": {},
   "outputs": [
    {
     "name": "stdout",
     "output_type": "stream",
     "text": [
      "<class 'pandas.core.frame.DataFrame'>\n",
      "RangeIndex: 242 entries, 1 to 242\n",
      "Data columns (total 12 columns):\n",
      " #   Column                 Non-Null Count  Dtype \n",
      "---  ------                 --------------  ----- \n",
      " 0   Lot                    242 non-null    int64 \n",
      " 1   Description            242 non-null    object\n",
      " 2   Brand                  242 non-null    object\n",
      " 3   Type                   242 non-null    object\n",
      " 4   Year                   242 non-null    int64 \n",
      " 5   Color                  242 non-null    object\n",
      " 6   Leather                242 non-null    object\n",
      " 7   Hardware               242 non-null    object\n",
      " 8   Estimate (USD)         242 non-null    object\n",
      " 9   Price Realized (USD)   242 non-null    int64 \n",
      " 10  Lower Estimate (USD)   242 non-null    int64 \n",
      " 11  Higher Estimate (USD)  242 non-null    int64 \n",
      "dtypes: int64(5), object(7)\n",
      "memory usage: 22.8+ KB\n",
      "None\n"
     ]
    }
   ],
   "source": [
    "# print new data info after adjustments were made \n",
    "print(df.info())"
   ]
  },
  {
   "cell_type": "code",
   "execution_count": 294,
   "id": "93e0c199-44b9-4bd9-b516-d0c336c61976",
   "metadata": {},
   "outputs": [
    {
     "data": {
      "text/html": [
       "<div>\n",
       "<style scoped>\n",
       "    .dataframe tbody tr th:only-of-type {\n",
       "        vertical-align: middle;\n",
       "    }\n",
       "\n",
       "    .dataframe tbody tr th {\n",
       "        vertical-align: top;\n",
       "    }\n",
       "\n",
       "    .dataframe thead th {\n",
       "        text-align: right;\n",
       "    }\n",
       "</style>\n",
       "<table border=\"1\" class=\"dataframe\">\n",
       "  <thead>\n",
       "    <tr style=\"text-align: right;\">\n",
       "      <th></th>\n",
       "      <th>Lot</th>\n",
       "      <th>Description</th>\n",
       "      <th>Brand</th>\n",
       "      <th>Type</th>\n",
       "      <th>Year</th>\n",
       "      <th>Color</th>\n",
       "      <th>Leather</th>\n",
       "      <th>Hardware</th>\n",
       "      <th>Estimate (USD)</th>\n",
       "      <th>Lower Estimate (USD)</th>\n",
       "      <th>Higher Estimate (USD)</th>\n",
       "      <th>Price Realized (USD)</th>\n",
       "    </tr>\n",
       "  </thead>\n",
       "  <tbody>\n",
       "    <tr>\n",
       "      <th>1</th>\n",
       "      <td>1</td>\n",
       "      <td>LIME EVERCOLOR LEATHER MINI ROULIS WITH PALLAD...</td>\n",
       "      <td>HERMÈS</td>\n",
       "      <td>Mini Roulis</td>\n",
       "      <td>2022</td>\n",
       "      <td>Green</td>\n",
       "      <td>Evercolor</td>\n",
       "      <td>Palladium</td>\n",
       "      <td>5100−7700</td>\n",
       "      <td>5100</td>\n",
       "      <td>7700</td>\n",
       "      <td>6100</td>\n",
       "    </tr>\n",
       "    <tr>\n",
       "      <th>2</th>\n",
       "      <td>2</td>\n",
       "      <td>LIMITED EDITION LIME &amp; PEARL GRAY EPSOM LEATHE...</td>\n",
       "      <td>HERMÈS</td>\n",
       "      <td>Kelly 32, Limited Edition</td>\n",
       "      <td>2011</td>\n",
       "      <td>Yellow</td>\n",
       "      <td>Epsom</td>\n",
       "      <td>Palladium</td>\n",
       "      <td>7700−12800</td>\n",
       "      <td>7700</td>\n",
       "      <td>12800</td>\n",
       "      <td>9700</td>\n",
       "    </tr>\n",
       "    <tr>\n",
       "      <th>3</th>\n",
       "      <td>3</td>\n",
       "      <td>LIMITED EDITION LIME &amp; PEARL GRAY EPSOM LEATHE...</td>\n",
       "      <td>HERMÈS</td>\n",
       "      <td>Birkin 35, Limited Edition</td>\n",
       "      <td>2011</td>\n",
       "      <td>Yellow</td>\n",
       "      <td>Epsom</td>\n",
       "      <td>Palladium</td>\n",
       "      <td>7700−12800</td>\n",
       "      <td>7700</td>\n",
       "      <td>12800</td>\n",
       "      <td>12100</td>\n",
       "    </tr>\n",
       "    <tr>\n",
       "      <th>4</th>\n",
       "      <td>4</td>\n",
       "      <td>SHINY MIMOSA NILOTICUS LIZARD SMALL CONSTANCE ...</td>\n",
       "      <td>HERMÈS</td>\n",
       "      <td>Constance Wallet</td>\n",
       "      <td>2011</td>\n",
       "      <td>Yellow</td>\n",
       "      <td>Lizard</td>\n",
       "      <td>Palladium</td>\n",
       "      <td>2600−3800</td>\n",
       "      <td>2600</td>\n",
       "      <td>3800</td>\n",
       "      <td>2300</td>\n",
       "    </tr>\n",
       "    <tr>\n",
       "      <th>5</th>\n",
       "      <td>5</td>\n",
       "      <td>NAPLES YELLOW EPSOM LEATHER CONSTANCE TO GO</td>\n",
       "      <td>HERMÈS</td>\n",
       "      <td>Constance To Go</td>\n",
       "      <td>2023</td>\n",
       "      <td>Yellow</td>\n",
       "      <td>Epsom</td>\n",
       "      <td>Gold</td>\n",
       "      <td>5100−7700</td>\n",
       "      <td>5100</td>\n",
       "      <td>7700</td>\n",
       "      <td>5600</td>\n",
       "    </tr>\n",
       "    <tr>\n",
       "      <th>...</th>\n",
       "      <td>...</td>\n",
       "      <td>...</td>\n",
       "      <td>...</td>\n",
       "      <td>...</td>\n",
       "      <td>...</td>\n",
       "      <td>...</td>\n",
       "      <td>...</td>\n",
       "      <td>...</td>\n",
       "      <td>...</td>\n",
       "      <td>...</td>\n",
       "      <td>...</td>\n",
       "      <td>...</td>\n",
       "    </tr>\n",
       "    <tr>\n",
       "      <th>238</th>\n",
       "      <td>254</td>\n",
       "      <td>LIMITED EDITION PAINTED PUMPKIN MONOGRAM KEEPA...</td>\n",
       "      <td>LOUIS VUITTON</td>\n",
       "      <td>Keepall Bandoulière 45, Limited Edition</td>\n",
       "      <td>2023</td>\n",
       "      <td>Multi Color</td>\n",
       "      <td>Canvas</td>\n",
       "      <td>Gold</td>\n",
       "      <td>2600−3600</td>\n",
       "      <td>2600</td>\n",
       "      <td>3600</td>\n",
       "      <td>4800</td>\n",
       "    </tr>\n",
       "    <tr>\n",
       "      <th>239</th>\n",
       "      <td>256</td>\n",
       "      <td>LIMITED EDITION BLACK TAURILLON LEATHER INFINI...</td>\n",
       "      <td>LOUIS VUITTON</td>\n",
       "      <td>Christopher Backpack MM, Limited Edition</td>\n",
       "      <td>2023</td>\n",
       "      <td>Black</td>\n",
       "      <td>Taurillon</td>\n",
       "      <td>Black</td>\n",
       "      <td>3800−5100</td>\n",
       "      <td>3800</td>\n",
       "      <td>5100</td>\n",
       "      <td>3500</td>\n",
       "    </tr>\n",
       "    <tr>\n",
       "      <th>240</th>\n",
       "      <td>257</td>\n",
       "      <td>ABSOLUTE BLACK MONOGRAM TAURILLON LEATHER KEEP...</td>\n",
       "      <td>LOUIS VUITTON</td>\n",
       "      <td>Keepall Bandoulière 50</td>\n",
       "      <td>2019</td>\n",
       "      <td>Black</td>\n",
       "      <td>Taurillon</td>\n",
       "      <td>Black &amp; Orange</td>\n",
       "      <td>2600−3600</td>\n",
       "      <td>2600</td>\n",
       "      <td>3600</td>\n",
       "      <td>4200</td>\n",
       "    </tr>\n",
       "    <tr>\n",
       "      <th>241</th>\n",
       "      <td>258</td>\n",
       "      <td>LIMITED EDITION BLACK EMPREINTE LEATHER TOTE B...</td>\n",
       "      <td>LOUIS VUITTON</td>\n",
       "      <td>Tote Bag, Limited Edition</td>\n",
       "      <td>2008</td>\n",
       "      <td>Black</td>\n",
       "      <td>Empreinte</td>\n",
       "      <td>Black</td>\n",
       "      <td>3800−5100</td>\n",
       "      <td>3800</td>\n",
       "      <td>5100</td>\n",
       "      <td>4800</td>\n",
       "    </tr>\n",
       "    <tr>\n",
       "      <th>242</th>\n",
       "      <td>259</td>\n",
       "      <td>LIMITED EDITION PAINTED MONOGRAM COURRIER LOZI...</td>\n",
       "      <td>LOUIS VUITTON</td>\n",
       "      <td>Courrier Lozine Trunk 110, Limited Edition</td>\n",
       "      <td>2021</td>\n",
       "      <td>Multi Color</td>\n",
       "      <td>Canvas</td>\n",
       "      <td>Black</td>\n",
       "      <td>38400−51200</td>\n",
       "      <td>38400</td>\n",
       "      <td>51200</td>\n",
       "      <td>48400</td>\n",
       "    </tr>\n",
       "  </tbody>\n",
       "</table>\n",
       "<p>242 rows × 12 columns</p>\n",
       "</div>"
      ],
      "text/plain": [
       "     Lot                                        Description          Brand  \\\n",
       "1      1  LIME EVERCOLOR LEATHER MINI ROULIS WITH PALLAD...         HERMÈS   \n",
       "2      2  LIMITED EDITION LIME & PEARL GRAY EPSOM LEATHE...         HERMÈS   \n",
       "3      3  LIMITED EDITION LIME & PEARL GRAY EPSOM LEATHE...         HERMÈS   \n",
       "4      4  SHINY MIMOSA NILOTICUS LIZARD SMALL CONSTANCE ...         HERMÈS   \n",
       "5      5        NAPLES YELLOW EPSOM LEATHER CONSTANCE TO GO         HERMÈS   \n",
       "..   ...                                                ...            ...   \n",
       "238  254  LIMITED EDITION PAINTED PUMPKIN MONOGRAM KEEPA...  LOUIS VUITTON   \n",
       "239  256  LIMITED EDITION BLACK TAURILLON LEATHER INFINI...  LOUIS VUITTON   \n",
       "240  257  ABSOLUTE BLACK MONOGRAM TAURILLON LEATHER KEEP...  LOUIS VUITTON   \n",
       "241  258  LIMITED EDITION BLACK EMPREINTE LEATHER TOTE B...  LOUIS VUITTON   \n",
       "242  259  LIMITED EDITION PAINTED MONOGRAM COURRIER LOZI...  LOUIS VUITTON   \n",
       "\n",
       "                                           Type  Year        Color    Leather  \\\n",
       "1                                   Mini Roulis  2022        Green  Evercolor   \n",
       "2                     Kelly 32, Limited Edition  2011       Yellow      Epsom   \n",
       "3                    Birkin 35, Limited Edition  2011       Yellow      Epsom   \n",
       "4                              Constance Wallet  2011       Yellow     Lizard   \n",
       "5                               Constance To Go  2023       Yellow      Epsom   \n",
       "..                                          ...   ...          ...        ...   \n",
       "238     Keepall Bandoulière 45, Limited Edition  2023  Multi Color     Canvas   \n",
       "239    Christopher Backpack MM, Limited Edition  2023        Black  Taurillon   \n",
       "240                      Keepall Bandoulière 50  2019        Black  Taurillon   \n",
       "241                   Tote Bag, Limited Edition  2008        Black  Empreinte   \n",
       "242  Courrier Lozine Trunk 110, Limited Edition  2021  Multi Color     Canvas   \n",
       "\n",
       "           Hardware Estimate (USD)  Lower Estimate (USD)  \\\n",
       "1         Palladium      5100−7700                  5100   \n",
       "2         Palladium     7700−12800                  7700   \n",
       "3         Palladium     7700−12800                  7700   \n",
       "4         Palladium      2600−3800                  2600   \n",
       "5              Gold      5100−7700                  5100   \n",
       "..              ...            ...                   ...   \n",
       "238            Gold      2600−3600                  2600   \n",
       "239           Black      3800−5100                  3800   \n",
       "240  Black & Orange      2600−3600                  2600   \n",
       "241           Black      3800−5100                  3800   \n",
       "242           Black    38400−51200                 38400   \n",
       "\n",
       "     Higher Estimate (USD)  Price Realized (USD)  \n",
       "1                     7700                  6100  \n",
       "2                    12800                  9700  \n",
       "3                    12800                 12100  \n",
       "4                     3800                  2300  \n",
       "5                     7700                  5600  \n",
       "..                     ...                   ...  \n",
       "238                   3600                  4800  \n",
       "239                   5100                  3500  \n",
       "240                   3600                  4200  \n",
       "241                   5100                  4800  \n",
       "242                  51200                 48400  \n",
       "\n",
       "[242 rows x 12 columns]"
      ]
     },
     "execution_count": 294,
     "metadata": {},
     "output_type": "execute_result"
    }
   ],
   "source": [
    "# Reordering columns to place the price realized column at the end\n",
    "columns_order = [\n",
    "    \"Lot\", \"Description\", \"Brand\", \"Type\", \"Year\", \"Color\", \"Leather\", \"Hardware\",\n",
    "    \"Estimate (USD)\", \"Lower Estimate (USD)\", \"Higher Estimate (USD)\", \"Price Realized (USD)\"\n",
    "]\n",
    "\n",
    "# Apply the new column order\n",
    "df = df[columns_order]\n",
    "\n",
    "# display to verify\n",
    "df\n"
   ]
  },
  {
   "cell_type": "code",
   "execution_count": 295,
   "id": "fef79642-3dce-4d32-9f70-4ff2f732cf0d",
   "metadata": {
    "scrolled": true
   },
   "outputs": [
    {
     "name": "stderr",
     "output_type": "stream",
     "text": [
      "/var/folders/1m/7n3mw1wj3ml7gf8rmsjswdrr0000gn/T/ipykernel_82090/708171887.py:12: SettingWithCopyWarning:\n",
      "\n",
      "\n",
      "A value is trying to be set on a copy of a slice from a DataFrame.\n",
      "Try using .loc[row_indexer,col_indexer] = value instead\n",
      "\n",
      "See the caveats in the documentation: https://pandas.pydata.org/pandas-docs/stable/user_guide/indexing.html#returning-a-view-versus-a-copy\n",
      "\n"
     ]
    },
    {
     "data": {
      "text/html": [
       "<div>\n",
       "<style scoped>\n",
       "    .dataframe tbody tr th:only-of-type {\n",
       "        vertical-align: middle;\n",
       "    }\n",
       "\n",
       "    .dataframe tbody tr th {\n",
       "        vertical-align: top;\n",
       "    }\n",
       "\n",
       "    .dataframe thead th {\n",
       "        text-align: right;\n",
       "    }\n",
       "</style>\n",
       "<table border=\"1\" class=\"dataframe\">\n",
       "  <thead>\n",
       "    <tr style=\"text-align: right;\">\n",
       "      <th></th>\n",
       "      <th>Lot</th>\n",
       "      <th>Description</th>\n",
       "      <th>Brand</th>\n",
       "      <th>Type</th>\n",
       "      <th>Year</th>\n",
       "      <th>Color</th>\n",
       "      <th>Leather</th>\n",
       "      <th>Hardware</th>\n",
       "      <th>Estimate (USD)</th>\n",
       "      <th>Lower Estimate (USD)</th>\n",
       "      <th>Higher Estimate (USD)</th>\n",
       "      <th>Price Realized (USD)</th>\n",
       "      <th>Price Category</th>\n",
       "    </tr>\n",
       "  </thead>\n",
       "  <tbody>\n",
       "    <tr>\n",
       "      <th>1</th>\n",
       "      <td>1</td>\n",
       "      <td>LIME EVERCOLOR LEATHER MINI ROULIS WITH PALLAD...</td>\n",
       "      <td>HERMÈS</td>\n",
       "      <td>Mini Roulis</td>\n",
       "      <td>2022</td>\n",
       "      <td>Green</td>\n",
       "      <td>Evercolor</td>\n",
       "      <td>Palladium</td>\n",
       "      <td>5100−7700</td>\n",
       "      <td>5100</td>\n",
       "      <td>7700</td>\n",
       "      <td>6100</td>\n",
       "      <td>Within Estimate</td>\n",
       "    </tr>\n",
       "    <tr>\n",
       "      <th>2</th>\n",
       "      <td>2</td>\n",
       "      <td>LIMITED EDITION LIME &amp; PEARL GRAY EPSOM LEATHE...</td>\n",
       "      <td>HERMÈS</td>\n",
       "      <td>Kelly 32, Limited Edition</td>\n",
       "      <td>2011</td>\n",
       "      <td>Yellow</td>\n",
       "      <td>Epsom</td>\n",
       "      <td>Palladium</td>\n",
       "      <td>7700−12800</td>\n",
       "      <td>7700</td>\n",
       "      <td>12800</td>\n",
       "      <td>9700</td>\n",
       "      <td>Within Estimate</td>\n",
       "    </tr>\n",
       "    <tr>\n",
       "      <th>3</th>\n",
       "      <td>3</td>\n",
       "      <td>LIMITED EDITION LIME &amp; PEARL GRAY EPSOM LEATHE...</td>\n",
       "      <td>HERMÈS</td>\n",
       "      <td>Birkin 35, Limited Edition</td>\n",
       "      <td>2011</td>\n",
       "      <td>Yellow</td>\n",
       "      <td>Epsom</td>\n",
       "      <td>Palladium</td>\n",
       "      <td>7700−12800</td>\n",
       "      <td>7700</td>\n",
       "      <td>12800</td>\n",
       "      <td>12100</td>\n",
       "      <td>Within Estimate</td>\n",
       "    </tr>\n",
       "    <tr>\n",
       "      <th>4</th>\n",
       "      <td>4</td>\n",
       "      <td>SHINY MIMOSA NILOTICUS LIZARD SMALL CONSTANCE ...</td>\n",
       "      <td>HERMÈS</td>\n",
       "      <td>Constance Wallet</td>\n",
       "      <td>2011</td>\n",
       "      <td>Yellow</td>\n",
       "      <td>Lizard</td>\n",
       "      <td>Palladium</td>\n",
       "      <td>2600−3800</td>\n",
       "      <td>2600</td>\n",
       "      <td>3800</td>\n",
       "      <td>2300</td>\n",
       "      <td>Below Estimate</td>\n",
       "    </tr>\n",
       "    <tr>\n",
       "      <th>5</th>\n",
       "      <td>5</td>\n",
       "      <td>NAPLES YELLOW EPSOM LEATHER CONSTANCE TO GO</td>\n",
       "      <td>HERMÈS</td>\n",
       "      <td>Constance To Go</td>\n",
       "      <td>2023</td>\n",
       "      <td>Yellow</td>\n",
       "      <td>Epsom</td>\n",
       "      <td>Gold</td>\n",
       "      <td>5100−7700</td>\n",
       "      <td>5100</td>\n",
       "      <td>7700</td>\n",
       "      <td>5600</td>\n",
       "      <td>Within Estimate</td>\n",
       "    </tr>\n",
       "    <tr>\n",
       "      <th>...</th>\n",
       "      <td>...</td>\n",
       "      <td>...</td>\n",
       "      <td>...</td>\n",
       "      <td>...</td>\n",
       "      <td>...</td>\n",
       "      <td>...</td>\n",
       "      <td>...</td>\n",
       "      <td>...</td>\n",
       "      <td>...</td>\n",
       "      <td>...</td>\n",
       "      <td>...</td>\n",
       "      <td>...</td>\n",
       "      <td>...</td>\n",
       "    </tr>\n",
       "    <tr>\n",
       "      <th>238</th>\n",
       "      <td>254</td>\n",
       "      <td>LIMITED EDITION PAINTED PUMPKIN MONOGRAM KEEPA...</td>\n",
       "      <td>LOUIS VUITTON</td>\n",
       "      <td>Keepall Bandoulière 45, Limited Edition</td>\n",
       "      <td>2023</td>\n",
       "      <td>Multi Color</td>\n",
       "      <td>Canvas</td>\n",
       "      <td>Gold</td>\n",
       "      <td>2600−3600</td>\n",
       "      <td>2600</td>\n",
       "      <td>3600</td>\n",
       "      <td>4800</td>\n",
       "      <td>Above Estimate</td>\n",
       "    </tr>\n",
       "    <tr>\n",
       "      <th>239</th>\n",
       "      <td>256</td>\n",
       "      <td>LIMITED EDITION BLACK TAURILLON LEATHER INFINI...</td>\n",
       "      <td>LOUIS VUITTON</td>\n",
       "      <td>Christopher Backpack MM, Limited Edition</td>\n",
       "      <td>2023</td>\n",
       "      <td>Black</td>\n",
       "      <td>Taurillon</td>\n",
       "      <td>Black</td>\n",
       "      <td>3800−5100</td>\n",
       "      <td>3800</td>\n",
       "      <td>5100</td>\n",
       "      <td>3500</td>\n",
       "      <td>Below Estimate</td>\n",
       "    </tr>\n",
       "    <tr>\n",
       "      <th>240</th>\n",
       "      <td>257</td>\n",
       "      <td>ABSOLUTE BLACK MONOGRAM TAURILLON LEATHER KEEP...</td>\n",
       "      <td>LOUIS VUITTON</td>\n",
       "      <td>Keepall Bandoulière 50</td>\n",
       "      <td>2019</td>\n",
       "      <td>Black</td>\n",
       "      <td>Taurillon</td>\n",
       "      <td>Black &amp; Orange</td>\n",
       "      <td>2600−3600</td>\n",
       "      <td>2600</td>\n",
       "      <td>3600</td>\n",
       "      <td>4200</td>\n",
       "      <td>Above Estimate</td>\n",
       "    </tr>\n",
       "    <tr>\n",
       "      <th>241</th>\n",
       "      <td>258</td>\n",
       "      <td>LIMITED EDITION BLACK EMPREINTE LEATHER TOTE B...</td>\n",
       "      <td>LOUIS VUITTON</td>\n",
       "      <td>Tote Bag, Limited Edition</td>\n",
       "      <td>2008</td>\n",
       "      <td>Black</td>\n",
       "      <td>Empreinte</td>\n",
       "      <td>Black</td>\n",
       "      <td>3800−5100</td>\n",
       "      <td>3800</td>\n",
       "      <td>5100</td>\n",
       "      <td>4800</td>\n",
       "      <td>Within Estimate</td>\n",
       "    </tr>\n",
       "    <tr>\n",
       "      <th>242</th>\n",
       "      <td>259</td>\n",
       "      <td>LIMITED EDITION PAINTED MONOGRAM COURRIER LOZI...</td>\n",
       "      <td>LOUIS VUITTON</td>\n",
       "      <td>Courrier Lozine Trunk 110, Limited Edition</td>\n",
       "      <td>2021</td>\n",
       "      <td>Multi Color</td>\n",
       "      <td>Canvas</td>\n",
       "      <td>Black</td>\n",
       "      <td>38400−51200</td>\n",
       "      <td>38400</td>\n",
       "      <td>51200</td>\n",
       "      <td>48400</td>\n",
       "      <td>Within Estimate</td>\n",
       "    </tr>\n",
       "  </tbody>\n",
       "</table>\n",
       "<p>242 rows × 13 columns</p>\n",
       "</div>"
      ],
      "text/plain": [
       "     Lot                                        Description          Brand  \\\n",
       "1      1  LIME EVERCOLOR LEATHER MINI ROULIS WITH PALLAD...         HERMÈS   \n",
       "2      2  LIMITED EDITION LIME & PEARL GRAY EPSOM LEATHE...         HERMÈS   \n",
       "3      3  LIMITED EDITION LIME & PEARL GRAY EPSOM LEATHE...         HERMÈS   \n",
       "4      4  SHINY MIMOSA NILOTICUS LIZARD SMALL CONSTANCE ...         HERMÈS   \n",
       "5      5        NAPLES YELLOW EPSOM LEATHER CONSTANCE TO GO         HERMÈS   \n",
       "..   ...                                                ...            ...   \n",
       "238  254  LIMITED EDITION PAINTED PUMPKIN MONOGRAM KEEPA...  LOUIS VUITTON   \n",
       "239  256  LIMITED EDITION BLACK TAURILLON LEATHER INFINI...  LOUIS VUITTON   \n",
       "240  257  ABSOLUTE BLACK MONOGRAM TAURILLON LEATHER KEEP...  LOUIS VUITTON   \n",
       "241  258  LIMITED EDITION BLACK EMPREINTE LEATHER TOTE B...  LOUIS VUITTON   \n",
       "242  259  LIMITED EDITION PAINTED MONOGRAM COURRIER LOZI...  LOUIS VUITTON   \n",
       "\n",
       "                                           Type  Year        Color    Leather  \\\n",
       "1                                   Mini Roulis  2022        Green  Evercolor   \n",
       "2                     Kelly 32, Limited Edition  2011       Yellow      Epsom   \n",
       "3                    Birkin 35, Limited Edition  2011       Yellow      Epsom   \n",
       "4                              Constance Wallet  2011       Yellow     Lizard   \n",
       "5                               Constance To Go  2023       Yellow      Epsom   \n",
       "..                                          ...   ...          ...        ...   \n",
       "238     Keepall Bandoulière 45, Limited Edition  2023  Multi Color     Canvas   \n",
       "239    Christopher Backpack MM, Limited Edition  2023        Black  Taurillon   \n",
       "240                      Keepall Bandoulière 50  2019        Black  Taurillon   \n",
       "241                   Tote Bag, Limited Edition  2008        Black  Empreinte   \n",
       "242  Courrier Lozine Trunk 110, Limited Edition  2021  Multi Color     Canvas   \n",
       "\n",
       "           Hardware Estimate (USD)  Lower Estimate (USD)  \\\n",
       "1         Palladium      5100−7700                  5100   \n",
       "2         Palladium     7700−12800                  7700   \n",
       "3         Palladium     7700−12800                  7700   \n",
       "4         Palladium      2600−3800                  2600   \n",
       "5              Gold      5100−7700                  5100   \n",
       "..              ...            ...                   ...   \n",
       "238            Gold      2600−3600                  2600   \n",
       "239           Black      3800−5100                  3800   \n",
       "240  Black & Orange      2600−3600                  2600   \n",
       "241           Black      3800−5100                  3800   \n",
       "242           Black    38400−51200                 38400   \n",
       "\n",
       "     Higher Estimate (USD)  Price Realized (USD)   Price Category  \n",
       "1                     7700                  6100  Within Estimate  \n",
       "2                    12800                  9700  Within Estimate  \n",
       "3                    12800                 12100  Within Estimate  \n",
       "4                     3800                  2300   Below Estimate  \n",
       "5                     7700                  5600  Within Estimate  \n",
       "..                     ...                   ...              ...  \n",
       "238                   3600                  4800   Above Estimate  \n",
       "239                   5100                  3500   Below Estimate  \n",
       "240                   3600                  4200   Above Estimate  \n",
       "241                   5100                  4800  Within Estimate  \n",
       "242                  51200                 48400  Within Estimate  \n",
       "\n",
       "[242 rows x 13 columns]"
      ]
     },
     "execution_count": 295,
     "metadata": {},
     "output_type": "execute_result"
    }
   ],
   "source": [
    "# Add a new column categorizing price based on how sale results compare to estimates\n",
    "def categorize_price(row):\n",
    "    if pd.isna(row['Price Realized (USD)']) or row['Price Realized (USD)'] == 0:\n",
    "        return 'No Sale' #If Price Realized is zero or nit mentioned display \"No Sale\"\n",
    "    elif row['Price Realized (USD)'] < row['Lower Estimate (USD)']:\n",
    "        return 'Below Estimate' #If Price Realized is under the lower estimate display \"Below Estimate\"\n",
    "    elif row['Price Realized (USD)'] > row['Higher Estimate (USD)']:\n",
    "        return 'Above Estimate' #If Price Realized is above the lower estimate display \"Above Estimate\"\n",
    "    else:\n",
    "        return 'Within Estimate' #If Price Realized is within the estimates display \"Within Estimate\"\n",
    "\n",
    "df['Price Category'] = df.apply(categorize_price, axis=1)\n",
    "# display dataframe\n",
    "df\n"
   ]
  },
  {
   "cell_type": "code",
   "execution_count": 296,
   "id": "b8511727-7954-4f7b-9b3f-b6d63d106511",
   "metadata": {},
   "outputs": [
    {
     "name": "stderr",
     "output_type": "stream",
     "text": [
      "/var/folders/1m/7n3mw1wj3ml7gf8rmsjswdrr0000gn/T/ipykernel_82090/403065320.py:2: SettingWithCopyWarning:\n",
      "\n",
      "\n",
      "A value is trying to be set on a copy of a slice from a DataFrame.\n",
      "Try using .loc[row_indexer,col_indexer] = value instead\n",
      "\n",
      "See the caveats in the documentation: https://pandas.pydata.org/pandas-docs/stable/user_guide/indexing.html#returning-a-view-versus-a-copy\n",
      "\n"
     ]
    },
    {
     "data": {
      "text/html": [
       "<div>\n",
       "<style scoped>\n",
       "    .dataframe tbody tr th:only-of-type {\n",
       "        vertical-align: middle;\n",
       "    }\n",
       "\n",
       "    .dataframe tbody tr th {\n",
       "        vertical-align: top;\n",
       "    }\n",
       "\n",
       "    .dataframe thead th {\n",
       "        text-align: right;\n",
       "    }\n",
       "</style>\n",
       "<table border=\"1\" class=\"dataframe\">\n",
       "  <thead>\n",
       "    <tr style=\"text-align: right;\">\n",
       "      <th></th>\n",
       "      <th>Lot</th>\n",
       "      <th>Description</th>\n",
       "      <th>Brand</th>\n",
       "      <th>Type</th>\n",
       "      <th>Year</th>\n",
       "      <th>Color</th>\n",
       "      <th>Leather</th>\n",
       "      <th>Hardware</th>\n",
       "      <th>Estimate (USD)</th>\n",
       "      <th>Lower Estimate (USD)</th>\n",
       "      <th>Higher Estimate (USD)</th>\n",
       "      <th>Price Realized (USD)</th>\n",
       "      <th>Price Category</th>\n",
       "      <th>Variance from Higher Estimate</th>\n",
       "    </tr>\n",
       "  </thead>\n",
       "  <tbody>\n",
       "    <tr>\n",
       "      <th>1</th>\n",
       "      <td>1</td>\n",
       "      <td>LIME EVERCOLOR LEATHER MINI ROULIS WITH PALLAD...</td>\n",
       "      <td>HERMÈS</td>\n",
       "      <td>Mini Roulis</td>\n",
       "      <td>2022</td>\n",
       "      <td>Green</td>\n",
       "      <td>Evercolor</td>\n",
       "      <td>Palladium</td>\n",
       "      <td>5100−7700</td>\n",
       "      <td>5100</td>\n",
       "      <td>7700</td>\n",
       "      <td>6100</td>\n",
       "      <td>Within Estimate</td>\n",
       "      <td>-1600</td>\n",
       "    </tr>\n",
       "    <tr>\n",
       "      <th>2</th>\n",
       "      <td>2</td>\n",
       "      <td>LIMITED EDITION LIME &amp; PEARL GRAY EPSOM LEATHE...</td>\n",
       "      <td>HERMÈS</td>\n",
       "      <td>Kelly 32, Limited Edition</td>\n",
       "      <td>2011</td>\n",
       "      <td>Yellow</td>\n",
       "      <td>Epsom</td>\n",
       "      <td>Palladium</td>\n",
       "      <td>7700−12800</td>\n",
       "      <td>7700</td>\n",
       "      <td>12800</td>\n",
       "      <td>9700</td>\n",
       "      <td>Within Estimate</td>\n",
       "      <td>-3100</td>\n",
       "    </tr>\n",
       "    <tr>\n",
       "      <th>3</th>\n",
       "      <td>3</td>\n",
       "      <td>LIMITED EDITION LIME &amp; PEARL GRAY EPSOM LEATHE...</td>\n",
       "      <td>HERMÈS</td>\n",
       "      <td>Birkin 35, Limited Edition</td>\n",
       "      <td>2011</td>\n",
       "      <td>Yellow</td>\n",
       "      <td>Epsom</td>\n",
       "      <td>Palladium</td>\n",
       "      <td>7700−12800</td>\n",
       "      <td>7700</td>\n",
       "      <td>12800</td>\n",
       "      <td>12100</td>\n",
       "      <td>Within Estimate</td>\n",
       "      <td>-700</td>\n",
       "    </tr>\n",
       "    <tr>\n",
       "      <th>4</th>\n",
       "      <td>4</td>\n",
       "      <td>SHINY MIMOSA NILOTICUS LIZARD SMALL CONSTANCE ...</td>\n",
       "      <td>HERMÈS</td>\n",
       "      <td>Constance Wallet</td>\n",
       "      <td>2011</td>\n",
       "      <td>Yellow</td>\n",
       "      <td>Lizard</td>\n",
       "      <td>Palladium</td>\n",
       "      <td>2600−3800</td>\n",
       "      <td>2600</td>\n",
       "      <td>3800</td>\n",
       "      <td>2300</td>\n",
       "      <td>Below Estimate</td>\n",
       "      <td>-1500</td>\n",
       "    </tr>\n",
       "    <tr>\n",
       "      <th>5</th>\n",
       "      <td>5</td>\n",
       "      <td>NAPLES YELLOW EPSOM LEATHER CONSTANCE TO GO</td>\n",
       "      <td>HERMÈS</td>\n",
       "      <td>Constance To Go</td>\n",
       "      <td>2023</td>\n",
       "      <td>Yellow</td>\n",
       "      <td>Epsom</td>\n",
       "      <td>Gold</td>\n",
       "      <td>5100−7700</td>\n",
       "      <td>5100</td>\n",
       "      <td>7700</td>\n",
       "      <td>5600</td>\n",
       "      <td>Within Estimate</td>\n",
       "      <td>-2100</td>\n",
       "    </tr>\n",
       "    <tr>\n",
       "      <th>...</th>\n",
       "      <td>...</td>\n",
       "      <td>...</td>\n",
       "      <td>...</td>\n",
       "      <td>...</td>\n",
       "      <td>...</td>\n",
       "      <td>...</td>\n",
       "      <td>...</td>\n",
       "      <td>...</td>\n",
       "      <td>...</td>\n",
       "      <td>...</td>\n",
       "      <td>...</td>\n",
       "      <td>...</td>\n",
       "      <td>...</td>\n",
       "      <td>...</td>\n",
       "    </tr>\n",
       "    <tr>\n",
       "      <th>238</th>\n",
       "      <td>254</td>\n",
       "      <td>LIMITED EDITION PAINTED PUMPKIN MONOGRAM KEEPA...</td>\n",
       "      <td>LOUIS VUITTON</td>\n",
       "      <td>Keepall Bandoulière 45, Limited Edition</td>\n",
       "      <td>2023</td>\n",
       "      <td>Multi Color</td>\n",
       "      <td>Canvas</td>\n",
       "      <td>Gold</td>\n",
       "      <td>2600−3600</td>\n",
       "      <td>2600</td>\n",
       "      <td>3600</td>\n",
       "      <td>4800</td>\n",
       "      <td>Above Estimate</td>\n",
       "      <td>1200</td>\n",
       "    </tr>\n",
       "    <tr>\n",
       "      <th>239</th>\n",
       "      <td>256</td>\n",
       "      <td>LIMITED EDITION BLACK TAURILLON LEATHER INFINI...</td>\n",
       "      <td>LOUIS VUITTON</td>\n",
       "      <td>Christopher Backpack MM, Limited Edition</td>\n",
       "      <td>2023</td>\n",
       "      <td>Black</td>\n",
       "      <td>Taurillon</td>\n",
       "      <td>Black</td>\n",
       "      <td>3800−5100</td>\n",
       "      <td>3800</td>\n",
       "      <td>5100</td>\n",
       "      <td>3500</td>\n",
       "      <td>Below Estimate</td>\n",
       "      <td>-1600</td>\n",
       "    </tr>\n",
       "    <tr>\n",
       "      <th>240</th>\n",
       "      <td>257</td>\n",
       "      <td>ABSOLUTE BLACK MONOGRAM TAURILLON LEATHER KEEP...</td>\n",
       "      <td>LOUIS VUITTON</td>\n",
       "      <td>Keepall Bandoulière 50</td>\n",
       "      <td>2019</td>\n",
       "      <td>Black</td>\n",
       "      <td>Taurillon</td>\n",
       "      <td>Black &amp; Orange</td>\n",
       "      <td>2600−3600</td>\n",
       "      <td>2600</td>\n",
       "      <td>3600</td>\n",
       "      <td>4200</td>\n",
       "      <td>Above Estimate</td>\n",
       "      <td>600</td>\n",
       "    </tr>\n",
       "    <tr>\n",
       "      <th>241</th>\n",
       "      <td>258</td>\n",
       "      <td>LIMITED EDITION BLACK EMPREINTE LEATHER TOTE B...</td>\n",
       "      <td>LOUIS VUITTON</td>\n",
       "      <td>Tote Bag, Limited Edition</td>\n",
       "      <td>2008</td>\n",
       "      <td>Black</td>\n",
       "      <td>Empreinte</td>\n",
       "      <td>Black</td>\n",
       "      <td>3800−5100</td>\n",
       "      <td>3800</td>\n",
       "      <td>5100</td>\n",
       "      <td>4800</td>\n",
       "      <td>Within Estimate</td>\n",
       "      <td>-300</td>\n",
       "    </tr>\n",
       "    <tr>\n",
       "      <th>242</th>\n",
       "      <td>259</td>\n",
       "      <td>LIMITED EDITION PAINTED MONOGRAM COURRIER LOZI...</td>\n",
       "      <td>LOUIS VUITTON</td>\n",
       "      <td>Courrier Lozine Trunk 110, Limited Edition</td>\n",
       "      <td>2021</td>\n",
       "      <td>Multi Color</td>\n",
       "      <td>Canvas</td>\n",
       "      <td>Black</td>\n",
       "      <td>38400−51200</td>\n",
       "      <td>38400</td>\n",
       "      <td>51200</td>\n",
       "      <td>48400</td>\n",
       "      <td>Within Estimate</td>\n",
       "      <td>-2800</td>\n",
       "    </tr>\n",
       "  </tbody>\n",
       "</table>\n",
       "<p>242 rows × 14 columns</p>\n",
       "</div>"
      ],
      "text/plain": [
       "     Lot                                        Description          Brand  \\\n",
       "1      1  LIME EVERCOLOR LEATHER MINI ROULIS WITH PALLAD...         HERMÈS   \n",
       "2      2  LIMITED EDITION LIME & PEARL GRAY EPSOM LEATHE...         HERMÈS   \n",
       "3      3  LIMITED EDITION LIME & PEARL GRAY EPSOM LEATHE...         HERMÈS   \n",
       "4      4  SHINY MIMOSA NILOTICUS LIZARD SMALL CONSTANCE ...         HERMÈS   \n",
       "5      5        NAPLES YELLOW EPSOM LEATHER CONSTANCE TO GO         HERMÈS   \n",
       "..   ...                                                ...            ...   \n",
       "238  254  LIMITED EDITION PAINTED PUMPKIN MONOGRAM KEEPA...  LOUIS VUITTON   \n",
       "239  256  LIMITED EDITION BLACK TAURILLON LEATHER INFINI...  LOUIS VUITTON   \n",
       "240  257  ABSOLUTE BLACK MONOGRAM TAURILLON LEATHER KEEP...  LOUIS VUITTON   \n",
       "241  258  LIMITED EDITION BLACK EMPREINTE LEATHER TOTE B...  LOUIS VUITTON   \n",
       "242  259  LIMITED EDITION PAINTED MONOGRAM COURRIER LOZI...  LOUIS VUITTON   \n",
       "\n",
       "                                           Type  Year        Color    Leather  \\\n",
       "1                                   Mini Roulis  2022        Green  Evercolor   \n",
       "2                     Kelly 32, Limited Edition  2011       Yellow      Epsom   \n",
       "3                    Birkin 35, Limited Edition  2011       Yellow      Epsom   \n",
       "4                              Constance Wallet  2011       Yellow     Lizard   \n",
       "5                               Constance To Go  2023       Yellow      Epsom   \n",
       "..                                          ...   ...          ...        ...   \n",
       "238     Keepall Bandoulière 45, Limited Edition  2023  Multi Color     Canvas   \n",
       "239    Christopher Backpack MM, Limited Edition  2023        Black  Taurillon   \n",
       "240                      Keepall Bandoulière 50  2019        Black  Taurillon   \n",
       "241                   Tote Bag, Limited Edition  2008        Black  Empreinte   \n",
       "242  Courrier Lozine Trunk 110, Limited Edition  2021  Multi Color     Canvas   \n",
       "\n",
       "           Hardware Estimate (USD)  Lower Estimate (USD)  \\\n",
       "1         Palladium      5100−7700                  5100   \n",
       "2         Palladium     7700−12800                  7700   \n",
       "3         Palladium     7700−12800                  7700   \n",
       "4         Palladium      2600−3800                  2600   \n",
       "5              Gold      5100−7700                  5100   \n",
       "..              ...            ...                   ...   \n",
       "238            Gold      2600−3600                  2600   \n",
       "239           Black      3800−5100                  3800   \n",
       "240  Black & Orange      2600−3600                  2600   \n",
       "241           Black      3800−5100                  3800   \n",
       "242           Black    38400−51200                 38400   \n",
       "\n",
       "     Higher Estimate (USD)  Price Realized (USD)   Price Category  \\\n",
       "1                     7700                  6100  Within Estimate   \n",
       "2                    12800                  9700  Within Estimate   \n",
       "3                    12800                 12100  Within Estimate   \n",
       "4                     3800                  2300   Below Estimate   \n",
       "5                     7700                  5600  Within Estimate   \n",
       "..                     ...                   ...              ...   \n",
       "238                   3600                  4800   Above Estimate   \n",
       "239                   5100                  3500   Below Estimate   \n",
       "240                   3600                  4200   Above Estimate   \n",
       "241                   5100                  4800  Within Estimate   \n",
       "242                  51200                 48400  Within Estimate   \n",
       "\n",
       "     Variance from Higher Estimate  \n",
       "1                            -1600  \n",
       "2                            -3100  \n",
       "3                             -700  \n",
       "4                            -1500  \n",
       "5                            -2100  \n",
       "..                             ...  \n",
       "238                           1200  \n",
       "239                          -1600  \n",
       "240                            600  \n",
       "241                           -300  \n",
       "242                          -2800  \n",
       "\n",
       "[242 rows x 14 columns]"
      ]
     },
     "execution_count": 296,
     "metadata": {},
     "output_type": "execute_result"
    }
   ],
   "source": [
    "# Add 'Variance from Estimate' column measuring price realized compared to the higher estimate\n",
    "df['Variance from Higher Estimate'] = df['Price Realized (USD)'] - df['Higher Estimate (USD)']\n",
    "#display dataframe\n",
    "df"
   ]
  },
  {
   "cell_type": "code",
   "execution_count": 297,
   "id": "c86648e4-7edc-493d-879b-bb63e24fbb5c",
   "metadata": {},
   "outputs": [
    {
     "name": "stderr",
     "output_type": "stream",
     "text": [
      "/var/folders/1m/7n3mw1wj3ml7gf8rmsjswdrr0000gn/T/ipykernel_82090/401750262.py:2: SettingWithCopyWarning:\n",
      "\n",
      "\n",
      "A value is trying to be set on a copy of a slice from a DataFrame.\n",
      "Try using .loc[row_indexer,col_indexer] = value instead\n",
      "\n",
      "See the caveats in the documentation: https://pandas.pydata.org/pandas-docs/stable/user_guide/indexing.html#returning-a-view-versus-a-copy\n",
      "\n"
     ]
    },
    {
     "data": {
      "text/html": [
       "<div>\n",
       "<style scoped>\n",
       "    .dataframe tbody tr th:only-of-type {\n",
       "        vertical-align: middle;\n",
       "    }\n",
       "\n",
       "    .dataframe tbody tr th {\n",
       "        vertical-align: top;\n",
       "    }\n",
       "\n",
       "    .dataframe thead th {\n",
       "        text-align: right;\n",
       "    }\n",
       "</style>\n",
       "<table border=\"1\" class=\"dataframe\">\n",
       "  <thead>\n",
       "    <tr style=\"text-align: right;\">\n",
       "      <th></th>\n",
       "      <th>Lot</th>\n",
       "      <th>Description</th>\n",
       "      <th>Brand</th>\n",
       "      <th>Type</th>\n",
       "      <th>Year</th>\n",
       "      <th>Color</th>\n",
       "      <th>Leather</th>\n",
       "      <th>Hardware</th>\n",
       "      <th>Estimate (USD)</th>\n",
       "      <th>Lower Estimate (USD)</th>\n",
       "      <th>Higher Estimate (USD)</th>\n",
       "      <th>Price Realized (USD)</th>\n",
       "      <th>Price Category</th>\n",
       "      <th>Variance from Higher Estimate</th>\n",
       "    </tr>\n",
       "  </thead>\n",
       "  <tbody>\n",
       "    <tr>\n",
       "      <th>1</th>\n",
       "      <td>1</td>\n",
       "      <td>LIME EVERCOLOR LEATHER MINI ROULIS WITH PALLAD...</td>\n",
       "      <td>HERMES</td>\n",
       "      <td>Mini Roulis</td>\n",
       "      <td>2022</td>\n",
       "      <td>Green</td>\n",
       "      <td>Evercolor</td>\n",
       "      <td>Palladium</td>\n",
       "      <td>5100−7700</td>\n",
       "      <td>5100</td>\n",
       "      <td>7700</td>\n",
       "      <td>6100</td>\n",
       "      <td>Within Estimate</td>\n",
       "      <td>-1600</td>\n",
       "    </tr>\n",
       "    <tr>\n",
       "      <th>2</th>\n",
       "      <td>2</td>\n",
       "      <td>LIMITED EDITION LIME &amp; PEARL GRAY EPSOM LEATHE...</td>\n",
       "      <td>HERMES</td>\n",
       "      <td>Kelly 32, Limited Edition</td>\n",
       "      <td>2011</td>\n",
       "      <td>Yellow</td>\n",
       "      <td>Epsom</td>\n",
       "      <td>Palladium</td>\n",
       "      <td>7700−12800</td>\n",
       "      <td>7700</td>\n",
       "      <td>12800</td>\n",
       "      <td>9700</td>\n",
       "      <td>Within Estimate</td>\n",
       "      <td>-3100</td>\n",
       "    </tr>\n",
       "    <tr>\n",
       "      <th>3</th>\n",
       "      <td>3</td>\n",
       "      <td>LIMITED EDITION LIME &amp; PEARL GRAY EPSOM LEATHE...</td>\n",
       "      <td>HERMES</td>\n",
       "      <td>Birkin 35, Limited Edition</td>\n",
       "      <td>2011</td>\n",
       "      <td>Yellow</td>\n",
       "      <td>Epsom</td>\n",
       "      <td>Palladium</td>\n",
       "      <td>7700−12800</td>\n",
       "      <td>7700</td>\n",
       "      <td>12800</td>\n",
       "      <td>12100</td>\n",
       "      <td>Within Estimate</td>\n",
       "      <td>-700</td>\n",
       "    </tr>\n",
       "    <tr>\n",
       "      <th>4</th>\n",
       "      <td>4</td>\n",
       "      <td>SHINY MIMOSA NILOTICUS LIZARD SMALL CONSTANCE ...</td>\n",
       "      <td>HERMES</td>\n",
       "      <td>Constance Wallet</td>\n",
       "      <td>2011</td>\n",
       "      <td>Yellow</td>\n",
       "      <td>Lizard</td>\n",
       "      <td>Palladium</td>\n",
       "      <td>2600−3800</td>\n",
       "      <td>2600</td>\n",
       "      <td>3800</td>\n",
       "      <td>2300</td>\n",
       "      <td>Below Estimate</td>\n",
       "      <td>-1500</td>\n",
       "    </tr>\n",
       "    <tr>\n",
       "      <th>5</th>\n",
       "      <td>5</td>\n",
       "      <td>NAPLES YELLOW EPSOM LEATHER CONSTANCE TO GO</td>\n",
       "      <td>HERMES</td>\n",
       "      <td>Constance To Go</td>\n",
       "      <td>2023</td>\n",
       "      <td>Yellow</td>\n",
       "      <td>Epsom</td>\n",
       "      <td>Gold</td>\n",
       "      <td>5100−7700</td>\n",
       "      <td>5100</td>\n",
       "      <td>7700</td>\n",
       "      <td>5600</td>\n",
       "      <td>Within Estimate</td>\n",
       "      <td>-2100</td>\n",
       "    </tr>\n",
       "    <tr>\n",
       "      <th>...</th>\n",
       "      <td>...</td>\n",
       "      <td>...</td>\n",
       "      <td>...</td>\n",
       "      <td>...</td>\n",
       "      <td>...</td>\n",
       "      <td>...</td>\n",
       "      <td>...</td>\n",
       "      <td>...</td>\n",
       "      <td>...</td>\n",
       "      <td>...</td>\n",
       "      <td>...</td>\n",
       "      <td>...</td>\n",
       "      <td>...</td>\n",
       "      <td>...</td>\n",
       "    </tr>\n",
       "    <tr>\n",
       "      <th>238</th>\n",
       "      <td>254</td>\n",
       "      <td>LIMITED EDITION PAINTED PUMPKIN MONOGRAM KEEPA...</td>\n",
       "      <td>LOUIS VUITTON</td>\n",
       "      <td>Keepall Bandoulière 45, Limited Edition</td>\n",
       "      <td>2023</td>\n",
       "      <td>Multi Color</td>\n",
       "      <td>Canvas</td>\n",
       "      <td>Gold</td>\n",
       "      <td>2600−3600</td>\n",
       "      <td>2600</td>\n",
       "      <td>3600</td>\n",
       "      <td>4800</td>\n",
       "      <td>Above Estimate</td>\n",
       "      <td>1200</td>\n",
       "    </tr>\n",
       "    <tr>\n",
       "      <th>239</th>\n",
       "      <td>256</td>\n",
       "      <td>LIMITED EDITION BLACK TAURILLON LEATHER INFINI...</td>\n",
       "      <td>LOUIS VUITTON</td>\n",
       "      <td>Christopher Backpack MM, Limited Edition</td>\n",
       "      <td>2023</td>\n",
       "      <td>Black</td>\n",
       "      <td>Taurillon</td>\n",
       "      <td>Black</td>\n",
       "      <td>3800−5100</td>\n",
       "      <td>3800</td>\n",
       "      <td>5100</td>\n",
       "      <td>3500</td>\n",
       "      <td>Below Estimate</td>\n",
       "      <td>-1600</td>\n",
       "    </tr>\n",
       "    <tr>\n",
       "      <th>240</th>\n",
       "      <td>257</td>\n",
       "      <td>ABSOLUTE BLACK MONOGRAM TAURILLON LEATHER KEEP...</td>\n",
       "      <td>LOUIS VUITTON</td>\n",
       "      <td>Keepall Bandoulière 50</td>\n",
       "      <td>2019</td>\n",
       "      <td>Black</td>\n",
       "      <td>Taurillon</td>\n",
       "      <td>Black &amp; Orange</td>\n",
       "      <td>2600−3600</td>\n",
       "      <td>2600</td>\n",
       "      <td>3600</td>\n",
       "      <td>4200</td>\n",
       "      <td>Above Estimate</td>\n",
       "      <td>600</td>\n",
       "    </tr>\n",
       "    <tr>\n",
       "      <th>241</th>\n",
       "      <td>258</td>\n",
       "      <td>LIMITED EDITION BLACK EMPREINTE LEATHER TOTE B...</td>\n",
       "      <td>LOUIS VUITTON</td>\n",
       "      <td>Tote Bag, Limited Edition</td>\n",
       "      <td>2008</td>\n",
       "      <td>Black</td>\n",
       "      <td>Empreinte</td>\n",
       "      <td>Black</td>\n",
       "      <td>3800−5100</td>\n",
       "      <td>3800</td>\n",
       "      <td>5100</td>\n",
       "      <td>4800</td>\n",
       "      <td>Within Estimate</td>\n",
       "      <td>-300</td>\n",
       "    </tr>\n",
       "    <tr>\n",
       "      <th>242</th>\n",
       "      <td>259</td>\n",
       "      <td>LIMITED EDITION PAINTED MONOGRAM COURRIER LOZI...</td>\n",
       "      <td>LOUIS VUITTON</td>\n",
       "      <td>Courrier Lozine Trunk 110, Limited Edition</td>\n",
       "      <td>2021</td>\n",
       "      <td>Multi Color</td>\n",
       "      <td>Canvas</td>\n",
       "      <td>Black</td>\n",
       "      <td>38400−51200</td>\n",
       "      <td>38400</td>\n",
       "      <td>51200</td>\n",
       "      <td>48400</td>\n",
       "      <td>Within Estimate</td>\n",
       "      <td>-2800</td>\n",
       "    </tr>\n",
       "  </tbody>\n",
       "</table>\n",
       "<p>242 rows × 14 columns</p>\n",
       "</div>"
      ],
      "text/plain": [
       "     Lot                                        Description          Brand  \\\n",
       "1      1  LIME EVERCOLOR LEATHER MINI ROULIS WITH PALLAD...         HERMES   \n",
       "2      2  LIMITED EDITION LIME & PEARL GRAY EPSOM LEATHE...         HERMES   \n",
       "3      3  LIMITED EDITION LIME & PEARL GRAY EPSOM LEATHE...         HERMES   \n",
       "4      4  SHINY MIMOSA NILOTICUS LIZARD SMALL CONSTANCE ...         HERMES   \n",
       "5      5        NAPLES YELLOW EPSOM LEATHER CONSTANCE TO GO         HERMES   \n",
       "..   ...                                                ...            ...   \n",
       "238  254  LIMITED EDITION PAINTED PUMPKIN MONOGRAM KEEPA...  LOUIS VUITTON   \n",
       "239  256  LIMITED EDITION BLACK TAURILLON LEATHER INFINI...  LOUIS VUITTON   \n",
       "240  257  ABSOLUTE BLACK MONOGRAM TAURILLON LEATHER KEEP...  LOUIS VUITTON   \n",
       "241  258  LIMITED EDITION BLACK EMPREINTE LEATHER TOTE B...  LOUIS VUITTON   \n",
       "242  259  LIMITED EDITION PAINTED MONOGRAM COURRIER LOZI...  LOUIS VUITTON   \n",
       "\n",
       "                                           Type  Year        Color    Leather  \\\n",
       "1                                   Mini Roulis  2022        Green  Evercolor   \n",
       "2                     Kelly 32, Limited Edition  2011       Yellow      Epsom   \n",
       "3                    Birkin 35, Limited Edition  2011       Yellow      Epsom   \n",
       "4                              Constance Wallet  2011       Yellow     Lizard   \n",
       "5                               Constance To Go  2023       Yellow      Epsom   \n",
       "..                                          ...   ...          ...        ...   \n",
       "238     Keepall Bandoulière 45, Limited Edition  2023  Multi Color     Canvas   \n",
       "239    Christopher Backpack MM, Limited Edition  2023        Black  Taurillon   \n",
       "240                      Keepall Bandoulière 50  2019        Black  Taurillon   \n",
       "241                   Tote Bag, Limited Edition  2008        Black  Empreinte   \n",
       "242  Courrier Lozine Trunk 110, Limited Edition  2021  Multi Color     Canvas   \n",
       "\n",
       "           Hardware Estimate (USD)  Lower Estimate (USD)  \\\n",
       "1         Palladium      5100−7700                  5100   \n",
       "2         Palladium     7700−12800                  7700   \n",
       "3         Palladium     7700−12800                  7700   \n",
       "4         Palladium      2600−3800                  2600   \n",
       "5              Gold      5100−7700                  5100   \n",
       "..              ...            ...                   ...   \n",
       "238            Gold      2600−3600                  2600   \n",
       "239           Black      3800−5100                  3800   \n",
       "240  Black & Orange      2600−3600                  2600   \n",
       "241           Black      3800−5100                  3800   \n",
       "242           Black    38400−51200                 38400   \n",
       "\n",
       "     Higher Estimate (USD)  Price Realized (USD)   Price Category  \\\n",
       "1                     7700                  6100  Within Estimate   \n",
       "2                    12800                  9700  Within Estimate   \n",
       "3                    12800                 12100  Within Estimate   \n",
       "4                     3800                  2300   Below Estimate   \n",
       "5                     7700                  5600  Within Estimate   \n",
       "..                     ...                   ...              ...   \n",
       "238                   3600                  4800   Above Estimate   \n",
       "239                   5100                  3500   Below Estimate   \n",
       "240                   3600                  4200   Above Estimate   \n",
       "241                   5100                  4800  Within Estimate   \n",
       "242                  51200                 48400  Within Estimate   \n",
       "\n",
       "     Variance from Higher Estimate  \n",
       "1                            -1600  \n",
       "2                            -3100  \n",
       "3                             -700  \n",
       "4                            -1500  \n",
       "5                            -2100  \n",
       "..                             ...  \n",
       "238                           1200  \n",
       "239                          -1600  \n",
       "240                            600  \n",
       "241                           -300  \n",
       "242                          -2800  \n",
       "\n",
       "[242 rows x 14 columns]"
      ]
     },
     "execution_count": 297,
     "metadata": {},
     "output_type": "execute_result"
    }
   ],
   "source": [
    "#remove the french acent from the word Hermes in the brand column\n",
    "df['Brand'] = df['Brand'].str.upper().str.strip().replace({'HERMÈS': 'HERMES'})\n",
    "#display dataframe\n",
    "df"
   ]
  },
  {
   "cell_type": "code",
   "execution_count": 298,
   "id": "0d026823-50ef-42b4-bbda-6affd095eb2c",
   "metadata": {},
   "outputs": [],
   "source": [
    "#Save the new dataframe in the repository\n",
    "df.to_csv(\"../Project3-Luxurybags/Cleaned_Enhanced_Luxury_Bag_Data.csv\", index=False)\n"
   ]
  },
  {
   "cell_type": "markdown",
   "id": "44de37af",
   "metadata": {},
   "source": [
    "## PART 2 : Creating the Sqlite database: luxury_hadbag_auctions.db\n",
    "### Adding the ChristiesHK_Mar25 dataframe to the database. "
   ]
  },
  {
   "cell_type": "code",
   "execution_count": 299,
   "id": "110b8c91-589f-45db-88c2-73e05d95d8ec",
   "metadata": {},
   "outputs": [
    {
     "name": "stdout",
     "output_type": "stream",
     "text": [
      "   Lot                                        Description   Brand  \\\n",
      "0    1  LIME EVERCOLOR LEATHER MINI ROULIS WITH PALLAD...  HERMES   \n",
      "1    2  LIMITED EDITION LIME & PEARL GRAY EPSOM LEATHE...  HERMES   \n",
      "2    3  LIMITED EDITION LIME & PEARL GRAY EPSOM LEATHE...  HERMES   \n",
      "3    4  SHINY MIMOSA NILOTICUS LIZARD SMALL CONSTANCE ...  HERMES   \n",
      "4    5        NAPLES YELLOW EPSOM LEATHER CONSTANCE TO GO  HERMES   \n",
      "\n",
      "                         Type  Year   Color    Leather   Hardware  \\\n",
      "0                 Mini Roulis  2022   Green  Evercolor  Palladium   \n",
      "1   Kelly 32, Limited Edition  2011  Yellow      Epsom  Palladium   \n",
      "2  Birkin 35, Limited Edition  2011  Yellow      Epsom  Palladium   \n",
      "3            Constance Wallet  2011  Yellow     Lizard  Palladium   \n",
      "4             Constance To Go  2023  Yellow      Epsom       Gold   \n",
      "\n",
      "  Estimate (USD)  Lower Estimate (USD)  Higher Estimate (USD)  \\\n",
      "0      5100−7700                  5100                   7700   \n",
      "1     7700−12800                  7700                  12800   \n",
      "2     7700−12800                  7700                  12800   \n",
      "3      2600−3800                  2600                   3800   \n",
      "4      5100−7700                  5100                   7700   \n",
      "\n",
      "   Price Realized (USD)   Price Category  Variance from Higher Estimate  \n",
      "0                  6100  Within Estimate                          -1600  \n",
      "1                  9700  Within Estimate                          -3100  \n",
      "2                 12100  Within Estimate                           -700  \n",
      "3                  2300   Below Estimate                          -1500  \n",
      "4                  5600  Within Estimate                          -2100  \n"
     ]
    }
   ],
   "source": [
    "import sqlite3\n",
    "\n",
    "#Connect or create SQLite database\n",
    "conn=sqlite3.connect(\"luxury_handbag_auctions.db\")\n",
    "\n",
    "#Save Dataframe as a table\n",
    "df.to_sql(\"ChristiesHK_Mar25\",conn, if_exists=\"replace\", index=False)\n",
    "\n",
    "#test:show first few rows\n",
    "print(pd.read_sql(\"SELECT * FROM ChristiesHK_Mar25 LIMIT 5\", conn))"
   ]
  },
  {
   "cell_type": "markdown",
   "id": "c3a2dc8c",
   "metadata": {},
   "source": [
    "## PART 3 : VISUALIZATIONS"
   ]
  },
  {
   "cell_type": "markdown",
   "id": "585298b1",
   "metadata": {},
   "source": [
    "### Visualizations 1 : General Sale Performance\n",
    "a - Sale Total\\\n",
    "b - Auction Performance: Lot Sales Relative to Estimates"
   ]
  },
  {
   "cell_type": "markdown",
   "id": "91445698",
   "metadata": {},
   "source": [
    "#### a- Sale Total"
   ]
  },
  {
   "cell_type": "code",
   "execution_count": 349,
   "id": "7f38ed32",
   "metadata": {},
   "outputs": [
    {
     "name": "stdout",
     "output_type": "stream",
     "text": [
      "Total Price Realized (USD): $3,557,200.00\n"
     ]
    }
   ],
   "source": [
    "# a- SALE TOTAL\n",
    "\n",
    "#Calculate total price realized \n",
    "\n",
    "# Query the sum directly from the database (faster for large datasets)\n",
    "total_sum = pd.read_sql(\n",
    "    \"SELECT SUM([Price Realized (USD)]) as Total_Sum FROM ChristiesHK_Mar25\", \n",
    "    conn\n",
    ")[\"Total_Sum\"][0]  # Extract the sum value\n",
    "\n",
    "print(f\"Total Price Realized (USD): ${total_sum:,.2f}\")  # Format with commas"
   ]
  },
  {
   "cell_type": "markdown",
   "id": "6b44386e",
   "metadata": {},
   "source": [
    "### b - Auction Performance: LOT SALES RELATIVE TO ESTIMATES"
   ]
  },
  {
   "cell_type": "code",
   "execution_count": 350,
   "id": "c6e898ed",
   "metadata": {},
   "outputs": [
    {
     "name": "stdout",
     "output_type": "stream",
     "text": [
      "Price Category Estimates Table:\n"
     ]
    },
    {
     "data": {
      "text/html": [
       "<div>\n",
       "<style scoped>\n",
       "    .dataframe tbody tr th:only-of-type {\n",
       "        vertical-align: middle;\n",
       "    }\n",
       "\n",
       "    .dataframe tbody tr th {\n",
       "        vertical-align: top;\n",
       "    }\n",
       "\n",
       "    .dataframe thead th {\n",
       "        text-align: right;\n",
       "    }\n",
       "</style>\n",
       "<table border=\"1\" class=\"dataframe\">\n",
       "  <thead>\n",
       "    <tr style=\"text-align: right;\">\n",
       "      <th></th>\n",
       "      <th>Price Category</th>\n",
       "      <th>Number of Bags</th>\n",
       "    </tr>\n",
       "  </thead>\n",
       "  <tbody>\n",
       "    <tr>\n",
       "      <th>0</th>\n",
       "      <td>Above Estimate</td>\n",
       "      <td>106</td>\n",
       "    </tr>\n",
       "    <tr>\n",
       "      <th>1</th>\n",
       "      <td>Below Estimate</td>\n",
       "      <td>21</td>\n",
       "    </tr>\n",
       "    <tr>\n",
       "      <th>2</th>\n",
       "      <td>No Sale</td>\n",
       "      <td>12</td>\n",
       "    </tr>\n",
       "    <tr>\n",
       "      <th>3</th>\n",
       "      <td>Within Estimate</td>\n",
       "      <td>103</td>\n",
       "    </tr>\n",
       "  </tbody>\n",
       "</table>\n",
       "</div>"
      ],
      "text/plain": [
       "    Price Category  Number of Bags\n",
       "0   Above Estimate             106\n",
       "1   Below Estimate              21\n",
       "2          No Sale              12\n",
       "3  Within Estimate             103"
      ]
     },
     "execution_count": 350,
     "metadata": {},
     "output_type": "execute_result"
    }
   ],
   "source": [
    "# b- Auction Performance Price realized relative to Estimate Bar Chart\n",
    "\n",
    "# CCREATE TABLE \n",
    "# Query to get Price Category counts (same logic as the plot)\n",
    "query = \"\"\"\n",
    "    SELECT \n",
    "        `Price Category`, \n",
    "        COUNT(*) AS \"Number of Bags\" \n",
    "    FROM ChristiesHK_Mar25\n",
    "    GROUP BY `Price Category`\n",
    "    ORDER BY `Price Category`\n",
    "\"\"\"\n",
    "price_category_table = pd.read_sql(query, conn)\n",
    "\n",
    "#SAVE THE TABLE IN THE DATABASE\n",
    "price_category_table.to_sql(\n",
    "    \"Price_Category_Estimates\",  # Table name\n",
    "    conn,\n",
    "    if_exists=\"replace\",     # Overwrite if table exists\n",
    "    index=False              # Don't save the index as a column\n",
    ")\n",
    "\n",
    "# Display the table\n",
    "print(\"Price Category Estimates Table:\")\n",
    "price_category_table\n"
   ]
  },
  {
   "cell_type": "code",
   "execution_count": null,
   "id": "18dea89f",
   "metadata": {},
   "outputs": [
    {
     "name": "stderr",
     "output_type": "stream",
     "text": [
      "/var/folders/1m/7n3mw1wj3ml7gf8rmsjswdrr0000gn/T/ipykernel_82090/338937561.py:4: FutureWarning:\n",
      "\n",
      "\n",
      "\n",
      "Passing `palette` without assigning `hue` is deprecated and will be removed in v0.14.0. Assign the `x` variable to `hue` and set `legend=False` for the same effect.\n",
      "\n",
      "\n"
     ]
    },
    {
     "data": {
      "image/png": "[encoded data removed]",
      "text/plain": [
       "<Figure size 800x500 with 1 Axes>"
      ]
     },
     "metadata": {},
     "output_type": "display_data"
    }
   ],
   "source": [
    "# PLOT SALES RELATIVE TO ESTIMATES bar chart\n",
    "# Plot the bar chart\n",
    "plt.figure(figsize=(8,5))\n",
    "sns.countplot(data=df, x='Price Category', palette='coolwarm')\n",
    "\n",
    "plt.title(\"LOT SALES RELATIVE TO ESTIMATES\")\n",
    "plt.ylabel(\"Number of Bags\")\n",
    "plt.xlabel(\"Estimate\")\n",
    "plt.show()"
   ]
  },
  {
   "cell_type": "code",
   "execution_count": 352,
   "id": "8c2b9767",
   "metadata": {},
   "outputs": [
    {
     "name": "stderr",
     "output_type": "stream",
     "text": [
      "/var/folders/1m/7n3mw1wj3ml7gf8rmsjswdrr0000gn/T/ipykernel_82090/884079474.py:4: FutureWarning:\n",
      "\n",
      "\n",
      "\n",
      "Passing `palette` without assigning `hue` is deprecated and will be removed in v0.14.0. Assign the `x` variable to `hue` and set `legend=False` for the same effect.\n",
      "\n",
      "\n"
     ]
    },
    {
     "data": {
      "image/png": "[encoded data removed]",
      "text/plain": [
       "<Figure size 800x500 with 1 Axes>"
      ]
     },
     "metadata": {},
     "output_type": "display_data"
    }
   ],
   "source": [
    "# PLOT THE BAR CHART\n",
    "# Using Plotly to plot the bar chart \n",
    "plt.figure(figsize=(8,5))\n",
    "sns.countplot(data=df, x='Price Category', palette='coolwarm')\n",
    "\n",
    "plt.title(\"Distribution of Auction Price Performance\")\n",
    "plt.ylabel(\"Number of Bags\")\n",
    "plt.xlabel(\"Price Category\")\n",
    "plt.show()"
   ]
  },
  {
   "cell_type": "markdown",
   "id": "ef354933",
   "metadata": {},
   "source": [
    "### Visualizations 2 : General Sale Results by BRAND \n",
    "a - PLOTLY Barchart 1: TOTAL SALES BY BRAND : DF : brand_sale_total \\\n",
    "b - ALTAIR Barchart 2: AVERAGE SALES BY BRAND : DF : Brand_Average_Prices"
   ]
  },
  {
   "cell_type": "markdown",
   "id": "b400afef",
   "metadata": {},
   "source": [
    "#### a- Plotly library to visualize the TOTAL SALES BY BRAND"
   ]
  },
  {
   "cell_type": "code",
   "execution_count": 353,
   "id": "54b85a6a",
   "metadata": {},
   "outputs": [
    {
     "data": {
      "text/plain": [
       "3"
      ]
     },
     "execution_count": 353,
     "metadata": {},
     "output_type": "execute_result"
    }
   ],
   "source": [
    "# a- Using Plotly to viualize the TOTAL SALES BY BRAND\n",
    "\n",
    "# CREATING TABLE\n",
    "# Read data from the database table\n",
    "df = pd.read_sql(\"SELECT * FROM ChristiesHK_Mar25\", conn)\n",
    "# Calculate sum of sales per brand\n",
    "brand_sale_total = df.groupby(\"Brand\")[\"Price Realized (USD)\"].sum().reset_index()\n",
    "\n",
    "\n",
    "# SAVING TABLE\n",
    "# Save the brand_sale_total dataframe to the database\n",
    "brand_sale_total.to_sql(\"Brand_Sale_Total\", conn, if_exists=\"replace\", index=False)"
   ]
  },
  {
   "cell_type": "code",
   "execution_count": 354,
   "id": "02a19810",
   "metadata": {},
   "outputs": [
    {
     "data": {
      "application/vnd.plotly.v1+json": {
       "config": {
        "plotlyServerURL": "https://plot.ly"
       },
       "data": [
        {
         "alignmentgroup": "True",
         "hovertemplate": "Brand=%{x}<br>Total Sales (USD)=%{text}<extra></extra>",
         "legendgroup": "CHANEL",
         "marker": {
          "color": "#636efa",
          "pattern": {
           "shape": ""
          }
         },
         "name": "CHANEL",
         "offsetgroup": "CHANEL",
         "orientation": "v",
         "showlegend": true,
         "text": [
          82400
         ],
         "textposition": "outside",
         "texttemplate": "$%{text:,.2f}",
         "type": "bar",
         "x": [
          "CHANEL"
         ],
         "xaxis": "x",
         "y": [
          82400
         ],
         "yaxis": "y"
        },
        {
         "alignmentgroup": "True",
         "hovertemplate": "Brand=%{x}<br>Total Sales (USD)=%{text}<extra></extra>",
         "legendgroup": "HERMES",
         "marker": {
          "color": "#EF553B",
          "pattern": {
           "shape": ""
          }
         },
         "name": "HERMES",
         "offsetgroup": "HERMES",
         "orientation": "v",
         "showlegend": true,
         "text": [
          3400600
         ],
         "textposition": "outside",
         "texttemplate": "$%{text:,.2f}",
         "type": "bar",
         "x": [
          "HERMES"
         ],
         "xaxis": "x",
         "y": [
          3400600
         ],
         "yaxis": "y"
        },
        {
         "alignmentgroup": "True",
         "hovertemplate": "Brand=%{x}<br>Total Sales (USD)=%{text}<extra></extra>",
         "legendgroup": "LOUIS VUITTON",
         "marker": {
          "color": "#00cc96",
          "pattern": {
           "shape": ""
          }
         },
         "name": "LOUIS VUITTON",
         "offsetgroup": "LOUIS VUITTON",
         "orientation": "v",
         "showlegend": true,
         "text": [
          74200
         ],
         "textposition": "outside",
         "texttemplate": "$%{text:,.2f}",
         "type": "bar",
         "x": [
          "LOUIS VUITTON"
         ],
         "xaxis": "x",
         "y": [
          74200
         ],
         "yaxis": "y"
        }
       ],
       "layout": {
        "barmode": "relative",
        "legend": {
         "title": {
          "text": "Brand"
         },
         "tracegroupgap": 0
        },
        "template": {
         "data": {
          "bar": [
           {
            "error_x": {
             "color": "#2a3f5f"
            },
            "error_y": {
             "color": "#2a3f5f"
            },
            "marker": {
             "line": {
              "color": "#E5ECF6",
              "width": 0.5
             },
             "pattern": {
              "fillmode": "overlay",
              "size": 10,
              "solidity": 0.2
             }
            },
            "type": "bar"
           }
          ],
          "barpolar": [
           {
            "marker": {
             "line": {
              "color": "#E5ECF6",
              "width": 0.5
             },
             "pattern": {
              "fillmode": "overlay",
              "size": 10,
              "solidity": 0.2
             }
            },
            "type": "barpolar"
           }
          ],
          "carpet": [
           {
            "aaxis": {
             "endlinecolor": "#2a3f5f",
             "gridcolor": "white",
             "linecolor": "white",
             "minorgridcolor": "white",
             "startlinecolor": "#2a3f5f"
            },
            "baxis": {
             "endlinecolor": "#2a3f5f",
             "gridcolor": "white",
             "linecolor": "white",
             "minorgridcolor": "white",
             "startlinecolor": "#2a3f5f"
            },
            "type": "carpet"
           }
          ],
          "choropleth": [
           {
            "colorbar": {
             "outlinewidth": 0,
             "ticks": ""
            },
            "type": "choropleth"
           }
          ],
          "contour": [
           {
            "colorbar": {
             "outlinewidth": 0,
             "ticks": ""
            },
            "colorscale": [
             [
              0,
              "#0d0887"
             ],
             [
              0.1111111111111111,
              "#46039f"
             ],
             [
              0.2222222222222222,
              "#7201a8"
             ],
             [
              0.3333333333333333,
              "#9c179e"
             ],
             [
              0.4444444444444444,
              "#bd3786"
             ],
             [
              0.5555555555555556,
              "#d8576b"
             ],
             [
              0.6666666666666666,
              "#ed7953"
             ],
             [
              0.7777777777777778,
              "#fb9f3a"
             ],
             [
              0.8888888888888888,
              "#fdca26"
             ],
             [
              1,
              "#f0f921"
             ]
            ],
            "type": "contour"
           }
          ],
          "contourcarpet": [
           {
            "colorbar": {
             "outlinewidth": 0,
             "ticks": ""
            },
            "type": "contourcarpet"
           }
          ],
          "heatmap": [
           {
            "colorbar": {
             "outlinewidth": 0,
             "ticks": ""
            },
            "colorscale": [
             [
              0,
              "#0d0887"
             ],
             [
              0.1111111111111111,
              "#46039f"
             ],
             [
              0.2222222222222222,
              "#7201a8"
             ],
             [
              0.3333333333333333,
              "#9c179e"
             ],
             [
              0.4444444444444444,
              "#bd3786"
             ],
             [
              0.5555555555555556,
              "#d8576b"
             ],
             [
              0.6666666666666666,
              "#ed7953"
             ],
             [
              0.7777777777777778,
              "#fb9f3a"
             ],
             [
              0.8888888888888888,
              "#fdca26"
             ],
             [
              1,
              "#f0f921"
             ]
            ],
            "type": "heatmap"
           }
          ],
          "heatmapgl": [
           {
            "colorbar": {
             "outlinewidth": 0,
             "ticks": ""
            },
            "colorscale": [
             [
              0,
              "#0d0887"
             ],
             [
              0.1111111111111111,
              "#46039f"
             ],
             [
              0.2222222222222222,
              "#7201a8"
             ],
             [
              0.3333333333333333,
              "#9c179e"
             ],
             [
              0.4444444444444444,
              "#bd3786"
             ],
             [
              0.5555555555555556,
              "#d8576b"
             ],
             [
              0.6666666666666666,
              "#ed7953"
             ],
             [
              0.7777777777777778,
              "#fb9f3a"
             ],
             [
              0.8888888888888888,
              "#fdca26"
             ],
             [
              1,
              "#f0f921"
             ]
            ],
            "type": "heatmapgl"
           }
          ],
          "histogram": [
           {
            "marker": {
             "pattern": {
              "fillmode": "overlay",
              "size": 10,
              "solidity": 0.2
             }
            },
            "type": "histogram"
           }
          ],
          "histogram2d": [
           {
            "colorbar": {
             "outlinewidth": 0,
             "ticks": ""
            },
            "colorscale": [
             [
              0,
              "#0d0887"
             ],
             [
              0.1111111111111111,
              "#46039f"
             ],
             [
              0.2222222222222222,
              "#7201a8"
             ],
             [
              0.3333333333333333,
              "#9c179e"
             ],
             [
              0.4444444444444444,
              "#bd3786"
             ],
             [
              0.5555555555555556,
              "#d8576b"
             ],
             [
              0.6666666666666666,
              "#ed7953"
             ],
             [
              0.7777777777777778,
              "#fb9f3a"
             ],
             [
              0.8888888888888888,
              "#fdca26"
             ],
             [
              1,
              "#f0f921"
             ]
            ],
            "type": "histogram2d"
           }
          ],
          "histogram2dcontour": [
           {
            "colorbar": {
             "outlinewidth": 0,
             "ticks": ""
            },
            "colorscale": [
             [
              0,
              "#0d0887"
             ],
             [
              0.1111111111111111,
              "#46039f"
             ],
             [
              0.2222222222222222,
              "#7201a8"
             ],
             [
              0.3333333333333333,
              "#9c179e"
             ],
             [
              0.4444444444444444,
              "#bd3786"
             ],
             [
              0.5555555555555556,
              "#d8576b"
             ],
             [
              0.6666666666666666,
              "#ed7953"
             ],
             [
              0.7777777777777778,
              "#fb9f3a"
             ],
             [
              0.8888888888888888,
              "#fdca26"
             ],
             [
              1,
              "#f0f921"
             ]
            ],
            "type": "histogram2dcontour"
           }
          ],
          "mesh3d": [
           {
            "colorbar": {
             "outlinewidth": 0,
             "ticks": ""
            },
            "type": "mesh3d"
           }
          ],
          "parcoords": [
           {
            "line": {
             "colorbar": {
              "outlinewidth": 0,
              "ticks": ""
             }
            },
            "type": "parcoords"
           }
          ],
          "pie": [
           {
            "automargin": true,
            "type": "pie"
           }
          ],
          "scatter": [
           {
            "fillpattern": {
             "fillmode": "overlay",
             "size": 10,
             "solidity": 0.2
            },
            "type": "scatter"
           }
          ],
          "scatter3d": [
           {
            "line": {
             "colorbar": {
              "outlinewidth": 0,
              "ticks": ""
             }
            },
            "marker": {
             "colorbar": {
              "outlinewidth": 0,
              "ticks": ""
             }
            },
            "type": "scatter3d"
           }
          ],
          "scattercarpet": [
           {
            "marker": {
             "colorbar": {
              "outlinewidth": 0,
              "ticks": ""
             }
            },
            "type": "scattercarpet"
           }
          ],
          "scattergeo": [
           {
            "marker": {
             "colorbar": {
              "outlinewidth": 0,
              "ticks": ""
             }
            },
            "type": "scattergeo"
           }
          ],
          "scattergl": [
           {
            "marker": {
             "colorbar": {
              "outlinewidth": 0,
              "ticks": ""
             }
            },
            "type": "scattergl"
           }
          ],
          "scattermapbox": [
           {
            "marker": {
             "colorbar": {
              "outlinewidth": 0,
              "ticks": ""
             }
            },
            "type": "scattermapbox"
           }
          ],
          "scatterpolar": [
           {
            "marker": {
             "colorbar": {
              "outlinewidth": 0,
              "ticks": ""
             }
            },
            "type": "scatterpolar"
           }
          ],
          "scatterpolargl": [
           {
            "marker": {
             "colorbar": {
              "outlinewidth": 0,
              "ticks": ""
             }
            },
            "type": "scatterpolargl"
           }
          ],
          "scatterternary": [
           {
            "marker": {
             "colorbar": {
              "outlinewidth": 0,
              "ticks": ""
             }
            },
            "type": "scatterternary"
           }
          ],
          "surface": [
           {
            "colorbar": {
             "outlinewidth": 0,
             "ticks": ""
            },
            "colorscale": [
             [
              0,
              "#0d0887"
             ],
             [
              0.1111111111111111,
              "#46039f"
             ],
             [
              0.2222222222222222,
              "#7201a8"
             ],
             [
              0.3333333333333333,
              "#9c179e"
             ],
             [
              0.4444444444444444,
              "#bd3786"
             ],
             [
              0.5555555555555556,
              "#d8576b"
             ],
             [
              0.6666666666666666,
              "#ed7953"
             ],
             [
              0.7777777777777778,
              "#fb9f3a"
             ],
             [
              0.8888888888888888,
              "#fdca26"
             ],
             [
              1,
              "#f0f921"
             ]
            ],
            "type": "surface"
           }
          ],
          "table": [
           {
            "cells": {
             "fill": {
              "color": "#EBF0F8"
             },
             "line": {
              "color": "white"
             }
            },
            "header": {
             "fill": {
              "color": "#C8D4E3"
             },
             "line": {
              "color": "white"
             }
            },
            "type": "table"
           }
          ]
         },
         "layout": {
          "annotationdefaults": {
           "arrowcolor": "#2a3f5f",
           "arrowhead": 0,
           "arrowwidth": 1
          },
          "autotypenumbers": "strict",
          "coloraxis": {
           "colorbar": {
            "outlinewidth": 0,
            "ticks": ""
           }
          },
          "colorscale": {
           "diverging": [
            [
             0,
             "#8e0152"
            ],
            [
             0.1,
             "#c51b7d"
            ],
            [
             0.2,
             "#de77ae"
            ],
            [
             0.3,
             "#f1b6da"
            ],
            [
             0.4,
             "#fde0ef"
            ],
            [
             0.5,
             "#f7f7f7"
            ],
            [
             0.6,
             "#e6f5d0"
            ],
            [
             0.7,
             "#b8e186"
            ],
            [
             0.8,
             "#7fbc41"
            ],
            [
             0.9,
             "#4d9221"
            ],
            [
             1,
             "#276419"
            ]
           ],
           "sequential": [
            [
             0,
             "#0d0887"
            ],
            [
             0.1111111111111111,
             "#46039f"
            ],
            [
             0.2222222222222222,
             "#7201a8"
            ],
            [
             0.3333333333333333,
             "#9c179e"
            ],
            [
             0.4444444444444444,
             "#bd3786"
            ],
            [
             0.5555555555555556,
             "#d8576b"
            ],
            [
             0.6666666666666666,
             "#ed7953"
            ],
            [
             0.7777777777777778,
             "#fb9f3a"
            ],
            [
             0.8888888888888888,
             "#fdca26"
            ],
            [
             1,
             "#f0f921"
            ]
           ],
           "sequentialminus": [
            [
             0,
             "#0d0887"
            ],
            [
             0.1111111111111111,
             "#46039f"
            ],
            [
             0.2222222222222222,
             "#7201a8"
            ],
            [
             0.3333333333333333,
             "#9c179e"
            ],
            [
             0.4444444444444444,
             "#bd3786"
            ],
            [
             0.5555555555555556,
             "#d8576b"
            ],
            [
             0.6666666666666666,
             "#ed7953"
            ],
            [
             0.7777777777777778,
             "#fb9f3a"
            ],
            [
             0.8888888888888888,
             "#fdca26"
            ],
            [
             1,
             "#f0f921"
            ]
           ]
          },
          "colorway": [
           "#636efa",
           "#EF553B",
           "#00cc96",
           "#ab63fa",
           "#FFA15A",
           "#19d3f3",
           "#FF6692",
           "#B6E880",
           "#FF97FF",
           "#FECB52"
          ],
          "font": {
           "color": "#2a3f5f"
          },
          "geo": {
           "bgcolor": "white",
           "lakecolor": "white",
           "landcolor": "#E5ECF6",
           "showlakes": true,
           "showland": true,
           "subunitcolor": "white"
          },
          "hoverlabel": {
           "align": "left"
          },
          "hovermode": "closest",
          "mapbox": {
           "style": "light"
          },
          "paper_bgcolor": "white",
          "plot_bgcolor": "#E5ECF6",
          "polar": {
           "angularaxis": {
            "gridcolor": "white",
            "linecolor": "white",
            "ticks": ""
           },
           "bgcolor": "#E5ECF6",
           "radialaxis": {
            "gridcolor": "white",
            "linecolor": "white",
            "ticks": ""
           }
          },
          "scene": {
           "xaxis": {
            "backgroundcolor": "#E5ECF6",
            "gridcolor": "white",
            "gridwidth": 2,
            "linecolor": "white",
            "showbackground": true,
            "ticks": "",
            "zerolinecolor": "white"
           },
           "yaxis": {
            "backgroundcolor": "#E5ECF6",
            "gridcolor": "white",
            "gridwidth": 2,
            "linecolor": "white",
            "showbackground": true,
            "ticks": "",
            "zerolinecolor": "white"
           },
           "zaxis": {
            "backgroundcolor": "#E5ECF6",
            "gridcolor": "white",
            "gridwidth": 2,
            "linecolor": "white",
            "showbackground": true,
            "ticks": "",
            "zerolinecolor": "white"
           }
          },
          "shapedefaults": {
           "line": {
            "color": "#2a3f5f"
           }
          },
          "ternary": {
           "aaxis": {
            "gridcolor": "white",
            "linecolor": "white",
            "ticks": ""
           },
           "baxis": {
            "gridcolor": "white",
            "linecolor": "white",
            "ticks": ""
           },
           "bgcolor": "#E5ECF6",
           "caxis": {
            "gridcolor": "white",
            "linecolor": "white",
            "ticks": ""
           }
          },
          "title": {
           "x": 0.05
          },
          "xaxis": {
           "automargin": true,
           "gridcolor": "white",
           "linecolor": "white",
           "ticks": "",
           "title": {
            "standoff": 15
           },
           "zerolinecolor": "white",
           "zerolinewidth": 2
          },
          "yaxis": {
           "automargin": true,
           "gridcolor": "white",
           "linecolor": "white",
           "ticks": "",
           "title": {
            "standoff": 15
           },
           "zerolinecolor": "white",
           "zerolinewidth": 2
          }
         }
        },
        "title": {
         "text": "TOTAL SALES BY BRAND"
        },
        "xaxis": {
         "anchor": "y",
         "categoryarray": [
          "CHANEL",
          "HERMES",
          "LOUIS VUITTON"
         ],
         "categoryorder": "array",
         "domain": [
          0,
          1
         ],
         "tickangle": 0,
         "title": {
          "text": "Brand"
         }
        },
        "yaxis": {
         "anchor": "x",
         "domain": [
          0,
          1
         ],
         "range": [
          0,
          4000000
         ],
         "tickformat": ",",
         "tickprefix": "$",
         "title": {
          "text": "Total Sales (USD)"
         }
        }
       }
      }
     },
     "metadata": {},
     "output_type": "display_data"
    }
   ],
   "source": [
    "# PLOTTING the TOTAL SALES BY BRAND CHART\n",
    "# Create an interactive bar chart\n",
    "fig = px.bar(\n",
    "    brand_sale_total, \n",
    "    x=\"Brand\", \n",
    "    y=\"Price Realized (USD)\", \n",
    "    text=\"Price Realized (USD)\", \n",
    "    title=\"TOTAL SALES BY BRAND\",\n",
    "    labels={\"Price Realized (USD)\": \"Total Sales (USD)\"},\n",
    "    color=\"Brand\",\n",
    ")\n",
    "# Customize layout\n",
    "fig.update_traces(\n",
    "    texttemplate='$%{text:,.2f}',  # Format as currency with commas\n",
    "    textposition='outside'\n",
    ")\n",
    "fig.update_layout(\n",
    "    xaxis_tickangle=0, \n",
    "    yaxis_title=\"Total Sales (USD)\", \n",
    "    xaxis_title=\"Brand\",\n",
    "    yaxis_range=[0, 4000000],  # Set y-axis range from 0 to 4 million\n",
    "    # Optional: Format y-axis ticks as dollar amounts\n",
    "    yaxis_tickprefix=\"$\",\n",
    "    yaxis_tickformat=\",\",  # Adds comma separators\n",
    ")\n",
    "\n",
    "# Show the interactive chart\n",
    "fig.show()"
   ]
  },
  {
   "cell_type": "markdown",
   "id": "0896bb31",
   "metadata": {},
   "source": [
    "#### b- Altair library to visualize the AVERAGE PRICE BY BRAND"
   ]
  },
  {
   "cell_type": "code",
   "execution_count": 355,
   "id": "6694879d",
   "metadata": {},
   "outputs": [
    {
     "name": "stdout",
     "output_type": "stream",
     "text": [
      "Average price per brand\n"
     ]
    },
    {
     "name": "stderr",
     "output_type": "stream",
     "text": [
      "/opt/anaconda3/lib/python3.12/site-packages/altair/utils/core.py:395: FutureWarning:\n",
      "\n",
      "the convert_dtype parameter is deprecated and will be removed in a future version.  Do ``ser.astype(object).apply()`` instead if you want ``convert_dtype=False``.\n",
      "\n"
     ]
    },
    {
     "data": {
      "text/html": [
       "\n",
       "<style>\n",
       "  #altair-viz-2dccad87b13a492eb6341f71d32cde28.vega-embed {\n",
       "    width: 100%;\n",
       "    display: flex;\n",
       "  }\n",
       "\n",
       "  #altair-viz-2dccad87b13a492eb6341f71d32cde28.vega-embed details,\n",
       "  #altair-viz-2dccad87b13a492eb6341f71d32cde28.vega-embed details summary {\n",
       "    position: relative;\n",
       "  }\n",
       "</style>\n",
       "<div id=\"altair-viz-2dccad87b13a492eb6341f71d32cde28\"></div>\n",
       "<script type=\"text/javascript\">\n",
       "  var VEGA_DEBUG = (typeof VEGA_DEBUG == \"undefined\") ? {} : VEGA_DEBUG;\n",
       "  (function(spec, embedOpt){\n",
       "    let outputDiv = document.currentScript.previousElementSibling;\n",
       "    if (outputDiv.id !== \"altair-viz-2dccad87b13a492eb6341f71d32cde28\") {\n",
       "      outputDiv = document.getElementById(\"altair-viz-2dccad87b13a492eb6341f71d32cde28\");\n",
       "    }\n",
       "    const paths = {\n",
       "      \"vega\": \"https://cdn.jsdelivr.net/npm/vega@5?noext\",\n",
       "      \"vega-lib\": \"https://cdn.jsdelivr.net/npm/vega-lib?noext\",\n",
       "      \"vega-lite\": \"https://cdn.jsdelivr.net/npm/vega-lite@5.8.0?noext\",\n",
       "      \"vega-embed\": \"https://cdn.jsdelivr.net/npm/vega-embed@6?noext\",\n",
       "    };\n",
       "\n",
       "    function maybeLoadScript(lib, version) {\n",
       "      var key = `${lib.replace(\"-\", \"\")}_version`;\n",
       "      return (VEGA_DEBUG[key] == version) ?\n",
       "        Promise.resolve(paths[lib]) :\n",
       "        new Promise(function(resolve, reject) {\n",
       "          var s = document.createElement('script');\n",
       "          document.getElementsByTagName(\"head\")[0].appendChild(s);\n",
       "          s.async = true;\n",
       "          s.onload = () => {\n",
       "            VEGA_DEBUG[key] = version;\n",
       "            return resolve(paths[lib]);\n",
       "          };\n",
       "          s.onerror = () => reject(`Error loading script: ${paths[lib]}`);\n",
       "          s.src = paths[lib];\n",
       "        });\n",
       "    }\n",
       "\n",
       "    function showError(err) {\n",
       "      outputDiv.innerHTML = `<div class=\"error\" style=\"color:red;\">${err}</div>`;\n",
       "      throw err;\n",
       "    }\n",
       "\n",
       "    function displayChart(vegaEmbed) {\n",
       "      vegaEmbed(outputDiv, spec, embedOpt)\n",
       "        .catch(err => showError(`Javascript Error: ${err.message}<br>This usually means there's a typo in your chart specification. See the javascript console for the full traceback.`));\n",
       "    }\n",
       "\n",
       "    if(typeof define === \"function\" && define.amd) {\n",
       "      requirejs.config({paths});\n",
       "      require([\"vega-embed\"], displayChart, err => showError(`Error loading script: ${err.message}`));\n",
       "    } else {\n",
       "      maybeLoadScript(\"vega\", \"5\")\n",
       "        .then(() => maybeLoadScript(\"vega-lite\", \"5.8.0\"))\n",
       "        .then(() => maybeLoadScript(\"vega-embed\", \"6\"))\n",
       "        .catch(showError)\n",
       "        .then(() => displayChart(vegaEmbed));\n",
       "    }\n",
       "  })({\"config\": {\"view\": {\"continuousWidth\": 300, \"continuousHeight\": 300}}, \"data\": {\"name\": \"data-2b2dae0cf54337dcec4ac05f8d0cf89a\"}, \"mark\": {\"type\": \"bar\"}, \"encoding\": {\"tooltip\": [{\"field\": \"Brand\", \"type\": \"nominal\"}, {\"field\": \"Average_Price_USD\", \"type\": \"quantitative\"}], \"x\": {\"axis\": {\"labelAngle\": 0}, \"field\": \"Brand\", \"sort\": \"-y\", \"type\": \"nominal\"}, \"y\": {\"field\": \"Average_Price_USD\", \"title\": \"Average Price (USD)\", \"type\": \"quantitative\"}}, \"height\": 400, \"title\": \"Average Price Per Brand Item\", \"width\": 600, \"$schema\": \"https://vega.github.io/schema/vega-lite/v5.8.0.json\", \"datasets\": {\"data-2b2dae0cf54337dcec4ac05f8d0cf89a\": [{\"Brand\": \"HERMES\", \"Average_Price_USD\": 16349.038461538461}, {\"Brand\": \"LOUIS VUITTON\", \"Average_Price_USD\": 10600.0}, {\"Brand\": \"CHANEL\", \"Average_Price_USD\": 3051.8518518518517}]}}, {\"mode\": \"vega-lite\"});\n",
       "</script>"
      ],
      "text/plain": [
       "alt.Chart(...)"
      ]
     },
     "metadata": {},
     "output_type": "display_data"
    }
   ],
   "source": [
    "#c- Using Altair to viualize the AVERAGE PRICE BY BRAND\n",
    "\n",
    "\n",
    "# CREATE A DATAFRAME FOR AVERAGE PRICE PER BRAND \n",
    "# 1. Calculate average prices directly in SQL\n",
    "query = \"\"\"\n",
    "SELECT \n",
    "    Brand,\n",
    "    AVG(CAST(`Price Realized (USD)` AS REAL)) as `Average_Price_USD`\n",
    "FROM \n",
    "    ChristiesHK_Mar25\n",
    "WHERE\n",
    "    `Price Realized (USD)` != ''  -- Exclude empty values\n",
    "GROUP BY \n",
    "    Brand\n",
    "ORDER BY\n",
    "    `Average_Price_USD` DESC\n",
    "\"\"\"\n",
    "# 2. Execute query and load results\n",
    "brand_avg = pd.read_sql(query, conn)\n",
    "\n",
    "\n",
    "# SAVE TABLE INTO DATABASE \n",
    "# 3. Save the aggregated data back to the database as a new table\n",
    "brand_avg.to_sql(\n",
    "    \"Brand_Average_Prices\", \n",
    "    conn, \n",
    "    if_exists=\"replace\", \n",
    "    index=False\n",
    ")\n",
    "print(\"Average price per brand\")\n",
    "brand_avg\n",
    "\n",
    "\n",
    "# CREATE VISUALIZATION\n",
    "# 4 Create visualization\n",
    "chart = alt.Chart(brand_avg).mark_bar().encode(\n",
    "    x=alt.X('Brand:N', sort='-y', axis=alt.Axis(labelAngle=0)),\n",
    "    y=alt.Y('Average_Price_USD:Q', title='Average Price (USD)'),\n",
    "    tooltip=['Brand', 'Average_Price_USD']\n",
    ").properties(\n",
    "    title='Average Price Per Brand Item',\n",
    "    width=600,\n",
    "    height=400\n",
    ")\n",
    "# Display results\n",
    "chart.display()"
   ]
  },
  {
   "cell_type": "code",
   "execution_count": 356,
   "id": "e7eabced",
   "metadata": {},
   "outputs": [
    {
     "ename": "SyntaxError",
     "evalue": "invalid syntax (710101739.py, line 5)",
     "output_type": "error",
     "traceback": [
      "\u001b[0;36m  Cell \u001b[0;32mIn[356], line 5\u001b[0;36m\u001b[0m\n\u001b[0;31m    a - Sale Total\\\u001b[0m\n\u001b[0m             ^\u001b[0m\n\u001b[0;31mSyntaxError\u001b[0m\u001b[0;31m:\u001b[0m invalid syntax\n"
     ]
    }
   ],
   "source": [
    "### Visualizations 3\n",
    "# \n",
    "# \n",
    "#  : General Sale Results by BRAND \n",
    "a - Sale Total\\\n",
    "b - PLOTLY Barchart 1: TOTAL SALES BY BRAND : DF : brand_sale_total \\\n",
    "c - ALTAIR Barchart 2: AVERAGE SALES BY BRAND : DF : Brand_Average_Prices"
   ]
  },
  {
   "cell_type": "code",
   "execution_count": null,
   "id": "a7ee4b30-440b-40c7-bb20-fad1a029920c",
   "metadata": {},
   "outputs": [],
   "source": [
    "# # Query: Top 3 Hermès sales \n",
    "# query = \"\"\"\n",
    "# SELECT Brand, Description, `Price Realized (USD)`\n",
    "# FROM ChristiesHK_Mar25\n",
    "# WHERE Brand = 'HERMES'\n",
    "# ORDER BY `Price Realized (USD)` DESC\n",
    "# LIMIT 3\n",
    "# \"\"\"\n",
    "\n",
    "# top_hermes = pd.read_sql(query, conn)\n",
    "# top_hermes\n"
   ]
  },
  {
   "cell_type": "markdown",
   "id": "50594bfa",
   "metadata": {},
   "source": []
  },
  {
   "cell_type": "code",
   "execution_count": null,
   "id": "9d693ffd",
   "metadata": {},
   "outputs": [],
   "source": []
  },
  {
   "cell_type": "markdown",
   "id": "234d4957",
   "metadata": {},
   "source": [
    "##### Average Price Realized For Each Brand Based on Year "
   ]
  },
  {
   "cell_type": "markdown",
   "id": "5e726878",
   "metadata": {},
   "source": [
    "Table 1:Brand_Year_Average_Prices"
   ]
  },
  {
   "cell_type": "code",
   "execution_count": null,
   "id": "de5a4656",
   "metadata": {},
   "outputs": [
    {
     "name": "stdout",
     "output_type": "stream",
     "text": [
      "Brand_Year_Average_Prices\n",
      "    Brand  Year  Average_Price_USD\n",
      "0  CHANEL  1989        2600.000000\n",
      "1  CHANEL  1996        1500.000000\n",
      "2  CHANEL  1997        1900.000000\n",
      "3  CHANEL  2006        1466.666667\n",
      "4  CHANEL  2008        1550.000000\n"
     ]
    }
   ],
   "source": [
    "### Analyze average price realized of brands based on year and save to database\n",
    "\n",
    "# Generating Table\n",
    "\n",
    "# Connect to the SQLite database\n",
    "conn = sqlite3.connect(\"luxury_handbag_auctions.db\")\n",
    "\n",
    "# Create trend analysis DataFrame\n",
    "AvePriceYear_df = df.groupby(['Brand', 'Year'])['Price Realized (USD)'].mean().reset_index()\n",
    "AvePriceYear_df.rename(columns={'Price Realized (USD)': 'Average_Price_USD'}, inplace=True)\n",
    "\n",
    "# Save trend analysis as a new table\n",
    "AvePriceYear_df.to_sql(\"Brand_Year_Average_Prices\", conn, if_exists=\"replace\", index=False)\n",
    "\n",
    "# Test: show first few rows of the new table\n",
    "print(\"Brand_Year_Average_Prices\")\n",
    "print(pd.read_sql(\"SELECT * FROM Brand_Year_Average_Prices LIMIT 5\", conn))"
   ]
  },
  {
   "cell_type": "markdown",
   "id": "d14daef8",
   "metadata": {},
   "source": [
    "Visualization 1"
   ]
  },
  {
   "cell_type": "code",
   "execution_count": null,
   "id": "470e01f3",
   "metadata": {},
   "outputs": [
    {
     "data": {
      "image/png": "[encoded data removed]",
      "text/plain": [
       "<Figure size 800x600 with 1 Axes>"
      ]
     },
     "metadata": {},
     "output_type": "display_data"
    }
   ],
   "source": [
    "### Plotting from the average price realized of brands based on year \n",
    "\n",
    "# # Plotting graph\n",
    "\n",
    "# Plotting the dot chart\n",
    "plt.figure(figsize=(8, 6))\n",
    "sns.stripplot(data=AvePriceYear_df, x='Year', y='Average_Price_USD', hue='Brand', dodge=True)\n",
    "plt.xticks(rotation=45, fontsize=8)\n",
    "plt.title(\"Average Price Results by Year Manufactured for Every Brand\")\n",
    "plt.ylabel(\"Average Price Realized (USD)\")\n",
    "plt.tight_layout()\n",
    "# Display the chart\n",
    "plt.show()"
   ]
  },
  {
   "cell_type": "markdown",
   "id": "28769ab7",
   "metadata": {},
   "source": [
    "### Price Realized for Each Brand based on Color"
   ]
  },
  {
   "cell_type": "markdown",
   "id": "97ae17af",
   "metadata": {},
   "source": [
    "Table 2"
   ]
  },
  {
   "cell_type": "code",
   "execution_count": null,
   "id": "4c2f2590",
   "metadata": {},
   "outputs": [
    {
     "data": {
      "text/html": [
       "<div>\n",
       "<style scoped>\n",
       "    .dataframe tbody tr th:only-of-type {\n",
       "        vertical-align: middle;\n",
       "    }\n",
       "\n",
       "    .dataframe tbody tr th {\n",
       "        vertical-align: top;\n",
       "    }\n",
       "\n",
       "    .dataframe thead th {\n",
       "        text-align: right;\n",
       "    }\n",
       "</style>\n",
       "<table border=\"1\" class=\"dataframe\">\n",
       "  <thead>\n",
       "    <tr style=\"text-align: right;\">\n",
       "      <th></th>\n",
       "      <th>Brand</th>\n",
       "      <th>Color</th>\n",
       "      <th>Price Realized (USD)</th>\n",
       "    </tr>\n",
       "  </thead>\n",
       "  <tbody>\n",
       "    <tr>\n",
       "      <th>0</th>\n",
       "      <td>HERMES</td>\n",
       "      <td>Green</td>\n",
       "      <td>6100</td>\n",
       "    </tr>\n",
       "    <tr>\n",
       "      <th>1</th>\n",
       "      <td>HERMES</td>\n",
       "      <td>Yellow</td>\n",
       "      <td>9700</td>\n",
       "    </tr>\n",
       "    <tr>\n",
       "      <th>2</th>\n",
       "      <td>HERMES</td>\n",
       "      <td>Yellow</td>\n",
       "      <td>12100</td>\n",
       "    </tr>\n",
       "    <tr>\n",
       "      <th>3</th>\n",
       "      <td>HERMES</td>\n",
       "      <td>Yellow</td>\n",
       "      <td>2300</td>\n",
       "    </tr>\n",
       "    <tr>\n",
       "      <th>4</th>\n",
       "      <td>HERMES</td>\n",
       "      <td>Yellow</td>\n",
       "      <td>5600</td>\n",
       "    </tr>\n",
       "    <tr>\n",
       "      <th>...</th>\n",
       "      <td>...</td>\n",
       "      <td>...</td>\n",
       "      <td>...</td>\n",
       "    </tr>\n",
       "    <tr>\n",
       "      <th>237</th>\n",
       "      <td>LOUIS VUITTON</td>\n",
       "      <td>Multi Color</td>\n",
       "      <td>4800</td>\n",
       "    </tr>\n",
       "    <tr>\n",
       "      <th>238</th>\n",
       "      <td>LOUIS VUITTON</td>\n",
       "      <td>Black</td>\n",
       "      <td>3500</td>\n",
       "    </tr>\n",
       "    <tr>\n",
       "      <th>239</th>\n",
       "      <td>LOUIS VUITTON</td>\n",
       "      <td>Black</td>\n",
       "      <td>4200</td>\n",
       "    </tr>\n",
       "    <tr>\n",
       "      <th>240</th>\n",
       "      <td>LOUIS VUITTON</td>\n",
       "      <td>Black</td>\n",
       "      <td>4800</td>\n",
       "    </tr>\n",
       "    <tr>\n",
       "      <th>241</th>\n",
       "      <td>LOUIS VUITTON</td>\n",
       "      <td>Multi Color</td>\n",
       "      <td>48400</td>\n",
       "    </tr>\n",
       "  </tbody>\n",
       "</table>\n",
       "<p>242 rows × 3 columns</p>\n",
       "</div>"
      ],
      "text/plain": [
       "             Brand        Color  Price Realized (USD)\n",
       "0           HERMES        Green                  6100\n",
       "1           HERMES       Yellow                  9700\n",
       "2           HERMES       Yellow                 12100\n",
       "3           HERMES       Yellow                  2300\n",
       "4           HERMES       Yellow                  5600\n",
       "..             ...          ...                   ...\n",
       "237  LOUIS VUITTON  Multi Color                  4800\n",
       "238  LOUIS VUITTON        Black                  3500\n",
       "239  LOUIS VUITTON        Black                  4200\n",
       "240  LOUIS VUITTON        Black                  4800\n",
       "241  LOUIS VUITTON  Multi Color                 48400\n",
       "\n",
       "[242 rows x 3 columns]"
      ]
     },
     "execution_count": 247,
     "metadata": {},
     "output_type": "execute_result"
    }
   ],
   "source": [
    "### Analyze price realized for each Brand based on Color and save to datatbase\n",
    "\n",
    "# Connect to the SQLite database\n",
    "conn = sqlite3.connect(\"luxury_handbag_auctions.db\")\n",
    "\n",
    "# Query the required data (Brand, Color, Price Realized)\n",
    "query = \"\"\"\n",
    "    SELECT Brand, Color, `Price Realized (USD)` \n",
    "    FROM ChristiesHK_Mar25\n",
    "\"\"\"\n",
    "PriceByColor = pd.read_sql(query, conn)\n",
    "\n",
    "# Save the aggregated data back to the database as a new table\n",
    "PriceByColor.to_sql(\n",
    "    \"PriceByColor\", \n",
    "    conn, \n",
    "    if_exists=\"replace\", \n",
    "    index=False\n",
    ")\n",
    "# Show Table\n",
    "PriceByColor"
   ]
  },
  {
   "cell_type": "markdown",
   "id": "d743693d",
   "metadata": {},
   "source": [
    "Visualization 2"
   ]
  },
  {
   "cell_type": "code",
   "execution_count": null,
   "id": "6df39466",
   "metadata": {},
   "outputs": [
    {
     "data": {
      "image/png": "[encoded data removed]",
      "text/plain": [
       "<Figure size 1200x600 with 1 Axes>"
      ]
     },
     "metadata": {},
     "output_type": "display_data"
    }
   ],
   "source": [
    "# Generate the stripplot for price realized for each Brand based on Color\n",
    "plt.figure(figsize=(12, 6))  # Wider figure for better readability\n",
    "sns.stripplot(\n",
    "    data=PriceByColor,\n",
    "    x='Color',\n",
    "    y='Price Realized (USD)',\n",
    "    hue='Brand',\n",
    "    dodge=True,  # Prevents overlapping points\n",
    "    palette='deep',  # Better color distinction\n",
    "    alpha=1  # Slight transparency for overlapping points\n",
    ")\n",
    "\n",
    "# Format the plot\n",
    "# Add title and lables\n",
    "plt.title(\"Price Reaslized by Brand based on Color\", fontsize=20)\n",
    "plt.xlabel(\"Color\", fontsize= 20)\n",
    "plt.ylabel(\"Price Realized (USD)\", fontsize=20)\n",
    "plt.xticks(rotation=45, fontsize=14)  # Rotate x-axis labels\n",
    "plt.grid(axis='y', linestyle='--', alpha=0.5)  # Add faint gridlines for reference\n",
    "plt.tight_layout()  # Prevent label cutoff\n",
    "\n",
    "# Display the chart\n",
    "plt.show()"
   ]
  },
  {
   "cell_type": "markdown",
   "id": "84d6a827",
   "metadata": {},
   "source": [
    "### Analize Average Price Realized for Brands By Color"
   ]
  },
  {
   "cell_type": "markdown",
   "id": "83403cc8",
   "metadata": {},
   "source": [
    "Table 3"
   ]
  },
  {
   "cell_type": "code",
   "execution_count": null,
   "id": "3337d331",
   "metadata": {},
   "outputs": [
    {
     "data": {
      "text/html": [
       "<div>\n",
       "<style scoped>\n",
       "    .dataframe tbody tr th:only-of-type {\n",
       "        vertical-align: middle;\n",
       "    }\n",
       "\n",
       "    .dataframe tbody tr th {\n",
       "        vertical-align: top;\n",
       "    }\n",
       "\n",
       "    .dataframe thead th {\n",
       "        text-align: right;\n",
       "    }\n",
       "</style>\n",
       "<table border=\"1\" class=\"dataframe\">\n",
       "  <thead>\n",
       "    <tr style=\"text-align: right;\">\n",
       "      <th></th>\n",
       "      <th>Brand</th>\n",
       "      <th>Color</th>\n",
       "      <th>Average_Price_USD</th>\n",
       "    </tr>\n",
       "  </thead>\n",
       "  <tbody>\n",
       "    <tr>\n",
       "      <th>0</th>\n",
       "      <td>CHANEL</td>\n",
       "      <td>Beige</td>\n",
       "      <td>4350.0</td>\n",
       "    </tr>\n",
       "    <tr>\n",
       "      <th>1</th>\n",
       "      <td>CHANEL</td>\n",
       "      <td>Black</td>\n",
       "      <td>4640.0</td>\n",
       "    </tr>\n",
       "    <tr>\n",
       "      <th>2</th>\n",
       "      <td>CHANEL</td>\n",
       "      <td>Blue</td>\n",
       "      <td>5480.0</td>\n",
       "    </tr>\n",
       "    <tr>\n",
       "      <th>3</th>\n",
       "      <td>CHANEL</td>\n",
       "      <td>Bronze</td>\n",
       "      <td>1800.0</td>\n",
       "    </tr>\n",
       "    <tr>\n",
       "      <th>4</th>\n",
       "      <td>CHANEL</td>\n",
       "      <td>Gold</td>\n",
       "      <td>1650.0</td>\n",
       "    </tr>\n",
       "    <tr>\n",
       "      <th>5</th>\n",
       "      <td>CHANEL</td>\n",
       "      <td>Gray</td>\n",
       "      <td>1150.0</td>\n",
       "    </tr>\n",
       "    <tr>\n",
       "      <th>6</th>\n",
       "      <td>CHANEL</td>\n",
       "      <td>Pink</td>\n",
       "      <td>4800.0</td>\n",
       "    </tr>\n",
       "    <tr>\n",
       "      <th>7</th>\n",
       "      <td>CHANEL</td>\n",
       "      <td>Purple</td>\n",
       "      <td>0.0</td>\n",
       "    </tr>\n",
       "    <tr>\n",
       "      <th>8</th>\n",
       "      <td>CHANEL</td>\n",
       "      <td>Red</td>\n",
       "      <td>1850.0</td>\n",
       "    </tr>\n",
       "    <tr>\n",
       "      <th>9</th>\n",
       "      <td>CHANEL</td>\n",
       "      <td>Silver</td>\n",
       "      <td>600.0</td>\n",
       "    </tr>\n",
       "  </tbody>\n",
       "</table>\n",
       "</div>"
      ],
      "text/plain": [
       "    Brand   Color  Average_Price_USD\n",
       "0  CHANEL   Beige             4350.0\n",
       "1  CHANEL   Black             4640.0\n",
       "2  CHANEL    Blue             5480.0\n",
       "3  CHANEL  Bronze             1800.0\n",
       "4  CHANEL    Gold             1650.0\n",
       "5  CHANEL    Gray             1150.0\n",
       "6  CHANEL    Pink             4800.0\n",
       "7  CHANEL  Purple                0.0\n",
       "8  CHANEL     Red             1850.0\n",
       "9  CHANEL  Silver              600.0"
      ]
     },
     "execution_count": 249,
     "metadata": {},
     "output_type": "execute_result"
    }
   ],
   "source": [
    "### Analize Average Price Realized for Brands by Color\n",
    "\n",
    "# Generate Table\n",
    "# Connect to the SQLite database\n",
    "conn = sqlite3.connect(\"luxury_handbag_auctions.db\")\n",
    "\n",
    "# Calculate average prices by querying the database and save table to database\n",
    "query = \"\"\"\n",
    "SELECT \n",
    "    Brand, \n",
    "    Color, \n",
    "    AVG(`Price Realized (USD)`) as `Average_Price_USD`\n",
    "FROM \n",
    "    ChristiesHK_Mar25\n",
    "GROUP BY \n",
    "    Brand, Color\n",
    "\"\"\"\n",
    "AveragePriceColor_df = pd.read_sql(query, conn)\n",
    "\n",
    "# Save the Average Price Realized for Brands By Color data back to the database as a new table\n",
    "AveragePriceColor_df.to_sql(\n",
    "    \"Brand_Color_Average_Prices\", \n",
    "    conn, \n",
    "    if_exists=\"replace\", \n",
    "    index=False\n",
    ")\n",
    "AveragePriceColor_df.head(10)"
   ]
  },
  {
   "cell_type": "markdown",
   "id": "b7f2e182",
   "metadata": {},
   "source": [
    "Visualization 3"
   ]
  },
  {
   "cell_type": "code",
   "execution_count": null,
   "id": "179b2339",
   "metadata": {},
   "outputs": [
    {
     "data": {
      "image/png": "[encoded data removed]",
      "text/plain": [
       "<Figure size 1000x600 with 1 Axes>"
      ]
     },
     "metadata": {},
     "output_type": "display_data"
    }
   ],
   "source": [
    "# Generate the visualization for Average Price Realized for Brands By Color\n",
    "plt.figure(figsize=(10, 6))\n",
    "sns.stripplot(\n",
    "    data=AveragePriceColor_df,\n",
    "    x='Color',\n",
    "    y='Average_Price_USD',\n",
    "    hue='Brand',\n",
    "    dodge=True,\n",
    "    palette='dark',\n",
    "    size=8,\n",
    "    alpha=0.8\n",
    ")\n",
    "\n",
    "# Formatting the table\n",
    "plt.title(\"Average Price Realized by Brand and Color\", fontsize=14) # Adding title\n",
    "plt.xlabel(\"Color\", fontsize=12) # Adding lable\n",
    "plt.ylabel(\"Average Price (USD)\", fontsize=12) # adding label\n",
    "plt.xticks(rotation=45, fontsize=10) # adjusting ticks\n",
    "plt.yticks(fontsize=10)\n",
    "plt.grid(axis='y', linestyle='--', alpha=0.3) # adding and formatting grid\n",
    "plt.tight_layout()\n",
    "\n",
    "# Display the chart\n",
    "plt.show()\n",
    "\n",
    "# Close the database connection\n",
    "conn.close()"
   ]
  },
  {
   "cell_type": "code",
   "execution_count": null,
   "id": "ed19a871",
   "metadata": {},
   "outputs": [],
   "source": []
  },
  {
   "cell_type": "markdown",
   "id": "234ade4f",
   "metadata": {},
   "source": [
    "### Auction Performance"
   ]
  },
  {
   "cell_type": "markdown",
   "id": "073c1184",
   "metadata": {},
   "source": [
    "Table 5"
   ]
  },
  {
   "cell_type": "code",
   "execution_count": null,
   "id": "747541dc",
   "metadata": {},
   "outputs": [
    {
     "data": {
      "text/html": [
       "<div>\n",
       "<style scoped>\n",
       "    .dataframe tbody tr th:only-of-type {\n",
       "        vertical-align: middle;\n",
       "    }\n",
       "\n",
       "    .dataframe tbody tr th {\n",
       "        vertical-align: top;\n",
       "    }\n",
       "\n",
       "    .dataframe thead th {\n",
       "        text-align: right;\n",
       "    }\n",
       "</style>\n",
       "<table border=\"1\" class=\"dataframe\">\n",
       "  <thead>\n",
       "    <tr style=\"text-align: right;\">\n",
       "      <th></th>\n",
       "      <th>Price Category</th>\n",
       "      <th>Number of Bags</th>\n",
       "    </tr>\n",
       "  </thead>\n",
       "  <tbody>\n",
       "    <tr>\n",
       "      <th>0</th>\n",
       "      <td>Above Estimate</td>\n",
       "      <td>106</td>\n",
       "    </tr>\n",
       "    <tr>\n",
       "      <th>1</th>\n",
       "      <td>Below Estimate</td>\n",
       "      <td>21</td>\n",
       "    </tr>\n",
       "    <tr>\n",
       "      <th>2</th>\n",
       "      <td>No Sale</td>\n",
       "      <td>12</td>\n",
       "    </tr>\n",
       "    <tr>\n",
       "      <th>3</th>\n",
       "      <td>Within Estimate</td>\n",
       "      <td>103</td>\n",
       "    </tr>\n",
       "  </tbody>\n",
       "</table>\n",
       "</div>"
      ],
      "text/plain": [
       "    Price Category  Number of Bags\n",
       "0   Above Estimate             106\n",
       "1   Below Estimate              21\n",
       "2          No Sale              12\n",
       "3  Within Estimate             103"
      ]
     },
     "execution_count": 251,
     "metadata": {},
     "output_type": "execute_result"
    }
   ],
   "source": []
  },
  {
   "cell_type": "code",
   "execution_count": null,
   "id": "f7520109-2bb7-49b8-8156-6bd37156565f",
   "metadata": {},
   "outputs": [
    {
     "name": "stderr",
     "output_type": "stream",
     "text": [
      "/var/folders/1m/7n3mw1wj3ml7gf8rmsjswdrr0000gn/T/ipykernel_82090/3309683429.py:3: FutureWarning:\n",
      "\n",
      "\n",
      "\n",
      "Passing `palette` without assigning `hue` is deprecated and will be removed in v0.14.0. Assign the `x` variable to `hue` and set `legend=False` for the same effect.\n",
      "\n",
      "\n"
     ]
    },
    {
     "data": {
      "image/png": "[encoded data removed]",
      "text/plain": [
       "<Figure size 800x500 with 1 Axes>"
      ]
     },
     "metadata": {},
     "output_type": "display_data"
    }
   ],
   "source": [
    "\n"
   ]
  },
  {
   "cell_type": "code",
   "execution_count": null,
   "id": "f465d3f8",
   "metadata": {},
   "outputs": [
    {
     "data": {
      "text/html": [
       "<div>\n",
       "<style scoped>\n",
       "    .dataframe tbody tr th:only-of-type {\n",
       "        vertical-align: middle;\n",
       "    }\n",
       "\n",
       "    .dataframe tbody tr th {\n",
       "        vertical-align: top;\n",
       "    }\n",
       "\n",
       "    .dataframe thead th {\n",
       "        text-align: right;\n",
       "    }\n",
       "</style>\n",
       "<table border=\"1\" class=\"dataframe\">\n",
       "  <thead>\n",
       "    <tr style=\"text-align: right;\">\n",
       "      <th></th>\n",
       "      <th>Brand</th>\n",
       "      <th>Description</th>\n",
       "      <th>Price Realized (USD)</th>\n",
       "      <th>Bag Label</th>\n",
       "    </tr>\n",
       "  </thead>\n",
       "  <tbody>\n",
       "    <tr>\n",
       "      <th>0</th>\n",
       "      <td>HERMES</td>\n",
       "      <td>RARE, MATTE CONCRETE ALLIGATOR, WHITE TOGO, SW...</td>\n",
       "      <td>274600</td>\n",
       "      <td>HERMES — RARE, MATTE CONCRETE ALLIGATOR, WHITE...</td>\n",
       "    </tr>\n",
       "    <tr>\n",
       "      <th>1</th>\n",
       "      <td>HERMES</td>\n",
       "      <td>RARE, MATTE NAVY BLUE ALLIGATOR, DEEP BLUE MAD...</td>\n",
       "      <td>177600</td>\n",
       "      <td>HERMES — RARE, MATTE NAVY BLUE ALLIGATOR, DEEP...</td>\n",
       "    </tr>\n",
       "    <tr>\n",
       "      <th>2</th>\n",
       "      <td>HERMES</td>\n",
       "      <td>RARE, MATTE WHITE HIMALAYA NILOTICUS CROCODILE...</td>\n",
       "      <td>113000</td>\n",
       "      <td>HERMES — RARE, MATTE WHITE HIMALAYA NILOTICUS ...</td>\n",
       "    </tr>\n",
       "    <tr>\n",
       "      <th>3</th>\n",
       "      <td>HERMES</td>\n",
       "      <td>LIMITED EDITION IVORY, SYLVESTER MAUVE &amp; LIME ...</td>\n",
       "      <td>88800</td>\n",
       "      <td>HERMES — LIMITED EDITION IVORY, SYLVESTER MAUV...</td>\n",
       "    </tr>\n",
       "    <tr>\n",
       "      <th>4</th>\n",
       "      <td>HERMES</td>\n",
       "      <td>LIMITED EDITION MISTY GRAY, BLACK, FIZZ GREEN ...</td>\n",
       "      <td>64600</td>\n",
       "      <td>HERMES — LIMITED EDITION MISTY GRAY, BLACK, FI...</td>\n",
       "    </tr>\n",
       "    <tr>\n",
       "      <th>5</th>\n",
       "      <td>HERMES</td>\n",
       "      <td>SHINY ROUSSEAU GREEN ALLIGATOR MINI KELLY 20 II</td>\n",
       "      <td>56500</td>\n",
       "      <td>HERMES — SHINY ROUSSEAU GREEN ALLIGATOR MINI K...</td>\n",
       "    </tr>\n",
       "    <tr>\n",
       "      <th>6</th>\n",
       "      <td>HERMES</td>\n",
       "      <td>LIMITED EDITION NATURAL BARENIA LEATHER &amp; OSIE...</td>\n",
       "      <td>48400</td>\n",
       "      <td>HERMES — LIMITED EDITION NATURAL BARENIA LEATH...</td>\n",
       "    </tr>\n",
       "    <tr>\n",
       "      <th>7</th>\n",
       "      <td>HERMES</td>\n",
       "      <td>CUSTOM MATTE PEARL GRAY &amp; OREGANO ALLIGATOR MI...</td>\n",
       "      <td>48400</td>\n",
       "      <td>HERMES — CUSTOM MATTE PEARL GRAY &amp; OREGANO ALL...</td>\n",
       "    </tr>\n",
       "    <tr>\n",
       "      <th>8</th>\n",
       "      <td>LOUIS VUITTON</td>\n",
       "      <td>LIMITED EDITION PAINTED MONOGRAM COURRIER LOZI...</td>\n",
       "      <td>48400</td>\n",
       "      <td>LOUIS VUITTON — LIMITED EDITION PAINTED MONOGR...</td>\n",
       "    </tr>\n",
       "    <tr>\n",
       "      <th>9</th>\n",
       "      <td>HERMES</td>\n",
       "      <td>SHINY PURPLE PINK NILOTICUS CROCODILE BIRKIN 25</td>\n",
       "      <td>45200</td>\n",
       "      <td>HERMES — SHINY PURPLE PINK NILOTICUS CROCODILE...</td>\n",
       "    </tr>\n",
       "  </tbody>\n",
       "</table>\n",
       "</div>"
      ],
      "text/plain": [
       "           Brand                                        Description  \\\n",
       "0         HERMES  RARE, MATTE CONCRETE ALLIGATOR, WHITE TOGO, SW...   \n",
       "1         HERMES  RARE, MATTE NAVY BLUE ALLIGATOR, DEEP BLUE MAD...   \n",
       "2         HERMES  RARE, MATTE WHITE HIMALAYA NILOTICUS CROCODILE...   \n",
       "3         HERMES  LIMITED EDITION IVORY, SYLVESTER MAUVE & LIME ...   \n",
       "4         HERMES  LIMITED EDITION MISTY GRAY, BLACK, FIZZ GREEN ...   \n",
       "5         HERMES    SHINY ROUSSEAU GREEN ALLIGATOR MINI KELLY 20 II   \n",
       "6         HERMES  LIMITED EDITION NATURAL BARENIA LEATHER & OSIE...   \n",
       "7         HERMES  CUSTOM MATTE PEARL GRAY & OREGANO ALLIGATOR MI...   \n",
       "8  LOUIS VUITTON  LIMITED EDITION PAINTED MONOGRAM COURRIER LOZI...   \n",
       "9         HERMES    SHINY PURPLE PINK NILOTICUS CROCODILE BIRKIN 25   \n",
       "\n",
       "   Price Realized (USD)                                          Bag Label  \n",
       "0                274600  HERMES — RARE, MATTE CONCRETE ALLIGATOR, WHITE...  \n",
       "1                177600  HERMES — RARE, MATTE NAVY BLUE ALLIGATOR, DEEP...  \n",
       "2                113000  HERMES — RARE, MATTE WHITE HIMALAYA NILOTICUS ...  \n",
       "3                 88800  HERMES — LIMITED EDITION IVORY, SYLVESTER MAUV...  \n",
       "4                 64600  HERMES — LIMITED EDITION MISTY GRAY, BLACK, FI...  \n",
       "5                 56500  HERMES — SHINY ROUSSEAU GREEN ALLIGATOR MINI K...  \n",
       "6                 48400  HERMES — LIMITED EDITION NATURAL BARENIA LEATH...  \n",
       "7                 48400  HERMES — CUSTOM MATTE PEARL GRAY & OREGANO ALL...  \n",
       "8                 48400  LOUIS VUITTON — LIMITED EDITION PAINTED MONOGR...  \n",
       "9                 45200  HERMES — SHINY PURPLE PINK NILOTICUS CROCODILE...  "
      ]
     },
     "execution_count": 253,
     "metadata": {},
     "output_type": "execute_result"
    }
   ],
   "source": [
    "# Create a table \n",
    "# Connect to SQLite database\n",
    "conn = sqlite3.connect(\"luxury_handbag_auctions.db\")\n",
    "\n",
    "# Query to get top 10 sales by price\n",
    "query = \"\"\"\n",
    "    SELECT \n",
    "        Brand, \n",
    "        Description, \n",
    "        `Price Realized (USD)`\n",
    "    FROM Christies_HongKong_March25_Sale\n",
    "    ORDER BY `Price Realized (USD)` DESC\n",
    "    LIMIT 10\n",
    "\"\"\"\n",
    "\n",
    "top_10_sales = pd.read_sql(query, conn)\n",
    "\n",
    "# Create 'Bag Label' column\n",
    "top_10_sales['Bag Label'] = top_10_sales['Brand'] + \" — \" + top_10_sales['Description']\n",
    "\n",
    "# Save the top 10 results to a new table in the database\n",
    "top_10_sales.to_sql(\n",
    "    name=\"Top_10_Most_Expensive_Bags\",  # New table name\n",
    "    con=conn,\n",
    "    if_exists=\"replace\",  # Overwrites if table exists\n",
    "    index=False           # Skip saving pandas index\n",
    ")\n",
    "\n",
    "# Commit changes\n",
    "conn.commit()\n",
    "# Display table \n",
    "top_10_sales"
   ]
  },
  {
   "cell_type": "code",
   "execution_count": null,
   "id": "9252a399",
   "metadata": {},
   "outputs": [
    {
     "ename": "SyntaxError",
     "evalue": "invalid syntax (844391058.py, line 1)",
     "output_type": "error",
     "traceback": [
      "\u001b[0;36m  Cell \u001b[0;32mIn[254], line 1\u001b[0;36m\u001b[0m\n\u001b[0;31m    Visualization 6\u001b[0m\n\u001b[0m                  ^\u001b[0m\n\u001b[0;31mSyntaxError\u001b[0m\u001b[0;31m:\u001b[0m invalid syntax\n"
     ]
    }
   ],
   "source": [
    "Visualization 6"
   ]
  },
  {
   "cell_type": "code",
   "execution_count": null,
   "id": "93f0634f",
   "metadata": {},
   "outputs": [
    {
     "data": {
      "text/html": [
       "<div>\n",
       "<style scoped>\n",
       "    .dataframe tbody tr th:only-of-type {\n",
       "        vertical-align: middle;\n",
       "    }\n",
       "\n",
       "    .dataframe tbody tr th {\n",
       "        vertical-align: top;\n",
       "    }\n",
       "\n",
       "    .dataframe thead th {\n",
       "        text-align: right;\n",
       "    }\n",
       "</style>\n",
       "<table border=\"1\" class=\"dataframe\">\n",
       "  <thead>\n",
       "    <tr style=\"text-align: right;\">\n",
       "      <th></th>\n",
       "      <th>Lot</th>\n",
       "      <th>Description</th>\n",
       "      <th>Brand</th>\n",
       "      <th>Type</th>\n",
       "      <th>Year</th>\n",
       "      <th>Color</th>\n",
       "      <th>Leather</th>\n",
       "      <th>Hardware</th>\n",
       "      <th>Estimate (USD)</th>\n",
       "      <th>Lower Estimate (USD)</th>\n",
       "      <th>Higher Estimate (USD)</th>\n",
       "      <th>Price Realized (USD)</th>\n",
       "      <th>Price Category</th>\n",
       "      <th>Variance from Higher Estimate</th>\n",
       "      <th>Bag Label</th>\n",
       "    </tr>\n",
       "  </thead>\n",
       "  <tbody>\n",
       "    <tr>\n",
       "      <th>139</th>\n",
       "      <td>142</td>\n",
       "      <td>RARE, MATTE CONCRETE ALLIGATOR, WHITE TOGO, SW...</td>\n",
       "      <td>HERMES</td>\n",
       "      <td>Birkin 20, Rare</td>\n",
       "      <td>2022</td>\n",
       "      <td>White</td>\n",
       "      <td>Alligator &amp; Togo</td>\n",
       "      <td>Palladium</td>\n",
       "      <td>153600−281600</td>\n",
       "      <td>153600</td>\n",
       "      <td>281600</td>\n",
       "      <td>274600</td>\n",
       "      <td>Within Estimate</td>\n",
       "      <td>-7000</td>\n",
       "      <td>HERMES — RARE, MATTE CONCRETE ALLIGATOR, WHITE...</td>\n",
       "    </tr>\n",
       "    <tr>\n",
       "      <th>31</th>\n",
       "      <td>33</td>\n",
       "      <td>RARE, MATTE NAVY BLUE ALLIGATOR, DEEP BLUE MAD...</td>\n",
       "      <td>HERMES</td>\n",
       "      <td>Birkin 20, Rare</td>\n",
       "      <td>2019</td>\n",
       "      <td>Blue</td>\n",
       "      <td>Alligator &amp; Epsom</td>\n",
       "      <td>Palladium</td>\n",
       "      <td>102600−205100</td>\n",
       "      <td>102600</td>\n",
       "      <td>205100</td>\n",
       "      <td>177600</td>\n",
       "      <td>Within Estimate</td>\n",
       "      <td>-27500</td>\n",
       "      <td>HERMES — RARE, MATTE NAVY BLUE ALLIGATOR, DEEP...</td>\n",
       "    </tr>\n",
       "    <tr>\n",
       "      <th>140</th>\n",
       "      <td>143</td>\n",
       "      <td>RARE, MATTE WHITE HIMALAYA NILOTICUS CROCODILE...</td>\n",
       "      <td>HERMES</td>\n",
       "      <td>Birkin 25, Rare</td>\n",
       "      <td>2014</td>\n",
       "      <td>White</td>\n",
       "      <td>Crocodile</td>\n",
       "      <td>Palladium</td>\n",
       "      <td>128000−230400</td>\n",
       "      <td>128000</td>\n",
       "      <td>230400</td>\n",
       "      <td>113000</td>\n",
       "      <td>Below Estimate</td>\n",
       "      <td>-117400</td>\n",
       "      <td>HERMES — RARE, MATTE WHITE HIMALAYA NILOTICUS ...</td>\n",
       "    </tr>\n",
       "    <tr>\n",
       "      <th>125</th>\n",
       "      <td>127</td>\n",
       "      <td>LIMITED EDITION IVORY, SYLVESTER MAUVE &amp; LIME ...</td>\n",
       "      <td>HERMES</td>\n",
       "      <td>Kellydole Picto, Limited Edition</td>\n",
       "      <td>2023</td>\n",
       "      <td>Beige</td>\n",
       "      <td>Epsom</td>\n",
       "      <td>Palladium</td>\n",
       "      <td>38400−51200</td>\n",
       "      <td>38400</td>\n",
       "      <td>51200</td>\n",
       "      <td>88800</td>\n",
       "      <td>Above Estimate</td>\n",
       "      <td>37600</td>\n",
       "      <td>HERMES — LIMITED EDITION IVORY, SYLVESTER MAUV...</td>\n",
       "    </tr>\n",
       "    <tr>\n",
       "      <th>162</th>\n",
       "      <td>165</td>\n",
       "      <td>LIMITED EDITION MISTY GRAY, BLACK, FIZZ GREEN ...</td>\n",
       "      <td>HERMES</td>\n",
       "      <td>Kellydole Picto, Limited Edition</td>\n",
       "      <td>2024</td>\n",
       "      <td>Black</td>\n",
       "      <td>Epsom</td>\n",
       "      <td>Palladium</td>\n",
       "      <td>38400−51200</td>\n",
       "      <td>38400</td>\n",
       "      <td>51200</td>\n",
       "      <td>64600</td>\n",
       "      <td>Above Estimate</td>\n",
       "      <td>13400</td>\n",
       "      <td>HERMES — LIMITED EDITION MISTY GRAY, BLACK, FI...</td>\n",
       "    </tr>\n",
       "    <tr>\n",
       "      <th>171</th>\n",
       "      <td>174</td>\n",
       "      <td>SHINY ROUSSEAU GREEN ALLIGATOR MINI KELLY 20 II</td>\n",
       "      <td>HERMES</td>\n",
       "      <td>Mini Kelly 20 II</td>\n",
       "      <td>2021</td>\n",
       "      <td>Green</td>\n",
       "      <td>Alligator</td>\n",
       "      <td>Gold</td>\n",
       "      <td>38400−51200</td>\n",
       "      <td>38400</td>\n",
       "      <td>51200</td>\n",
       "      <td>56500</td>\n",
       "      <td>Above Estimate</td>\n",
       "      <td>5300</td>\n",
       "      <td>HERMES — SHINY ROUSSEAU GREEN ALLIGATOR MINI K...</td>\n",
       "    </tr>\n",
       "    <tr>\n",
       "      <th>148</th>\n",
       "      <td>151</td>\n",
       "      <td>CUSTOM MATTE PEARL GRAY &amp; OREGANO ALLIGATOR MI...</td>\n",
       "      <td>HERMES</td>\n",
       "      <td>Mini Kelly 20 II, Custom</td>\n",
       "      <td>2021</td>\n",
       "      <td>Grey</td>\n",
       "      <td>Alligator</td>\n",
       "      <td>Gold</td>\n",
       "      <td>38400−51200</td>\n",
       "      <td>38400</td>\n",
       "      <td>51200</td>\n",
       "      <td>48400</td>\n",
       "      <td>Within Estimate</td>\n",
       "      <td>-2800</td>\n",
       "      <td>HERMES — CUSTOM MATTE PEARL GRAY &amp; OREGANO ALL...</td>\n",
       "    </tr>\n",
       "    <tr>\n",
       "      <th>63</th>\n",
       "      <td>65</td>\n",
       "      <td>LIMITED EDITION NATURAL BARENIA LEATHER &amp; OSIE...</td>\n",
       "      <td>HERMES</td>\n",
       "      <td>Mini Kelly, Limited Edition</td>\n",
       "      <td>2021</td>\n",
       "      <td>Beige</td>\n",
       "      <td>Barénia &amp; Osier</td>\n",
       "      <td>Palladium</td>\n",
       "      <td>44800−57600</td>\n",
       "      <td>44800</td>\n",
       "      <td>57600</td>\n",
       "      <td>48400</td>\n",
       "      <td>Within Estimate</td>\n",
       "      <td>-9200</td>\n",
       "      <td>HERMES — LIMITED EDITION NATURAL BARENIA LEATH...</td>\n",
       "    </tr>\n",
       "    <tr>\n",
       "      <th>242</th>\n",
       "      <td>259</td>\n",
       "      <td>LIMITED EDITION PAINTED MONOGRAM COURRIER LOZI...</td>\n",
       "      <td>LOUIS VUITTON</td>\n",
       "      <td>Courrier Lozine Trunk 110, Limited Edition</td>\n",
       "      <td>2021</td>\n",
       "      <td>Multi Color</td>\n",
       "      <td>Canvas</td>\n",
       "      <td>Black</td>\n",
       "      <td>38400−51200</td>\n",
       "      <td>38400</td>\n",
       "      <td>51200</td>\n",
       "      <td>48400</td>\n",
       "      <td>Within Estimate</td>\n",
       "      <td>-2800</td>\n",
       "      <td>LOUIS VUITTON — LIMITED EDITION PAINTED MONOGR...</td>\n",
       "    </tr>\n",
       "    <tr>\n",
       "      <th>106</th>\n",
       "      <td>108</td>\n",
       "      <td>LIMITED EDITION SHINY BLACK POROSUS CROCODILE ...</td>\n",
       "      <td>HERMES</td>\n",
       "      <td>Kelly Élan Folie, Limited Edition</td>\n",
       "      <td>2024</td>\n",
       "      <td>Black</td>\n",
       "      <td>Crocodile</td>\n",
       "      <td>Gold</td>\n",
       "      <td>25600−35900</td>\n",
       "      <td>25600</td>\n",
       "      <td>35900</td>\n",
       "      <td>45200</td>\n",
       "      <td>Above Estimate</td>\n",
       "      <td>9300</td>\n",
       "      <td>HERMES — LIMITED EDITION SHINY BLACK POROSUS C...</td>\n",
       "    </tr>\n",
       "  </tbody>\n",
       "</table>\n",
       "</div>"
      ],
      "text/plain": [
       "     Lot                                        Description          Brand  \\\n",
       "139  142  RARE, MATTE CONCRETE ALLIGATOR, WHITE TOGO, SW...         HERMES   \n",
       "31    33  RARE, MATTE NAVY BLUE ALLIGATOR, DEEP BLUE MAD...         HERMES   \n",
       "140  143  RARE, MATTE WHITE HIMALAYA NILOTICUS CROCODILE...         HERMES   \n",
       "125  127  LIMITED EDITION IVORY, SYLVESTER MAUVE & LIME ...         HERMES   \n",
       "162  165  LIMITED EDITION MISTY GRAY, BLACK, FIZZ GREEN ...         HERMES   \n",
       "171  174    SHINY ROUSSEAU GREEN ALLIGATOR MINI KELLY 20 II         HERMES   \n",
       "148  151  CUSTOM MATTE PEARL GRAY & OREGANO ALLIGATOR MI...         HERMES   \n",
       "63    65  LIMITED EDITION NATURAL BARENIA LEATHER & OSIE...         HERMES   \n",
       "242  259  LIMITED EDITION PAINTED MONOGRAM COURRIER LOZI...  LOUIS VUITTON   \n",
       "106  108  LIMITED EDITION SHINY BLACK POROSUS CROCODILE ...         HERMES   \n",
       "\n",
       "                                           Type  Year        Color  \\\n",
       "139                             Birkin 20, Rare  2022        White   \n",
       "31                              Birkin 20, Rare  2019         Blue   \n",
       "140                             Birkin 25, Rare  2014        White   \n",
       "125            Kellydole Picto, Limited Edition  2023        Beige   \n",
       "162            Kellydole Picto, Limited Edition  2024        Black   \n",
       "171                            Mini Kelly 20 II  2021        Green   \n",
       "148                    Mini Kelly 20 II, Custom  2021         Grey   \n",
       "63                  Mini Kelly, Limited Edition  2021        Beige   \n",
       "242  Courrier Lozine Trunk 110, Limited Edition  2021  Multi Color   \n",
       "106           Kelly Élan Folie, Limited Edition  2024        Black   \n",
       "\n",
       "               Leather   Hardware Estimate (USD)  Lower Estimate (USD)  \\\n",
       "139   Alligator & Togo  Palladium  153600−281600                153600   \n",
       "31   Alligator & Epsom  Palladium  102600−205100                102600   \n",
       "140          Crocodile  Palladium  128000−230400                128000   \n",
       "125              Epsom  Palladium    38400−51200                 38400   \n",
       "162              Epsom  Palladium    38400−51200                 38400   \n",
       "171          Alligator       Gold    38400−51200                 38400   \n",
       "148          Alligator       Gold    38400−51200                 38400   \n",
       "63     Barénia & Osier  Palladium    44800−57600                 44800   \n",
       "242             Canvas      Black    38400−51200                 38400   \n",
       "106          Crocodile       Gold    25600−35900                 25600   \n",
       "\n",
       "     Higher Estimate (USD)  Price Realized (USD)   Price Category  \\\n",
       "139                 281600                274600  Within Estimate   \n",
       "31                  205100                177600  Within Estimate   \n",
       "140                 230400                113000   Below Estimate   \n",
       "125                  51200                 88800   Above Estimate   \n",
       "162                  51200                 64600   Above Estimate   \n",
       "171                  51200                 56500   Above Estimate   \n",
       "148                  51200                 48400  Within Estimate   \n",
       "63                   57600                 48400  Within Estimate   \n",
       "242                  51200                 48400  Within Estimate   \n",
       "106                  35900                 45200   Above Estimate   \n",
       "\n",
       "     Variance from Higher Estimate  \\\n",
       "139                          -7000   \n",
       "31                          -27500   \n",
       "140                        -117400   \n",
       "125                          37600   \n",
       "162                          13400   \n",
       "171                           5300   \n",
       "148                          -2800   \n",
       "63                           -9200   \n",
       "242                          -2800   \n",
       "106                           9300   \n",
       "\n",
       "                                             Bag Label  \n",
       "139  HERMES — RARE, MATTE CONCRETE ALLIGATOR, WHITE...  \n",
       "31   HERMES — RARE, MATTE NAVY BLUE ALLIGATOR, DEEP...  \n",
       "140  HERMES — RARE, MATTE WHITE HIMALAYA NILOTICUS ...  \n",
       "125  HERMES — LIMITED EDITION IVORY, SYLVESTER MAUV...  \n",
       "162  HERMES — LIMITED EDITION MISTY GRAY, BLACK, FI...  \n",
       "171  HERMES — SHINY ROUSSEAU GREEN ALLIGATOR MINI K...  \n",
       "148  HERMES — CUSTOM MATTE PEARL GRAY & OREGANO ALL...  \n",
       "63   HERMES — LIMITED EDITION NATURAL BARENIA LEATH...  \n",
       "242  LOUIS VUITTON — LIMITED EDITION PAINTED MONOGR...  \n",
       "106  HERMES — LIMITED EDITION SHINY BLACK POROSUS C...  "
      ]
     },
     "execution_count": 41,
     "metadata": {},
     "output_type": "execute_result"
    }
   ],
   "source": [
    "# Display the top 10 sales with brand and description\n",
    "top_10_sales = df.sort_values(by='Price Realized (USD)', ascending=False).head(10)\n",
    "\n",
    "# Display the top 10 sales with brand and description\n",
    "top_10_sales[['Brand', 'Description', 'Price Realized (USD)']]\n",
    "# Create a new label column\n",
    "top_10_sales['Bag Label'] = top_10_sales['Brand'] + \" — \" + top_10_sales['Description']\n",
    "top_10_sales"
   ]
  },
  {
   "cell_type": "code",
   "execution_count": null,
   "id": "d6d09e86",
   "metadata": {},
   "outputs": [
    {
     "name": "stderr",
     "output_type": "stream",
     "text": [
      "/var/folders/1m/7n3mw1wj3ml7gf8rmsjswdrr0000gn/T/ipykernel_82090/3269523169.py:2: FutureWarning: \n",
      "\n",
      "Passing `palette` without assigning `hue` is deprecated and will be removed in v0.14.0. Assign the `y` variable to `hue` and set `legend=False` for the same effect.\n",
      "\n",
      "  sns.barplot(\n"
     ]
    },
    {
     "data": {
      "image/png": "[encoded data removed]",
      "text/plain": [
       "<Figure size 1600x600 with 1 Axes>"
      ]
     },
     "metadata": {},
     "output_type": "display_data"
    }
   ],
   "source": [
    "plt.figure(figsize=(16, 6))\n",
    "sns.barplot(\n",
    "    data=top_10_sales,\n",
    "    y='Bag Label',\n",
    "    x='Price Realized (USD)',\n",
    "    palette='crest'\n",
    ")\n",
    "\n",
    "plt.title(\"Top 10 Most Expensive Handbags Sold at Auction\")\n",
    "plt.xlabel(\"Price Realized (USD)\")\n",
    "plt.ylabel(\"Bag (Brand — Description)\")\n",
    "plt.tight_layout()\n",
    "plt.show()"
   ]
  },
  {
   "cell_type": "code",
   "execution_count": null,
   "id": "a3c7eb99-6a90-44b7-a796-9d8547989c55",
   "metadata": {},
   "outputs": [
    {
     "data": {
      "text/html": [
       "<div>\n",
       "<style scoped>\n",
       "    .dataframe tbody tr th:only-of-type {\n",
       "        vertical-align: middle;\n",
       "    }\n",
       "\n",
       "    .dataframe tbody tr th {\n",
       "        vertical-align: top;\n",
       "    }\n",
       "\n",
       "    .dataframe thead th {\n",
       "        text-align: right;\n",
       "    }\n",
       "</style>\n",
       "<table border=\"1\" class=\"dataframe\">\n",
       "  <thead>\n",
       "    <tr style=\"text-align: right;\">\n",
       "      <th></th>\n",
       "      <th>Brand</th>\n",
       "      <th>Type</th>\n",
       "      <th>Color</th>\n",
       "      <th>Estimate (USD)</th>\n",
       "    </tr>\n",
       "  </thead>\n",
       "  <tbody>\n",
       "    <tr>\n",
       "      <th>216</th>\n",
       "      <td>CHANEL</td>\n",
       "      <td>Wallet on Chain</td>\n",
       "      <td>Blue</td>\n",
       "      <td>2000−3100</td>\n",
       "    </tr>\n",
       "    <tr>\n",
       "      <th>215</th>\n",
       "      <td>CHANEL</td>\n",
       "      <td>Medium Boy Bag</td>\n",
       "      <td>Purple</td>\n",
       "      <td>2600−3800</td>\n",
       "    </tr>\n",
       "    <tr>\n",
       "      <th>180</th>\n",
       "      <td>HERMES</td>\n",
       "      <td>Harlequin Birkin 35, Limited Edition</td>\n",
       "      <td>Purple</td>\n",
       "      <td>7700−12800</td>\n",
       "    </tr>\n",
       "    <tr>\n",
       "      <th>224</th>\n",
       "      <td>CHANEL</td>\n",
       "      <td>Half Moon Clutch</td>\n",
       "      <td>Silver</td>\n",
       "      <td>1500−2300</td>\n",
       "    </tr>\n",
       "    <tr>\n",
       "      <th>202</th>\n",
       "      <td>HERMES</td>\n",
       "      <td>Bolide 27</td>\n",
       "      <td>Orange</td>\n",
       "      <td>5100−7700</td>\n",
       "    </tr>\n",
       "    <tr>\n",
       "      <th>222</th>\n",
       "      <td>CHANEL</td>\n",
       "      <td>Wallet on Chain</td>\n",
       "      <td>White</td>\n",
       "      <td>2000−3100</td>\n",
       "    </tr>\n",
       "    <tr>\n",
       "      <th>212</th>\n",
       "      <td>CHANEL</td>\n",
       "      <td>Camellia Pochette</td>\n",
       "      <td>Silver</td>\n",
       "      <td>2000−3100</td>\n",
       "    </tr>\n",
       "    <tr>\n",
       "      <th>223</th>\n",
       "      <td>CHANEL</td>\n",
       "      <td>Wallet on Chain</td>\n",
       "      <td>Gray</td>\n",
       "      <td>2000−3100</td>\n",
       "    </tr>\n",
       "    <tr>\n",
       "      <th>105</th>\n",
       "      <td>HERMES</td>\n",
       "      <td>Mini Kelly 20 II, Limited Edition</td>\n",
       "      <td>Black</td>\n",
       "      <td>38400−51200</td>\n",
       "    </tr>\n",
       "    <tr>\n",
       "      <th>99</th>\n",
       "      <td>HERMES</td>\n",
       "      <td>Clutch, Limited Edition</td>\n",
       "      <td>Black</td>\n",
       "      <td>5100−7700</td>\n",
       "    </tr>\n",
       "    <tr>\n",
       "      <th>88</th>\n",
       "      <td>HERMES</td>\n",
       "      <td>Mini Mosaïque 17</td>\n",
       "      <td>Grey</td>\n",
       "      <td>6400−10200</td>\n",
       "    </tr>\n",
       "    <tr>\n",
       "      <th>62</th>\n",
       "      <td>HERMES</td>\n",
       "      <td>Birkin 25, Limited Edition</td>\n",
       "      <td>Pink</td>\n",
       "      <td>44800−57600</td>\n",
       "    </tr>\n",
       "  </tbody>\n",
       "</table>\n",
       "</div>"
      ],
      "text/plain": [
       "      Brand                                  Type   Color Estimate (USD)\n",
       "216  CHANEL                       Wallet on Chain    Blue      2000−3100\n",
       "215  CHANEL                        Medium Boy Bag  Purple      2600−3800\n",
       "180  HERMES  Harlequin Birkin 35, Limited Edition  Purple     7700−12800\n",
       "224  CHANEL                      Half Moon Clutch  Silver      1500−2300\n",
       "202  HERMES                             Bolide 27  Orange      5100−7700\n",
       "222  CHANEL                       Wallet on Chain   White      2000−3100\n",
       "212  CHANEL                     Camellia Pochette  Silver      2000−3100\n",
       "223  CHANEL                       Wallet on Chain    Gray      2000−3100\n",
       "105  HERMES     Mini Kelly 20 II, Limited Edition   Black    38400−51200\n",
       "99   HERMES               Clutch, Limited Edition   Black      5100−7700\n",
       "88   HERMES                      Mini Mosaïque 17    Grey     6400−10200\n",
       "62   HERMES            Birkin 25, Limited Edition    Pink    44800−57600"
      ]
     },
     "execution_count": 341,
     "metadata": {},
     "output_type": "execute_result"
    }
   ],
   "source": [
    "#create a table displaying the works passed\n",
    "works_passed = df.sort_values(by='Price Realized (USD)', ascending=True).head(12)\n",
    "\n",
    "# Create a label combining Brand and Description\n",
    "works_passed['Bag Label'] = works_passed['Brand'] + \" — \" + works_passed['Type']\n",
    "\n",
    "# Preview the result\n",
    "works_passed[['Brand','Type','Color', 'Estimate (USD)',]]\n"
   ]
  },
  {
   "cell_type": "code",
   "execution_count": null,
   "id": "dfe98fec",
   "metadata": {},
   "outputs": [],
   "source": [
    "#create a visualization for the above , order by estimate \n",
    "#create a visualization for the lowest 10 price realized without the 0 "
   ]
  },
  {
   "cell_type": "code",
   "execution_count": null,
   "id": "addb4635",
   "metadata": {},
   "outputs": [],
   "source": []
  },
  {
   "cell_type": "code",
   "execution_count": null,
   "id": "85b678a8-59e1-4fa3-98ca-b3855be6550d",
   "metadata": {},
   "outputs": [
    {
     "name": "stderr",
     "output_type": "stream",
     "text": [
      "/var/folders/1m/7n3mw1wj3ml7gf8rmsjswdrr0000gn/T/ipykernel_66125/1762890199.py:4: FutureWarning:\n",
      "\n",
      "\n",
      "\n",
      "Passing `palette` without assigning `hue` is deprecated and will be removed in v0.14.0. Assign the `y` variable to `hue` and set `legend=False` for the same effect.\n",
      "\n",
      "\n"
     ]
    },
    {
     "data": {
      "image/png": "[encoded data removed]",
      "text/plain": [
       "<Figure size 1200x600 with 1 Axes>"
      ]
     },
     "metadata": {},
     "output_type": "display_data"
    }
   ],
   "source": [
    "\n",
    "plt.figure(figsize=(12,6))\n",
    "\n",
    "# Plot a bar chart for bottom 10 bags\n",
    "sns.barplot(\n",
    "    data=bottom_10_sales,\n",
    "    y='Bag Label',\n",
    "    x='Price Realized (USD)',\n",
    "    palette='Reds'\n",
    ")\n",
    "\n",
    "plt.title(\"Bottom 10 Least Expensive Handbags Sold at Auction\")\n",
    "plt.xlabel(\"Price Realized (USD)\")\n",
    "plt.ylabel(\"Bag (Brand — Description)\")\n",
    "plt.tight_layout()\n",
    "plt.show()\n"
   ]
  },
  {
   "cell_type": "code",
   "execution_count": null,
   "id": "3853a76b",
   "metadata": {},
   "outputs": [
    {
     "data": {
      "application/vnd.plotly.v1+json": {
       "config": {
        "plotlyServerURL": "https://plot.ly"
       },
       "data": [
        {
         "alignmentgroup": "True",
         "hovertemplate": "Brand=%{x}<br>Avg Price (USD)=%{text}<extra></extra>",
         "legendgroup": "CHANEL",
         "marker": {
          "color": "#636efa",
          "pattern": {
           "shape": ""
          }
         },
         "name": "CHANEL",
         "offsetgroup": "CHANEL",
         "orientation": "v",
         "showlegend": true,
         "text": [
          3051.8518518518517
         ],
         "textposition": "outside",
         "texttemplate": "%{text:.2f}",
         "type": "bar",
         "x": [
          "CHANEL"
         ],
         "xaxis": "x",
         "y": [
          3051.8518518518517
         ],
         "yaxis": "y"
        },
        {
         "alignmentgroup": "True",
         "hovertemplate": "Brand=%{x}<br>Avg Price (USD)=%{text}<extra></extra>",
         "legendgroup": "HERMES",
         "marker": {
          "color": "#EF553B",
          "pattern": {
           "shape": ""
          }
         },
         "name": "HERMES",
         "offsetgroup": "HERMES",
         "orientation": "v",
         "showlegend": true,
         "text": [
          16349.038461538461
         ],
         "textposition": "outside",
         "texttemplate": "%{text:.2f}",
         "type": "bar",
         "x": [
          "HERMES"
         ],
         "xaxis": "x",
         "y": [
          16349.038461538461
         ],
         "yaxis": "y"
        },
        {
         "alignmentgroup": "True",
         "hovertemplate": "Brand=%{x}<br>Avg Price (USD)=%{text}<extra></extra>",
         "legendgroup": "LOUIS VUITTON",
         "marker": {
          "color": "#00cc96",
          "pattern": {
           "shape": ""
          }
         },
         "name": "LOUIS VUITTON",
         "offsetgroup": "LOUIS VUITTON",
         "orientation": "v",
         "showlegend": true,
         "text": [
          10600
         ],
         "textposition": "outside",
         "texttemplate": "%{text:.2f}",
         "type": "bar",
         "x": [
          "LOUIS VUITTON"
         ],
         "xaxis": "x",
         "y": [
          10600
         ],
         "yaxis": "y"
        }
       ],
       "layout": {
        "barmode": "relative",
        "legend": {
         "title": {
          "text": "Brand"
         },
         "tracegroupgap": 0
        },
        "template": {
         "data": {
          "bar": [
           {
            "error_x": {
             "color": "#2a3f5f"
            },
            "error_y": {
             "color": "#2a3f5f"
            },
            "marker": {
             "line": {
              "color": "#E5ECF6",
              "width": 0.5
             },
             "pattern": {
              "fillmode": "overlay",
              "size": 10,
              "solidity": 0.2
             }
            },
            "type": "bar"
           }
          ],
          "barpolar": [
           {
            "marker": {
             "line": {
              "color": "#E5ECF6",
              "width": 0.5
             },
             "pattern": {
              "fillmode": "overlay",
              "size": 10,
              "solidity": 0.2
             }
            },
            "type": "barpolar"
           }
          ],
          "carpet": [
           {
            "aaxis": {
             "endlinecolor": "#2a3f5f",
             "gridcolor": "white",
             "linecolor": "white",
             "minorgridcolor": "white",
             "startlinecolor": "#2a3f5f"
            },
            "baxis": {
             "endlinecolor": "#2a3f5f",
             "gridcolor": "white",
             "linecolor": "white",
             "minorgridcolor": "white",
             "startlinecolor": "#2a3f5f"
            },
            "type": "carpet"
           }
          ],
          "choropleth": [
           {
            "colorbar": {
             "outlinewidth": 0,
             "ticks": ""
            },
            "type": "choropleth"
           }
          ],
          "contour": [
           {
            "colorbar": {
             "outlinewidth": 0,
             "ticks": ""
            },
            "colorscale": [
             [
              0,
              "#0d0887"
             ],
             [
              0.1111111111111111,
              "#46039f"
             ],
             [
              0.2222222222222222,
              "#7201a8"
             ],
             [
              0.3333333333333333,
              "#9c179e"
             ],
             [
              0.4444444444444444,
              "#bd3786"
             ],
             [
              0.5555555555555556,
              "#d8576b"
             ],
             [
              0.6666666666666666,
              "#ed7953"
             ],
             [
              0.7777777777777778,
              "#fb9f3a"
             ],
             [
              0.8888888888888888,
              "#fdca26"
             ],
             [
              1,
              "#f0f921"
             ]
            ],
            "type": "contour"
           }
          ],
          "contourcarpet": [
           {
            "colorbar": {
             "outlinewidth": 0,
             "ticks": ""
            },
            "type": "contourcarpet"
           }
          ],
          "heatmap": [
           {
            "colorbar": {
             "outlinewidth": 0,
             "ticks": ""
            },
            "colorscale": [
             [
              0,
              "#0d0887"
             ],
             [
              0.1111111111111111,
              "#46039f"
             ],
             [
              0.2222222222222222,
              "#7201a8"
             ],
             [
              0.3333333333333333,
              "#9c179e"
             ],
             [
              0.4444444444444444,
              "#bd3786"
             ],
             [
              0.5555555555555556,
              "#d8576b"
             ],
             [
              0.6666666666666666,
              "#ed7953"
             ],
             [
              0.7777777777777778,
              "#fb9f3a"
             ],
             [
              0.8888888888888888,
              "#fdca26"
             ],
             [
              1,
              "#f0f921"
             ]
            ],
            "type": "heatmap"
           }
          ],
          "heatmapgl": [
           {
            "colorbar": {
             "outlinewidth": 0,
             "ticks": ""
            },
            "colorscale": [
             [
              0,
              "#0d0887"
             ],
             [
              0.1111111111111111,
              "#46039f"
             ],
             [
              0.2222222222222222,
              "#7201a8"
             ],
             [
              0.3333333333333333,
              "#9c179e"
             ],
             [
              0.4444444444444444,
              "#bd3786"
             ],
             [
              0.5555555555555556,
              "#d8576b"
             ],
             [
              0.6666666666666666,
              "#ed7953"
             ],
             [
              0.7777777777777778,
              "#fb9f3a"
             ],
             [
              0.8888888888888888,
              "#fdca26"
             ],
             [
              1,
              "#f0f921"
             ]
            ],
            "type": "heatmapgl"
           }
          ],
          "histogram": [
           {
            "marker": {
             "pattern": {
              "fillmode": "overlay",
              "size": 10,
              "solidity": 0.2
             }
            },
            "type": "histogram"
           }
          ],
          "histogram2d": [
           {
            "colorbar": {
             "outlinewidth": 0,
             "ticks": ""
            },
            "colorscale": [
             [
              0,
              "#0d0887"
             ],
             [
              0.1111111111111111,
              "#46039f"
             ],
             [
              0.2222222222222222,
              "#7201a8"
             ],
             [
              0.3333333333333333,
              "#9c179e"
             ],
             [
              0.4444444444444444,
              "#bd3786"
             ],
             [
              0.5555555555555556,
              "#d8576b"
             ],
             [
              0.6666666666666666,
              "#ed7953"
             ],
             [
              0.7777777777777778,
              "#fb9f3a"
             ],
             [
              0.8888888888888888,
              "#fdca26"
             ],
             [
              1,
              "#f0f921"
             ]
            ],
            "type": "histogram2d"
           }
          ],
          "histogram2dcontour": [
           {
            "colorbar": {
             "outlinewidth": 0,
             "ticks": ""
            },
            "colorscale": [
             [
              0,
              "#0d0887"
             ],
             [
              0.1111111111111111,
              "#46039f"
             ],
             [
              0.2222222222222222,
              "#7201a8"
             ],
             [
              0.3333333333333333,
              "#9c179e"
             ],
             [
              0.4444444444444444,
              "#bd3786"
             ],
             [
              0.5555555555555556,
              "#d8576b"
             ],
             [
              0.6666666666666666,
              "#ed7953"
             ],
             [
              0.7777777777777778,
              "#fb9f3a"
             ],
             [
              0.8888888888888888,
              "#fdca26"
             ],
             [
              1,
              "#f0f921"
             ]
            ],
            "type": "histogram2dcontour"
           }
          ],
          "mesh3d": [
           {
            "colorbar": {
             "outlinewidth": 0,
             "ticks": ""
            },
            "type": "mesh3d"
           }
          ],
          "parcoords": [
           {
            "line": {
             "colorbar": {
              "outlinewidth": 0,
              "ticks": ""
             }
            },
            "type": "parcoords"
           }
          ],
          "pie": [
           {
            "automargin": true,
            "type": "pie"
           }
          ],
          "scatter": [
           {
            "fillpattern": {
             "fillmode": "overlay",
             "size": 10,
             "solidity": 0.2
            },
            "type": "scatter"
           }
          ],
          "scatter3d": [
           {
            "line": {
             "colorbar": {
              "outlinewidth": 0,
              "ticks": ""
             }
            },
            "marker": {
             "colorbar": {
              "outlinewidth": 0,
              "ticks": ""
             }
            },
            "type": "scatter3d"
           }
          ],
          "scattercarpet": [
           {
            "marker": {
             "colorbar": {
              "outlinewidth": 0,
              "ticks": ""
             }
            },
            "type": "scattercarpet"
           }
          ],
          "scattergeo": [
           {
            "marker": {
             "colorbar": {
              "outlinewidth": 0,
              "ticks": ""
             }
            },
            "type": "scattergeo"
           }
          ],
          "scattergl": [
           {
            "marker": {
             "colorbar": {
              "outlinewidth": 0,
              "ticks": ""
             }
            },
            "type": "scattergl"
           }
          ],
          "scattermapbox": [
           {
            "marker": {
             "colorbar": {
              "outlinewidth": 0,
              "ticks": ""
             }
            },
            "type": "scattermapbox"
           }
          ],
          "scatterpolar": [
           {
            "marker": {
             "colorbar": {
              "outlinewidth": 0,
              "ticks": ""
             }
            },
            "type": "scatterpolar"
           }
          ],
          "scatterpolargl": [
           {
            "marker": {
             "colorbar": {
              "outlinewidth": 0,
              "ticks": ""
             }
            },
            "type": "scatterpolargl"
           }
          ],
          "scatterternary": [
           {
            "marker": {
             "colorbar": {
              "outlinewidth": 0,
              "ticks": ""
             }
            },
            "type": "scatterternary"
           }
          ],
          "surface": [
           {
            "colorbar": {
             "outlinewidth": 0,
             "ticks": ""
            },
            "colorscale": [
             [
              0,
              "#0d0887"
             ],
             [
              0.1111111111111111,
              "#46039f"
             ],
             [
              0.2222222222222222,
              "#7201a8"
             ],
             [
              0.3333333333333333,
              "#9c179e"
             ],
             [
              0.4444444444444444,
              "#bd3786"
             ],
             [
              0.5555555555555556,
              "#d8576b"
             ],
             [
              0.6666666666666666,
              "#ed7953"
             ],
             [
              0.7777777777777778,
              "#fb9f3a"
             ],
             [
              0.8888888888888888,
              "#fdca26"
             ],
             [
              1,
              "#f0f921"
             ]
            ],
            "type": "surface"
           }
          ],
          "table": [
           {
            "cells": {
             "fill": {
              "color": "#EBF0F8"
             },
             "line": {
              "color": "white"
             }
            },
            "header": {
             "fill": {
              "color": "#C8D4E3"
             },
             "line": {
              "color": "white"
             }
            },
            "type": "table"
           }
          ]
         },
         "layout": {
          "annotationdefaults": {
           "arrowcolor": "#2a3f5f",
           "arrowhead": 0,
           "arrowwidth": 1
          },
          "autotypenumbers": "strict",
          "coloraxis": {
           "colorbar": {
            "outlinewidth": 0,
            "ticks": ""
           }
          },
          "colorscale": {
           "diverging": [
            [
             0,
             "#8e0152"
            ],
            [
             0.1,
             "#c51b7d"
            ],
            [
             0.2,
             "#de77ae"
            ],
            [
             0.3,
             "#f1b6da"
            ],
            [
             0.4,
             "#fde0ef"
            ],
            [
             0.5,
             "#f7f7f7"
            ],
            [
             0.6,
             "#e6f5d0"
            ],
            [
             0.7,
             "#b8e186"
            ],
            [
             0.8,
             "#7fbc41"
            ],
            [
             0.9,
             "#4d9221"
            ],
            [
             1,
             "#276419"
            ]
           ],
           "sequential": [
            [
             0,
             "#0d0887"
            ],
            [
             0.1111111111111111,
             "#46039f"
            ],
            [
             0.2222222222222222,
             "#7201a8"
            ],
            [
             0.3333333333333333,
             "#9c179e"
            ],
            [
             0.4444444444444444,
             "#bd3786"
            ],
            [
             0.5555555555555556,
             "#d8576b"
            ],
            [
             0.6666666666666666,
             "#ed7953"
            ],
            [
             0.7777777777777778,
             "#fb9f3a"
            ],
            [
             0.8888888888888888,
             "#fdca26"
            ],
            [
             1,
             "#f0f921"
            ]
           ],
           "sequentialminus": [
            [
             0,
             "#0d0887"
            ],
            [
             0.1111111111111111,
             "#46039f"
            ],
            [
             0.2222222222222222,
             "#7201a8"
            ],
            [
             0.3333333333333333,
             "#9c179e"
            ],
            [
             0.4444444444444444,
             "#bd3786"
            ],
            [
             0.5555555555555556,
             "#d8576b"
            ],
            [
             0.6666666666666666,
             "#ed7953"
            ],
            [
             0.7777777777777778,
             "#fb9f3a"
            ],
            [
             0.8888888888888888,
             "#fdca26"
            ],
            [
             1,
             "#f0f921"
            ]
           ]
          },
          "colorway": [
           "#636efa",
           "#EF553B",
           "#00cc96",
           "#ab63fa",
           "#FFA15A",
           "#19d3f3",
           "#FF6692",
           "#B6E880",
           "#FF97FF",
           "#FECB52"
          ],
          "font": {
           "color": "#2a3f5f"
          },
          "geo": {
           "bgcolor": "white",
           "lakecolor": "white",
           "landcolor": "#E5ECF6",
           "showlakes": true,
           "showland": true,
           "subunitcolor": "white"
          },
          "hoverlabel": {
           "align": "left"
          },
          "hovermode": "closest",
          "mapbox": {
           "style": "light"
          },
          "paper_bgcolor": "white",
          "plot_bgcolor": "#E5ECF6",
          "polar": {
           "angularaxis": {
            "gridcolor": "white",
            "linecolor": "white",
            "ticks": ""
           },
           "bgcolor": "#E5ECF6",
           "radialaxis": {
            "gridcolor": "white",
            "linecolor": "white",
            "ticks": ""
           }
          },
          "scene": {
           "xaxis": {
            "backgroundcolor": "#E5ECF6",
            "gridcolor": "white",
            "gridwidth": 2,
            "linecolor": "white",
            "showbackground": true,
            "ticks": "",
            "zerolinecolor": "white"
           },
           "yaxis": {
            "backgroundcolor": "#E5ECF6",
            "gridcolor": "white",
            "gridwidth": 2,
            "linecolor": "white",
            "showbackground": true,
            "ticks": "",
            "zerolinecolor": "white"
           },
           "zaxis": {
            "backgroundcolor": "#E5ECF6",
            "gridcolor": "white",
            "gridwidth": 2,
            "linecolor": "white",
            "showbackground": true,
            "ticks": "",
            "zerolinecolor": "white"
           }
          },
          "shapedefaults": {
           "line": {
            "color": "#2a3f5f"
           }
          },
          "ternary": {
           "aaxis": {
            "gridcolor": "white",
            "linecolor": "white",
            "ticks": ""
           },
           "baxis": {
            "gridcolor": "white",
            "linecolor": "white",
            "ticks": ""
           },
           "bgcolor": "#E5ECF6",
           "caxis": {
            "gridcolor": "white",
            "linecolor": "white",
            "ticks": ""
           }
          },
          "title": {
           "x": 0.05
          },
          "xaxis": {
           "automargin": true,
           "gridcolor": "white",
           "linecolor": "white",
           "ticks": "",
           "title": {
            "standoff": 15
           },
           "zerolinecolor": "white",
           "zerolinewidth": 2
          },
          "yaxis": {
           "automargin": true,
           "gridcolor": "white",
           "linecolor": "white",
           "ticks": "",
           "title": {
            "standoff": 15
           },
           "zerolinecolor": "white",
           "zerolinewidth": 2
          }
         }
        },
        "title": {
         "text": "Average Auction Price by Brand"
        },
        "xaxis": {
         "anchor": "y",
         "categoryarray": [
          "CHANEL",
          "HERMES",
          "LOUIS VUITTON"
         ],
         "categoryorder": "array",
         "domain": [
          0,
          1
         ],
         "tickangle": 0,
         "title": {
          "text": "Brand"
         }
        },
        "yaxis": {
         "anchor": "x",
         "domain": [
          0,
          1
         ],
         "title": {
          "text": "Avg Price (USD)"
         }
        }
       }
      }
     },
     "metadata": {},
     "output_type": "display_data"
    }
   ],
   "source": []
  },
  {
   "cell_type": "code",
   "execution_count": null,
   "id": "4ef03793",
   "metadata": {},
   "outputs": [
    {
     "data": {
      "application/vnd.plotly.v1+json": {
       "config": {
        "plotlyServerURL": "https://plot.ly"
       },
       "data": [
        {
         "alignmentgroup": "True",
         "hovertemplate": "Color=%{x}<br>Avg Price (USD)=%{text}<extra></extra>",
         "legendgroup": "",
         "marker": {
          "color": "#1f78b4",
          "pattern": {
           "shape": ""
          }
         },
         "name": "",
         "offsetgroup": "",
         "orientation": "v",
         "showlegend": false,
         "text": [
          39006.67,
          26600,
          19400,
          18150,
          17464.71,
          16700,
          15645.45,
          13925,
          13318.18,
          12554.05,
          12342.11,
          12232.14,
          11905.88,
          11014.29,
          9038.89,
          8950,
          6844.44,
          600
         ],
         "textposition": "outside",
         "texttemplate": "%{text:,.2f}",
         "type": "bar",
         "x": [
          "White",
          "Multi Color",
          "Turquoise",
          "Grey",
          "Beige",
          "Blue",
          "Green",
          "Purple",
          "Gold",
          "Black",
          "Gray",
          "Pink",
          "Red",
          "Orange",
          "Brown",
          "Bronze",
          "Yellow",
          "Silver"
         ],
         "xaxis": "x",
         "y": [
          39006.67,
          26600,
          19400,
          18150,
          17464.71,
          16700,
          15645.45,
          13925,
          13318.18,
          12554.05,
          12342.11,
          12232.14,
          11905.88,
          11014.29,
          9038.89,
          8950,
          6844.44,
          600
         ],
         "yaxis": "y"
        }
       ],
       "layout": {
        "barmode": "relative",
        "legend": {
         "tracegroupgap": 0
        },
        "showlegend": false,
        "template": {
         "data": {
          "bar": [
           {
            "error_x": {
             "color": "#2a3f5f"
            },
            "error_y": {
             "color": "#2a3f5f"
            },
            "marker": {
             "line": {
              "color": "#E5ECF6",
              "width": 0.5
             },
             "pattern": {
              "fillmode": "overlay",
              "size": 10,
              "solidity": 0.2
             }
            },
            "type": "bar"
           }
          ],
          "barpolar": [
           {
            "marker": {
             "line": {
              "color": "#E5ECF6",
              "width": 0.5
             },
             "pattern": {
              "fillmode": "overlay",
              "size": 10,
              "solidity": 0.2
             }
            },
            "type": "barpolar"
           }
          ],
          "carpet": [
           {
            "aaxis": {
             "endlinecolor": "#2a3f5f",
             "gridcolor": "white",
             "linecolor": "white",
             "minorgridcolor": "white",
             "startlinecolor": "#2a3f5f"
            },
            "baxis": {
             "endlinecolor": "#2a3f5f",
             "gridcolor": "white",
             "linecolor": "white",
             "minorgridcolor": "white",
             "startlinecolor": "#2a3f5f"
            },
            "type": "carpet"
           }
          ],
          "choropleth": [
           {
            "colorbar": {
             "outlinewidth": 0,
             "ticks": ""
            },
            "type": "choropleth"
           }
          ],
          "contour": [
           {
            "colorbar": {
             "outlinewidth": 0,
             "ticks": ""
            },
            "colorscale": [
             [
              0,
              "#0d0887"
             ],
             [
              0.1111111111111111,
              "#46039f"
             ],
             [
              0.2222222222222222,
              "#7201a8"
             ],
             [
              0.3333333333333333,
              "#9c179e"
             ],
             [
              0.4444444444444444,
              "#bd3786"
             ],
             [
              0.5555555555555556,
              "#d8576b"
             ],
             [
              0.6666666666666666,
              "#ed7953"
             ],
             [
              0.7777777777777778,
              "#fb9f3a"
             ],
             [
              0.8888888888888888,
              "#fdca26"
             ],
             [
              1,
              "#f0f921"
             ]
            ],
            "type": "contour"
           }
          ],
          "contourcarpet": [
           {
            "colorbar": {
             "outlinewidth": 0,
             "ticks": ""
            },
            "type": "contourcarpet"
           }
          ],
          "heatmap": [
           {
            "colorbar": {
             "outlinewidth": 0,
             "ticks": ""
            },
            "colorscale": [
             [
              0,
              "#0d0887"
             ],
             [
              0.1111111111111111,
              "#46039f"
             ],
             [
              0.2222222222222222,
              "#7201a8"
             ],
             [
              0.3333333333333333,
              "#9c179e"
             ],
             [
              0.4444444444444444,
              "#bd3786"
             ],
             [
              0.5555555555555556,
              "#d8576b"
             ],
             [
              0.6666666666666666,
              "#ed7953"
             ],
             [
              0.7777777777777778,
              "#fb9f3a"
             ],
             [
              0.8888888888888888,
              "#fdca26"
             ],
             [
              1,
              "#f0f921"
             ]
            ],
            "type": "heatmap"
           }
          ],
          "heatmapgl": [
           {
            "colorbar": {
             "outlinewidth": 0,
             "ticks": ""
            },
            "colorscale": [
             [
              0,
              "#0d0887"
             ],
             [
              0.1111111111111111,
              "#46039f"
             ],
             [
              0.2222222222222222,
              "#7201a8"
             ],
             [
              0.3333333333333333,
              "#9c179e"
             ],
             [
              0.4444444444444444,
              "#bd3786"
             ],
             [
              0.5555555555555556,
              "#d8576b"
             ],
             [
              0.6666666666666666,
              "#ed7953"
             ],
             [
              0.7777777777777778,
              "#fb9f3a"
             ],
             [
              0.8888888888888888,
              "#fdca26"
             ],
             [
              1,
              "#f0f921"
             ]
            ],
            "type": "heatmapgl"
           }
          ],
          "histogram": [
           {
            "marker": {
             "pattern": {
              "fillmode": "overlay",
              "size": 10,
              "solidity": 0.2
             }
            },
            "type": "histogram"
           }
          ],
          "histogram2d": [
           {
            "colorbar": {
             "outlinewidth": 0,
             "ticks": ""
            },
            "colorscale": [
             [
              0,
              "#0d0887"
             ],
             [
              0.1111111111111111,
              "#46039f"
             ],
             [
              0.2222222222222222,
              "#7201a8"
             ],
             [
              0.3333333333333333,
              "#9c179e"
             ],
             [
              0.4444444444444444,
              "#bd3786"
             ],
             [
              0.5555555555555556,
              "#d8576b"
             ],
             [
              0.6666666666666666,
              "#ed7953"
             ],
             [
              0.7777777777777778,
              "#fb9f3a"
             ],
             [
              0.8888888888888888,
              "#fdca26"
             ],
             [
              1,
              "#f0f921"
             ]
            ],
            "type": "histogram2d"
           }
          ],
          "histogram2dcontour": [
           {
            "colorbar": {
             "outlinewidth": 0,
             "ticks": ""
            },
            "colorscale": [
             [
              0,
              "#0d0887"
             ],
             [
              0.1111111111111111,
              "#46039f"
             ],
             [
              0.2222222222222222,
              "#7201a8"
             ],
             [
              0.3333333333333333,
              "#9c179e"
             ],
             [
              0.4444444444444444,
              "#bd3786"
             ],
             [
              0.5555555555555556,
              "#d8576b"
             ],
             [
              0.6666666666666666,
              "#ed7953"
             ],
             [
              0.7777777777777778,
              "#fb9f3a"
             ],
             [
              0.8888888888888888,
              "#fdca26"
             ],
             [
              1,
              "#f0f921"
             ]
            ],
            "type": "histogram2dcontour"
           }
          ],
          "mesh3d": [
           {
            "colorbar": {
             "outlinewidth": 0,
             "ticks": ""
            },
            "type": "mesh3d"
           }
          ],
          "parcoords": [
           {
            "line": {
             "colorbar": {
              "outlinewidth": 0,
              "ticks": ""
             }
            },
            "type": "parcoords"
           }
          ],
          "pie": [
           {
            "automargin": true,
            "type": "pie"
           }
          ],
          "scatter": [
           {
            "fillpattern": {
             "fillmode": "overlay",
             "size": 10,
             "solidity": 0.2
            },
            "type": "scatter"
           }
          ],
          "scatter3d": [
           {
            "line": {
             "colorbar": {
              "outlinewidth": 0,
              "ticks": ""
             }
            },
            "marker": {
             "colorbar": {
              "outlinewidth": 0,
              "ticks": ""
             }
            },
            "type": "scatter3d"
           }
          ],
          "scattercarpet": [
           {
            "marker": {
             "colorbar": {
              "outlinewidth": 0,
              "ticks": ""
             }
            },
            "type": "scattercarpet"
           }
          ],
          "scattergeo": [
           {
            "marker": {
             "colorbar": {
              "outlinewidth": 0,
              "ticks": ""
             }
            },
            "type": "scattergeo"
           }
          ],
          "scattergl": [
           {
            "marker": {
             "colorbar": {
              "outlinewidth": 0,
              "ticks": ""
             }
            },
            "type": "scattergl"
           }
          ],
          "scattermapbox": [
           {
            "marker": {
             "colorbar": {
              "outlinewidth": 0,
              "ticks": ""
             }
            },
            "type": "scattermapbox"
           }
          ],
          "scatterpolar": [
           {
            "marker": {
             "colorbar": {
              "outlinewidth": 0,
              "ticks": ""
             }
            },
            "type": "scatterpolar"
           }
          ],
          "scatterpolargl": [
           {
            "marker": {
             "colorbar": {
              "outlinewidth": 0,
              "ticks": ""
             }
            },
            "type": "scatterpolargl"
           }
          ],
          "scatterternary": [
           {
            "marker": {
             "colorbar": {
              "outlinewidth": 0,
              "ticks": ""
             }
            },
            "type": "scatterternary"
           }
          ],
          "surface": [
           {
            "colorbar": {
             "outlinewidth": 0,
             "ticks": ""
            },
            "colorscale": [
             [
              0,
              "#0d0887"
             ],
             [
              0.1111111111111111,
              "#46039f"
             ],
             [
              0.2222222222222222,
              "#7201a8"
             ],
             [
              0.3333333333333333,
              "#9c179e"
             ],
             [
              0.4444444444444444,
              "#bd3786"
             ],
             [
              0.5555555555555556,
              "#d8576b"
             ],
             [
              0.6666666666666666,
              "#ed7953"
             ],
             [
              0.7777777777777778,
              "#fb9f3a"
             ],
             [
              0.8888888888888888,
              "#fdca26"
             ],
             [
              1,
              "#f0f921"
             ]
            ],
            "type": "surface"
           }
          ],
          "table": [
           {
            "cells": {
             "fill": {
              "color": "#EBF0F8"
             },
             "line": {
              "color": "white"
             }
            },
            "header": {
             "fill": {
              "color": "#C8D4E3"
             },
             "line": {
              "color": "white"
             }
            },
            "type": "table"
           }
          ]
         },
         "layout": {
          "annotationdefaults": {
           "arrowcolor": "#2a3f5f",
           "arrowhead": 0,
           "arrowwidth": 1
          },
          "autotypenumbers": "strict",
          "coloraxis": {
           "colorbar": {
            "outlinewidth": 0,
            "ticks": ""
           }
          },
          "colorscale": {
           "diverging": [
            [
             0,
             "#8e0152"
            ],
            [
             0.1,
             "#c51b7d"
            ],
            [
             0.2,
             "#de77ae"
            ],
            [
             0.3,
             "#f1b6da"
            ],
            [
             0.4,
             "#fde0ef"
            ],
            [
             0.5,
             "#f7f7f7"
            ],
            [
             0.6,
             "#e6f5d0"
            ],
            [
             0.7,
             "#b8e186"
            ],
            [
             0.8,
             "#7fbc41"
            ],
            [
             0.9,
             "#4d9221"
            ],
            [
             1,
             "#276419"
            ]
           ],
           "sequential": [
            [
             0,
             "#0d0887"
            ],
            [
             0.1111111111111111,
             "#46039f"
            ],
            [
             0.2222222222222222,
             "#7201a8"
            ],
            [
             0.3333333333333333,
             "#9c179e"
            ],
            [
             0.4444444444444444,
             "#bd3786"
            ],
            [
             0.5555555555555556,
             "#d8576b"
            ],
            [
             0.6666666666666666,
             "#ed7953"
            ],
            [
             0.7777777777777778,
             "#fb9f3a"
            ],
            [
             0.8888888888888888,
             "#fdca26"
            ],
            [
             1,
             "#f0f921"
            ]
           ],
           "sequentialminus": [
            [
             0,
             "#0d0887"
            ],
            [
             0.1111111111111111,
             "#46039f"
            ],
            [
             0.2222222222222222,
             "#7201a8"
            ],
            [
             0.3333333333333333,
             "#9c179e"
            ],
            [
             0.4444444444444444,
             "#bd3786"
            ],
            [
             0.5555555555555556,
             "#d8576b"
            ],
            [
             0.6666666666666666,
             "#ed7953"
            ],
            [
             0.7777777777777778,
             "#fb9f3a"
            ],
            [
             0.8888888888888888,
             "#fdca26"
            ],
            [
             1,
             "#f0f921"
            ]
           ]
          },
          "colorway": [
           "#636efa",
           "#EF553B",
           "#00cc96",
           "#ab63fa",
           "#FFA15A",
           "#19d3f3",
           "#FF6692",
           "#B6E880",
           "#FF97FF",
           "#FECB52"
          ],
          "font": {
           "color": "#2a3f5f"
          },
          "geo": {
           "bgcolor": "white",
           "lakecolor": "white",
           "landcolor": "#E5ECF6",
           "showlakes": true,
           "showland": true,
           "subunitcolor": "white"
          },
          "hoverlabel": {
           "align": "left"
          },
          "hovermode": "closest",
          "mapbox": {
           "style": "light"
          },
          "paper_bgcolor": "white",
          "plot_bgcolor": "#E5ECF6",
          "polar": {
           "angularaxis": {
            "gridcolor": "white",
            "linecolor": "white",
            "ticks": ""
           },
           "bgcolor": "#E5ECF6",
           "radialaxis": {
            "gridcolor": "white",
            "linecolor": "white",
            "ticks": ""
           }
          },
          "scene": {
           "xaxis": {
            "backgroundcolor": "#E5ECF6",
            "gridcolor": "white",
            "gridwidth": 2,
            "linecolor": "white",
            "showbackground": true,
            "ticks": "",
            "zerolinecolor": "white"
           },
           "yaxis": {
            "backgroundcolor": "#E5ECF6",
            "gridcolor": "white",
            "gridwidth": 2,
            "linecolor": "white",
            "showbackground": true,
            "ticks": "",
            "zerolinecolor": "white"
           },
           "zaxis": {
            "backgroundcolor": "#E5ECF6",
            "gridcolor": "white",
            "gridwidth": 2,
            "linecolor": "white",
            "showbackground": true,
            "ticks": "",
            "zerolinecolor": "white"
           }
          },
          "shapedefaults": {
           "line": {
            "color": "#2a3f5f"
           }
          },
          "ternary": {
           "aaxis": {
            "gridcolor": "white",
            "linecolor": "white",
            "ticks": ""
           },
           "baxis": {
            "gridcolor": "white",
            "linecolor": "white",
            "ticks": ""
           },
           "bgcolor": "#E5ECF6",
           "caxis": {
            "gridcolor": "white",
            "linecolor": "white",
            "ticks": ""
           }
          },
          "title": {
           "x": 0.05
          },
          "xaxis": {
           "automargin": true,
           "gridcolor": "white",
           "linecolor": "white",
           "ticks": "",
           "title": {
            "standoff": 15
           },
           "zerolinecolor": "white",
           "zerolinewidth": 2
          },
          "yaxis": {
           "automargin": true,
           "gridcolor": "white",
           "linecolor": "white",
           "ticks": "",
           "title": {
            "standoff": 15
           },
           "zerolinecolor": "white",
           "zerolinewidth": 2
          }
         }
        },
        "title": {
         "text": "Average Auction Price by Color (Highest to Lowest)"
        },
        "xaxis": {
         "anchor": "y",
         "domain": [
          0,
          1
         ],
         "tickangle": -45,
         "title": {
          "text": "Color"
         }
        },
        "yaxis": {
         "anchor": "x",
         "domain": [
          0,
          1
         ],
         "title": {
          "text": "Avg Price (USD)"
         }
        }
       }
      }
     },
     "metadata": {},
     "output_type": "display_data"
    }
   ],
   "source": [
    "import plotly.express as px\n",
    "\n",
    "# Calculate average price realized per color, round to 2 decimals, and sort descending\n",
    "brand_avg = (df.groupby(\"Color\")[\"Price Realized (USD)\"]\n",
    "              .mean()\n",
    "              .round(2)  # Round to 2 decimal places\n",
    "              .reset_index()\n",
    "              .sort_values(\"Price Realized (USD)\", ascending=False))\n",
    "\n",
    "# Create an interactive bar chart with uniform color\n",
    "fig = px.bar(\n",
    "    brand_avg, \n",
    "    x=\"Color\", \n",
    "    y=\"Price Realized (USD)\", \n",
    "    text=\"Price Realized (USD)\",  # This will now show the rounded values\n",
    "    title=\"Average Auction Price by Color (Highest to Lowest)\",\n",
    "    labels={\"Price Realized (USD)\": \"Avg Price (USD)\"},\n",
    "    color_discrete_sequence=['#1f77b5']  # Single color for all bars\n",
    ")\n",
    "\n",
    "# Customize layout\n",
    "fig.update_traces(\n",
    "    texttemplate='%{text:,.2f}',  # Format with commas and 2 decimals\n",
    "    textposition='outside',\n",
    "    marker_color='#1f78b4'  # Ensures color consistency\n",
    ")\n",
    "fig.update_layout(\n",
    "    xaxis_tickangle=-45,\n",
    "    yaxis_title=\"Avg Price (USD)\",\n",
    "    xaxis_title=\"Color\",\n",
    "    showlegend=False  # Hides legend since all bars are same color\n",
    ")\n",
    "\n",
    "# Show the interactive chart\n",
    "fig.show()"
   ]
  },
  {
   "cell_type": "code",
   "execution_count": null,
   "id": "333c1e01",
   "metadata": {},
   "outputs": [
    {
     "data": {
      "application/vnd.plotly.v1+json": {
       "config": {
        "plotlyServerURL": "https://plot.ly"
       },
       "data": [
        {
         "alignmentgroup": "True",
         "hovertemplate": "Leather=%{x}<br>Avg Price (USD)=%{text}<extra></extra>",
         "legendgroup": "",
         "marker": {
          "color": "#1f77b4",
          "pattern": {
           "shape": ""
          }
         },
         "name": "",
         "offsetgroup": "",
         "orientation": "v",
         "showlegend": false,
         "text": [
          274600,
          177600,
          48400,
          35500,
          29492.86,
          29100,
          21838.46,
          19766.67,
          18550,
          17770.97,
          16655.56,
          16300,
          16100,
          14950,
          14500,
          14150,
          13700,
          12931.82,
          12100,
          11900,
          11300,
          11300,
          11283.33,
          10900,
          9700,
          9533.33,
          9000,
          8900,
          8900,
          8900,
          8900,
          8700,
          8100,
          8100,
          8080,
          7700,
          7589.47,
          7300,
          7300,
          6500,
          4800,
          4800,
          4500,
          4200,
          4200,
          3925,
          3900,
          3850,
          3500,
          2900,
          2900,
          2858.33,
          2700,
          2400,
          2366.67,
          1900,
          1150,
          0,
          0,
          0
         ],
         "textposition": "outside",
         "texttemplate": "%{text:,.2f}",
         "type": "bar",
         "x": [
          "Alligator & Togo",
          "Alligator & Epsom",
          "Barénia & Osier",
          "Swift & Lambskin",
          "Crocodile",
          "Swift & Canvas",
          "Alligator",
          "Canvas",
          "Alligator & Lizard",
          "Epsom",
          "Goat",
          "Ostrich",
          "Madame",
          "Togo & Swift",
          "Lizard & Swift",
          "Novillo",
          "Evercolor & Grizzly",
          "Togo",
          "Tadelakt & Lizard",
          "Swift",
          "Clemence & Canvas",
          "Swift & Toile",
          "Lizard",
          "Barénia Faubourg",
          "Lizard & Alligator",
          "Barénia",
          "Evercolor",
          "Evercolor (Verso)",
          "Lizard & Evercolor",
          "Swift & Graine d'H",
          "Evercolor & Swift",
          "Tadelakt",
          "Evercalf & Toile",
          "Monsieur",
          "Box Calf",
          "Courchevel",
          "Clemence",
          "Calf",
          "Maurice & Swift",
          "Togo & Canvas",
          "Toile & Vache Hunter",
          "Empreinte",
          "Negonda & Canvas",
          "Swift & Velours",
          "Goat, Epsom, Canvas",
          "Caviar",
          "Python",
          "Taurillon",
          "Swift & Doblis",
          "Clemence & Crinoline",
          "Barénia & Toile",
          "Lambskin",
          "Chamonix",
          "Tuffetage",
          "Calfskin",
          "Patent",
          "Tweed",
          "Swift & Osier",
          "Metal",
          "Satin & Lambskin"
         ],
         "xaxis": "x",
         "y": [
          274600,
          177600,
          48400,
          35500,
          29492.86,
          29100,
          21838.46,
          19766.67,
          18550,
          17770.97,
          16655.56,
          16300,
          16100,
          14950,
          14500,
          14150,
          13700,
          12931.82,
          12100,
          11900,
          11300,
          11300,
          11283.33,
          10900,
          9700,
          9533.33,
          9000,
          8900,
          8900,
          8900,
          8900,
          8700,
          8100,
          8100,
          8080,
          7700,
          7589.47,
          7300,
          7300,
          6500,
          4800,
          4800,
          4500,
          4200,
          4200,
          3925,
          3900,
          3850,
          3500,
          2900,
          2900,
          2858.33,
          2700,
          2400,
          2366.67,
          1900,
          1150,
          0,
          0,
          0
         ],
         "yaxis": "y"
        }
       ],
       "layout": {
        "barmode": "relative",
        "legend": {
         "tracegroupgap": 0
        },
        "showlegend": false,
        "template": {
         "data": {
          "bar": [
           {
            "error_x": {
             "color": "#2a3f5f"
            },
            "error_y": {
             "color": "#2a3f5f"
            },
            "marker": {
             "line": {
              "color": "#E5ECF6",
              "width": 0.5
             },
             "pattern": {
              "fillmode": "overlay",
              "size": 10,
              "solidity": 0.2
             }
            },
            "type": "bar"
           }
          ],
          "barpolar": [
           {
            "marker": {
             "line": {
              "color": "#E5ECF6",
              "width": 0.5
             },
             "pattern": {
              "fillmode": "overlay",
              "size": 10,
              "solidity": 0.2
             }
            },
            "type": "barpolar"
           }
          ],
          "carpet": [
           {
            "aaxis": {
             "endlinecolor": "#2a3f5f",
             "gridcolor": "white",
             "linecolor": "white",
             "minorgridcolor": "white",
             "startlinecolor": "#2a3f5f"
            },
            "baxis": {
             "endlinecolor": "#2a3f5f",
             "gridcolor": "white",
             "linecolor": "white",
             "minorgridcolor": "white",
             "startlinecolor": "#2a3f5f"
            },
            "type": "carpet"
           }
          ],
          "choropleth": [
           {
            "colorbar": {
             "outlinewidth": 0,
             "ticks": ""
            },
            "type": "choropleth"
           }
          ],
          "contour": [
           {
            "colorbar": {
             "outlinewidth": 0,
             "ticks": ""
            },
            "colorscale": [
             [
              0,
              "#0d0887"
             ],
             [
              0.1111111111111111,
              "#46039f"
             ],
             [
              0.2222222222222222,
              "#7201a8"
             ],
             [
              0.3333333333333333,
              "#9c179e"
             ],
             [
              0.4444444444444444,
              "#bd3786"
             ],
             [
              0.5555555555555556,
              "#d8576b"
             ],
             [
              0.6666666666666666,
              "#ed7953"
             ],
             [
              0.7777777777777778,
              "#fb9f3a"
             ],
             [
              0.8888888888888888,
              "#fdca26"
             ],
             [
              1,
              "#f0f921"
             ]
            ],
            "type": "contour"
           }
          ],
          "contourcarpet": [
           {
            "colorbar": {
             "outlinewidth": 0,
             "ticks": ""
            },
            "type": "contourcarpet"
           }
          ],
          "heatmap": [
           {
            "colorbar": {
             "outlinewidth": 0,
             "ticks": ""
            },
            "colorscale": [
             [
              0,
              "#0d0887"
             ],
             [
              0.1111111111111111,
              "#46039f"
             ],
             [
              0.2222222222222222,
              "#7201a8"
             ],
             [
              0.3333333333333333,
              "#9c179e"
             ],
             [
              0.4444444444444444,
              "#bd3786"
             ],
             [
              0.5555555555555556,
              "#d8576b"
             ],
             [
              0.6666666666666666,
              "#ed7953"
             ],
             [
              0.7777777777777778,
              "#fb9f3a"
             ],
             [
              0.8888888888888888,
              "#fdca26"
             ],
             [
              1,
              "#f0f921"
             ]
            ],
            "type": "heatmap"
           }
          ],
          "heatmapgl": [
           {
            "colorbar": {
             "outlinewidth": 0,
             "ticks": ""
            },
            "colorscale": [
             [
              0,
              "#0d0887"
             ],
             [
              0.1111111111111111,
              "#46039f"
             ],
             [
              0.2222222222222222,
              "#7201a8"
             ],
             [
              0.3333333333333333,
              "#9c179e"
             ],
             [
              0.4444444444444444,
              "#bd3786"
             ],
             [
              0.5555555555555556,
              "#d8576b"
             ],
             [
              0.6666666666666666,
              "#ed7953"
             ],
             [
              0.7777777777777778,
              "#fb9f3a"
             ],
             [
              0.8888888888888888,
              "#fdca26"
             ],
             [
              1,
              "#f0f921"
             ]
            ],
            "type": "heatmapgl"
           }
          ],
          "histogram": [
           {
            "marker": {
             "pattern": {
              "fillmode": "overlay",
              "size": 10,
              "solidity": 0.2
             }
            },
            "type": "histogram"
           }
          ],
          "histogram2d": [
           {
            "colorbar": {
             "outlinewidth": 0,
             "ticks": ""
            },
            "colorscale": [
             [
              0,
              "#0d0887"
             ],
             [
              0.1111111111111111,
              "#46039f"
             ],
             [
              0.2222222222222222,
              "#7201a8"
             ],
             [
              0.3333333333333333,
              "#9c179e"
             ],
             [
              0.4444444444444444,
              "#bd3786"
             ],
             [
              0.5555555555555556,
              "#d8576b"
             ],
             [
              0.6666666666666666,
              "#ed7953"
             ],
             [
              0.7777777777777778,
              "#fb9f3a"
             ],
             [
              0.8888888888888888,
              "#fdca26"
             ],
             [
              1,
              "#f0f921"
             ]
            ],
            "type": "histogram2d"
           }
          ],
          "histogram2dcontour": [
           {
            "colorbar": {
             "outlinewidth": 0,
             "ticks": ""
            },
            "colorscale": [
             [
              0,
              "#0d0887"
             ],
             [
              0.1111111111111111,
              "#46039f"
             ],
             [
              0.2222222222222222,
              "#7201a8"
             ],
             [
              0.3333333333333333,
              "#9c179e"
             ],
             [
              0.4444444444444444,
              "#bd3786"
             ],
             [
              0.5555555555555556,
              "#d8576b"
             ],
             [
              0.6666666666666666,
              "#ed7953"
             ],
             [
              0.7777777777777778,
              "#fb9f3a"
             ],
             [
              0.8888888888888888,
              "#fdca26"
             ],
             [
              1,
              "#f0f921"
             ]
            ],
            "type": "histogram2dcontour"
           }
          ],
          "mesh3d": [
           {
            "colorbar": {
             "outlinewidth": 0,
             "ticks": ""
            },
            "type": "mesh3d"
           }
          ],
          "parcoords": [
           {
            "line": {
             "colorbar": {
              "outlinewidth": 0,
              "ticks": ""
             }
            },
            "type": "parcoords"
           }
          ],
          "pie": [
           {
            "automargin": true,
            "type": "pie"
           }
          ],
          "scatter": [
           {
            "fillpattern": {
             "fillmode": "overlay",
             "size": 10,
             "solidity": 0.2
            },
            "type": "scatter"
           }
          ],
          "scatter3d": [
           {
            "line": {
             "colorbar": {
              "outlinewidth": 0,
              "ticks": ""
             }
            },
            "marker": {
             "colorbar": {
              "outlinewidth": 0,
              "ticks": ""
             }
            },
            "type": "scatter3d"
           }
          ],
          "scattercarpet": [
           {
            "marker": {
             "colorbar": {
              "outlinewidth": 0,
              "ticks": ""
             }
            },
            "type": "scattercarpet"
           }
          ],
          "scattergeo": [
           {
            "marker": {
             "colorbar": {
              "outlinewidth": 0,
              "ticks": ""
             }
            },
            "type": "scattergeo"
           }
          ],
          "scattergl": [
           {
            "marker": {
             "colorbar": {
              "outlinewidth": 0,
              "ticks": ""
             }
            },
            "type": "scattergl"
           }
          ],
          "scattermapbox": [
           {
            "marker": {
             "colorbar": {
              "outlinewidth": 0,
              "ticks": ""
             }
            },
            "type": "scattermapbox"
           }
          ],
          "scatterpolar": [
           {
            "marker": {
             "colorbar": {
              "outlinewidth": 0,
              "ticks": ""
             }
            },
            "type": "scatterpolar"
           }
          ],
          "scatterpolargl": [
           {
            "marker": {
             "colorbar": {
              "outlinewidth": 0,
              "ticks": ""
             }
            },
            "type": "scatterpolargl"
           }
          ],
          "scatterternary": [
           {
            "marker": {
             "colorbar": {
              "outlinewidth": 0,
              "ticks": ""
             }
            },
            "type": "scatterternary"
           }
          ],
          "surface": [
           {
            "colorbar": {
             "outlinewidth": 0,
             "ticks": ""
            },
            "colorscale": [
             [
              0,
              "#0d0887"
             ],
             [
              0.1111111111111111,
              "#46039f"
             ],
             [
              0.2222222222222222,
              "#7201a8"
             ],
             [
              0.3333333333333333,
              "#9c179e"
             ],
             [
              0.4444444444444444,
              "#bd3786"
             ],
             [
              0.5555555555555556,
              "#d8576b"
             ],
             [
              0.6666666666666666,
              "#ed7953"
             ],
             [
              0.7777777777777778,
              "#fb9f3a"
             ],
             [
              0.8888888888888888,
              "#fdca26"
             ],
             [
              1,
              "#f0f921"
             ]
            ],
            "type": "surface"
           }
          ],
          "table": [
           {
            "cells": {
             "fill": {
              "color": "#EBF0F8"
             },
             "line": {
              "color": "white"
             }
            },
            "header": {
             "fill": {
              "color": "#C8D4E3"
             },
             "line": {
              "color": "white"
             }
            },
            "type": "table"
           }
          ]
         },
         "layout": {
          "annotationdefaults": {
           "arrowcolor": "#2a3f5f",
           "arrowhead": 0,
           "arrowwidth": 1
          },
          "autotypenumbers": "strict",
          "coloraxis": {
           "colorbar": {
            "outlinewidth": 0,
            "ticks": ""
           }
          },
          "colorscale": {
           "diverging": [
            [
             0,
             "#8e0152"
            ],
            [
             0.1,
             "#c51b7d"
            ],
            [
             0.2,
             "#de77ae"
            ],
            [
             0.3,
             "#f1b6da"
            ],
            [
             0.4,
             "#fde0ef"
            ],
            [
             0.5,
             "#f7f7f7"
            ],
            [
             0.6,
             "#e6f5d0"
            ],
            [
             0.7,
             "#b8e186"
            ],
            [
             0.8,
             "#7fbc41"
            ],
            [
             0.9,
             "#4d9221"
            ],
            [
             1,
             "#276419"
            ]
           ],
           "sequential": [
            [
             0,
             "#0d0887"
            ],
            [
             0.1111111111111111,
             "#46039f"
            ],
            [
             0.2222222222222222,
             "#7201a8"
            ],
            [
             0.3333333333333333,
             "#9c179e"
            ],
            [
             0.4444444444444444,
             "#bd3786"
            ],
            [
             0.5555555555555556,
             "#d8576b"
            ],
            [
             0.6666666666666666,
             "#ed7953"
            ],
            [
             0.7777777777777778,
             "#fb9f3a"
            ],
            [
             0.8888888888888888,
             "#fdca26"
            ],
            [
             1,
             "#f0f921"
            ]
           ],
           "sequentialminus": [
            [
             0,
             "#0d0887"
            ],
            [
             0.1111111111111111,
             "#46039f"
            ],
            [
             0.2222222222222222,
             "#7201a8"
            ],
            [
             0.3333333333333333,
             "#9c179e"
            ],
            [
             0.4444444444444444,
             "#bd3786"
            ],
            [
             0.5555555555555556,
             "#d8576b"
            ],
            [
             0.6666666666666666,
             "#ed7953"
            ],
            [
             0.7777777777777778,
             "#fb9f3a"
            ],
            [
             0.8888888888888888,
             "#fdca26"
            ],
            [
             1,
             "#f0f921"
            ]
           ]
          },
          "colorway": [
           "#636efa",
           "#EF553B",
           "#00cc96",
           "#ab63fa",
           "#FFA15A",
           "#19d3f3",
           "#FF6692",
           "#B6E880",
           "#FF97FF",
           "#FECB52"
          ],
          "font": {
           "color": "#2a3f5f"
          },
          "geo": {
           "bgcolor": "white",
           "lakecolor": "white",
           "landcolor": "#E5ECF6",
           "showlakes": true,
           "showland": true,
           "subunitcolor": "white"
          },
          "hoverlabel": {
           "align": "left"
          },
          "hovermode": "closest",
          "mapbox": {
           "style": "light"
          },
          "paper_bgcolor": "white",
          "plot_bgcolor": "#E5ECF6",
          "polar": {
           "angularaxis": {
            "gridcolor": "white",
            "linecolor": "white",
            "ticks": ""
           },
           "bgcolor": "#E5ECF6",
           "radialaxis": {
            "gridcolor": "white",
            "linecolor": "white",
            "ticks": ""
           }
          },
          "scene": {
           "xaxis": {
            "backgroundcolor": "#E5ECF6",
            "gridcolor": "white",
            "gridwidth": 2,
            "linecolor": "white",
            "showbackground": true,
            "ticks": "",
            "zerolinecolor": "white"
           },
           "yaxis": {
            "backgroundcolor": "#E5ECF6",
            "gridcolor": "white",
            "gridwidth": 2,
            "linecolor": "white",
            "showbackground": true,
            "ticks": "",
            "zerolinecolor": "white"
           },
           "zaxis": {
            "backgroundcolor": "#E5ECF6",
            "gridcolor": "white",
            "gridwidth": 2,
            "linecolor": "white",
            "showbackground": true,
            "ticks": "",
            "zerolinecolor": "white"
           }
          },
          "shapedefaults": {
           "line": {
            "color": "#2a3f5f"
           }
          },
          "ternary": {
           "aaxis": {
            "gridcolor": "white",
            "linecolor": "white",
            "ticks": ""
           },
           "baxis": {
            "gridcolor": "white",
            "linecolor": "white",
            "ticks": ""
           },
           "bgcolor": "#E5ECF6",
           "caxis": {
            "gridcolor": "white",
            "linecolor": "white",
            "ticks": ""
           }
          },
          "title": {
           "x": 0.05
          },
          "xaxis": {
           "automargin": true,
           "gridcolor": "white",
           "linecolor": "white",
           "ticks": "",
           "title": {
            "standoff": 15
           },
           "zerolinecolor": "white",
           "zerolinewidth": 2
          },
          "yaxis": {
           "automargin": true,
           "gridcolor": "white",
           "linecolor": "white",
           "ticks": "",
           "title": {
            "standoff": 15
           },
           "zerolinecolor": "white",
           "zerolinewidth": 2
          }
         }
        },
        "title": {
         "text": "Average Auction Price by Leather"
        },
        "xaxis": {
         "anchor": "y",
         "domain": [
          0,
          1
         ],
         "tickangle": -45,
         "title": {
          "text": "Color"
         }
        },
        "yaxis": {
         "anchor": "x",
         "domain": [
          0,
          1
         ],
         "title": {
          "text": "Avg Price (USD)"
         }
        }
       }
      }
     },
     "metadata": {},
     "output_type": "display_data"
    }
   ],
   "source": [
    "import plotly.express as px\n",
    "\n",
    "# Calculate average price realized per color, round to 2 decimals, and sort descending\n",
    "brand_avg = (df.groupby(\"Leather\")[\"Price Realized (USD)\"]\n",
    "              .mean()\n",
    "              .round(2)  # Round to 2 decimal places\n",
    "              .reset_index()\n",
    "              .sort_values(\"Price Realized (USD)\", ascending=False))\n",
    "\n",
    "# Create an interactive bar chart with uniform color\n",
    "fig = px.bar(\n",
    "    brand_avg, \n",
    "    x=\"Leather\", \n",
    "    y=\"Price Realized (USD)\", \n",
    "    text=\"Price Realized (USD)\",  # This will now show the rounded values\n",
    "    title=\"Average Auction Price by Leather\",\n",
    "    labels={\"Price Realized (USD)\": \"Avg Price (USD)\"},\n",
    "    color_discrete_sequence=['#1f77b4']  # Single color for all bars\n",
    ")\n",
    "\n",
    "# Customize layout\n",
    "fig.update_traces(\n",
    "    texttemplate='%{text:,.2f}',  # Format with commas and 2 decimals\n",
    "    textposition='outside',\n",
    "    marker_color='#1f77b4'  # Ensures color consistency\n",
    ")\n",
    "fig.update_layout(\n",
    "    xaxis_tickangle=-45,\n",
    "    yaxis_title=\"Avg Price (USD)\",\n",
    "    xaxis_title=\"Color\",\n",
    "    showlegend=False  # Hides legend since all bars are same color\n",
    ")\n",
    "\n",
    "# Show the interactive chart\n",
    "fig.show()"
   ]
  },
  {
   "cell_type": "code",
   "execution_count": null,
   "id": "e46e9902",
   "metadata": {},
   "outputs": [],
   "source": [
    "# Close the connection to the database\n",
    "conn.close()"
   ]
  },
  {
   "cell_type": "code",
   "execution_count": null,
   "id": "6180c1a7",
   "metadata": {},
   "outputs": [
    {
     "name": "stdout",
     "output_type": "stream",
     "text": [
      " * Serving Flask app '__main__'\n",
      " * Debug mode: on\n"
     ]
    },
    {
     "name": "stderr",
     "output_type": "stream",
     "text": [
      "WARNING: This is a development server. Do not use it in a production deployment. Use a production WSGI server instead.\n",
      " * Running on http://127.0.0.1:5000\n",
      "Press CTRL+C to quit\n",
      " * Restarting with watchdog (fsevents)\n",
      "0.00s - Debugger warning: It seems that frozen modules are being used, which may\n",
      "0.00s - make the debugger miss breakpoints. Please pass -Xfrozen_modules=off\n",
      "0.00s - to python to disable frozen modules.\n",
      "0.00s - Note: Debugging will proceed. Set PYDEVD_DISABLE_FILE_VALIDATION=1 to disable this validation.\n",
      "Traceback (most recent call last):\n",
      "  File \"<frozen runpy>\", line 198, in _run_module_as_main\n",
      "  File \"<frozen runpy>\", line 88, in _run_code\n",
      "  File \"/opt/anaconda3/lib/python3.12/site-packages/ipykernel_launcher.py\", line 17, in <module>\n",
      "    app.launch_new_instance()\n",
      "  File \"/opt/anaconda3/lib/python3.12/site-packages/traitlets/config/application.py\", line 1074, in launch_instance\n",
      "    app.initialize(argv)\n",
      "  File \"/opt/anaconda3/lib/python3.12/site-packages/traitlets/config/application.py\", line 118, in inner\n",
      "    return method(app, *args, **kwargs)\n",
      "           ^^^^^^^^^^^^^^^^^^^^^^^^^^^^\n",
      "  File \"/opt/anaconda3/lib/python3.12/site-packages/ipykernel/kernelapp.py\", line 654, in initialize\n",
      "    self.init_sockets()\n",
      "  File \"/opt/anaconda3/lib/python3.12/site-packages/ipykernel/kernelapp.py\", line 331, in init_sockets\n",
      "    self.shell_port = self._bind_socket(self.shell_socket, self.shell_port)\n",
      "                      ^^^^^^^^^^^^^^^^^^^^^^^^^^^^^^^^^^^^^^^^^^^^^^^^^^^^^\n",
      "  File \"/opt/anaconda3/lib/python3.12/site-packages/ipykernel/kernelapp.py\", line 253, in _bind_socket\n",
      "    return self._try_bind_socket(s, port)\n",
      "           ^^^^^^^^^^^^^^^^^^^^^^^^^^^^^^\n",
      "  File \"/opt/anaconda3/lib/python3.12/site-packages/ipykernel/kernelapp.py\", line 229, in _try_bind_socket\n",
      "    s.bind(\"tcp://%s:%i\" % (self.ip, port))\n",
      "  File \"/opt/anaconda3/lib/python3.12/site-packages/zmq/sugar/socket.py\", line 302, in bind\n",
      "    super().bind(addr)\n",
      "  File \"zmq/backend/cython/socket.pyx\", line 564, in zmq.backend.cython.socket.Socket.bind\n",
      "  File \"zmq/backend/cython/checkrc.pxd\", line 28, in zmq.backend.cython.checkrc._check_rc\n",
      "zmq.error.ZMQError: Address already in use (addr='tcp://127.0.0.1:9002')\n"
     ]
    },
    {
     "ename": "SystemExit",
     "evalue": "1",
     "output_type": "error",
     "traceback": [
      "An exception has occurred, use %tb to see the full traceback.\n",
      "\u001b[0;31mSystemExit\u001b[0m\u001b[0;31m:\u001b[0m 1\n"
     ]
    },
    {
     "name": "stderr",
     "output_type": "stream",
     "text": [
      "/opt/anaconda3/lib/python3.12/site-packages/IPython/core/interactiveshell.py:3585: UserWarning:\n",
      "\n",
      "To exit: use 'exit', 'quit', or Ctrl-D.\n",
      "\n"
     ]
    }
   ],
   "source": [
    "from flask import Flask, render_template, jsonify\n",
    "import pandas as pd\n",
    "\n",
    "app = Flask(__name__)\n",
    "\n",
    "\n",
    "\n",
    "# Database connection\n",
    "def connect_db():\n",
    "    conn = sqlite3.connect('luxury_bags.db')\n",
    "    conn.row_factory = sqlite3.Row\n",
    "    return conn\n",
    "\n",
    "@app.route(\"/\")\n",
    "def index():\n",
    "    \"\"\"Render the main HTML page\"\"\"\n",
    "    return render_template(\"index.html\")\n",
    "\n",
    "@app.route(\"/data\")\n",
    "def get_data():\n",
    "    \"\"\"Provide auction data as JSON for frontend\"\"\"\n",
    "    data = df.to_dict(orient=\"records\")  # Convert DataFrame to list of dicts\n",
    "    return jsonify(data)\n",
    "\n",
    "if __name__ == \"__main__\":\n",
    "    app.run(debug=True)"
   ]
  },
  {
   "cell_type": "code",
   "execution_count": null,
   "id": "67436330",
   "metadata": {},
   "outputs": [],
   "source": [
    "PASTE THIS INTO HTML \n"
   ]
  },
  {
   "cell_type": "code",
   "execution_count": null,
   "id": "19c9e29a-f26e-4621-a5f2-ea9733fe3931",
   "metadata": {},
   "outputs": [
    {
     "name": "stdout",
     "output_type": "stream",
     "text": [
      "Starting Flask on port 5001...\n",
      " * Serving Flask app '__main__'\n",
      " * Debug mode: on\n"
     ]
    },
    {
     "name": "stderr",
     "output_type": "stream",
     "text": [
      "WARNING: This is a development server. Do not use it in a production deployment. Use a production WSGI server instead.\n",
      " * Running on http://127.0.0.1:5001\n",
      "Press CTRL+C to quit\n",
      " * Restarting with watchdog (fsevents)\n",
      "0.00s - Debugger warning: It seems that frozen modules are being used, which may\n",
      "0.00s - make the debugger miss breakpoints. Please pass -Xfrozen_modules=off\n",
      "0.00s - to python to disable frozen modules.\n",
      "0.00s - Note: Debugging will proceed. Set PYDEVD_DISABLE_FILE_VALIDATION=1 to disable this validation.\n",
      "Traceback (most recent call last):\n",
      "  File \"<frozen runpy>\", line 198, in _run_module_as_main\n",
      "  File \"<frozen runpy>\", line 88, in _run_code\n",
      "  File \"/opt/anaconda3/lib/python3.12/site-packages/ipykernel_launcher.py\", line 17, in <module>\n",
      "    app.launch_new_instance()\n",
      "  File \"/opt/anaconda3/lib/python3.12/site-packages/traitlets/config/application.py\", line 1074, in launch_instance\n",
      "    app.initialize(argv)\n",
      "  File \"/opt/anaconda3/lib/python3.12/site-packages/traitlets/config/application.py\", line 118, in inner\n",
      "    return method(app, *args, **kwargs)\n",
      "           ^^^^^^^^^^^^^^^^^^^^^^^^^^^^\n",
      "  File \"/opt/anaconda3/lib/python3.12/site-packages/ipykernel/kernelapp.py\", line 654, in initialize\n",
      "    self.init_sockets()\n",
      "  File \"/opt/anaconda3/lib/python3.12/site-packages/ipykernel/kernelapp.py\", line 331, in init_sockets\n",
      "    self.shell_port = self._bind_socket(self.shell_socket, self.shell_port)\n",
      "                      ^^^^^^^^^^^^^^^^^^^^^^^^^^^^^^^^^^^^^^^^^^^^^^^^^^^^^\n",
      "  File \"/opt/anaconda3/lib/python3.12/site-packages/ipykernel/kernelapp.py\", line 253, in _bind_socket\n",
      "    return self._try_bind_socket(s, port)\n",
      "           ^^^^^^^^^^^^^^^^^^^^^^^^^^^^^^\n",
      "  File \"/opt/anaconda3/lib/python3.12/site-packages/ipykernel/kernelapp.py\", line 229, in _try_bind_socket\n",
      "    s.bind(\"tcp://%s:%i\" % (self.ip, port))\n",
      "  File \"/opt/anaconda3/lib/python3.12/site-packages/zmq/sugar/socket.py\", line 302, in bind\n",
      "    super().bind(addr)\n",
      "  File \"zmq/backend/cython/socket.pyx\", line 564, in zmq.backend.cython.socket.Socket.bind\n",
      "  File \"zmq/backend/cython/checkrc.pxd\", line 28, in zmq.backend.cython.checkrc._check_rc\n",
      "zmq.error.ZMQError: Address already in use (addr='tcp://127.0.0.1:9002')\n"
     ]
    },
    {
     "ename": "SystemExit",
     "evalue": "1",
     "output_type": "error",
     "traceback": [
      "An exception has occurred, use %tb to see the full traceback.\n",
      "\u001b[0;31mSystemExit\u001b[0m\u001b[0;31m:\u001b[0m 1\n"
     ]
    }
   ],
   "source": [
    "\n",
    "\n"
   ]
  },
  {
   "cell_type": "code",
   "execution_count": null,
   "id": "1553967d-35b7-4bfb-a4cb-2b0a107d6837",
   "metadata": {},
   "outputs": [],
   "source": [
    "\n"
   ]
  },
  {
   "cell_type": "code",
   "execution_count": null,
   "id": "2d38541a-2680-4734-b51a-5c2afb07bee8",
   "metadata": {},
   "outputs": [],
   "source": [
    "# #Altair for visualizations \n",
    "# pip install altair\n",
    "# import altair as alt\n",
    "\n",
    "# alt.Chart(df).mark_line().encode(\n",
    "#     x='Collection/Year:O',\n",
    "#     y='Price Realised (USD):Q',\n",
    "#     color='Brand:N'\n",
    "# ).interactive()\n"
   ]
  },
  {
   "cell_type": "code",
   "execution_count": null,
   "id": "10468e19-e0b5-48cd-bb7d-43d2d243e72a",
   "metadata": {},
   "outputs": [],
   "source": [
    "# pip install folium\n",
    "# import folium\n",
    "\n",
    "# m = folium.Map(location=[22.3, 114.2], zoom_start=5)  # Hong Kong\n",
    "\n",
    "# folium.Marker([22.3, 114.2], popup=\"Christie's HK - Total Sales: $200,000\").add_to(m)\n",
    "\n",
    "# m\n"
   ]
  },
  {
   "cell_type": "code",
   "execution_count": null,
   "id": "fbea49ff-7265-49ba-a9ab-2e5593a85532",
   "metadata": {},
   "outputs": [],
   "source": [
    "# pip install streamlit\n",
    "# # Save this in streamlit_app.py\n",
    "# import streamlit as st\n",
    "# import pandas as pd\n",
    "\n",
    "# df = pd.read_csv(\"cleaned_luxury_bag_data.csv\")\n",
    "\n",
    "# brand = st.selectbox(\"Choose Brand\", df['Brand'].unique())\n",
    "# filtered = df[df['Brand'] == brand]\n",
    "\n",
    "# st.line_chart(filtered.groupby(\"Collection/Year\")[\"Price Realised (USD)\"].mean())\n",
    "# streamlit run streamlit_app.py\n"
   ]
  }
 ],
 "metadata": {
  "kernelspec": {
   "display_name": "base",
   "language": "python",
   "name": "python3"
  },
  "language_info": {
   "codemirror_mode": {
    "name": "ipython",
    "version": 3
   },
   "file_extension": ".py",
   "mimetype": "text/x-python",
   "name": "python",
   "nbconvert_exporter": "python",
   "pygments_lexer": "ipython3",
   "version": "3.12.7"
  }
 },
 "nbformat": 4,
 "nbformat_minor": 5
}
