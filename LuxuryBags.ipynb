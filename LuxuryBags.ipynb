{
 "cells": [
  {
   "cell_type": "code",
   "execution_count": 3,
   "id": "935d7e1e-75cb-44b1-8f16-1e647c90b578",
   "metadata": {},
   "outputs": [
    {
     "name": "stdout",
     "output_type": "stream",
     "text": [
      "  Auction House   Location Auction Date  Lot  \\\n",
      "0     Christies  Hong Kong       Mar-25    1   \n",
      "1     Christies  Hong Kong       Mar-25    2   \n",
      "2     Christies  Hong Kong       Mar-25    3   \n",
      "3     Christies  Hong Kong       Mar-25    4   \n",
      "4     Christies  Hong Kong       Mar-25    5   \n",
      "\n",
      "                                         Description         Collection/Year  \\\n",
      "0  A RARE PEARL & BEAD EMBROIDERED SHEARLING MEDI...  Fall/Winter 2021 Act 2   \n",
      "1                               A MINI DOC ADAMS BAG             Circa 2020s   \n",
      "2                            A NEW RETOURNÉ KELLY 28                    2023   \n",
      "3                                        A ROULIS 23                    2018   \n",
      "4                                 A MINI KELLY 20 II                    2023   \n",
      "\n",
      "           Brand Limited Edition       Leather Type Brand Color  \\\n",
      "0         CHANEL              no          Shearling       White   \n",
      "1  CHROME HEARTS              no            Leather       White   \n",
      "2         HERMÈS              no       Togo Leather       White   \n",
      "3         HERMÈS              no  Evercolor Leather  Light Gray   \n",
      "4         HERMÈS              no          Alligator    Concrete   \n",
      "\n",
      "          Hardware   Estimate (USD) Price Realised (USD)  \n",
      "0           Silver    3,000 - 4,000               10,080  \n",
      "1  Sterling Silver    3,000 - 4,000                3,780  \n",
      "2             Gold  10,000 - 15,000               30,240  \n",
      "3        Palladium    3,000 - 4,000                3,780  \n",
      "4             Gold  50,000 - 60,000               63,000  \n"
     ]
    }
   ],
   "source": [
    "import pandas as pd\n",
    "\n",
    "# Corrected file path (no need to escape spaces)\n",
    "df = pd.read_csv(\"/Users/sadebeckles/Desktop/Class_requirements/CU-VIRT-DATA-PT-10-2024-U-LOLC/Project3-Luxurybags/Christies Hong Kong March 2025 Cleaned.csv\")\n",
    "\n",
    "print(df.head())\n"
   ]
  },
  {
   "cell_type": "code",
   "execution_count": 11,
   "id": "0b13cd4b-8250-42b2-8888-f5522dca522a",
   "metadata": {},
   "outputs": [
    {
     "name": "stdout",
     "output_type": "stream",
     "text": [
      "<class 'pandas.core.frame.DataFrame'>\n",
      "RangeIndex: 57 entries, 0 to 56\n",
      "Data columns (total 15 columns):\n",
      " #   Column                 Non-Null Count  Dtype  \n",
      "---  ------                 --------------  -----  \n",
      " 0   Auction House          57 non-null     object \n",
      " 1   Location               57 non-null     object \n",
      " 2   Auction Date           57 non-null     object \n",
      " 3   Lot                    57 non-null     int64  \n",
      " 4   Description            57 non-null     object \n",
      " 5   Collection/Year        57 non-null     object \n",
      " 6   Brand                  57 non-null     object \n",
      " 7   Limited Edition        57 non-null     object \n",
      " 8   Leather Type           57 non-null     object \n",
      " 9   Color                  57 non-null     object \n",
      " 10  Hardware               57 non-null     object \n",
      " 11  Estimate (USD)         57 non-null     object \n",
      " 12  Price Realised (USD)   55 non-null     float64\n",
      " 13  Lower Estimate (USD)   57 non-null     float64\n",
      " 14  Higher Estimate (USD)  57 non-null     float64\n",
      "dtypes: float64(3), int64(1), object(11)\n",
      "memory usage: 6.8+ KB\n",
      "None\n"
     ]
    }
   ],
   "source": [
    "print(df.info())\n"
   ]
  },
  {
   "cell_type": "code",
   "execution_count": 12,
   "id": "c1a6a0f8-1c08-4e2e-8a0e-392d375ad171",
   "metadata": {},
   "outputs": [],
   "source": [
    "# 1. Rename 'Brand Color' to 'Color'\n",
    "# --------------------------------------\n",
    "df.rename(columns={'Brand Color': 'Color'}, inplace=True)\n"
   ]
  },
  {
   "cell_type": "code",
   "execution_count": 13,
   "id": "27618a7d-3cf1-499a-9855-499abf91d51e",
   "metadata": {},
   "outputs": [],
   "source": [
    "# 2. Split 'Estimate (USD)' into 'Lower Estimate' & 'Higher Estimate'\n",
    "# --------------------------------------\n",
    "df[['Lower Estimate (USD)', 'Higher Estimate (USD)']] = (\n",
    "    df['Estimate (USD)']\n",
    "    .str.replace(',', '')\n",
    "    .str.split(' - ', expand=True)\n",
    "    .astype(float)\n",
    ")"
   ]
  },
  {
   "cell_type": "code",
   "execution_count": 14,
   "id": "93e0c199-44b9-4bd9-b516-d0c336c61976",
   "metadata": {},
   "outputs": [],
   "source": [
    "# 3. Clean 'Price Realised (USD)' column\n",
    "# --------------------------------------\n",
    "df['Price Realised (USD)'] = (\n",
    "    df['Price Realised (USD)']\n",
    "    .astype(str)                   # Make sure it's a string\n",
    "    .str.replace(',', '', regex=False)\n",
    "    .replace('-', None)\n",
    "    .astype(float)                # Convert to float after cleaning\n",
    ")\n"
   ]
  },
  {
   "cell_type": "code",
   "execution_count": 16,
   "id": "fef79642-3dce-4d32-9f70-4ff2f732cf0d",
   "metadata": {
    "scrolled": true
   },
   "outputs": [],
   "source": [
    "# 4. Add 'Price Category' column\n",
    "# --------------------------------------\n",
    "def categorize_price(row):\n",
    "    if pd.isna(row['Price Realised (USD)']):\n",
    "        return 'No Sale'\n",
    "    elif row['Price Realised (USD)'] < row['Lower Estimate (USD)']:\n",
    "        return 'Below Estimate'\n",
    "    elif row['Price Realised (USD)'] > row['Higher Estimate (USD)']:\n",
    "        return 'Above Estimate'\n",
    "    else:\n",
    "        return 'Within Estimate'\n",
    "\n",
    "df['Price Category'] = df.apply(categorize_price, axis=1)\n"
   ]
  },
  {
   "cell_type": "code",
   "execution_count": 19,
   "id": "b8511727-7954-4f7b-9b3f-b6d63d106511",
   "metadata": {},
   "outputs": [],
   "source": [
    "5. # 5. Add 'Variance from Estimate' column\n",
    "df['Variance from Estimate'] = df['Price Realised (USD)'] - df['Higher Estimate (USD)']"
   ]
  },
  {
   "cell_type": "code",
   "execution_count": 20,
   "id": "1abe441b-ccc7-4db8-8c35-9834ab129a6c",
   "metadata": {},
   "outputs": [
    {
     "name": "stdout",
     "output_type": "stream",
     "text": [
      "  Auction House   Location Auction Date  Lot  \\\n",
      "0     Christies  Hong Kong       Mar-25    1   \n",
      "1     Christies  Hong Kong       Mar-25    2   \n",
      "2     Christies  Hong Kong       Mar-25    3   \n",
      "3     Christies  Hong Kong       Mar-25    4   \n",
      "4     Christies  Hong Kong       Mar-25    5   \n",
      "\n",
      "                                         Description         Collection/Year  \\\n",
      "0  A RARE PEARL & BEAD EMBROIDERED SHEARLING MEDI...  Fall/Winter 2021 Act 2   \n",
      "1                               A MINI DOC ADAMS BAG             Circa 2020s   \n",
      "2                            A NEW RETOURNÉ KELLY 28                    2023   \n",
      "3                                        A ROULIS 23                    2018   \n",
      "4                                 A MINI KELLY 20 II                    2023   \n",
      "\n",
      "           Brand Limited Edition       Leather Type       Color  \\\n",
      "0         CHANEL              no          Shearling       White   \n",
      "1  CHROME HEARTS              no            Leather       White   \n",
      "2         HERMÈS              no       Togo Leather       White   \n",
      "3         HERMÈS              no  Evercolor Leather  Light Gray   \n",
      "4         HERMÈS              no          Alligator    Concrete   \n",
      "\n",
      "          Hardware   Estimate (USD)  Price Realised (USD)  \\\n",
      "0           Silver    3,000 - 4,000               10080.0   \n",
      "1  Sterling Silver    3,000 - 4,000                3780.0   \n",
      "2             Gold  10,000 - 15,000               30240.0   \n",
      "3        Palladium    3,000 - 4,000                3780.0   \n",
      "4             Gold  50,000 - 60,000               63000.0   \n",
      "\n",
      "   Lower Estimate (USD)  Higher Estimate (USD)   Price Category  \\\n",
      "0                3000.0                 4000.0   Above Estimate   \n",
      "1                3000.0                 4000.0  Within Estimate   \n",
      "2               10000.0                15000.0   Above Estimate   \n",
      "3                3000.0                 4000.0  Within Estimate   \n",
      "4               50000.0                60000.0   Above Estimate   \n",
      "\n",
      "   Variance from Estimate  \n",
      "0                  6080.0  \n",
      "1                  -220.0  \n",
      "2                 15240.0  \n",
      "3                  -220.0  \n",
      "4                  3000.0  \n"
     ]
    }
   ],
   "source": [
    "\n",
    "\n",
    "\n",
    "\n",
    "\n",
    "# Show all columns for the first 5 rows\n",
    "print(df.head())\n"
   ]
  },
  {
   "cell_type": "code",
   "execution_count": null,
   "id": "0d026823-50ef-42b4-bbda-6affd095eb2c",
   "metadata": {},
   "outputs": [],
   "source": [
    "#Things to do to table change \"Brand Color\" to \"Color\" \n",
    "#Split range \"Estimate\" to two columns \"Lower Estimate\" and \"Higher Estimate\".\n",
    "# write a conditional for price realized as a new column, create 3 categories \"below limit\", \"Within range\", \"Above estimate\" \n",
    "# column compare price realized to higher estimate (variance) \n",
    "#standardized the collection year "
   ]
  },
  {
   "cell_type": "code",
   "execution_count": 4,
   "id": "a7ee4b30-440b-40c7-bb20-fad1a029920c",
   "metadata": {},
   "outputs": [
    {
     "ename": "KeyError",
     "evalue": "'Estimated Price (USD)'",
     "output_type": "error",
     "traceback": [
      "\u001b[0;31m---------------------------------------------------------------------------\u001b[0m",
      "\u001b[0;31mKeyError\u001b[0m                                  Traceback (most recent call last)",
      "File \u001b[0;32m/Applications/anaconda3/envs/dev/lib/python3.10/site-packages/pandas/core/indexes/base.py:3805\u001b[0m, in \u001b[0;36mIndex.get_loc\u001b[0;34m(self, key)\u001b[0m\n\u001b[1;32m   3804\u001b[0m \u001b[38;5;28;01mtry\u001b[39;00m:\n\u001b[0;32m-> 3805\u001b[0m     \u001b[38;5;28;01mreturn\u001b[39;00m \u001b[38;5;28;43mself\u001b[39;49m\u001b[38;5;241;43m.\u001b[39;49m\u001b[43m_engine\u001b[49m\u001b[38;5;241;43m.\u001b[39;49m\u001b[43mget_loc\u001b[49m\u001b[43m(\u001b[49m\u001b[43mcasted_key\u001b[49m\u001b[43m)\u001b[49m\n\u001b[1;32m   3806\u001b[0m \u001b[38;5;28;01mexcept\u001b[39;00m \u001b[38;5;167;01mKeyError\u001b[39;00m \u001b[38;5;28;01mas\u001b[39;00m err:\n",
      "File \u001b[0;32mindex.pyx:167\u001b[0m, in \u001b[0;36mpandas._libs.index.IndexEngine.get_loc\u001b[0;34m()\u001b[0m\n",
      "File \u001b[0;32mindex.pyx:196\u001b[0m, in \u001b[0;36mpandas._libs.index.IndexEngine.get_loc\u001b[0;34m()\u001b[0m\n",
      "File \u001b[0;32mpandas/_libs/hashtable_class_helper.pxi:7081\u001b[0m, in \u001b[0;36mpandas._libs.hashtable.PyObjectHashTable.get_item\u001b[0;34m()\u001b[0m\n",
      "File \u001b[0;32mpandas/_libs/hashtable_class_helper.pxi:7089\u001b[0m, in \u001b[0;36mpandas._libs.hashtable.PyObjectHashTable.get_item\u001b[0;34m()\u001b[0m\n",
      "\u001b[0;31mKeyError\u001b[0m: 'Estimated Price (USD)'",
      "\nThe above exception was the direct cause of the following exception:\n",
      "\u001b[0;31mKeyError\u001b[0m                                  Traceback (most recent call last)",
      "Cell \u001b[0;32mIn[4], line 11\u001b[0m\n\u001b[1;32m      2\u001b[0m df[\u001b[38;5;124m'\u001b[39m\u001b[38;5;124mPrice Realised (USD)\u001b[39m\u001b[38;5;124m'\u001b[39m] \u001b[38;5;241m=\u001b[39m (\n\u001b[1;32m      3\u001b[0m     df[\u001b[38;5;124m'\u001b[39m\u001b[38;5;124mPrice Realised (USD)\u001b[39m\u001b[38;5;124m'\u001b[39m]\n\u001b[1;32m      4\u001b[0m     \u001b[38;5;241m.\u001b[39mreplace(\u001b[38;5;124m'\u001b[39m\u001b[38;5;124m-\u001b[39m\u001b[38;5;124m'\u001b[39m, \u001b[38;5;28;01mNone\u001b[39;00m)\n\u001b[1;32m      5\u001b[0m     \u001b[38;5;241m.\u001b[39mstr\u001b[38;5;241m.\u001b[39mreplace(\u001b[38;5;124m'\u001b[39m\u001b[38;5;124m,\u001b[39m\u001b[38;5;124m'\u001b[39m, \u001b[38;5;124m'\u001b[39m\u001b[38;5;124m'\u001b[39m)\n\u001b[1;32m      6\u001b[0m     \u001b[38;5;241m.\u001b[39mastype(\u001b[38;5;28mfloat\u001b[39m)\n\u001b[1;32m      7\u001b[0m )\n\u001b[1;32m      9\u001b[0m \u001b[38;5;66;03m# Split 'Estimated Price (USD)' into low/high\u001b[39;00m\n\u001b[1;32m     10\u001b[0m df[[\u001b[38;5;124m'\u001b[39m\u001b[38;5;124mEstimate_Low\u001b[39m\u001b[38;5;124m'\u001b[39m, \u001b[38;5;124m'\u001b[39m\u001b[38;5;124mEstimate_High\u001b[39m\u001b[38;5;124m'\u001b[39m]] \u001b[38;5;241m=\u001b[39m (\n\u001b[0;32m---> 11\u001b[0m     \u001b[43mdf\u001b[49m\u001b[43m[\u001b[49m\u001b[38;5;124;43m'\u001b[39;49m\u001b[38;5;124;43mEstimated Price (USD)\u001b[39;49m\u001b[38;5;124;43m'\u001b[39;49m\u001b[43m]\u001b[49m\n\u001b[1;32m     12\u001b[0m     \u001b[38;5;241m.\u001b[39mstr\u001b[38;5;241m.\u001b[39mreplace(\u001b[38;5;124m'\u001b[39m\u001b[38;5;124m,\u001b[39m\u001b[38;5;124m'\u001b[39m, \u001b[38;5;124m'\u001b[39m\u001b[38;5;124m'\u001b[39m)\n\u001b[1;32m     13\u001b[0m     \u001b[38;5;241m.\u001b[39mstr\u001b[38;5;241m.\u001b[39msplit(\u001b[38;5;124m'\u001b[39m\u001b[38;5;124m - \u001b[39m\u001b[38;5;124m'\u001b[39m, expand\u001b[38;5;241m=\u001b[39m\u001b[38;5;28;01mTrue\u001b[39;00m)\n\u001b[1;32m     14\u001b[0m     \u001b[38;5;241m.\u001b[39mastype(\u001b[38;5;28mfloat\u001b[39m)\n\u001b[1;32m     15\u001b[0m )\n",
      "File \u001b[0;32m/Applications/anaconda3/envs/dev/lib/python3.10/site-packages/pandas/core/frame.py:4102\u001b[0m, in \u001b[0;36mDataFrame.__getitem__\u001b[0;34m(self, key)\u001b[0m\n\u001b[1;32m   4100\u001b[0m \u001b[38;5;28;01mif\u001b[39;00m \u001b[38;5;28mself\u001b[39m\u001b[38;5;241m.\u001b[39mcolumns\u001b[38;5;241m.\u001b[39mnlevels \u001b[38;5;241m>\u001b[39m \u001b[38;5;241m1\u001b[39m:\n\u001b[1;32m   4101\u001b[0m     \u001b[38;5;28;01mreturn\u001b[39;00m \u001b[38;5;28mself\u001b[39m\u001b[38;5;241m.\u001b[39m_getitem_multilevel(key)\n\u001b[0;32m-> 4102\u001b[0m indexer \u001b[38;5;241m=\u001b[39m \u001b[38;5;28;43mself\u001b[39;49m\u001b[38;5;241;43m.\u001b[39;49m\u001b[43mcolumns\u001b[49m\u001b[38;5;241;43m.\u001b[39;49m\u001b[43mget_loc\u001b[49m\u001b[43m(\u001b[49m\u001b[43mkey\u001b[49m\u001b[43m)\u001b[49m\n\u001b[1;32m   4103\u001b[0m \u001b[38;5;28;01mif\u001b[39;00m is_integer(indexer):\n\u001b[1;32m   4104\u001b[0m     indexer \u001b[38;5;241m=\u001b[39m [indexer]\n",
      "File \u001b[0;32m/Applications/anaconda3/envs/dev/lib/python3.10/site-packages/pandas/core/indexes/base.py:3812\u001b[0m, in \u001b[0;36mIndex.get_loc\u001b[0;34m(self, key)\u001b[0m\n\u001b[1;32m   3807\u001b[0m     \u001b[38;5;28;01mif\u001b[39;00m \u001b[38;5;28misinstance\u001b[39m(casted_key, \u001b[38;5;28mslice\u001b[39m) \u001b[38;5;129;01mor\u001b[39;00m (\n\u001b[1;32m   3808\u001b[0m         \u001b[38;5;28misinstance\u001b[39m(casted_key, abc\u001b[38;5;241m.\u001b[39mIterable)\n\u001b[1;32m   3809\u001b[0m         \u001b[38;5;129;01mand\u001b[39;00m \u001b[38;5;28many\u001b[39m(\u001b[38;5;28misinstance\u001b[39m(x, \u001b[38;5;28mslice\u001b[39m) \u001b[38;5;28;01mfor\u001b[39;00m x \u001b[38;5;129;01min\u001b[39;00m casted_key)\n\u001b[1;32m   3810\u001b[0m     ):\n\u001b[1;32m   3811\u001b[0m         \u001b[38;5;28;01mraise\u001b[39;00m InvalidIndexError(key)\n\u001b[0;32m-> 3812\u001b[0m     \u001b[38;5;28;01mraise\u001b[39;00m \u001b[38;5;167;01mKeyError\u001b[39;00m(key) \u001b[38;5;28;01mfrom\u001b[39;00m \u001b[38;5;21;01merr\u001b[39;00m\n\u001b[1;32m   3813\u001b[0m \u001b[38;5;28;01mexcept\u001b[39;00m \u001b[38;5;167;01mTypeError\u001b[39;00m:\n\u001b[1;32m   3814\u001b[0m     \u001b[38;5;66;03m# If we have a listlike key, _check_indexing_error will raise\u001b[39;00m\n\u001b[1;32m   3815\u001b[0m     \u001b[38;5;66;03m#  InvalidIndexError. Otherwise we fall through and re-raise\u001b[39;00m\n\u001b[1;32m   3816\u001b[0m     \u001b[38;5;66;03m#  the TypeError.\u001b[39;00m\n\u001b[1;32m   3817\u001b[0m     \u001b[38;5;28mself\u001b[39m\u001b[38;5;241m.\u001b[39m_check_indexing_error(key)\n",
      "\u001b[0;31mKeyError\u001b[0m: 'Estimated Price (USD)'"
     ]
    }
   ],
   "source": [
    "# # Clean 'Price Realised (USD)'\n",
    "# df['Price Realised (USD)'] = (\n",
    "#     df['Price Realised (USD)']\n",
    "#     .replace('-', None)\n",
    "#     .str.replace(',', '')\n",
    "#     .astype(float)\n",
    "# )\n",
    "\n",
    "# # Split 'Estimated Price (USD)' into low/high\n",
    "# df[['Estimate_Low', 'Estimate_High']] = (\n",
    "#     df['Estimated Price (USD)']\n",
    "#     .str.replace(',', '')\n",
    "#     .str.split(' - ', expand=True)\n",
    "#     .astype(float)\n",
    "# )\n",
    "# Standardize brand names\n",
    "# df['Brand'] = df['Brand'].str.upper().str.strip().replace({'HERMÈS': 'HERMES'})\n",
    "\n",
    "# # Normalize limited edition\n",
    "# df['Limited Edition'] = df['Limited Edition'].str.strip().str.lower().replace({\n",
    "#     'yes': 'Yes',\n",
    "#     'no': 'No',\n",
    "#     'limited': 'Yes'\n",
    "# })\n",
    "\n",
    "# # Clean other fields\n",
    "# df['Brand Color'] = df['Brand Color'].str.strip().str.title()\n",
    "# df['Leather Type'] = df['Leather Type'].str.strip().str.title()\n",
    "# df.rename(columns={\n",
    "#     'Collection /Year': 'Year_Manufactured',\n",
    "#     'Description': 'Model',\n",
    "#     'Hardware': 'Hardware_Type',\n",
    "#     'Lot': 'Lot_Number'\n",
    "# }, inplace=True)\n",
    "\n",
    "# df['Year_Manufactured'] = pd.to_numeric(df['Year_Manufactured'], errors='coerce')\n",
    "\n",
    "\n",
    "\n",
    "\n"
   ]
  },
  {
   "cell_type": "code",
   "execution_count": null,
   "id": "299eb750-6567-4c36-a532-a2972339d281",
   "metadata": {},
   "outputs": [],
   "source": [
    "from flask import Flask, request, jsonify\n",
    "\n",
    "app = Flask(__name__)\n",
    "\n",
    "def query_db(query):\n",
    "    conn = sqlite3.connect(\"luxury_bags.db\")\n",
    "    cursor = conn.cursor()\n",
    "    cursor.execute(query)\n",
    "    rows = cursor.fetchall()\n",
    "    columns = [desc[0] for desc in cursor.description]\n",
    "    return [dict(zip(columns, row)) for row in rows]\n",
    "\n",
    "@app.route('/auctions')\n",
    "def get_auctions():\n",
    "    brand = request.args.get(\"brand\")\n",
    "    year = request.args.get(\"year\")\n",
    "    query = \"SELECT * FROM handbag_auctions WHERE 1=1\"\n",
    "    if brand:\n",
    "        query += f\" AND Brand = '{brand}'\"\n",
    "    if year:\n",
    "        query += f\" AND Year_Manufactured = {year}\"\n",
    "    return jsonify(query_db(query))\n",
    "\n",
    "if __name__ == \"__main__\":\n",
    "    app.run(debug=True)\n"
   ]
  },
  {
   "cell_type": "code",
   "execution_count": null,
   "id": "2d38541a-2680-4734-b51a-5c2afb07bee8",
   "metadata": {},
   "outputs": [],
   "source": [
    "# #Altair for visualizations \n",
    "# pip install altair\n",
    "# import altair as alt\n",
    "\n",
    "# alt.Chart(df).mark_line().encode(\n",
    "#     x='Collection/Year:O',\n",
    "#     y='Price Realised (USD):Q',\n",
    "#     color='Brand:N'\n",
    "# ).interactive()\n"
   ]
  },
  {
   "cell_type": "code",
   "execution_count": null,
   "id": "10468e19-e0b5-48cd-bb7d-43d2d243e72a",
   "metadata": {},
   "outputs": [],
   "source": [
    "# pip install folium\n",
    "# import folium\n",
    "\n",
    "# m = folium.Map(location=[22.3, 114.2], zoom_start=5)  # Hong Kong\n",
    "\n",
    "# folium.Marker([22.3, 114.2], popup=\"Christie's HK - Total Sales: $200,000\").add_to(m)\n",
    "\n",
    "# m\n"
   ]
  },
  {
   "cell_type": "code",
   "execution_count": null,
   "id": "fbea49ff-7265-49ba-a9ab-2e5593a85532",
   "metadata": {},
   "outputs": [],
   "source": [
    "# pip install streamlit\n",
    "# # Save this in streamlit_app.py\n",
    "# import streamlit as st\n",
    "# import pandas as pd\n",
    "\n",
    "# df = pd.read_csv(\"cleaned_luxury_bag_data.csv\")\n",
    "\n",
    "# brand = st.selectbox(\"Choose Brand\", df['Brand'].unique())\n",
    "# filtered = df[df['Brand'] == brand]\n",
    "\n",
    "# st.line_chart(filtered.groupby(\"Collection/Year\")[\"Price Realised (USD)\"].mean())\n",
    "# streamlit run streamlit_app.py\n"
   ]
  }
 ],
 "metadata": {
  "kernelspec": {
   "display_name": "Python 3 (ipykernel)",
   "language": "python",
   "name": "python3"
  },
  "language_info": {
   "codemirror_mode": {
    "name": "ipython",
    "version": 3
   },
   "file_extension": ".py",
   "mimetype": "text/x-python",
   "name": "python",
   "nbconvert_exporter": "python",
   "pygments_lexer": "ipython3",
   "version": "3.10.15"
  }
 },
 "nbformat": 4,
 "nbformat_minor": 5
}
